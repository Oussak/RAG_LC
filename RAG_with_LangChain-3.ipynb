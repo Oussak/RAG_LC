{
  "nbformat": 4,
  "nbformat_minor": 0,
  "metadata": {
    "colab": {
      "provenance": [],
      "collapsed_sections": [
        "-529YcTkqlOz"
      ]
    },
    "kernelspec": {
      "name": "python3",
      "display_name": "Python 3"
    },
    "language_info": {
      "name": "python"
    }
  },
  "cells": [
    {
      "cell_type": "markdown",
      "source": [
        "# 0 - Input API Keys"
      ],
      "metadata": {
        "id": "-529YcTkqlOz"
      }
    },
    {
      "cell_type": "code",
      "source": [
        "# OpenAI plateform connect\n",
        "import getpass\n",
        "API_key_OPENAI = getpass.getpass(\"Enter your API OpenAI Plateform key : \")"
      ],
      "metadata": {
        "colab": {
          "base_uri": "https://localhost:8080/"
        },
        "id": "2Q50zhupqLps",
        "outputId": "1e6cb78b-2f4a-4cc8-9ae1-19388064df1b"
      },
      "execution_count": null,
      "outputs": [
        {
          "name": "stdout",
          "output_type": "stream",
          "text": [
            "Enter your API OpenAI Plateform key : ··········\n"
          ]
        }
      ]
    },
    {
      "cell_type": "code",
      "source": [
        "# OpenAI Azure portal\n",
        "import getpass\n",
        "API_key = getpass.getpass(\"Enter your API OpenAI key : \")"
      ],
      "metadata": {
        "colab": {
          "base_uri": "https://localhost:8080/"
        },
        "id": "PLHj8-HHByU_",
        "outputId": "59860a6f-be6f-429c-a638-f4b68c0cd23c"
      },
      "execution_count": null,
      "outputs": [
        {
          "name": "stdout",
          "output_type": "stream",
          "text": [
            "Enter your API OpenAI key : ··········\n"
          ]
        }
      ]
    },
    {
      "cell_type": "code",
      "source": [
        "OPENAI_ENDPOINT = getpass.getpass(\"Enter your ENDPOINT : \")"
      ],
      "metadata": {
        "colab": {
          "base_uri": "https://localhost:8080/"
        },
        "id": "C8HbRhfCP7QL",
        "outputId": "43aa8516-0de6-4f02-d0e7-6cb5cc4b74ec"
      },
      "execution_count": null,
      "outputs": [
        {
          "name": "stdout",
          "output_type": "stream",
          "text": [
            "Enter your ENDPOINT : ··········\n"
          ]
        }
      ]
    },
    {
      "cell_type": "markdown",
      "source": [
        "# 1 - OpenAI Azure model deployement"
      ],
      "metadata": {
        "id": "0ZAd5RprAd7U"
      }
    },
    {
      "cell_type": "code",
      "source": [
        "!pip install openai\n",
        "!pip install langchain\n",
        "!pip install python-dotenv\n",
        "!pip install langchain-community langchain-core\n",
        "!pip install -qU langchain-openai\n",
        "!pip install --upgrade langchain"
      ],
      "metadata": {
        "id": "SW8AlP2tDLZy"
      },
      "execution_count": null,
      "outputs": []
    },
    {
      "cell_type": "code",
      "source": [
        "import os\n",
        "import openai\n",
        "from openai import AzureOpenAI\n",
        "os.environ['OPENAI_API_KEY'] = API_key\n",
        "os.environ['OPENAI_API_TYPE'] = 'azure'\n",
        "os.environ['OPENAI_API_VERSION'] = '2024-08-01-preview'\n",
        "os.environ['AZ_OPENAI_ENDPOINT'] = OPENAI_ENDPOINT\n",
        "os.environ['AZ_OPENAI_API_KEY']= API_key"
      ],
      "metadata": {
        "id": "TY7YBKaMtknJ"
      },
      "execution_count": null,
      "outputs": []
    },
    {
      "cell_type": "code",
      "source": [
        "from langchain_openai import AzureChatOpenAI\n",
        "\n",
        "llm = AzureChatOpenAI(\n",
        "    azure_endpoint=os.getenv(\"AZ_OPENAI_ENDPOINT\"),\n",
        "    openai_api_version=\"2024-02-15-preview\",\n",
        "    model_name=\"gpt-4o\",\n",
        "    openai_api_key=os.getenv(\"AZ_OPENAI_API_KEY\"),\n",
        "    openai_api_type=\"azure\",\n",
        "    temperature=0,\n",
        "    deployment_name=\"gpt-4o-deploy\",\n",
        "    #streaming=True,\n",
        ")\n"
      ],
      "metadata": {
        "id": "YyiJbZ6MuOtR"
      },
      "execution_count": null,
      "outputs": []
    },
    {
      "cell_type": "code",
      "source": [
        "prompt = \"Tell me something funny\"\n",
        "\n",
        "for chunk in llm.stream(prompt):\n",
        "    print(chunk.content, end=\"\", flush=True)"
      ],
      "metadata": {
        "colab": {
          "base_uri": "https://localhost:8080/"
        },
        "id": "YyXLHltHP2Ai",
        "outputId": "47e982df-3e5e-4bd9-e8f0-8867b286298f"
      },
      "execution_count": null,
      "outputs": [
        {
          "output_type": "stream",
          "name": "stdout",
          "text": [
            "Sure, here's a joke for you:\n",
            "\n",
            "Why don't scientists trust atoms?\n",
            "\n",
            "Because they make up everything!"
          ]
        }
      ]
    },
    {
      "cell_type": "markdown",
      "source": [
        "# 2 - LangChain RAG"
      ],
      "metadata": {
        "id": "sKFbbkYgB0ed"
      }
    },
    {
      "cell_type": "code",
      "execution_count": null,
      "metadata": {
        "id": "u9de1pKVBrST",
        "colab": {
          "base_uri": "https://localhost:8080/",
          "height": 505
        },
        "outputId": "5727c6bd-a52e-4f59-a46c-6cc41bb7e888"
      },
      "outputs": [
        {
          "output_type": "stream",
          "name": "stdout",
          "text": [
            "Drive already mounted at /content/drive; to attempt to forcibly remount, call drive.mount(\"/content/drive\", force_remount=True).\n"
          ]
        },
        {
          "output_type": "display_data",
          "data": {
            "text/plain": [
              "<Figure size 800x700 with 1 Axes>"
            ],
            "image/png": "[encoded data removed]"
          },
          "metadata": {}
        }
      ],
      "source": [
        "from google.colab import drive\n",
        "drive.mount('/content/drive')\n",
        "from PIL import Image\n",
        "import matplotlib.pyplot as plt\n",
        "image = Image.open(\"/content/drive/MyDrive/Image_notebooks/RAG_1.png\")\n",
        "plt.figure(figsize=(8, 7))  # Taille de l'image (largeur, hauteur) en pouces\n",
        "plt.imshow(image)\n",
        "plt.axis(\"off\")  # Masquer les axes\n",
        "plt.show()"
      ]
    },
    {
      "cell_type": "markdown",
      "source": [
        "## 1 - Document loader"
      ],
      "metadata": {
        "id": "QtPKoeGKShHY"
      }
    },
    {
      "cell_type": "markdown",
      "source": [
        "Loaders\n",
        "• Loaders deal with the specifics of accessing and converting data:\n",
        "- Accessing,\n",
        "Web Sites,\n",
        "Data Bases,\n",
        "YouTube arXiv.\n",
        "\n",
        "\n",
        "- Data Types,\n",
        "PDF,\n",
        "HTML,\n",
        "JSON,\n",
        "Word, PowerPoint...\n",
        "\n",
        "Returns a list of 'Document' objects:"
      ],
      "metadata": {
        "id": "Pa-_vg-LSyS0"
      }
    },
    {
      "cell_type": "code",
      "source": [
        "pip install pypdf"
      ],
      "metadata": {
        "id": "DvYnmWS9yHHE"
      },
      "execution_count": null,
      "outputs": []
    },
    {
      "cell_type": "code",
      "source": [
        "pip install -U langchain-community"
      ],
      "metadata": {
        "id": "pEMTYnvfUaGa"
      },
      "execution_count": null,
      "outputs": []
    },
    {
      "cell_type": "code",
      "source": [
        "from langchain.document_loaders import PyPDFLoader"
      ],
      "metadata": {
        "id": "os5qozIlUBol"
      },
      "execution_count": null,
      "outputs": []
    },
    {
      "cell_type": "markdown",
      "source": [
        "Inject Groupama rapport 2023"
      ],
      "metadata": {
        "id": "8-aCbD36OEEj"
      }
    },
    {
      "cell_type": "code",
      "source": [
        "loader = PyPDFLoader(\"/content/drive/MyDrive/Data/Groupama23.pdf\")\n",
        "pages = loader.load()"
      ],
      "metadata": {
        "id": "h9e55c8OcYAW"
      },
      "execution_count": null,
      "outputs": []
    },
    {
      "cell_type": "code",
      "source": [
        "len(pages)"
      ],
      "metadata": {
        "colab": {
          "base_uri": "https://localhost:8080/"
        },
        "id": "yBAcIDiterHD",
        "outputId": "5ae1c145-ab0e-462f-c573-5a86cfbda78e"
      },
      "execution_count": null,
      "outputs": [
        {
          "output_type": "execute_result",
          "data": {
            "text/plain": [
              "16"
            ]
          },
          "metadata": {},
          "execution_count": 14
        }
      ]
    },
    {
      "cell_type": "code",
      "source": [
        "pages[1].metadata"
      ],
      "metadata": {
        "colab": {
          "base_uri": "https://localhost:8080/"
        },
        "id": "6KpJE1u5e53B",
        "outputId": "e4829eeb-ce67-4d21-f0da-cf5303e60905"
      },
      "execution_count": null,
      "outputs": [
        {
          "output_type": "execute_result",
          "data": {
            "text/plain": [
              "{'source': '/content/drive/MyDrive/Data/Groupama23.pdf', 'page': 1}"
            ]
          },
          "metadata": {},
          "execution_count": 15
        }
      ]
    },
    {
      "cell_type": "code",
      "source": [
        "type(pages[1])"
      ],
      "metadata": {
        "colab": {
          "base_uri": "https://localhost:8080/",
          "height": 185
        },
        "id": "CzPqSNm50i_p",
        "outputId": "8f637abe-10ed-4f4c-8a09-3f704114322f"
      },
      "execution_count": null,
      "outputs": [
        {
          "output_type": "execute_result",
          "data": {
            "text/plain": [
              "langchain_core.documents.base.Document"
            ],
            "text/html": [
              "<div style=\"max-width:800px; border: 1px solid var(--colab-border-color);\"><style>\n",
              "      pre.function-repr-contents {\n",
              "        overflow-x: auto;\n",
              "        padding: 8px 12px;\n",
              "        max-height: 500px;\n",
              "      }\n",
              "\n",
              "      pre.function-repr-contents.function-repr-contents-collapsed {\n",
              "        cursor: pointer;\n",
              "        max-height: 100px;\n",
              "      }\n",
              "    </style>\n",
              "    <pre style=\"white-space: initial; background:\n",
              "         var(--colab-secondary-surface-color); padding: 8px 12px;\n",
              "         border-bottom: 1px solid var(--colab-border-color);\"><b>langchain_core.documents.base.Document</b><br/>def __init__(page_content: str, **kwargs: Any) -&gt; None</pre><pre class=\"function-repr-contents function-repr-contents-collapsed\" style=\"\"><a class=\"filepath\" style=\"display:none\" href=\"#\">/usr/local/lib/python3.10/dist-packages/langchain_core/documents/base.py</a>Class for storing a piece of text and associated metadata.\n",
              "\n",
              "Example:\n",
              "\n",
              "    .. code-block:: python\n",
              "\n",
              "        from langchain_core.documents import Document\n",
              "\n",
              "        document = Document(\n",
              "            page_content=&quot;Hello, world!&quot;,\n",
              "            metadata={&quot;source&quot;: &quot;https://example.com&quot;}\n",
              "        )</pre>\n",
              "      <script>\n",
              "      if (google.colab.kernel.accessAllowed && google.colab.files && google.colab.files.view) {\n",
              "        for (const element of document.querySelectorAll('.filepath')) {\n",
              "          element.style.display = 'block'\n",
              "          element.onclick = (event) => {\n",
              "            event.preventDefault();\n",
              "            event.stopPropagation();\n",
              "            google.colab.files.view(element.textContent, 262);\n",
              "          };\n",
              "        }\n",
              "      }\n",
              "      for (const element of document.querySelectorAll('.function-repr-contents')) {\n",
              "        element.onclick = (event) => {\n",
              "          event.preventDefault();\n",
              "          event.stopPropagation();\n",
              "          element.classList.toggle('function-repr-contents-collapsed');\n",
              "        };\n",
              "      }\n",
              "      </script>\n",
              "      </div>"
            ]
          },
          "metadata": {},
          "execution_count": 16
        }
      ]
    },
    {
      "cell_type": "code",
      "source": [
        "pages[1]"
      ],
      "metadata": {
        "colab": {
          "base_uri": "https://localhost:8080/"
        },
        "id": "pxDKM-eLjZd_",
        "outputId": "3a3aa8ad-88a6-4d1b-e407-a0f2487ac722"
      },
      "execution_count": null,
      "outputs": [
        {
          "output_type": "execute_result",
          "data": {
            "text/plain": [
              "Document(metadata={'source': '/content/drive/MyDrive/Data/Groupama23.pdf', 'page': 1}, page_content='On ne peut pas prévoir de quoi demain sera fait.  \\nPourtant, le groupe Groupama a toujours été tourné  \\nvers l’avenir en cherchant à comprendre et à s’adapter  \\naux mutations de la société.\\nCar, dès aujourd’hui, on peut tenter de mettre en place  \\ndes solutions pour l’avenir. Notre culture de l’innovation,  \\nnotre capacité d’écoute et d’analyse nous positionnent \\ncomme un Groupe qui invente et se réinvente.\\nCe rapport annuel, illustré par les enfants  \\nde nos collaborateurs, parle d’avenir… et encore plus \\ndans sa version digitale.  \\nRetrouvez notre vision du futur, et découvrez  \\nnos innovations qui façonnent le monde de demain.\\nLe monde change,  \\nse transforme, \\névolue sans cesse. \\n240429_GROUPAMA_RA_Fanzine_FR_VG.indd   2240429_GROUPAMA_RA_Fanzine_FR_VG.indd   2 29/04/2024   15:0129/04/2024   15:01')"
            ]
          },
          "metadata": {},
          "execution_count": 17
        }
      ]
    },
    {
      "cell_type": "code",
      "source": [
        "pages[2]"
      ],
      "metadata": {
        "colab": {
          "base_uri": "https://localhost:8080/"
        },
        "id": "fI7UDwLFgPOh",
        "outputId": "06cf08ce-35e3-44f7-acce-ab056676a7c0"
      },
      "execution_count": null,
      "outputs": [
        {
          "output_type": "execute_result",
          "data": {
            "text/plain": [
              "Document(metadata={'source': '/content/drive/MyDrive/Data/Groupama23.pdf', 'page': 2}, page_content='Si l’on parlait d’avenir ?\\nCOMMENT LE GROUPE GROUPAMA \\nCOMPTE-T-IL ATTEINDRE SON \\nAMBITION D’ÊTRE LE CHAMPION DE \\nL ’ACCOMPAGNEMENT DE SES CLIENTS ? \\nFRANÇOIS SCHMITT \\nPrésident de Groupama \\nAssurances Mutuelles\\nNous sommes dans un monde qui s’accé-\\nlère, avec des impacts qui nous sollicitent \\nde plus en plus souvent et de plus en plus \\nfortement, qu’ils soient climatiques, éco-\\nnomiques ou sociétaux. Le coût de la sinis tra    -\\nlité s’accroît et donc, assez mécaniquement, \\nle coût de l’assurance augmente. Si nous \\nvoulons que nos assurés sociétaires conti-\\nnuent à nous faire confiance, il faut impéra ti-\\nvement maximiser notre qualité de service. \\nAgir en ce sens est essentiel aujour d’hui, ce \\nsera vital demain pour conserver la confiance \\nde nos clients.\\nNotre ambition, c’est d’être le Groupe \\nmutualiste champion de l’accompagne -\\nment de ses clients. Notre plus grande \\nfierté est notre capacité à être là et à res-\\npecter la promesse que nous avons faite. \\nEn 2023, les élus et les collaborateurs dans \\ntoutes les structures, en France comme à \\nl’étranger, ont contribué à la réalisation de \\ncette promesse. Ils ont accompagné nos \\nsociétaires dans les moments difficiles en \\nallant à leur rencontre et en facilitant leurs \\ndémarches pour accélérer les procédures \\nd’indemnisation et répondre le plus rapi-\\ndement possible à leurs besoins. Leur mobi-\\nlisation a été remarquable, notamment au \\ncours du second semestre, qui a été marqué \\npar des intempéries de forte ampleur : les \\ntempêtes Ciaran et Domingos, et de forts \\névénements pluvieux dans les Hauts-de-\\nFrance à l’origine de crues dévastatrices. Et \\nc’est cette synergie entre l’engagement des \\néquipes, des pôles de sinistres aux conseil-\\nlers commerciaux, et de notre réseau d’élus \\nqui fait la spécificité de la réponse apportée \\npar Groupama.\\nNous mettre en mouvement pour honorer \\nencore davantage cet engagement collectif, \\nc’est le chantier qui nous attend. Car on ne \\nnaît pas champion, on le devient ! Par notre \\ntravail de tous les jours, par notre capacité \\nde résilience renouvelée, nous allons encore \\nprogresser. Le travail et l’engagement, à \\nchaque instant, tout le temps ! Avec en ligne \\nde mire le plaisir d’avoir un sociétaire ras-\\nsuré et pleinement satisfait. C’est cette \\nambition, que nous nous sommes fixée et \\nque nous allons atteindre, tous ensemble.\\n240429_GROUPAMA_RA_Fanzine_FR_VG.indd   3240429_GROUPAMA_RA_Fanzine_FR_VG.indd   3 29/04/2024   15:0129/04/2024   15:01')"
            ]
          },
          "metadata": {},
          "execution_count": 18
        }
      ]
    },
    {
      "cell_type": "markdown",
      "source": [
        "## 2 - Parsing"
      ],
      "metadata": {
        "id": "q_WluN2SDeJe"
      }
    },
    {
      "cell_type": "markdown",
      "source": [
        "### 2.2 - Recursive splitting"
      ],
      "metadata": {
        "id": "nuJZuUT15NOD"
      }
    },
    {
      "cell_type": "code",
      "source": [
        "from langchain.text_splitter import RecursiveCharacterTextSplitter, CharacterTextSplitter"
      ],
      "metadata": {
        "id": "OdX43Xu3H8Oz"
      },
      "execution_count": null,
      "outputs": []
    },
    {
      "cell_type": "markdown",
      "source": [
        "LangChain Splitters:\n",
        "- CharacterTextSplitter :  divise le texte en morceaux de taille définie. Ne prend pas en considération la structure du text. Pourrait couper en plein milieu de phrases ou de blocs logiques.\n",
        "\n",
        "- RecursiveCharacterTextSplitter: divise le texte de manière hiérarchique en utilisant plusieurs séparateurs. divise par paragraphe (\\n\\n), puis par phrase (.), et finalement par mot ( ) pour s'assurer que les morceaux soient cohérents et ne dépassent pas 50 caractères.\n",
        "\n",
        "\n",
        "\n"
      ],
      "metadata": {
        "id": "4rMyiOiRKJKF"
      }
    },
    {
      "cell_type": "code",
      "source": [
        "chunk_size =26\n",
        "chunk_overlap = 4"
      ],
      "metadata": {
        "id": "w8Q2Vj-kIcsE"
      },
      "execution_count": null,
      "outputs": []
    },
    {
      "cell_type": "code",
      "source": [
        "# implementation Option 1:\n",
        "c_splitter = CharacterTextSplitter(\n",
        "    chunk_size=chunk_size,\n",
        "    chunk_overlap=chunk_overlap)"
      ],
      "metadata": {
        "id": "aEaoyCQ5IEbx"
      },
      "execution_count": null,
      "outputs": []
    },
    {
      "cell_type": "code",
      "source": [
        "# implementation Option 2:\n",
        "splitter = RecursiveCharacterTextSplitter(\n",
        "    separators=[\"\\n\\n\", \".\"],  # Diviser par paragraphe, puis phrase, puis mot\n",
        "    chunk_size=50,                  # Taille maximale de chaque morceau\n",
        "    chunk_overlap=15)                 # Chevauchement optionnel pour la cohérence des morceaux"
      ],
      "metadata": {
        "id": "OtxQXxD00RYG"
      },
      "execution_count": null,
      "outputs": []
    },
    {
      "cell_type": "code",
      "source": [
        "chunks = splitter.split_text(pages[4].page_content)"
      ],
      "metadata": {
        "id": "SAgOb6m-1EeK"
      },
      "execution_count": null,
      "outputs": []
    },
    {
      "cell_type": "code",
      "source": [
        "# Liste tous les attributs et méthodes de l'objet\n",
        "print(dir(pages[1]))"
      ],
      "metadata": {
        "colab": {
          "base_uri": "https://localhost:8080/"
        },
        "id": "GDsND-ed2rxO",
        "outputId": "98a21d8d-e0a8-478c-9ac2-f8e898b0a205"
      },
      "execution_count": null,
      "outputs": [
        {
          "output_type": "stream",
          "name": "stdout",
          "text": [
            "['__abstractmethods__', '__annotations__', '__class__', '__class_getitem__', '__class_vars__', '__copy__', '__deepcopy__', '__delattr__', '__dict__', '__dir__', '__doc__', '__eq__', '__fields__', '__fields_set__', '__format__', '__ge__', '__get_pydantic_core_schema__', '__get_pydantic_json_schema__', '__getattr__', '__getattribute__', '__getstate__', '__gt__', '__hash__', '__init__', '__init_subclass__', '__iter__', '__le__', '__lt__', '__module__', '__ne__', '__new__', '__pretty__', '__private_attributes__', '__pydantic_complete__', '__pydantic_core_schema__', '__pydantic_custom_init__', '__pydantic_decorators__', '__pydantic_extra__', '__pydantic_fields_set__', '__pydantic_generic_metadata__', '__pydantic_init_subclass__', '__pydantic_parent_namespace__', '__pydantic_post_init__', '__pydantic_private__', '__pydantic_root_model__', '__pydantic_serializer__', '__pydantic_validator__', '__reduce__', '__reduce_ex__', '__repr__', '__repr_args__', '__repr_name__', '__repr_str__', '__rich_repr__', '__setattr__', '__setstate__', '__signature__', '__sizeof__', '__slots__', '__str__', '__subclasshook__', '__weakref__', '_abc_impl', '_calculate_keys', '_check_frozen', '_copy_and_set_values', '_get_value', '_iter', 'cast_id_to_str', 'construct', 'copy', 'dict', 'from_orm', 'get_lc_namespace', 'id', 'is_lc_serializable', 'json', 'lc_attributes', 'lc_id', 'lc_secrets', 'metadata', 'model_computed_fields', 'model_config', 'model_construct', 'model_copy', 'model_dump', 'model_dump_json', 'model_extra', 'model_fields', 'model_fields_set', 'model_json_schema', 'model_parametrized_name', 'model_post_init', 'model_rebuild', 'model_validate', 'model_validate_json', 'model_validate_strings', 'page_content', 'parse_file', 'parse_obj', 'parse_raw', 'schema', 'schema_json', 'to_json', 'to_json_not_implemented', 'type', 'update_forward_refs', 'validate']\n"
          ]
        }
      ]
    },
    {
      "cell_type": "code",
      "source": [
        "print(pages[1].__dict__)"
      ],
      "metadata": {
        "colab": {
          "base_uri": "https://localhost:8080/"
        },
        "id": "00B4oklu3INW",
        "outputId": "c6332798-e5d0-424e-9f8a-c8d8a2017e15"
      },
      "execution_count": null,
      "outputs": [
        {
          "output_type": "stream",
          "name": "stdout",
          "text": [
            "{'id': None, 'metadata': {'source': '/content/drive/MyDrive/Data/Groupama23.pdf', 'page': 1}, 'page_content': 'On ne peut pas prévoir de quoi demain sera fait.  \\nPourtant, le groupe Groupama a toujours été tourné  \\nvers l’avenir en cherchant à comprendre et à s’adapter  \\naux mutations de la société.\\nCar, dès aujourd’hui, on peut tenter de mettre en place  \\ndes solutions pour l’avenir. Notre culture de l’innovation,  \\nnotre capacité d’écoute et d’analyse nous positionnent \\ncomme un Groupe qui invente et se réinvente.\\nCe rapport annuel, illustré par les enfants  \\nde nos collaborateurs, parle d’avenir… et encore plus \\ndans sa version digitale.  \\nRetrouvez notre vision du futur, et découvrez  \\nnos innovations qui façonnent le monde de demain.\\nLe monde change,  \\nse transforme, \\névolue sans cesse. \\n240429_GROUPAMA_RA_Fanzine_FR_VG.indd   2240429_GROUPAMA_RA_Fanzine_FR_VG.indd   2 29/04/2024   15:0129/04/2024   15:01', 'type': 'Document'}\n"
          ]
        }
      ]
    },
    {
      "cell_type": "code",
      "source": [
        "print(chunks[1])"
      ],
      "metadata": {
        "colab": {
          "base_uri": "https://localhost:8080/"
        },
        "id": "fWiTjxAQ3bUO",
        "outputId": "68dd7958-5568-4872-8993-fc565f97d2f8"
      },
      "execution_count": null,
      "outputs": [
        {
          "output_type": "stream",
          "name": "stdout",
          "text": [
            ". POUVEZ-VOUS  \n",
            "NOUS PARLER DE CETTE DÉMARCHE \n",
            "ET NOUS PRÉCISER COMMENT  \n",
            "VOUS PENSEZ RELEVER CES DÉFIS \n",
            "OLIVIER LARCHER ?\n",
            "OLIVIER LARCHER\n",
            "Directeur général  \n",
            "délégué de Groupama  \n",
            "Assurances Mutuelles \n",
            "Il est exact que notre environnement nous \n",
            "oblige à nous adapter pour préserver notre \n",
            "modèle unique sur le marché\n"
          ]
        }
      ]
    },
    {
      "cell_type": "code",
      "source": [
        "type(chunks)"
      ],
      "metadata": {
        "colab": {
          "base_uri": "https://localhost:8080/"
        },
        "id": "WTX5V96yaMpT",
        "outputId": "9a412e62-d3da-4c78-b2f3-44fd4b81030b"
      },
      "execution_count": null,
      "outputs": [
        {
          "output_type": "execute_result",
          "data": {
            "text/plain": [
              "list"
            ]
          },
          "metadata": {},
          "execution_count": 28
        }
      ]
    },
    {
      "cell_type": "code",
      "source": [
        "chunks"
      ],
      "metadata": {
        "colab": {
          "base_uri": "https://localhost:8080/"
        },
        "id": "vk8zX7J11KzD",
        "outputId": "276de32a-4cf0-482c-846a-b39f46669f39"
      },
      "execution_count": null,
      "outputs": [
        {
          "output_type": "execute_result",
          "data": {
            "text/plain": [
              "['POUR RÉPONDRE AUX DÉFIS POSÉS \\nPAR UN ENVIRONNEMENT DE PLUS EN \\nPLUS COMPLEXE, VOUS AVEZ DÉCIDÉ \\nDE REVOIR VOTRE FEUILLE DE ROUTE \\nSTRATÉGIQUE',\n",
              " '. POUVEZ-VOUS  \\nNOUS PARLER DE CETTE DÉMARCHE \\nET NOUS PRÉCISER COMMENT  \\nVOUS PENSEZ RELEVER CES DÉFIS \\nOLIVIER LARCHER ?\\nOLIVIER LARCHER\\nDirecteur général  \\ndélégué de Groupama  \\nAssurances Mutuelles \\nIl est exact que notre environnement nous \\noblige à nous adapter pour préserver notre \\nmodèle unique sur le marché',\n",
              " '. Avant d’évo-\\nquer les travaux conduits collectivement \\npour remodeler notre stratégie, je voudrais \\nrevenir sur quelques réalisations impor -\\ntantes menées à bien par nos équipes \\nen 2023',\n",
              " '. Nous avons continué, en 2023, à \\nagir pour la qualité de service, c’est un point \\nclé',\n",
              " '. Nous avons, par exemple, mis en place \\nla déclaration de sinistre en ligne, en phase \\navec les attentes de nos sociétaires, ainsi \\nque le parcours d’assistance digitalisé : \\nl’assistance intervient lors de moments de \\nvérité avec nos sociétaires et, grâce à ce \\nparcours, nous sommes encore plus là',\n",
              " '. \\nNous avons également déployé un outil \\nd’intelligence artificielle qui aide nos \\néquipes d’épargne salariale à répondre plus \\nvite et mieux à nos sociétaires',\n",
              " '. Les initia-\\ntives ont été nombreuses, les actions \\nconcrètes aussi !\\nPour réaliser notre ambition, « Bâtir le \\nGroupe mutualiste champion de l’accom-\\npagnement des clients », nous devons aller \\nencore plus loin, ensemble',\n",
              " '. Pour ce faire, \\nnous avons, dans un premier temps, posé \\ncollectivement un diagnostic, ce qui nous \\na permis d’identifier un certain nombre \\nde chantiers prioritaires en fin d’année der-\\nnière',\n",
              " '. Nous engageons en 2024 des travaux \\nd’approfondissement ou de mise en œuvre',\n",
              " '. \\nNous chiffrerons l’ensemble, déterminerons \\ndes objectifs de moyen et long terme, et \\npourrons ensuite valider notre feuille de \\nroute et tracer ainsi notre plan d’action col-\\nlectif Groupe : Construire Ensemble 2030',\n",
              " '. \\nPour construire ce projet, nous avons posé \\nquelques principes structurants',\n",
              " '. Ce projet, \\nc’est avant tout un état d’esprit',\n",
              " '. Nous \\nsommes une entreprise de service',\n",
              " '. Et ce qui \\nfait cette entreprise de service, ce sont les \\nfemmes et les hommes, élus et salariés, \\nqui agissent chaque jour pour accompagner \\nnos clients',\n",
              " '. \\nNotre deuxième principe, c’est notre diffé-\\nrence, notre ADN : les caisses locales, qui \\nse sont regroupées en caisses régionales \\net qui ont créé le Groupe que l’on connaît \\naujourd’hui',\n",
              " '. Partons de cet ancrage terri-\\ntorial et faisons-en une force',\n",
              " '. Des caisses \\nrégionales fortes pour un Groupe fort',\n",
              " '. Des \\nentités proches du terrain, qui décident \\nlocalement, qui connaissent bien nos socié-\\ntaires, qui investissent dans les territoires, \\net qui sont des entreprises de plein exercice',\n",
              " '. \\nDes fonctions à GMA solides qui apportent \\ndes solutions, de la sécurité, des expertises \\net de la performance',\n",
              " '.\\nGroupama, c’est aussi des filiales en France \\net à l’international qui nous aident à être \\nmeilleurs, à capter de la croissance, à diver-\\nsifier les risques, à gagner en efficacité, à \\nproposer des services innovants qui intè-\\ngrent nos offres d’assurance',\n",
              " '. \\nChaque personne, chaque entreprise qui \\nforme le Groupe, chaque initiative est \\nimportante et utile pour préserver notre \\nmodèle et créer la richesse nécessaire à \\nnotre croissance rentable',\n",
              " '.\\n240429_GROUPAMA_RA_Fanzine_FR_VG',\n",
              " '.indd   5240429_GROUPAMA_RA_Fanzine_FR_VG',\n",
              " '.indd   5 29/04/2024   15:0129/04/2024   15:01']"
            ]
          },
          "metadata": {},
          "execution_count": 29
        }
      ]
    },
    {
      "cell_type": "markdown",
      "source": [
        "### 2.3 - Token splitting\n",
        "Not relevant to keep the meaning"
      ],
      "metadata": {
        "id": "ONBzQHG58Kn-"
      }
    },
    {
      "cell_type": "markdown",
      "source": [
        "### 2.4 - Context aware splitting (MarkDown)"
      ],
      "metadata": {
        "id": "q5Z8HBOt-u3t"
      }
    },
    {
      "cell_type": "markdown",
      "source": [
        "Aims to keep text with common context together.\n",
        "\n",
        "For this, use `MarkdownHeaderTextSplitter` to preserve header metadata in our chunks.\n",
        "\n"
      ],
      "metadata": {
        "id": "GlyKaq4p_jK0"
      }
    },
    {
      "cell_type": "code",
      "source": [
        "from langchain.document_loaders import NotionDirectoryLoader\n",
        "from langchain.text_splitter import MarkdownHeaderTextSplitter"
      ],
      "metadata": {
        "id": "e4V1EJXdAqlI"
      },
      "execution_count": null,
      "outputs": []
    },
    {
      "cell_type": "code",
      "source": [
        "markdown_document = \"\"\"# Title\\n\\n \\\n",
        "## Chapter 1\\n\\n \\\n",
        "Hi this is Jim\\n\\n Hi this is Joe\\n\\n \\\n",
        "### Section \\n\\n \\\n",
        "Hi this is Lance \\n\\n\n",
        "## Chapter 2\\n\\n \\\n",
        "Hi this is Molly\"\"\""
      ],
      "metadata": {
        "id": "vExbq1eBAzbe"
      },
      "execution_count": null,
      "outputs": []
    },
    {
      "cell_type": "code",
      "source": [
        "headers_to_split_on = [\n",
        "    (\"#\", \"Header 1\"),\n",
        "    (\"##\", \"Header 2\"),\n",
        "    (\"###\", \"Header 3\"),\n",
        "]"
      ],
      "metadata": {
        "id": "9YBETQKHA-re"
      },
      "execution_count": null,
      "outputs": []
    },
    {
      "cell_type": "code",
      "source": [
        "markdown_splitter = MarkdownHeaderTextSplitter(\n",
        "    headers_to_split_on=headers_to_split_on)\n"
      ],
      "metadata": {
        "id": "w3pbtALcBBaz"
      },
      "execution_count": null,
      "outputs": []
    },
    {
      "cell_type": "code",
      "source": [
        "md_header_splits = markdown_splitter.split_text(markdown_document)"
      ],
      "metadata": {
        "id": "iGNLbK_7BD4d"
      },
      "execution_count": null,
      "outputs": []
    },
    {
      "cell_type": "code",
      "source": [
        "md_header_splits[1]"
      ],
      "metadata": {
        "colab": {
          "base_uri": "https://localhost:8080/"
        },
        "id": "8qfkt1ZFBR1F",
        "outputId": "4e7ebf85-5711-4118-8ccb-76f1ad3b6f39"
      },
      "execution_count": null,
      "outputs": [
        {
          "output_type": "execute_result",
          "data": {
            "text/plain": [
              "Document(metadata={'Header 1': 'Title', 'Header 2': 'Chapter 1', 'Header 3': 'Section'}, page_content='Hi this is Lance')"
            ]
          },
          "metadata": {},
          "execution_count": 64
        }
      ]
    },
    {
      "cell_type": "markdown",
      "source": [
        "Output is a combination between headers_to_split_on and headers_to_split_on."
      ],
      "metadata": {
        "id": "M6DSCbLKBeL-"
      }
    },
    {
      "cell_type": "markdown",
      "source": [
        "## 3 - Embedding - OpenAI Platform ( https://platform.openai.com/api-keys )"
      ],
      "metadata": {
        "id": "Be7AOp8TDlQz"
      }
    },
    {
      "cell_type": "markdown",
      "source": [
        "Indexation des vecteurs d embeddings, on crée une structure de données optimisée qui permet de retrouver rapidement les vecteurs les plus proches pour une requête donnée. Les techniques d'indexation incluent souvent :\n",
        "\n",
        "- Structures de données spécialisées : Par exemple, des arbres k-d (k-dimensional) ou approximate nearest neighbor (ANN).\n",
        "\n",
        "- Approximation : Des algorithmes comme FAISS (Facebook AI Similarity Search) ou ScaNN (Scalable Nearest Neighbors) sont conçus pour retrouver les vecteurs voisins de manière approximative, mais très rapide, ce qui est suffisant pour de nombreux cas d’usage de RAG.\n",
        "\n",
        "\n",
        "L index ne contient pas les documents eux-mêmes mais une structure de données optimisée qui facilite la recherche des voisins les plus proches de la requête dans l'espace des embeddings.\n",
        "\n"
      ],
      "metadata": {
        "id": "3NkHh67-Icfs"
      }
    },
    {
      "cell_type": "code",
      "source": [
        "pip install docarray tiktoken"
      ],
      "metadata": {
        "id": "z0RAXB8yI8iO"
      },
      "execution_count": null,
      "outputs": []
    },
    {
      "cell_type": "code",
      "source": [
        "import os\n",
        "from langchain.indexes import VectorstoreIndexCreator\n",
        "from langchain.embeddings import OpenAIEmbeddings\n",
        "from langchain.vectorstores import DocArrayInMemorySearch # do not require to connect to external database.\n",
        "from getpass import getpass"
      ],
      "metadata": {
        "id": "Vfxm9oRoO8nr"
      },
      "execution_count": null,
      "outputs": []
    },
    {
      "cell_type": "code",
      "source": [
        "# Créer une instance des embeddings OpenAI\n",
        "embeddings = OpenAIEmbeddings(\n",
        "    model='text-embedding-ada-002',\n",
        "    openai_api_key=API_key_OPENAI\n",
        ")\n"
      ],
      "metadata": {
        "id": "sXfCX-4oPJNt",
        "colab": {
          "base_uri": "https://localhost:8080/"
        },
        "outputId": "1de98722-9608-41bc-9b02-208f6974bab8"
      },
      "execution_count": null,
      "outputs": [
        {
          "output_type": "stream",
          "name": "stderr",
          "text": [
            "<ipython-input-31-7fce93398368>:2: LangChainDeprecationWarning: The class `OpenAIEmbeddings` was deprecated in LangChain 0.0.9 and will be removed in 1.0. An updated version of the class exists in the :class:`~langchain-openai package and should be used instead. To use it run `pip install -U :class:`~langchain-openai` and import as `from :class:`~langchain_openai import OpenAIEmbeddings``.\n",
            "  embeddings = OpenAIEmbeddings(\n"
          ]
        }
      ]
    },
    {
      "cell_type": "markdown",
      "source": [
        "Pour mesurer la similarité entre deux vecteurs d’embedding, on utilise souvent le produit scalaire ou la similarité cosinus.\n",
        "\n",
        "Ces métriques permettent d’obtenir un score indiquant la similarité entre les phrases. Plus ce score est élevé, plus les phrases sont considérées comme similaires."
      ],
      "metadata": {
        "id": "9sTZ7YTCT1ld"
      }
    },
    {
      "cell_type": "code",
      "source": [
        "import numpy as np\n",
        "from sklearn.metrics.pairwise import cosine_similarity"
      ],
      "metadata": {
        "id": "4WstrA_9QUUm"
      },
      "execution_count": null,
      "outputs": []
    },
    {
      "cell_type": "code",
      "source": [
        "sentence1 = \"\" #input text\n",
        "sentence2 = \"\"#input text"
      ],
      "metadata": {
        "id": "TENs_5hiR28j"
      },
      "execution_count": null,
      "outputs": []
    },
    {
      "cell_type": "code",
      "source": [
        "emb1 = embeddings.embed_query(sentence1)\n",
        "emb2 = embeddings.embed_query(sentence2)"
      ],
      "metadata": {
        "id": "WXnkgliQRqUG"
      },
      "execution_count": null,
      "outputs": []
    },
    {
      "cell_type": "code",
      "source": [
        "np.dot(emb1, emb2)"
      ],
      "metadata": {
        "id": "-uCtIlwMQU4L"
      },
      "execution_count": null,
      "outputs": []
    },
    {
      "cell_type": "code",
      "source": [
        "similarity_score = cosine_similarity([emb1], [emb2])"
      ],
      "metadata": {
        "id": "NWY-aVguUL9R"
      },
      "execution_count": null,
      "outputs": []
    },
    {
      "cell_type": "code",
      "source": [
        "print(similarity_score)"
      ],
      "metadata": {
        "id": "wDfxPadmUTMd"
      },
      "execution_count": null,
      "outputs": []
    },
    {
      "cell_type": "markdown",
      "source": [
        "## 4 - Vectorstore with Chroma"
      ],
      "metadata": {
        "id": "zqqhPtATDx0e"
      }
    },
    {
      "cell_type": "markdown",
      "source": [
        "Used to store these embedding"
      ],
      "metadata": {
        "id": "-NHJtJ8mUwDI"
      }
    },
    {
      "cell_type": "code",
      "source": [
        "pip install tiktoken"
      ],
      "metadata": {
        "colab": {
          "base_uri": "https://localhost:8080/"
        },
        "id": "xzYS6_dhP6hj",
        "outputId": "27656511-3fc5-4ae0-ae53-2a349ef7a30b"
      },
      "execution_count": null,
      "outputs": [
        {
          "output_type": "stream",
          "name": "stdout",
          "text": [
            "Requirement already satisfied: tiktoken in /usr/local/lib/python3.10/dist-packages (0.8.0)\n",
            "Requirement already satisfied: regex>=2022.1.18 in /usr/local/lib/python3.10/dist-packages (from tiktoken) (2024.9.11)\n",
            "Requirement already satisfied: requests>=2.26.0 in /usr/local/lib/python3.10/dist-packages (from tiktoken) (2.32.3)\n",
            "Requirement already satisfied: charset-normalizer<4,>=2 in /usr/local/lib/python3.10/dist-packages (from requests>=2.26.0->tiktoken) (3.4.0)\n",
            "Requirement already satisfied: idna<4,>=2.5 in /usr/local/lib/python3.10/dist-packages (from requests>=2.26.0->tiktoken) (3.10)\n",
            "Requirement already satisfied: urllib3<3,>=1.21.1 in /usr/local/lib/python3.10/dist-packages (from requests>=2.26.0->tiktoken) (2.2.3)\n",
            "Requirement already satisfied: certifi>=2017.4.17 in /usr/local/lib/python3.10/dist-packages (from requests>=2.26.0->tiktoken) (2024.8.30)\n"
          ]
        }
      ]
    },
    {
      "cell_type": "code",
      "source": [
        "from langchain.vectorstores import Chroma # here use Chroma integrated vector Store\n"
      ],
      "metadata": {
        "id": "UZPPhoJTVK6q"
      },
      "execution_count": null,
      "outputs": []
    },
    {
      "cell_type": "code",
      "source": [
        "vectordb = Chroma.from_texts( # in course used from documents.\n",
        "    texts=chunks,\n",
        "    embedding=embeddings,\n",
        ")"
      ],
      "metadata": {
        "id": "OXHPJfg1WIUi"
      },
      "execution_count": null,
      "outputs": []
    },
    {
      "cell_type": "code",
      "source": [
        "print(Chroma.__dict__)"
      ],
      "metadata": {
        "colab": {
          "base_uri": "https://localhost:8080/"
        },
        "id": "NoB1L3rmX3L_",
        "outputId": "d0faf6e5-9c33-451b-f6a4-1404d389669f"
      },
      "execution_count": null,
      "outputs": [
        {
          "output_type": "stream",
          "name": "stdout",
          "text": [
            "{'__module__': 'langchain_community.vectorstores.chroma', '__annotations__': {'_LANGCHAIN_DEFAULT_COLLECTION_NAME': 'str'}, '__doc__': '.. deprecated:: 0.2.9 Use ``:class:`~langchain_chroma.Chroma``` instead.\\n\\n`ChromaDB` vector store.\\n\\nTo use, you should have the ``chromadb`` python package installed.\\n\\nExample:\\n    .. code-block:: python\\n\\n            from langchain_community.vectorstores import Chroma\\n            from langchain_community.embeddings.openai import OpenAIEmbeddings\\n\\n            embeddings = OpenAIEmbeddings()\\n            vectorstore = Chroma(\"langchain_store\", embeddings)', '_LANGCHAIN_DEFAULT_COLLECTION_NAME': 'langchain', '__init__': <function Chroma.__init__ at 0x7cbe1b605990>, 'embeddings': <property object at 0x7cbe1b7fcd10>, '_Chroma__query_collection': <function Chroma.__query_collection at 0x7cbe1b604af0>, 'encode_image': <function Chroma.encode_image at 0x7cbe1b6049d0>, 'add_images': <function Chroma.add_images at 0x7cbe1b604b80>, 'add_texts': <function Chroma.add_texts at 0x7cbe1b604c10>, 'similarity_search': <function Chroma.similarity_search at 0x7cbe1b604ca0>, 'similarity_search_by_vector': <function Chroma.similarity_search_by_vector at 0x7cbe1b604d30>, 'similarity_search_by_vector_with_relevance_scores': <function Chroma.similarity_search_by_vector_with_relevance_scores at 0x7cbe1b604dc0>, 'similarity_search_with_score': <function Chroma.similarity_search_with_score at 0x7cbe1b604e50>, '_select_relevance_score_fn': <function Chroma._select_relevance_score_fn at 0x7cbe1b604ee0>, 'similarity_search_by_image': <function Chroma.similarity_search_by_image at 0x7cbe1b604f70>, 'similarity_search_by_image_with_relevance_score': <function Chroma.similarity_search_by_image_with_relevance_score at 0x7cbe1b605000>, 'max_marginal_relevance_search_by_vector': <function Chroma.max_marginal_relevance_search_by_vector at 0x7cbe1b605090>, 'max_marginal_relevance_search': <function Chroma.max_marginal_relevance_search at 0x7cbe1b605120>, 'delete_collection': <function Chroma.delete_collection at 0x7cbe1b6051b0>, 'get': <function Chroma.get at 0x7cbe1b605240>, 'persist': <function Chroma.persist at 0x7cbe1b605480>, 'update_document': <function Chroma.update_document at 0x7cbe1b6052d0>, 'update_documents': <function Chroma.update_documents at 0x7cbe1b6055a0>, 'from_texts': <classmethod(<function Chroma.from_texts at 0x7cbe1b605510>)>, 'from_documents': <classmethod(<function Chroma.from_documents at 0x7cbe1b605630>)>, 'delete': <function Chroma.delete at 0x7cbe1b6056c0>, '__len__': <function Chroma.__len__ at 0x7cbe1b605750>, '__abstractmethods__': frozenset(), '_abc_impl': <_abc._abc_data object at 0x7cbe1b60c440>}\n"
          ]
        }
      ]
    },
    {
      "cell_type": "code",
      "source": [
        "print(vectordb._collection.count()) #same as splits that we have"
      ],
      "metadata": {
        "colab": {
          "base_uri": "https://localhost:8080/"
        },
        "id": "CeWllygscBkQ",
        "outputId": "9db1ef55-eb85-4f4e-9c8b-a45b6a91d7cf"
      },
      "execution_count": null,
      "outputs": [
        {
          "output_type": "stream",
          "name": "stdout",
          "text": [
            "51\n"
          ]
        }
      ]
    },
    {
      "cell_type": "code",
      "source": [
        "question = \"Groupama est tourné vers le passé ou l'avenir ?\""
      ],
      "metadata": {
        "id": "34LvLD8udnw1"
      },
      "execution_count": null,
      "outputs": []
    },
    {
      "cell_type": "code",
      "source": [
        "docs = vectordb.similarity_search(question,k=3)"
      ],
      "metadata": {
        "id": "y6MD7DW2d3w1"
      },
      "execution_count": null,
      "outputs": []
    },
    {
      "cell_type": "code",
      "source": [
        "len(docs)"
      ],
      "metadata": {
        "colab": {
          "base_uri": "https://localhost:8080/"
        },
        "id": "upgkdxiod5WF",
        "outputId": "b2c701d2-027f-499a-a7be-2324aa061b72"
      },
      "execution_count": null,
      "outputs": [
        {
          "output_type": "execute_result",
          "data": {
            "text/plain": [
              "3"
            ]
          },
          "metadata": {},
          "execution_count": 50
        }
      ]
    },
    {
      "cell_type": "code",
      "source": [
        "docs"
      ],
      "metadata": {
        "colab": {
          "base_uri": "https://localhost:8080/"
        },
        "id": "6xMCb8rZd8VI",
        "outputId": "7a7c6455-0ed8-4d4c-928d-ab01f9d7d1a5"
      },
      "execution_count": null,
      "outputs": [
        {
          "output_type": "execute_result",
          "data": {
            "text/plain": [
              "[Document(metadata={}, page_content='.\\nGroupama, c’est aussi des filiales en France \\net à l’international qui nous aident à être \\nmeilleurs, à capter de la croissance, à diver-\\nsifier les risques, à gagner en efficacité, à \\nproposer des services innovants qui intè-\\ngrent nos offres d’assurance'),\n",
              " Document(metadata={}, page_content='. Avant d’évo-\\nquer les travaux conduits collectivement \\npour remodeler notre stratégie, je voudrais \\nrevenir sur quelques réalisations impor -\\ntantes menées à bien par nos équipes \\nen 2023'),\n",
              " Document(metadata={}, page_content='.indd   5240429_GROUPAMA_RA_Fanzine_FR_VG')]"
            ]
          },
          "metadata": {},
          "execution_count": 51
        }
      ]
    },
    {
      "cell_type": "markdown",
      "source": [
        "## 5 - Retreival"
      ],
      "metadata": {
        "id": "ZcOsYpcygqwT"
      }
    },
    {
      "cell_type": "markdown",
      "source": [
        "1 - MMR algo: Algo query based on similarity and diversity\n",
        "\n",
        "2 - LLM aided Retreival / self query : useful for including metadata to your content. Here use the LLM to convert question to a query.\n",
        "\n",
        "3 -  Compression: Increase the number of results you can put in the context by shrinking the responses to only the relevant information."
      ],
      "metadata": {
        "id": "m0vr_F5tjtus"
      }
    },
    {
      "cell_type": "markdown",
      "source": [
        "### 5.1 - Similarity Search"
      ],
      "metadata": {
        "id": "9eC3OXRIHpFY"
      }
    },
    {
      "cell_type": "code",
      "source": [
        "pip install -U langchain-community"
      ],
      "metadata": {
        "id": "sS4ofYHFH2lG"
      },
      "execution_count": null,
      "outputs": []
    },
    {
      "cell_type": "code",
      "source": [
        "from langchain.vectorstores import Chroma\n",
        "from langchain.embeddings.openai import OpenAIEmbeddings\n",
        "persist_directory = 'docs/chroma/'"
      ],
      "metadata": {
        "id": "HBsKpvVEiyRj"
      },
      "execution_count": null,
      "outputs": []
    },
    {
      "cell_type": "code",
      "source": [
        "vectordb = Chroma(\n",
        "    persist_directory=persist_directory,\n",
        "    embedding_function=embeddings\n",
        ")"
      ],
      "metadata": {
        "id": "D4f9Uks7IOXd"
      },
      "execution_count": null,
      "outputs": []
    },
    {
      "cell_type": "code",
      "source": [
        "print(vectordb._collection.count())"
      ],
      "metadata": {
        "id": "fGoN1Is0Kb-z",
        "colab": {
          "base_uri": "https://localhost:8080/"
        },
        "outputId": "264e1ab7-0e67-4569-c007-306d13dd2ab2"
      },
      "execution_count": null,
      "outputs": [
        {
          "output_type": "stream",
          "name": "stdout",
          "text": [
            "0\n"
          ]
        }
      ]
    },
    {
      "cell_type": "code",
      "source": [
        "texts = [## input,\n",
        "]"
      ],
      "metadata": {
        "id": "FpOm3zX5PfvP"
      },
      "execution_count": null,
      "outputs": []
    },
    {
      "cell_type": "code",
      "source": [
        "smalldb = Chroma.from_texts(texts, embedding=embeddings)"
      ],
      "metadata": {
        "id": "eZMtSUT1Pymq"
      },
      "execution_count": null,
      "outputs": []
    },
    {
      "cell_type": "code",
      "source": [
        "question = \"Tell me about mushroom\""
      ],
      "metadata": {
        "id": "cd0tqk0fP49n"
      },
      "execution_count": null,
      "outputs": []
    },
    {
      "cell_type": "code",
      "source": [
        "smalldb.similarity_search(question, k=2)"
      ],
      "metadata": {
        "colab": {
          "base_uri": "https://localhost:8080/"
        },
        "id": "8u88xXn2QVK1",
        "outputId": "c9375571-e5b0-4240-dc7b-6ba76bd6cb4f"
      },
      "execution_count": null,
      "outputs": [
        {
          "output_type": "execute_result",
          "data": {
            "text/plain": [
              "[Document(metadata={}, page_content='A mushroom with a large fruiting body is the Amanita phalloides. Some varieties are all-white.'),\n",
              " Document(metadata={}, page_content='The Amanita phalloides has a large and imposing epigeous (aboveground) fruiting body (basidiocarp).')]"
            ]
          },
          "metadata": {},
          "execution_count": 60
        }
      ]
    },
    {
      "cell_type": "markdown",
      "source": [
        "### 5.2 - Addressing Diversity: Maximum marginal relevance"
      ],
      "metadata": {
        "id": "zo6qDkAtSvcf"
      }
    },
    {
      "cell_type": "code",
      "source": [
        "smalldb.max_marginal_relevance_search(question,k=2,\n",
        "                                      fetch_k=3) # here diversity factor"
      ],
      "metadata": {
        "colab": {
          "base_uri": "https://localhost:8080/"
        },
        "id": "6cRvITVaQZBc",
        "outputId": "67cc5799-e67d-4d04-c64b-1edd1ce275bc"
      },
      "execution_count": null,
      "outputs": [
        {
          "output_type": "execute_result",
          "data": {
            "text/plain": [
              "[Document(metadata={}, page_content='A mushroom with a large fruiting body is the Amanita phalloides. Some varieties are all-white.'),\n",
              " Document(metadata={}, page_content='A. phalloides, a.k.a Death Cap, is one of the most poisonous of all known mushrooms.')]"
            ]
          },
          "metadata": {},
          "execution_count": 61
        }
      ]
    },
    {
      "cell_type": "markdown",
      "source": [
        "\n",
        "`Maximum marginal relevance` strives to achieve both relevance to the query *and diversity* among the results."
      ],
      "metadata": {
        "id": "F0YaqM7GUSN1"
      }
    },
    {
      "cell_type": "code",
      "source": [
        "question = \"what did they say about matlab?\"\n",
        "docs_ss = vectordb.similarity_search(question,k=3)\n",
        "docs_ss"
      ],
      "metadata": {
        "colab": {
          "base_uri": "https://localhost:8080/"
        },
        "id": "YvhEebChTW4o",
        "outputId": "70754710-8301-4313-b061-aa97a50a0cc9"
      },
      "execution_count": null,
      "outputs": [
        {
          "output_type": "execute_result",
          "data": {
            "text/plain": [
              "[]"
            ]
          },
          "metadata": {},
          "execution_count": 62
        }
      ]
    },
    {
      "cell_type": "code",
      "source": [
        "docs_mmr = vectordb.max_marginal_relevance_search(question,k=3)\n",
        "docs_mmr"
      ],
      "metadata": {
        "colab": {
          "base_uri": "https://localhost:8080/"
        },
        "id": "vU_TxX4oVZzX",
        "outputId": "48b75b46-b66e-4223-983c-232f6ae7a2d9"
      },
      "execution_count": null,
      "outputs": [
        {
          "output_type": "execute_result",
          "data": {
            "text/plain": [
              "[]"
            ]
          },
          "metadata": {},
          "execution_count": 63
        }
      ]
    },
    {
      "cell_type": "markdown",
      "source": [
        "### 5.3 - Addressing Specificity: working with metadata"
      ],
      "metadata": {
        "id": "g2KgpqRCWHMR"
      }
    },
    {
      "cell_type": "markdown",
      "source": [
        "Vectorstores support operations on `metadata`. It provides context for each embedded chunk.\n",
        "\n",
        "Example : a question about the third lecture can include results from other lectures as well."
      ],
      "metadata": {
        "id": "beaJj-JWWdpW"
      }
    },
    {
      "cell_type": "markdown",
      "source": [
        "#### Option 1 : manually specifing this"
      ],
      "metadata": {
        "id": "KF5N8EV-YPL5"
      }
    },
    {
      "cell_type": "code",
      "source": [
        "docs = vectordb.similarity_search(question,\n",
        "    k=3 #,\n",
        "    #filter={\"source\":\"docs/cs229_lectures/MachineLearning-Lecture03.pdf\"} )"
      ],
      "metadata": {
        "id": "A587lxtHXeuR"
      },
      "execution_count": null,
      "outputs": []
    },
    {
      "cell_type": "markdown",
      "source": [
        "#### Option 2: using metadata using self-query retreival\n",
        "\n",
        "We often want to infer the metadata from the query itself. To address this, we can use `SelfQueryRetriever`, which uses an LLM to extract:\n",
        "\n",
        "1. The `query` string to use for vector search\n",
        "2. A metadata filter to pass in as well\n",
        "\n",
        "Most vector databases support metadata filters, so this doesn't require any new databases or indexes."
      ],
      "metadata": {
        "id": "ghdLPnJ9ZMHE"
      }
    },
    {
      "cell_type": "code",
      "source": [
        "pip install lark"
      ],
      "metadata": {
        "id": "XhxfBSW3wjDj",
        "colab": {
          "base_uri": "https://localhost:8080/"
        },
        "outputId": "52b8fc45-2455-4e1a-f88f-07d0c39d5cea"
      },
      "execution_count": null,
      "outputs": [
        {
          "output_type": "stream",
          "name": "stdout",
          "text": [
            "Requirement already satisfied: lark in /usr/local/lib/python3.10/dist-packages (1.2.2)\n"
          ]
        }
      ]
    },
    {
      "cell_type": "code",
      "source": [
        "from langchain.llms import OpenAI\n",
        "from langchain.retrievers.self_query.base import SelfQueryRetriever\n",
        "from langchain.chains.query_constructor.base import AttributeInfo"
      ],
      "metadata": {
        "id": "fQuU6ctDWXDK"
      },
      "execution_count": null,
      "outputs": []
    },
    {
      "cell_type": "code",
      "source": [
        "# trame\n",
        "metadata_field_info = [\n",
        "    AttributeInfo(\n",
        "        name=\"source\",\n",
        "        description=\"The lecture the chunk is from, should be one of `docs/Lecture01.pdf`, `docs/Lecture02.pdf`, or `docs/Lecture03.pdf`\",\n",
        "        type=\"string\",\n",
        "    ),\n",
        "    AttributeInfo(\n",
        "        name=\"page\",\n",
        "        description=\"The page from the lecture\",\n",
        "        type=\"integer\",\n",
        "    ),\n",
        "]"
      ],
      "metadata": {
        "id": "JXP4pYPyadA1"
      },
      "execution_count": null,
      "outputs": []
    },
    {
      "cell_type": "code",
      "source": [
        "from langchain.chat_models import ChatOpenAI\n",
        "\n",
        "client = ChatOpenAI(model_name=\"gpt-4o\",\n",
        "    api_key=API_key_OPENAI\n",
        ")\n",
        "#client.models.list()\n"
      ],
      "metadata": {
        "id": "WqHkpHIBmMHf",
        "colab": {
          "base_uri": "https://localhost:8080/"
        },
        "outputId": "48b4a1d3-5a13-4f18-f123-74feb3041e41"
      },
      "execution_count": null,
      "outputs": [
        {
          "output_type": "stream",
          "name": "stderr",
          "text": [
            "<ipython-input-68-0694ded43469>:3: LangChainDeprecationWarning: The class `ChatOpenAI` was deprecated in LangChain 0.0.10 and will be removed in 1.0. An updated version of the class exists in the :class:`~langchain-openai package and should be used instead. To use it run `pip install -U :class:`~langchain-openai` and import as `from :class:`~langchain_openai import ChatOpenAI``.\n",
            "  client = ChatOpenAI(model_name=\"gpt-4o\",\n"
          ]
        }
      ]
    },
    {
      "cell_type": "code",
      "source": [
        "document_content_description = \"Lecture notes\"\n",
        "\n",
        "retriever = SelfQueryRetriever.from_llm(\n",
        "    client,\n",
        "    vectordb,\n",
        "    document_content_description,\n",
        "    metadata_field_info,\n",
        "    verbose=True)"
      ],
      "metadata": {
        "id": "MCXsiY0elAc0"
      },
      "execution_count": null,
      "outputs": []
    },
    {
      "cell_type": "code",
      "source": [
        "docs = retriever.get_relevant_documents(question)"
      ],
      "metadata": {
        "id": "MCD2rTwtu-Ic",
        "colab": {
          "base_uri": "https://localhost:8080/"
        },
        "outputId": "0615ae2a-5a83-4990-c76f-77634db9654a"
      },
      "execution_count": null,
      "outputs": [
        {
          "output_type": "stream",
          "name": "stderr",
          "text": [
            "<ipython-input-70-6ed304eeafec>:1: LangChainDeprecationWarning: The method `BaseRetriever.get_relevant_documents` was deprecated in langchain-core 0.1.46 and will be removed in 1.0. Use :meth:`~invoke` instead.\n",
            "  docs = retriever.get_relevant_documents(question)\n"
          ]
        }
      ]
    },
    {
      "cell_type": "code",
      "source": [
        "for d in docs:\n",
        "    print(d.metadata)"
      ],
      "metadata": {
        "id": "cmF9vtSY0IcY"
      },
      "execution_count": null,
      "outputs": []
    },
    {
      "cell_type": "markdown",
      "source": [
        "#### Option 3:  Compression"
      ],
      "metadata": {
        "id": "Y6-XdUqg0Kek"
      }
    },
    {
      "cell_type": "markdown",
      "source": [
        "Another approach for improving the quality of retrieved docs is compression.\n",
        "\n",
        "Information most relevant to a query may be buried in a document with a lot of irrelevant text.\n",
        "\n",
        "Passing that full document through your application can lead to more expensive LLM calls and poorer responses.\n",
        "\n",
        "Contextual compression is meant to fix this."
      ],
      "metadata": {
        "id": "BBDDAJOJ0awS"
      }
    },
    {
      "cell_type": "code",
      "source": [
        "pip install langchain-community langchain-core"
      ],
      "metadata": {
        "id": "79yyJwaHIYXT"
      },
      "execution_count": null,
      "outputs": []
    },
    {
      "cell_type": "code",
      "source": [
        "from langchain.retrievers import ContextualCompressionRetriever\n",
        "from langchain.retrievers.document_compressors import LLMChainExtractor\n",
        "from langchain.chat_models import ChatOpenAI"
      ],
      "metadata": {
        "id": "o2Aq1iTy0WlT"
      },
      "execution_count": null,
      "outputs": []
    },
    {
      "cell_type": "code",
      "source": [
        "llm = ChatOpenAI(\n",
        "    model_name=\"gpt-4o\",\n",
        "    openai_api_key= API_key_OPENAI )\n"
      ],
      "metadata": {
        "id": "q9HbWnzKLaTn"
      },
      "execution_count": null,
      "outputs": []
    },
    {
      "cell_type": "code",
      "source": [
        "compressor = LLMChainExtractor.from_llm(llm)"
      ],
      "metadata": {
        "id": "RLdQESbjF6Io"
      },
      "execution_count": null,
      "outputs": []
    },
    {
      "cell_type": "code",
      "source": [
        "compression_retriever = ContextualCompressionRetriever(\n",
        "    base_compressor=compressor,\n",
        "    base_retriever=vectordb.as_retriever()\n",
        ")"
      ],
      "metadata": {
        "id": "eR5N7kVGMoq2"
      },
      "execution_count": null,
      "outputs": []
    },
    {
      "cell_type": "code",
      "source": [
        "question = \"what did they say about matlab?\"\n",
        "compressed_docs = compression_retriever.get_relevant_documents(question)\n",
        "print(compressed_docs)\n",
        "#pretty_print_docs(compressed_docs)"
      ],
      "metadata": {
        "id": "jxzQfrpHMuF4",
        "colab": {
          "base_uri": "https://localhost:8080/"
        },
        "outputId": "f3aa8dde-3b59-4de4-bc30-ddd37b59ffa1"
      },
      "execution_count": null,
      "outputs": [
        {
          "output_type": "stream",
          "name": "stdout",
          "text": [
            "[]\n"
          ]
        }
      ]
    },
    {
      "cell_type": "markdown",
      "source": [
        "## 6 - Question Answering"
      ],
      "metadata": {
        "id": "Etqr-jdkRucI"
      }
    },
    {
      "cell_type": "markdown",
      "source": [
        "### 6.1 - Introduction describing the goal"
      ],
      "metadata": {
        "id": "OEO2HfMEWS9r"
      }
    },
    {
      "cell_type": "markdown",
      "source": [
        "This come out after retreiving"
      ],
      "metadata": {
        "id": "KQXjaFWcHNZa"
      }
    },
    {
      "cell_type": "markdown",
      "source": [
        "If there are a lot of ducuments that can't pass trough the same context windows:"
      ],
      "metadata": {
        "id": "afHpmQWDJXS3"
      }
    },
    {
      "cell_type": "code",
      "source": [
        "from google.colab import drive\n",
        "drive.mount('/content/drive')\n",
        "from PIL import Image\n",
        "import matplotlib.pyplot as plt\n",
        "image = Image.open(\"/content/drive/MyDrive/Image_notebooks/3methods.png\")\n",
        "plt.figure(figsize=(6, 5))  # Taille de l'image (largeur, hauteur) en pouces\n",
        "plt.imshow(image)\n",
        "plt.axis(\"off\")  # Masquer les axes\n",
        "plt.show()"
      ],
      "metadata": {
        "colab": {
          "base_uri": "https://localhost:8080/",
          "height": 71
        },
        "id": "DDkP6771JBhD",
        "outputId": "0ba86a42-264d-4ad8-fc3a-670314bd45e0"
      },
      "execution_count": null,
      "outputs": [
        {
          "output_type": "stream",
          "name": "stdout",
          "text": [
            "Drive already mounted at /content/drive; to attempt to forcibly remount, call drive.mount(\"/content/drive\", force_remount=True).\n"
          ]
        },
        {
          "output_type": "display_data",
          "data": {
            "text/plain": [
              "<Figure size 600x500 with 1 Axes>"
            ],
            "image/png": "[encoded data removed]"
          },
          "metadata": {}
        }
      ]
    },
    {
      "cell_type": "markdown",
      "source": [
        "### 6.2 - Setup env"
      ],
      "metadata": {
        "id": "tsd2dhOlWZnZ"
      }
    },
    {
      "cell_type": "code",
      "source": [
        "pip install chromadb tiktoken"
      ],
      "metadata": {
        "id": "wlJKRzRBNHkR"
      },
      "execution_count": null,
      "outputs": []
    },
    {
      "cell_type": "code",
      "source": [
        "pip install -U langchain-community"
      ],
      "metadata": {
        "id": "4r_Lg9l0ll1F"
      },
      "execution_count": null,
      "outputs": []
    },
    {
      "cell_type": "code",
      "source": [
        "from getpass import getpass\n",
        "from langchain.embeddings import OpenAIEmbeddings\n",
        "from langchain.vectorstores import DocArrayInMemorySearch\n",
        "import os\n",
        "from langchain.vectorstores import Chroma"
      ],
      "metadata": {
        "id": "FOZYZI4FKgow"
      },
      "execution_count": null,
      "outputs": []
    },
    {
      "cell_type": "code",
      "source": [
        "# Créer une instance des embeddings OpenAI\n",
        "embeddings = OpenAIEmbeddings(\n",
        "    model='text-embedding-ada-002',\n",
        "    openai_api_key=API_key_OPENAI\n",
        ")\n"
      ],
      "metadata": {
        "id": "RMJGnps2MLrs"
      },
      "execution_count": null,
      "outputs": []
    },
    {
      "cell_type": "code",
      "source": [
        "vectordb # defined in the section"
      ],
      "metadata": {
        "id": "Wdj_Hv80MXRw"
      },
      "execution_count": null,
      "outputs": []
    },
    {
      "cell_type": "code",
      "source": [
        "print(vectordb._collection.count())"
      ],
      "metadata": {
        "colab": {
          "base_uri": "https://localhost:8080/"
        },
        "id": "Jw3w9pu1NVok",
        "outputId": "e2c08f9c-2e7f-4c07-96ef-bf5a20567637"
      },
      "execution_count": null,
      "outputs": [
        {
          "output_type": "stream",
          "name": "stdout",
          "text": [
            "0\n"
          ]
        }
      ]
    },
    {
      "cell_type": "code",
      "source": [
        "question = \"Quelle est l'ambition de Groupama pour l'avenir ?\""
      ],
      "metadata": {
        "id": "mEQePTKlRjrU"
      },
      "execution_count": null,
      "outputs": []
    },
    {
      "cell_type": "code",
      "source": [
        "docs = vectordb.similarity_search(question, k=3 )\n",
        "len(docs)"
      ],
      "metadata": {
        "colab": {
          "base_uri": "https://localhost:8080/"
        },
        "id": "wV-TekmeR5wR",
        "outputId": "20062dd7-488e-4afb-8f32-37e6dcaa72b3"
      },
      "execution_count": null,
      "outputs": [
        {
          "output_type": "execute_result",
          "data": {
            "text/plain": [
              "3"
            ]
          },
          "metadata": {},
          "execution_count": 123
        }
      ]
    },
    {
      "cell_type": "code",
      "source": [
        "docs"
      ],
      "metadata": {
        "colab": {
          "base_uri": "https://localhost:8080/"
        },
        "id": "sfzvOFrkSYp7",
        "outputId": "160333e2-dc1c-4362-f4ca-a1897b01b66c"
      },
      "execution_count": null,
      "outputs": [
        {
          "output_type": "execute_result",
          "data": {
            "text/plain": [
              "[Document(metadata={}, page_content='.\\nGroupama, c’est aussi des filiales en France \\net à l’international qui nous aident à être \\nmeilleurs, à capter de la croissance, à diver-\\nsifier les risques, à gagner en efficacité, à \\nproposer des services innovants qui intè-\\ngrent nos offres d’assurance'),\n",
              " Document(metadata={}, page_content='.\\nGroupama, c’est aussi des filiales en France \\net à l’international qui nous aident à être \\nmeilleurs, à capter de la croissance, à diver-\\nsifier les risques, à gagner en efficacité, à \\nproposer des services innovants qui intè-\\ngrent nos offres d’assurance'),\n",
              " Document(metadata={}, page_content='. Les initia-\\ntives ont été nombreuses, les actions \\nconcrètes aussi !\\nPour réaliser notre ambition, « Bâtir le \\nGroupe mutualiste champion de l’accom-\\npagnement des clients », nous devons aller \\nencore plus loin, ensemble')]"
            ]
          },
          "metadata": {},
          "execution_count": 124
        }
      ]
    },
    {
      "cell_type": "markdown",
      "source": [
        "### 6.3 - RetrievalQA chain"
      ],
      "metadata": {
        "id": "99wHiyziWhRh"
      }
    },
    {
      "cell_type": "code",
      "source": [
        "from langchain.chat_models import ChatOpenAI\n",
        "llm = ChatOpenAI(\n",
        "    model_name=\"gpt-4o\",\n",
        "    openai_api_key= API_key_OPENAI\n",
        ")"
      ],
      "metadata": {
        "id": "dQI5vXkwUBsF"
      },
      "execution_count": null,
      "outputs": []
    },
    {
      "cell_type": "code",
      "source": [
        "from langchain.chains import RetrievalQA\n",
        "qa_chain = RetrievalQA.from_chain_type(\n",
        "    llm,\n",
        "    retriever=vectordb.as_retriever()\n",
        ")"
      ],
      "metadata": {
        "id": "ctwf8YdXbVs_"
      },
      "execution_count": null,
      "outputs": []
    },
    {
      "cell_type": "code",
      "source": [
        "resultat = qa_chain({\"query\" :question})"
      ],
      "metadata": {
        "id": "kb8A2_kebcdx"
      },
      "execution_count": null,
      "outputs": []
    },
    {
      "cell_type": "code",
      "source": [
        "resultat"
      ],
      "metadata": {
        "colab": {
          "base_uri": "https://localhost:8080/"
        },
        "id": "x7Mhc2lZcNyF",
        "outputId": "e75ea2c9-b65e-4bcb-8a85-05661484ec8d"
      },
      "execution_count": null,
      "outputs": [
        {
          "output_type": "execute_result",
          "data": {
            "text/plain": [
              "{'query': \"Quelle est l'ambition de Groupama pour l'avenir ?\",\n",
              " 'result': 'L\\'ambition de Groupama pour l\\'avenir est de \"bâtir le groupe mutualiste champion de l\\'accompagnement des clients\".'}"
            ]
          },
          "metadata": {},
          "execution_count": 127
        }
      ]
    },
    {
      "cell_type": "markdown",
      "source": [
        "Mapreduce a de nombreuses limitations:\n",
        "- Perte de contexte global lors de la réduction\n",
        "- doublons et incohérences\n",
        "- Difficulté à maintenir une cohérence narrative ou logique\n",
        "- Fragmentation excessive des données\n"
      ],
      "metadata": {
        "id": "vKkziviNKA6v"
      }
    },
    {
      "cell_type": "markdown",
      "source": [
        "### 6.3 - With a Prompt"
      ],
      "metadata": {
        "id": "Qt2HMCEFeWKi"
      }
    },
    {
      "cell_type": "code",
      "source": [
        "from langchain.prompts import PromptTemplate\n",
        "\n",
        "# Build prompt\n",
        "template = \"\"\"Use the following pieces of context to answer the question at the end. If you don't know the answer, /n\n",
        "just say that you don't know, don't try to make up an answer. Use three sentences maximum. Keep the answer as concise as possible. /n\n",
        "Always say \"thanks for asking!\" at the end of the answer.\n",
        "{context}\n",
        "Question: {question}\n",
        "Helpful Answer:\"\"\"\n",
        "QA_CHAIN_PROMPT = PromptTemplate.from_template(template)\n"
      ],
      "metadata": {
        "id": "UEcI-58zeaTb"
      },
      "execution_count": null,
      "outputs": []
    },
    {
      "cell_type": "code",
      "source": [
        "# Run chain\n",
        "qa_chain = RetrievalQA.from_chain_type(\n",
        "    llm,\n",
        "    retriever=vectordb.as_retriever(),\n",
        "    return_source_documents=True,\n",
        "    chain_type_kwargs={\"prompt\": QA_CHAIN_PROMPT}\n",
        ")"
      ],
      "metadata": {
        "id": "x-KXA8qgfOsc"
      },
      "execution_count": null,
      "outputs": []
    },
    {
      "cell_type": "code",
      "source": [
        "question = \"Quelle est l'ambition de Groupama pour l'avenir ?\""
      ],
      "metadata": {
        "id": "nURFotHhfgbN"
      },
      "execution_count": null,
      "outputs": []
    },
    {
      "cell_type": "code",
      "source": [
        "result = qa_chain({\"query\": question})"
      ],
      "metadata": {
        "id": "WYyETw8tfiOO"
      },
      "execution_count": null,
      "outputs": []
    },
    {
      "cell_type": "code",
      "source": [
        "result[\"result\"]"
      ],
      "metadata": {
        "colab": {
          "base_uri": "https://localhost:8080/",
          "height": 53
        },
        "id": "Q9srF-sVfkpp",
        "outputId": "383e3247-eb58-482a-f993-a5bf29bf9688"
      },
      "execution_count": null,
      "outputs": [
        {
          "output_type": "execute_result",
          "data": {
            "text/plain": [
              "\"L'ambition de Groupama pour l'avenir est de bâtir un groupe mutualiste champion de l'accompagnement des clients. Merci pour votre question !\""
            ],
            "application/vnd.google.colaboratory.intrinsic+json": {
              "type": "string"
            }
          },
          "metadata": {},
          "execution_count": 132
        }
      ]
    },
    {
      "cell_type": "code",
      "source": [
        "result[\"source_documents\"][0]"
      ],
      "metadata": {
        "colab": {
          "base_uri": "https://localhost:8080/"
        },
        "id": "OsnKn8SDfrZZ",
        "outputId": "20524411-fc78-410c-8fcc-44b0946dce32"
      },
      "execution_count": null,
      "outputs": [
        {
          "output_type": "execute_result",
          "data": {
            "text/plain": [
              "Document(metadata={}, page_content='.\\nGroupama, c’est aussi des filiales en France \\net à l’international qui nous aident à être \\nmeilleurs, à capter de la croissance, à diver-\\nsifier les risques, à gagner en efficacité, à \\nproposer des services innovants qui intè-\\ngrent nos offres d’assurance')"
            ]
          },
          "metadata": {},
          "execution_count": 133
        }
      ]
    },
    {
      "cell_type": "markdown",
      "source": [
        "### 6.4 - RetrievalQA chain types"
      ],
      "metadata": {
        "id": "q82c2JA8105F"
      }
    },
    {
      "cell_type": "markdown",
      "source": [
        "Before stuff method. If many doc will not fit in the context method use : Map reduce, refine or"
      ],
      "metadata": {
        "id": "Krwd1BYR8Cp7"
      }
    },
    {
      "cell_type": "code",
      "source": [
        "qa_chain_mr = RetrievalQA.from_chain_type(\n",
        "    llm,\n",
        "    retriever=vectordb.as_retriever(),\n",
        "    chain_type=\"map_reduce\"\n",
        ")"
      ],
      "metadata": {
        "id": "bPXJAQeO2FNQ"
      },
      "execution_count": null,
      "outputs": []
    },
    {
      "cell_type": "code",
      "source": [
        "result = qa_chain_mr({\"query\": question})"
      ],
      "metadata": {
        "id": "st2EnNYcJ15g"
      },
      "execution_count": null,
      "outputs": []
    },
    {
      "cell_type": "code",
      "source": [
        "result[\"result\"]"
      ],
      "metadata": {
        "colab": {
          "base_uri": "https://localhost:8080/",
          "height": 36
        },
        "id": "bgpqaxcuJ3SR",
        "outputId": "e849578a-51e4-4eb6-8283-cbdc99b083d8"
      },
      "execution_count": null,
      "outputs": [
        {
          "output_type": "execute_result",
          "data": {
            "text/plain": [
              "'L\\'ambition de Groupama pour l\\'avenir est de \"bâtir le Groupe mutualiste champion de l’accompagnement des clients.\"'"
            ],
            "application/vnd.google.colaboratory.intrinsic+json": {
              "type": "string"
            }
          },
          "metadata": {},
          "execution_count": 138
        }
      ]
    },
    {
      "cell_type": "markdown",
      "source": [
        "Mapreduce can handles many documents, bu with cost of limitations :\n",
        "- Perte de contexte global\n",
        "- Difficulté à maintenir une cohérence narrative\n",
        "- Fragmentation excessive des données\n",
        "- si informations dans plusieurs doc pas sur de les avoir a la fin dans la fenetre de context"
      ],
      "metadata": {
        "id": "yWWwnIqRLAuX"
      }
    },
    {
      "cell_type": "markdown",
      "source": [
        "Go to https://www.langchain.com/langsmith the LangChain webUI"
      ],
      "metadata": {
        "id": "hjbGh99MMeh6"
      }
    },
    {
      "cell_type": "markdown",
      "source": [
        "### 6.5 - RetrievalQA limitations"
      ],
      "metadata": {
        "id": "c0UI_qzD2Afi"
      }
    },
    {
      "cell_type": "markdown",
      "source": [
        "\n",
        "Testing Refine chain offers to combine informations sequentially. It s carrying more information than the map_reduce"
      ],
      "metadata": {
        "id": "UrxmHDhVMxMV"
      }
    },
    {
      "cell_type": "code",
      "source": [
        "qa_chain_mr = RetrievalQA.from_chain_type(\n",
        "    llm,\n",
        "    retriever=vectordb.as_retriever(),\n",
        "    chain_type=\"refine\"\n",
        ")"
      ],
      "metadata": {
        "id": "xapNCiHw16m5"
      },
      "execution_count": null,
      "outputs": []
    },
    {
      "cell_type": "code",
      "source": [
        "result = qa_chain_mr({\"query\": question})"
      ],
      "metadata": {
        "id": "chMyjeidNOqZ"
      },
      "execution_count": null,
      "outputs": []
    },
    {
      "cell_type": "code",
      "source": [
        "result[\"result\"]"
      ],
      "metadata": {
        "colab": {
          "base_uri": "https://localhost:8080/",
          "height": 102
        },
        "id": "IReHhXMgNP-E",
        "outputId": "8fe0b310-9617-4e65-c1d3-a48acc06550a"
      },
      "execution_count": null,
      "outputs": [
        {
          "output_type": "execute_result",
          "data": {
            "text/plain": [
              "\"L'ambition de Groupama pour l'avenir est de bâtir le groupe mutualiste champion de l'accompagnement des clients. Pour réaliser cette ambition, Groupama vise à être meilleurs, à capter de la croissance, à diversifier les risques, à gagner en efficacité, et à proposer des services innovants qui intègrent leurs offres d’assurance, en s'appuyant sur leurs filiales en France et à l'international. Les initiatives ont été nombreuses et les actions concrètes aussi, mais pour atteindre cet objectif, il est essentiel que Groupama aille encore plus loin en multipliant les efforts et en travaillant ensemble.\""
            ],
            "application/vnd.google.colaboratory.intrinsic+json": {
              "type": "string"
            }
          },
          "metadata": {},
          "execution_count": 142
        }
      ]
    },
    {
      "cell_type": "markdown",
      "source": [
        "Important : QA fails to preserve conversational history and dont have memory\n"
      ],
      "metadata": {
        "id": "-9KNzo61OcQ6"
      }
    },
    {
      "cell_type": "markdown",
      "source": [
        "## 7  - Chat (with history)"
      ],
      "metadata": {
        "id": "OQm0SQGQQEWz"
      }
    },
    {
      "cell_type": "markdown",
      "source": [
        "### 7.1 - memory"
      ],
      "metadata": {
        "id": "Z3I17wYiUopF"
      }
    },
    {
      "cell_type": "code",
      "source": [
        "from langchain.memory import ConversationBufferMemory\n",
        "memory = ConversationBufferMemory(\n",
        "    memory_key =\"chat_history\",\n",
        "    return_messages = True\n",
        ")"
      ],
      "metadata": {
        "colab": {
          "base_uri": "https://localhost:8080/"
        },
        "id": "rvu0jFg_THNv",
        "outputId": "289caf84-2caf-4b9b-ea83-6c82cf90528e"
      },
      "execution_count": null,
      "outputs": [
        {
          "output_type": "stream",
          "name": "stderr",
          "text": [
            "<ipython-input-144-bfd9a5c69cc2>:2: LangChainDeprecationWarning: Please see the migration guide at: https://python.langchain.com/docs/versions/migrating_memory/\n",
            "  memory = ConversationBufferMemory(\n"
          ]
        }
      ]
    },
    {
      "cell_type": "markdown",
      "source": [
        "### 7.2 - ConversationalRetrievalChain"
      ],
      "metadata": {
        "id": "ZhY1hf0YUqyh"
      }
    },
    {
      "cell_type": "code",
      "source": [
        "from langchain.chains import ConversationalRetrievalChain\n",
        "retriever=vectordb.as_retriever()\n",
        "qa = ConversationalRetrievalChain.from_llm(\n",
        "    llm,\n",
        "    retriever=retriever,\n",
        "    memory=memory\n",
        ")"
      ],
      "metadata": {
        "id": "OG5MCk6AUh1r"
      },
      "execution_count": null,
      "outputs": []
    },
    {
      "cell_type": "markdown",
      "source": [
        "Here bellow we , do not just add a memory, but we add a step that take a history and a new question and combine it into an stand-alone question to pass into a vector store"
      ],
      "metadata": {
        "id": "0YczmPx0WGZl"
      }
    },
    {
      "cell_type": "code",
      "source": [
        "question = \"c est quoi Groupama ?\"\n",
        "result = qa({\"question\": question})\n",
        "result['answer']"
      ],
      "metadata": {
        "colab": {
          "base_uri": "https://localhost:8080/",
          "height": 69
        },
        "id": "c_HbM8MiVCQU",
        "outputId": "29cff384-e96d-4b76-a5d9-3a7aec096c58"
      },
      "execution_count": null,
      "outputs": [
        {
          "output_type": "execute_result",
          "data": {
            "text/plain": [
              "\"Groupama est une entreprise qui possède des filiales en France et à l'international. Ces filiales aident Groupama à améliorer ses performances, à capter de la croissance, à diversifier les risques, à gagner en efficacité, et à proposer des services innovants intégrés à ses offres d'assurance.\""
            ],
            "application/vnd.google.colaboratory.intrinsic+json": {
              "type": "string"
            }
          },
          "metadata": {},
          "execution_count": 149
        }
      ]
    },
    {
      "cell_type": "markdown",
      "source": [
        "### 7.3 - Create a chatbot\n"
      ],
      "metadata": {
        "id": "E4O6Fu__Qp0-"
      }
    }
  ]
}