{
  "nbformat": 4,
  "nbformat_minor": 0,
  "metadata": {
    "colab": {
      "provenance": [],
      "collapsed_sections": [
        "-529YcTkqlOz",
        "0ZAd5RprAd7U",
        "q5Z8HBOt-u3t"
      ]
    },
    "kernelspec": {
      "name": "python3",
      "display_name": "Python 3"
    },
    "language_info": {
      "name": "python"
    }
  },
  "cells": [
    {
      "cell_type": "markdown",
      "source": [
        "# 0 - Input API Keys"
      ],
      "metadata": {
        "id": "-529YcTkqlOz"
      }
    },
    {
      "cell_type": "code",
      "source": [
        "# OpenAI plateform connect\n",
        "import getpass\n",
        "API_key_OPENAI = getpass.getpass(\"Enter your API OpenAI Plateform key : \")"
      ],
      "metadata": {
        "colab": {
          "base_uri": "https://localhost:8080/"
        },
        "id": "2Q50zhupqLps",
        "outputId": "1e6cb78b-2f4a-4cc8-9ae1-19388064df1b"
      },
      "execution_count": null,
      "outputs": [
        {
          "name": "stdout",
          "output_type": "stream",
          "text": [
            "Enter your API OpenAI Plateform key : ··········\n"
          ]
        }
      ]
    },
    {
      "cell_type": "code",
      "source": [
        "# OpenAI Azure portal\n",
        "import getpass\n",
        "API_key = getpass.getpass(\"Enter your API OpenAI key : \")"
      ],
      "metadata": {
        "colab": {
          "base_uri": "https://localhost:8080/"
        },
        "id": "PLHj8-HHByU_",
        "outputId": "59860a6f-be6f-429c-a638-f4b68c0cd23c"
      },
      "execution_count": null,
      "outputs": [
        {
          "name": "stdout",
          "output_type": "stream",
          "text": [
            "Enter your API OpenAI key : ··········\n"
          ]
        }
      ]
    },
    {
      "cell_type": "code",
      "source": [
        "OPENAI_ENDPOINT = getpass.getpass(\"Enter your ENDPOINT : \")"
      ],
      "metadata": {
        "colab": {
          "base_uri": "https://localhost:8080/"
        },
        "id": "C8HbRhfCP7QL",
        "outputId": "43aa8516-0de6-4f02-d0e7-6cb5cc4b74ec"
      },
      "execution_count": null,
      "outputs": [
        {
          "name": "stdout",
          "output_type": "stream",
          "text": [
            "Enter your ENDPOINT : ··········\n"
          ]
        }
      ]
    },
    {
      "cell_type": "markdown",
      "source": [
        "# 1 - OpenAI Azure model deployement"
      ],
      "metadata": {
        "id": "0ZAd5RprAd7U"
      }
    },
    {
      "cell_type": "code",
      "source": [
        "!pip install openai\n",
        "!pip install langchain\n",
        "!pip install python-dotenv\n",
        "!pip install langchain-community langchain-core\n",
        "!pip install -qU langchain-openai\n",
        "!pip install --upgrade langchain"
      ],
      "metadata": {
        "id": "SW8AlP2tDLZy"
      },
      "execution_count": null,
      "outputs": []
    },
    {
      "cell_type": "code",
      "source": [
        "import os\n",
        "import openai\n",
        "from openai import AzureOpenAI\n",
        "os.environ['OPENAI_API_KEY'] = API_key\n",
        "os.environ['OPENAI_API_TYPE'] = 'azure'\n",
        "os.environ['OPENAI_API_VERSION'] = '2024-08-01-preview'\n",
        "os.environ['AZ_OPENAI_ENDPOINT'] = OPENAI_ENDPOINT\n",
        "os.environ['AZ_OPENAI_API_KEY']= API_key"
      ],
      "metadata": {
        "id": "TY7YBKaMtknJ"
      },
      "execution_count": null,
      "outputs": []
    },
    {
      "cell_type": "code",
      "source": [
        "from langchain_openai import AzureChatOpenAI\n",
        "\n",
        "llm = AzureChatOpenAI(\n",
        "    azure_endpoint=os.getenv(\"AZ_OPENAI_ENDPOINT\"),\n",
        "    openai_api_version=\"2024-02-15-preview\",\n",
        "    model_name=\"gpt-4o\",\n",
        "    openai_api_key=os.getenv(\"AZ_OPENAI_API_KEY\"),\n",
        "    openai_api_type=\"azure\",\n",
        "    temperature=0,\n",
        "    deployment_name=\"gpt-4o-deploy\",\n",
        "    #streaming=True,\n",
        ")\n"
      ],
      "metadata": {
        "id": "YyiJbZ6MuOtR"
      },
      "execution_count": null,
      "outputs": []
    },
    {
      "cell_type": "code",
      "source": [
        "prompt = \"Tell me something funny\"\n",
        "\n",
        "for chunk in llm.stream(prompt):\n",
        "    print(chunk.content, end=\"\", flush=True)"
      ],
      "metadata": {
        "colab": {
          "base_uri": "https://localhost:8080/"
        },
        "id": "YyXLHltHP2Ai",
        "outputId": "47e982df-3e5e-4bd9-e8f0-8867b286298f"
      },
      "execution_count": null,
      "outputs": [
        {
          "output_type": "stream",
          "name": "stdout",
          "text": [
            "Sure, here's a joke for you:\n",
            "\n",
            "Why don't scientists trust atoms?\n",
            "\n",
            "Because they make up everything!"
          ]
        }
      ]
    },
    {
      "cell_type": "markdown",
      "source": [
        "# 2 - LangChain RAG"
      ],
      "metadata": {
        "id": "sKFbbkYgB0ed"
      }
    },
    {
      "cell_type": "code",
      "execution_count": null,
      "metadata": {
        "id": "u9de1pKVBrST",
        "colab": {
          "base_uri": "https://localhost:8080/",
          "height": 505
        },
        "outputId": "5727c6bd-a52e-4f59-a46c-6cc41bb7e888"
      },
      "outputs": [
        {
          "output_type": "stream",
          "name": "stdout",
          "text": [
            "Drive already mounted at /content/drive; to attempt to forcibly remount, call drive.mount(\"/content/drive\", force_remount=True).\n"
          ]
        },
        {
          "output_type": "display_data",
          "data": {
            "text/plain": [
              "<Figure size 800x700 with 1 Axes>"
            ],
            "image/png": "[encoded data removed]"
          },
          "metadata": {}
        }
      ],
      "source": [
        "from google.colab import drive\n",
        "drive.mount('/content/drive')\n",
        "from PIL import Image\n",
        "import matplotlib.pyplot as plt\n",
        "image = Image.open(\"/content/drive/MyDrive/Image_notebooks/RAG_1.png\")\n",
        "plt.figure(figsize=(8, 7))  # Taille de l'image (largeur, hauteur) en pouces\n",
        "plt.imshow(image)\n",
        "plt.axis(\"off\")  # Masquer les axes\n",
        "plt.show()"
      ]
    },
    {
      "cell_type": "markdown",
      "source": [
        "## 1 - Document loader"
      ],
      "metadata": {
        "id": "QtPKoeGKShHY"
      }
    },
    {
      "cell_type": "markdown",
      "source": [
        "Loaders\n",
        "• Loaders deal with the specifics of accessing and converting data:\n",
        "- Accessing,\n",
        "Web Sites,\n",
        "Data Bases,\n",
        "YouTube arXiv.\n",
        "\n",
        "\n",
        "- Data Types,\n",
        "PDF,\n",
        "HTML,\n",
        "JSON,\n",
        "Word, PowerPoint...\n",
        "\n",
        "Returns a list of 'Document' objects:"
      ],
      "metadata": {
        "id": "Pa-_vg-LSyS0"
      }
    },
    {
      "cell_type": "code",
      "source": [
        "from PIL import Image\n",
        "import matplotlib.pyplot as plt\n",
        "image = Image.open(\"/content/drive/MyDrive/Image_notebooks/Ducoment_loaders.png\")\n",
        "plt.figure(figsize=(7, 6))  # Taille de l'image (largeur, hauteur) en pouces\n",
        "plt.imshow(image)\n",
        "plt.axis(\"off\")  # Masquer les axes\n",
        "plt.show()"
      ],
      "metadata": {
        "colab": {
          "base_uri": "https://localhost:8080/",
          "height": 500
        },
        "id": "kQQvhTYLRq8E",
        "outputId": "e12f689a-03ec-4f98-f0cc-e419f84840b5"
      },
      "execution_count": null,
      "outputs": [
        {
          "output_type": "display_data",
          "data": {
            "text/plain": [
              "<Figure size 700x600 with 1 Axes>"
            ],
            "image/png": "[encoded data removed]"
          },
          "metadata": {}
        }
      ]
    },
    {
      "cell_type": "code",
      "source": [
        "pip install pypdf"
      ],
      "metadata": {
        "id": "DvYnmWS9yHHE"
      },
      "execution_count": null,
      "outputs": []
    },
    {
      "cell_type": "code",
      "source": [
        "pip install -U langchain-community"
      ],
      "metadata": {
        "id": "pEMTYnvfUaGa"
      },
      "execution_count": null,
      "outputs": []
    },
    {
      "cell_type": "code",
      "source": [
        "from langchain.document_loaders import PyPDFLoader"
      ],
      "metadata": {
        "id": "os5qozIlUBol"
      },
      "execution_count": null,
      "outputs": []
    },
    {
      "cell_type": "markdown",
      "source": [
        "Inject Groupama rapport 2023"
      ],
      "metadata": {
        "id": "8-aCbD36OEEj"
      }
    },
    {
      "cell_type": "code",
      "source": [
        "loader = PyPDFLoader(\"/content/drive/MyDrive/Data/Groupama23.pdf\")\n",
        "pages = loader.load()"
      ],
      "metadata": {
        "id": "h9e55c8OcYAW"
      },
      "execution_count": null,
      "outputs": []
    },
    {
      "cell_type": "code",
      "source": [
        "len(pages)"
      ],
      "metadata": {
        "colab": {
          "base_uri": "https://localhost:8080/"
        },
        "id": "yBAcIDiterHD",
        "outputId": "5ae1c145-ab0e-462f-c573-5a86cfbda78e"
      },
      "execution_count": null,
      "outputs": [
        {
          "output_type": "execute_result",
          "data": {
            "text/plain": [
              "16"
            ]
          },
          "metadata": {},
          "execution_count": 14
        }
      ]
    },
    {
      "cell_type": "code",
      "source": [
        "pages[1].metadata"
      ],
      "metadata": {
        "colab": {
          "base_uri": "https://localhost:8080/"
        },
        "id": "6KpJE1u5e53B",
        "outputId": "e4829eeb-ce67-4d21-f0da-cf5303e60905"
      },
      "execution_count": null,
      "outputs": [
        {
          "output_type": "execute_result",
          "data": {
            "text/plain": [
              "{'source': '/content/drive/MyDrive/Data/Groupama23.pdf', 'page': 1}"
            ]
          },
          "metadata": {},
          "execution_count": 15
        }
      ]
    },
    {
      "cell_type": "code",
      "source": [
        "type(pages[1])"
      ],
      "metadata": {
        "colab": {
          "base_uri": "https://localhost:8080/",
          "height": 185
        },
        "id": "CzPqSNm50i_p",
        "outputId": "8f637abe-10ed-4f4c-8a09-3f704114322f"
      },
      "execution_count": null,
      "outputs": [
        {
          "output_type": "execute_result",
          "data": {
            "text/plain": [
              "langchain_core.documents.base.Document"
            ],
            "text/html": [
              "<div style=\"max-width:800px; border: 1px solid var(--colab-border-color);\"><style>\n",
              "      pre.function-repr-contents {\n",
              "        overflow-x: auto;\n",
              "        padding: 8px 12px;\n",
              "        max-height: 500px;\n",
              "      }\n",
              "\n",
              "      pre.function-repr-contents.function-repr-contents-collapsed {\n",
              "        cursor: pointer;\n",
              "        max-height: 100px;\n",
              "      }\n",
              "    </style>\n",
              "    <pre style=\"white-space: initial; background:\n",
              "         var(--colab-secondary-surface-color); padding: 8px 12px;\n",
              "         border-bottom: 1px solid var(--colab-border-color);\"><b>langchain_core.documents.base.Document</b><br/>def __init__(page_content: str, **kwargs: Any) -&gt; None</pre><pre class=\"function-repr-contents function-repr-contents-collapsed\" style=\"\"><a class=\"filepath\" style=\"display:none\" href=\"#\">/usr/local/lib/python3.10/dist-packages/langchain_core/documents/base.py</a>Class for storing a piece of text and associated metadata.\n",
              "\n",
              "Example:\n",
              "\n",
              "    .. code-block:: python\n",
              "\n",
              "        from langchain_core.documents import Document\n",
              "\n",
              "        document = Document(\n",
              "            page_content=&quot;Hello, world!&quot;,\n",
              "            metadata={&quot;source&quot;: &quot;https://example.com&quot;}\n",
              "        )</pre>\n",
              "      <script>\n",
              "      if (google.colab.kernel.accessAllowed && google.colab.files && google.colab.files.view) {\n",
              "        for (const element of document.querySelectorAll('.filepath')) {\n",
              "          element.style.display = 'block'\n",
              "          element.onclick = (event) => {\n",
              "            event.preventDefault();\n",
              "            event.stopPropagation();\n",
              "            google.colab.files.view(element.textContent, 262);\n",
              "          };\n",
              "        }\n",
              "      }\n",
              "      for (const element of document.querySelectorAll('.function-repr-contents')) {\n",
              "        element.onclick = (event) => {\n",
              "          event.preventDefault();\n",
              "          event.stopPropagation();\n",
              "          element.classList.toggle('function-repr-contents-collapsed');\n",
              "        };\n",
              "      }\n",
              "      </script>\n",
              "      </div>"
            ]
          },
          "metadata": {},
          "execution_count": 16
        }
      ]
    },
    {
      "cell_type": "code",
      "source": [
        "pages[1]"
      ],
      "metadata": {
        "colab": {
          "base_uri": "https://localhost:8080/"
        },
        "id": "pxDKM-eLjZd_",
        "outputId": "3a3aa8ad-88a6-4d1b-e407-a0f2487ac722"
      },
      "execution_count": null,
      "outputs": [
        {
          "output_type": "execute_result",
          "data": {
            "text/plain": [
              "Document(metadata={'source': '/content/drive/MyDrive/Data/Groupama23.pdf', 'page': 1}, page_content='On ne peut pas prévoir de quoi demain sera fait.  \\nPourtant, le groupe Groupama a toujours été tourné  \\nvers l’avenir en cherchant à comprendre et à s’adapter  \\naux mutations de la société.\\nCar, dès aujourd’hui, on peut tenter de mettre en place  \\ndes solutions pour l’avenir. Notre culture de l’innovation,  \\nnotre capacité d’écoute et d’analyse nous positionnent \\ncomme un Groupe qui invente et se réinvente.\\nCe rapport annuel, illustré par les enfants  \\nde nos collaborateurs, parle d’avenir… et encore plus \\ndans sa version digitale.  \\nRetrouvez notre vision du futur, et découvrez  \\nnos innovations qui façonnent le monde de demain.\\nLe monde change,  \\nse transforme, \\névolue sans cesse. \\n240429_GROUPAMA_RA_Fanzine_FR_VG.indd   2240429_GROUPAMA_RA_Fanzine_FR_VG.indd   2 29/04/2024   15:0129/04/2024   15:01')"
            ]
          },
          "metadata": {},
          "execution_count": 17
        }
      ]
    },
    {
      "cell_type": "code",
      "source": [
        "pages[2]"
      ],
      "metadata": {
        "colab": {
          "base_uri": "https://localhost:8080/"
        },
        "id": "fI7UDwLFgPOh",
        "outputId": "06cf08ce-35e3-44f7-acce-ab056676a7c0"
      },
      "execution_count": null,
      "outputs": [
        {
          "output_type": "execute_result",
          "data": {
            "text/plain": [
              "Document(metadata={'source': '/content/drive/MyDrive/Data/Groupama23.pdf', 'page': 2}, page_content='Si l’on parlait d’avenir ?\\nCOMMENT LE GROUPE GROUPAMA \\nCOMPTE-T-IL ATTEINDRE SON \\nAMBITION D’ÊTRE LE CHAMPION DE \\nL ’ACCOMPAGNEMENT DE SES CLIENTS ? \\nFRANÇOIS SCHMITT \\nPrésident de Groupama \\nAssurances Mutuelles\\nNous sommes dans un monde qui s’accé-\\nlère, avec des impacts qui nous sollicitent \\nde plus en plus souvent et de plus en plus \\nfortement, qu’ils soient climatiques, éco-\\nnomiques ou sociétaux. Le coût de la sinis tra    -\\nlité s’accroît et donc, assez mécaniquement, \\nle coût de l’assurance augmente. Si nous \\nvoulons que nos assurés sociétaires conti-\\nnuent à nous faire confiance, il faut impéra ti-\\nvement maximiser notre qualité de service. \\nAgir en ce sens est essentiel aujour d’hui, ce \\nsera vital demain pour conserver la confiance \\nde nos clients.\\nNotre ambition, c’est d’être le Groupe \\nmutualiste champion de l’accompagne -\\nment de ses clients. Notre plus grande \\nfierté est notre capacité à être là et à res-\\npecter la promesse que nous avons faite. \\nEn 2023, les élus et les collaborateurs dans \\ntoutes les structures, en France comme à \\nl’étranger, ont contribué à la réalisation de \\ncette promesse. Ils ont accompagné nos \\nsociétaires dans les moments difficiles en \\nallant à leur rencontre et en facilitant leurs \\ndémarches pour accélérer les procédures \\nd’indemnisation et répondre le plus rapi-\\ndement possible à leurs besoins. Leur mobi-\\nlisation a été remarquable, notamment au \\ncours du second semestre, qui a été marqué \\npar des intempéries de forte ampleur : les \\ntempêtes Ciaran et Domingos, et de forts \\névénements pluvieux dans les Hauts-de-\\nFrance à l’origine de crues dévastatrices. Et \\nc’est cette synergie entre l’engagement des \\néquipes, des pôles de sinistres aux conseil-\\nlers commerciaux, et de notre réseau d’élus \\nqui fait la spécificité de la réponse apportée \\npar Groupama.\\nNous mettre en mouvement pour honorer \\nencore davantage cet engagement collectif, \\nc’est le chantier qui nous attend. Car on ne \\nnaît pas champion, on le devient ! Par notre \\ntravail de tous les jours, par notre capacité \\nde résilience renouvelée, nous allons encore \\nprogresser. Le travail et l’engagement, à \\nchaque instant, tout le temps ! Avec en ligne \\nde mire le plaisir d’avoir un sociétaire ras-\\nsuré et pleinement satisfait. C’est cette \\nambition, que nous nous sommes fixée et \\nque nous allons atteindre, tous ensemble.\\n240429_GROUPAMA_RA_Fanzine_FR_VG.indd   3240429_GROUPAMA_RA_Fanzine_FR_VG.indd   3 29/04/2024   15:0129/04/2024   15:01')"
            ]
          },
          "metadata": {},
          "execution_count": 18
        }
      ]
    },
    {
      "cell_type": "code",
      "source": [
        "from google.colab import drive\n",
        "drive.mount('/content/drive')\n",
        "from PIL import Image\n",
        "import matplotlib.pyplot as plt\n",
        "image = Image.open(\"/content/drive/MyDrive/Image_notebooks/Document_splitting.png\")\n",
        "plt.figure(figsize=(6, 5))  # Taille de l'image (largeur, hauteur) en pouces\n",
        "plt.imshow(image)\n",
        "plt.axis(\"off\")  # Masquer les axes\n",
        "plt.show()"
      ],
      "metadata": {
        "colab": {
          "base_uri": "https://localhost:8080/",
          "height": 440
        },
        "id": "ISxRLNZR_ohn",
        "outputId": "db3a9890-3c91-48f2-aae6-6fecc3a27d59"
      },
      "execution_count": null,
      "outputs": [
        {
          "output_type": "stream",
          "name": "stdout",
          "text": [
            "Drive already mounted at /content/drive; to attempt to forcibly remount, call drive.mount(\"/content/drive\", force_remount=True).\n"
          ]
        },
        {
          "output_type": "display_data",
          "data": {
            "text/plain": [
              "<Figure size 600x500 with 1 Axes>"
            ],
            "image/png": "[encoded data removed]"
          },
          "metadata": {}
        }
      ]
    },
    {
      "cell_type": "markdown",
      "source": [
        "## 2 - Parsing"
      ],
      "metadata": {
        "id": "q_WluN2SDeJe"
      }
    },
    {
      "cell_type": "markdown",
      "source": [
        "### 2.2 - Recursive splitting"
      ],
      "metadata": {
        "id": "nuJZuUT15NOD"
      }
    },
    {
      "cell_type": "code",
      "source": [
        "from langchain.text_splitter import RecursiveCharacterTextSplitter, CharacterTextSplitter"
      ],
      "metadata": {
        "id": "OdX43Xu3H8Oz"
      },
      "execution_count": null,
      "outputs": []
    },
    {
      "cell_type": "markdown",
      "source": [
        "LangChain Splitters:\n",
        "- CharacterTextSplitter :  divise le texte en morceaux de taille définie. Ne prend pas en considération la structure du text. Pourrait couper en plein milieu de phrases ou de blocs logiques.\n",
        "\n",
        "- RecursiveCharacterTextSplitter: divise le texte de manière hiérarchique en utilisant plusieurs séparateurs. divise par paragraphe (\\n\\n), puis par phrase (.), et finalement par mot ( ) pour s'assurer que les morceaux soient cohérents et ne dépassent pas 50 caractères.\n",
        "\n",
        "\n",
        "\n"
      ],
      "metadata": {
        "id": "4rMyiOiRKJKF"
      }
    },
    {
      "cell_type": "code",
      "source": [
        "chunk_size =26\n",
        "chunk_overlap = 4"
      ],
      "metadata": {
        "id": "w8Q2Vj-kIcsE"
      },
      "execution_count": null,
      "outputs": []
    },
    {
      "cell_type": "code",
      "source": [
        "# implementation Option 1:\n",
        "c_splitter = CharacterTextSplitter(\n",
        "    chunk_size=chunk_size,\n",
        "    chunk_overlap=chunk_overlap)"
      ],
      "metadata": {
        "id": "aEaoyCQ5IEbx"
      },
      "execution_count": null,
      "outputs": []
    },
    {
      "cell_type": "code",
      "source": [
        "# implementation Option 2:\n",
        "splitter = RecursiveCharacterTextSplitter(\n",
        "    separators=[\"\\n\\n\", \".\"],  # Diviser par paragraphe, puis phrase, puis mot\n",
        "    chunk_size=50,                  # Taille maximale de chaque morceau\n",
        "    chunk_overlap=15)                 # Chevauchement optionnel pour la cohérence des morceaux"
      ],
      "metadata": {
        "id": "OtxQXxD00RYG"
      },
      "execution_count": null,
      "outputs": []
    },
    {
      "cell_type": "code",
      "source": [
        "chunks = splitter.split_text(pages[4].page_content)"
      ],
      "metadata": {
        "id": "SAgOb6m-1EeK"
      },
      "execution_count": null,
      "outputs": []
    },
    {
      "cell_type": "code",
      "source": [
        "# Liste tous les attributs et méthodes de l'objet\n",
        "print(dir(pages[1]))"
      ],
      "metadata": {
        "colab": {
          "base_uri": "https://localhost:8080/"
        },
        "id": "GDsND-ed2rxO",
        "outputId": "98a21d8d-e0a8-478c-9ac2-f8e898b0a205"
      },
      "execution_count": null,
      "outputs": [
        {
          "output_type": "stream",
          "name": "stdout",
          "text": [
            "['__abstractmethods__', '__annotations__', '__class__', '__class_getitem__', '__class_vars__', '__copy__', '__deepcopy__', '__delattr__', '__dict__', '__dir__', '__doc__', '__eq__', '__fields__', '__fields_set__', '__format__', '__ge__', '__get_pydantic_core_schema__', '__get_pydantic_json_schema__', '__getattr__', '__getattribute__', '__getstate__', '__gt__', '__hash__', '__init__', '__init_subclass__', '__iter__', '__le__', '__lt__', '__module__', '__ne__', '__new__', '__pretty__', '__private_attributes__', '__pydantic_complete__', '__pydantic_core_schema__', '__pydantic_custom_init__', '__pydantic_decorators__', '__pydantic_extra__', '__pydantic_fields_set__', '__pydantic_generic_metadata__', '__pydantic_init_subclass__', '__pydantic_parent_namespace__', '__pydantic_post_init__', '__pydantic_private__', '__pydantic_root_model__', '__pydantic_serializer__', '__pydantic_validator__', '__reduce__', '__reduce_ex__', '__repr__', '__repr_args__', '__repr_name__', '__repr_str__', '__rich_repr__', '__setattr__', '__setstate__', '__signature__', '__sizeof__', '__slots__', '__str__', '__subclasshook__', '__weakref__', '_abc_impl', '_calculate_keys', '_check_frozen', '_copy_and_set_values', '_get_value', '_iter', 'cast_id_to_str', 'construct', 'copy', 'dict', 'from_orm', 'get_lc_namespace', 'id', 'is_lc_serializable', 'json', 'lc_attributes', 'lc_id', 'lc_secrets', 'metadata', 'model_computed_fields', 'model_config', 'model_construct', 'model_copy', 'model_dump', 'model_dump_json', 'model_extra', 'model_fields', 'model_fields_set', 'model_json_schema', 'model_parametrized_name', 'model_post_init', 'model_rebuild', 'model_validate', 'model_validate_json', 'model_validate_strings', 'page_content', 'parse_file', 'parse_obj', 'parse_raw', 'schema', 'schema_json', 'to_json', 'to_json_not_implemented', 'type', 'update_forward_refs', 'validate']\n"
          ]
        }
      ]
    },
    {
      "cell_type": "code",
      "source": [
        "print(pages[1].__dict__)"
      ],
      "metadata": {
        "colab": {
          "base_uri": "https://localhost:8080/"
        },
        "id": "00B4oklu3INW",
        "outputId": "c6332798-e5d0-424e-9f8a-c8d8a2017e15"
      },
      "execution_count": null,
      "outputs": [
        {
          "output_type": "stream",
          "name": "stdout",
          "text": [
            "{'id': None, 'metadata': {'source': '/content/drive/MyDrive/Data/Groupama23.pdf', 'page': 1}, 'page_content': 'On ne peut pas prévoir de quoi demain sera fait.  \\nPourtant, le groupe Groupama a toujours été tourné  \\nvers l’avenir en cherchant à comprendre et à s’adapter  \\naux mutations de la société.\\nCar, dès aujourd’hui, on peut tenter de mettre en place  \\ndes solutions pour l’avenir. Notre culture de l’innovation,  \\nnotre capacité d’écoute et d’analyse nous positionnent \\ncomme un Groupe qui invente et se réinvente.\\nCe rapport annuel, illustré par les enfants  \\nde nos collaborateurs, parle d’avenir… et encore plus \\ndans sa version digitale.  \\nRetrouvez notre vision du futur, et découvrez  \\nnos innovations qui façonnent le monde de demain.\\nLe monde change,  \\nse transforme, \\névolue sans cesse. \\n240429_GROUPAMA_RA_Fanzine_FR_VG.indd   2240429_GROUPAMA_RA_Fanzine_FR_VG.indd   2 29/04/2024   15:0129/04/2024   15:01', 'type': 'Document'}\n"
          ]
        }
      ]
    },
    {
      "cell_type": "code",
      "source": [
        "print(chunks[1])"
      ],
      "metadata": {
        "colab": {
          "base_uri": "https://localhost:8080/"
        },
        "id": "fWiTjxAQ3bUO",
        "outputId": "68dd7958-5568-4872-8993-fc565f97d2f8"
      },
      "execution_count": null,
      "outputs": [
        {
          "output_type": "stream",
          "name": "stdout",
          "text": [
            ". POUVEZ-VOUS  \n",
            "NOUS PARLER DE CETTE DÉMARCHE \n",
            "ET NOUS PRÉCISER COMMENT  \n",
            "VOUS PENSEZ RELEVER CES DÉFIS \n",
            "OLIVIER LARCHER ?\n",
            "OLIVIER LARCHER\n",
            "Directeur général  \n",
            "délégué de Groupama  \n",
            "Assurances Mutuelles \n",
            "Il est exact que notre environnement nous \n",
            "oblige à nous adapter pour préserver notre \n",
            "modèle unique sur le marché\n"
          ]
        }
      ]
    },
    {
      "cell_type": "code",
      "source": [
        "type(chunks)"
      ],
      "metadata": {
        "colab": {
          "base_uri": "https://localhost:8080/"
        },
        "id": "WTX5V96yaMpT",
        "outputId": "9a412e62-d3da-4c78-b2f3-44fd4b81030b"
      },
      "execution_count": null,
      "outputs": [
        {
          "output_type": "execute_result",
          "data": {
            "text/plain": [
              "list"
            ]
          },
          "metadata": {},
          "execution_count": 28
        }
      ]
    },
    {
      "cell_type": "code",
      "source": [
        "chunks"
      ],
      "metadata": {
        "colab": {
          "base_uri": "https://localhost:8080/"
        },
        "id": "vk8zX7J11KzD",
        "outputId": "276de32a-4cf0-482c-846a-b39f46669f39"
      },
      "execution_count": null,
      "outputs": [
        {
          "output_type": "execute_result",
          "data": {
            "text/plain": [
              "['POUR RÉPONDRE AUX DÉFIS POSÉS \\nPAR UN ENVIRONNEMENT DE PLUS EN \\nPLUS COMPLEXE, VOUS AVEZ DÉCIDÉ \\nDE REVOIR VOTRE FEUILLE DE ROUTE \\nSTRATÉGIQUE',\n",
              " '. POUVEZ-VOUS  \\nNOUS PARLER DE CETTE DÉMARCHE \\nET NOUS PRÉCISER COMMENT  \\nVOUS PENSEZ RELEVER CES DÉFIS \\nOLIVIER LARCHER ?\\nOLIVIER LARCHER\\nDirecteur général  \\ndélégué de Groupama  \\nAssurances Mutuelles \\nIl est exact que notre environnement nous \\noblige à nous adapter pour préserver notre \\nmodèle unique sur le marché',\n",
              " '. Avant d’évo-\\nquer les travaux conduits collectivement \\npour remodeler notre stratégie, je voudrais \\nrevenir sur quelques réalisations impor -\\ntantes menées à bien par nos équipes \\nen 2023',\n",
              " '. Nous avons continué, en 2023, à \\nagir pour la qualité de service, c’est un point \\nclé',\n",
              " '. Nous avons, par exemple, mis en place \\nla déclaration de sinistre en ligne, en phase \\navec les attentes de nos sociétaires, ainsi \\nque le parcours d’assistance digitalisé : \\nl’assistance intervient lors de moments de \\nvérité avec nos sociétaires et, grâce à ce \\nparcours, nous sommes encore plus là',\n",
              " '. \\nNous avons également déployé un outil \\nd’intelligence artificielle qui aide nos \\néquipes d’épargne salariale à répondre plus \\nvite et mieux à nos sociétaires',\n",
              " '. Les initia-\\ntives ont été nombreuses, les actions \\nconcrètes aussi !\\nPour réaliser notre ambition, « Bâtir le \\nGroupe mutualiste champion de l’accom-\\npagnement des clients », nous devons aller \\nencore plus loin, ensemble',\n",
              " '. Pour ce faire, \\nnous avons, dans un premier temps, posé \\ncollectivement un diagnostic, ce qui nous \\na permis d’identifier un certain nombre \\nde chantiers prioritaires en fin d’année der-\\nnière',\n",
              " '. Nous engageons en 2024 des travaux \\nd’approfondissement ou de mise en œuvre',\n",
              " '. \\nNous chiffrerons l’ensemble, déterminerons \\ndes objectifs de moyen et long terme, et \\npourrons ensuite valider notre feuille de \\nroute et tracer ainsi notre plan d’action col-\\nlectif Groupe : Construire Ensemble 2030',\n",
              " '. \\nPour construire ce projet, nous avons posé \\nquelques principes structurants',\n",
              " '. Ce projet, \\nc’est avant tout un état d’esprit',\n",
              " '. Nous \\nsommes une entreprise de service',\n",
              " '. Et ce qui \\nfait cette entreprise de service, ce sont les \\nfemmes et les hommes, élus et salariés, \\nqui agissent chaque jour pour accompagner \\nnos clients',\n",
              " '. \\nNotre deuxième principe, c’est notre diffé-\\nrence, notre ADN : les caisses locales, qui \\nse sont regroupées en caisses régionales \\net qui ont créé le Groupe que l’on connaît \\naujourd’hui',\n",
              " '. Partons de cet ancrage terri-\\ntorial et faisons-en une force',\n",
              " '. Des caisses \\nrégionales fortes pour un Groupe fort',\n",
              " '. Des \\nentités proches du terrain, qui décident \\nlocalement, qui connaissent bien nos socié-\\ntaires, qui investissent dans les territoires, \\net qui sont des entreprises de plein exercice',\n",
              " '. \\nDes fonctions à GMA solides qui apportent \\ndes solutions, de la sécurité, des expertises \\net de la performance',\n",
              " '.\\nGroupama, c’est aussi des filiales en France \\net à l’international qui nous aident à être \\nmeilleurs, à capter de la croissance, à diver-\\nsifier les risques, à gagner en efficacité, à \\nproposer des services innovants qui intè-\\ngrent nos offres d’assurance',\n",
              " '. \\nChaque personne, chaque entreprise qui \\nforme le Groupe, chaque initiative est \\nimportante et utile pour préserver notre \\nmodèle et créer la richesse nécessaire à \\nnotre croissance rentable',\n",
              " '.\\n240429_GROUPAMA_RA_Fanzine_FR_VG',\n",
              " '.indd   5240429_GROUPAMA_RA_Fanzine_FR_VG',\n",
              " '.indd   5 29/04/2024   15:0129/04/2024   15:01']"
            ]
          },
          "metadata": {},
          "execution_count": 29
        }
      ]
    },
    {
      "cell_type": "markdown",
      "source": [
        "### 2.3 - Token splitting\n",
        "Not relevant to keep the meaning"
      ],
      "metadata": {
        "id": "ONBzQHG58Kn-"
      }
    },
    {
      "cell_type": "markdown",
      "source": [
        "### 2.4 - Context aware splitting (MarkDown)"
      ],
      "metadata": {
        "id": "q5Z8HBOt-u3t"
      }
    },
    {
      "cell_type": "markdown",
      "source": [
        "Aims to keep text with common context together.\n",
        "\n",
        "For this, use `MarkdownHeaderTextSplitter` to preserve header metadata in our chunks.\n",
        "\n"
      ],
      "metadata": {
        "id": "GlyKaq4p_jK0"
      }
    },
    {
      "cell_type": "code",
      "source": [
        "from langchain.document_loaders import NotionDirectoryLoader\n",
        "from langchain.text_splitter import MarkdownHeaderTextSplitter"
      ],
      "metadata": {
        "id": "e4V1EJXdAqlI"
      },
      "execution_count": null,
      "outputs": []
    },
    {
      "cell_type": "code",
      "source": [
        "markdown_document = \"\"\"# Title\\n\\n \\\n",
        "## Chapter 1\\n\\n \\\n",
        "Hi this is Jim\\n\\n Hi this is Joe\\n\\n \\\n",
        "### Section \\n\\n \\\n",
        "Hi this is Lance \\n\\n\n",
        "## Chapter 2\\n\\n \\\n",
        "Hi this is Molly\"\"\""
      ],
      "metadata": {
        "id": "vExbq1eBAzbe"
      },
      "execution_count": null,
      "outputs": []
    },
    {
      "cell_type": "code",
      "source": [
        "headers_to_split_on = [\n",
        "    (\"#\", \"Header 1\"),\n",
        "    (\"##\", \"Header 2\"),\n",
        "    (\"###\", \"Header 3\"),\n",
        "]"
      ],
      "metadata": {
        "id": "9YBETQKHA-re"
      },
      "execution_count": null,
      "outputs": []
    },
    {
      "cell_type": "code",
      "source": [
        "markdown_splitter = MarkdownHeaderTextSplitter(\n",
        "    headers_to_split_on=headers_to_split_on)\n"
      ],
      "metadata": {
        "id": "w3pbtALcBBaz"
      },
      "execution_count": null,
      "outputs": []
    },
    {
      "cell_type": "code",
      "source": [
        "md_header_splits = markdown_splitter.split_text(markdown_document)"
      ],
      "metadata": {
        "id": "iGNLbK_7BD4d"
      },
      "execution_count": null,
      "outputs": []
    },
    {
      "cell_type": "code",
      "source": [
        "md_header_splits[1]"
      ],
      "metadata": {
        "colab": {
          "base_uri": "https://localhost:8080/"
        },
        "id": "8qfkt1ZFBR1F",
        "outputId": "4e7ebf85-5711-4118-8ccb-76f1ad3b6f39"
      },
      "execution_count": null,
      "outputs": [
        {
          "output_type": "execute_result",
          "data": {
            "text/plain": [
              "Document(metadata={'Header 1': 'Title', 'Header 2': 'Chapter 1', 'Header 3': 'Section'}, page_content='Hi this is Lance')"
            ]
          },
          "metadata": {},
          "execution_count": 64
        }
      ]
    },
    {
      "cell_type": "markdown",
      "source": [
        "Output is a combination between headers_to_split_on and headers_to_split_on."
      ],
      "metadata": {
        "id": "M6DSCbLKBeL-"
      }
    },
    {
      "cell_type": "markdown",
      "source": [
        "## 3 - Embedding - OpenAI Platform ( https://platform.openai.com/api-keys )"
      ],
      "metadata": {
        "id": "Be7AOp8TDlQz"
      }
    },
    {
      "cell_type": "markdown",
      "source": [
        "Indexation des vecteurs d embeddings, on crée une structure de données optimisée qui permet de retrouver rapidement les vecteurs les plus proches pour une requête donnée. Les techniques d'indexation incluent souvent :\n",
        "\n",
        "- Structures de données spécialisées : Par exemple, des arbres k-d (k-dimensional) ou approximate nearest neighbor (ANN).\n",
        "\n",
        "- Approximation : Des algorithmes comme FAISS (Facebook AI Similarity Search) ou ScaNN (Scalable Nearest Neighbors) sont conçus pour retrouver les vecteurs voisins de manière approximative, mais très rapide, ce qui est suffisant pour de nombreux cas d’usage de RAG.\n",
        "\n",
        "\n",
        "L index ne contient pas les documents eux-mêmes mais une structure de données optimisée qui facilite la recherche des voisins les plus proches de la requête dans l'espace des embeddings.\n",
        "\n"
      ],
      "metadata": {
        "id": "3NkHh67-Icfs"
      }
    },
    {
      "cell_type": "code",
      "source": [
        "pip install docarray tiktoken"
      ],
      "metadata": {
        "id": "z0RAXB8yI8iO"
      },
      "execution_count": null,
      "outputs": []
    },
    {
      "cell_type": "code",
      "source": [
        "import os\n",
        "from langchain.indexes import VectorstoreIndexCreator\n",
        "from langchain.embeddings import OpenAIEmbeddings\n",
        "from langchain.vectorstores import DocArrayInMemorySearch # do not require to connect to external database.\n",
        "from getpass import getpass"
      ],
      "metadata": {
        "id": "Vfxm9oRoO8nr"
      },
      "execution_count": null,
      "outputs": []
    },
    {
      "cell_type": "code",
      "source": [
        "# Créer une instance des embeddings OpenAI\n",
        "embeddings = OpenAIEmbeddings(\n",
        "    model='text-embedding-ada-002',\n",
        "    openai_api_key=API_key_OPENAI\n",
        ")\n"
      ],
      "metadata": {
        "id": "sXfCX-4oPJNt",
        "colab": {
          "base_uri": "https://localhost:8080/"
        },
        "outputId": "1de98722-9608-41bc-9b02-208f6974bab8"
      },
      "execution_count": null,
      "outputs": [
        {
          "output_type": "stream",
          "name": "stderr",
          "text": [
            "<ipython-input-31-7fce93398368>:2: LangChainDeprecationWarning: The class `OpenAIEmbeddings` was deprecated in LangChain 0.0.9 and will be removed in 1.0. An updated version of the class exists in the :class:`~langchain-openai package and should be used instead. To use it run `pip install -U :class:`~langchain-openai` and import as `from :class:`~langchain_openai import OpenAIEmbeddings``.\n",
            "  embeddings = OpenAIEmbeddings(\n"
          ]
        }
      ]
    },
    {
      "cell_type": "code",
      "source": [
        "sentence1 = \"i like dogs\"\n",
        "sentence2 = \"i like canines\"\n"
      ],
      "metadata": {
        "id": "OwNbyjiUQC5Y"
      },
      "execution_count": null,
      "outputs": []
    },
    {
      "cell_type": "code",
      "source": [
        "emb1 = embeddings.embed_query(sentence1)\n",
        "emb2 = embeddings.embed_query(sentence2)"
      ],
      "metadata": {
        "id": "taVrBHdZQEh6"
      },
      "execution_count": null,
      "outputs": []
    },
    {
      "cell_type": "code",
      "source": [
        "print(emb1)"
      ],
      "metadata": {
        "colab": {
          "base_uri": "https://localhost:8080/"
        },
        "id": "TwukWj7WQLaw",
        "outputId": "f625743d-b27e-4af5-f214-ea87d59213a7"
      },
      "execution_count": null,
      "outputs": [
        {
          "output_type": "stream",
          "name": "stdout",
          "text": [
            "[-0.027612716827229024, -0.005406332473111408, -0.025819026866054372, -0.03304431095860534, -0.027334819494202946, 0.02262322709402784, -0.010471610906397482, -0.008178972344431728, 0.0024947444009393222, -0.019616901167689244, 0.0006765810296154485, 0.02922956353901756, -0.005377911303125964, 0.000705396905735325, 0.00015088861439109007, 0.014160043049741666, 0.02983588059027699, -0.00115737198406951, 0.004247381198842901, -0.003849485517538582, -0.011671614412614524, 0.006877915685897266, 0.013010565654022064, -0.04721698739861645, -0.0023131649107706576, 0.004651593342451305, 0.016989524795371604, -0.0001927308552369904, -0.025844289921303092, -0.016320049174667832, 0.026804291608689676, 0.0029952722919294223, -0.015511626750096107, -0.02473270803977911, 0.0059715972924223055, -0.014993730392207194, 0.009764240702820634, -0.011494772094550947, -0.004411592454943388, -0.010875822584344616, -0.017027420309567224, 0.011191613568921233, 0.006953705317304695, -0.022042173098017127, -0.00266842930275808, 0.010042136173201629, 0.0045663298324949714, -0.02132216950417084, -0.022004277583821508, -0.005722122526365484, 0.0047526460291074536, -0.009498976760063997, -0.017621106764524833, -0.014778992559947997, -0.008033708379767779, 0.015296888917836909, -0.002150532944869168, 0.0026447448392164525, -0.000509606830573938, -0.0158653123175458, 0.007370548988537459, 0.005731596404914389, -0.02115795871373162, 0.019541112001943084, -0.0057694914534487385, -0.006562125166981921, 0.030416934586287702, 0.0251495512453506, 0.003153167551387095, 0.01069266403680759, 0.014766361032323637, -0.00921476506020955, -0.018934794950683655, 0.022964281133853175, 0.015498994291149206, 0.013402145804344838, 0.0011550035144322838, -0.005377911303125964, 0.004503171728711902, -0.006953705317304695, 0.022092699208514567, -0.039865384304531716, -0.0018347424259538222, -0.005823175678682902, 0.00925897587255608, 0.004203170852157642, -0.019541112001943084, 0.005504227510692102, 0.001735268447420084, -0.007976866039796889, 0.01069266403680759, 0.02915377251062632, 0.004841067653800512, 0.03387799736974833, -0.01928847958681081, 0.003037904046907589, -0.006877915685897266, 0.015018993447455914, -0.003997906898447349, -0.0227116487187209, 0.0010263189536442372, 0.0049642257466299255, -0.013364251221471758, -0.001558425780110554, -0.007591602118947566, -0.005112647360369328, 0.0010089504867454248, -0.015928469024345058, 0.017027420309567224, 0.0003927643560375578, 0.0003272378408249213, 0.03294325873761046, 0.017886369775958928, -0.048758043082013744, -0.015612678971090985, -0.018164265246339927, -0.004332644708799235, -0.021094802006932364, -0.014033726842175529, 0.0032021150701774417, 0.001924742758769291, -0.002927377481702536, 0.047368565730108766, 0.0010673716512540415, 0.00855160473765669, 0.008147393059709556, -0.010155820853143408, -0.002062111553006744, -0.00924634434493172, 0.01389477910698503, 0.024846390857075806, 0.03718748182171664, 0.010130556866572146, 0.00856423626528105, -0.03233694168635103, 0.012252669339947776, 0.005131594651805868, 0.010237926248363016, -0.017823213069159672, -0.01652215547930267, -0.01066108475208542, 0.03597484771919778, -0.01330109358334996, -0.03122535794218197, 0.02521270795214986, 0.04112854824283818, 0.03433273608951544, -0.0051947527555889364, 0.005507385159767557, 0.0057600175748998336, 0.0056431752458826, -0.015132678127397691, 0.024972707995964485, 0.0028373770324717495, -0.020741115508160126, 0.0013428988848284461, -0.013755831371794532, 0.009745292945722824, 0.008311604781471315, 0.01197477386956678, 0.015536889805344825, -0.01793689774910145, -0.001110792818501072, -0.016357944688863455, 0.009991609131381649, 0.05492227326618325, 0.021486382157255138, 0.018214793219482446, -0.006675809846923699, -0.004515803256336262, 0.01466530788000622, 0.04206328687497605, -0.021688486599244893, 0.027536925798837784, -0.030214828281652863, 0.006511599056484482, -0.004345276236423595, 0.0032242204763507066, -0.04446329388741013, 0.00037184324289056504, -0.008842132666984586, 0.016711629324990606, 0.031023253500192215, 0.020235850677895573, -0.002469481345690603, 0.0013144777148430015, 0.008387393947217473, -0.011614772072643635, -0.006530546347921022, -0.0005696069942432583, 0.008760026340442437, 0.007711602562701524, 0.004111591578389128, -0.0018379003078599122, -0.6701830980094389, -0.012410563900913543, 0.023393754935726485, 0.00041960655596612806, 0.026703239387694797, 0.03862748528411906, -0.010218978491265206, -0.00924002811545827, -0.00398527537082299, 0.009378975850648768, -0.012789512523611957, 0.0039600123155742704, 0.00429790777500161, 0.019591638112440524, 0.020854800188101905, -0.019073742685874154, 0.007458970147569247, -0.028572718514615607, -0.015107414140826432, -0.0009655292612907355, -0.022421120789393, 0.023444282908869008, 0.002404744184539171, -0.009435818190619658, 0.015410573597778688, -0.006669494083111519, 0.003146851787574915, -0.024037967501181538, -0.008469499342437082, 0.0227116487187209, -0.02589481603180053, 0.0074084435714105385, -0.003053693456438039, -0.001022371543053966, 0.046939091928235456, 0.009454765947717467, -0.0047936987267172574, 0.030290619310044103, 0.021979014528572788, 0.039334858281663526, -0.009865292923815511, -0.010465294676924032, 0.0039000118608666563, 0.01591583842804324, -0.028976931123885285, -0.007035811178185574, 0.013389514276720478, 0.020968484868043685, 0.01452636014481572, -0.014829518670445437, -0.008778974097540247, 0.008141077761558648, -0.0065873886878919105, -0.0010042135474709723, 0.005248436980823101, -0.00731370664856657, 0.022383227137842465, -0.039562227641547085, 0.017722158985519713, 0.004057907353154964, 0.013440041318540458, -0.016901105033323625, -0.006290545460413105, -0.0024821128733149627, -0.025477972826229035, 0.022130594722710187, -0.022812700939715776, -0.0021047433079849106, 0.010364242455929155, -0.020071639887456357, 0.010983191034812944, 0.014147411522117306, 0.004935804576644481, 0.00732633817619093, 0.006432651310340328, 0.01725478966945078, 0.0024521126459611554, -0.01798742385959889, -0.012410563900913543, 0.007768444902672413, 0.006840021103024187, 0.005002120329503004, -0.023810600003943062, -0.0034958001829195223, 0.024972707995964485, 0.003271588937772691, -0.0092084488307361, 0.012738986413114517, -0.0023747441900159993, -0.007383180516161819, 0.025477972826229035, 0.0410022311039495, -0.005823175678682902, -0.026172711502181527, -0.0172926851836464, 0.011898983772498081, -0.012202142298127796, 0.007623181403669735, -0.006132650433786068, -0.020955854271741865, 0.0037263271918785337, -0.0025673763832712963, 0.0020273746192091195, 0.0062052819504567714, 0.01906111022692725, -0.007907392172201641, -0.01265688101789491, 0.014450570047747021, -0.0012978986602130529, -0.019099005741122874, 0.0015915837729551334, 0.008109498476836478, -0.002963693240037888, -0.006233703120442216, -0.002058953671100654, -0.024745338636080926, 0.001689478810535827, 0.012934776488275904, 0.012745301711265427, -0.02516218184165242, -0.006328440508947455, -0.008545289439505782, 0.019667429140831763, -0.019035847171678534, -0.007781076430296773, 0.016054786163233737, -0.026071659281186647, -0.02849692934886945, 0.015536889805344825, -0.02448007562464683, -0.0073958120437861785, -0.0057852806301485525, 0.01332635663859868, -0.01057897935686581, -0.005933702243887956, 0.009056869567921243, 0.03233694168635103, 0.0158653123175458, 0.016042153704286837, -0.00926529117070699, -0.013667409747101473, 0.013402145804344838, -0.027461136633091625, -0.00022322436339543443, 0.00795791921402162, -0.010326346941733533, -0.001856847832127087, 0.005681069828755679, 0.009000027227950354, 0.005469490576894478, -0.00929055515727825, -0.014741097977074917, -0.004417908218755568, -0.00498001538899101, 0.008330551607246585, -0.002344743962662192, -0.0079326561587729, -0.0007705286566058708, 0.005437911292172308, -0.006720020659270229, -0.003246325649693336, -0.002112638129165453, -0.007547391306601036, -0.01124213967941867, -0.0018457951290404547, -0.023684282865054383, -0.004064223116967144, 0.022395857734144282, -0.009082132623169963, -0.03721274673961044, 0.008469499342437082, -0.0023352703169439225, -0.00923371281730736, -0.011178981109974331, 0.0004456592563143464, 0.0023289545531317425, -0.0119242468277468, -0.017532685139831777, -0.00865265788997411, -0.0019468480485272382, 0.007616865174196285, 0.005005278444239729, -0.011652667586839255, -0.003508431710543882, 0.032640098349335664, 0.007174758913376072, 0.03445905322840412, 0.040067492471811635, -0.012050563035312939, -0.006180018895208052, 0.0008210551163492626, 0.000634738803321463, -0.005346332018403795, -0.0030679040414307614, -0.003156325433293185, -0.004885278000485771, 0.011589509017394915, 0.01455162320006444, 0.018252686871032986, 0.013452672846164818, 0.004531592898697347, -0.018063213025345047, 0.008336867836720035, -0.016711629324990606, 0.014968466405635934, -0.04906120347028854, -0.010250557775987375, -0.01798742385959889, 0.012972671071148984, 0.019768481361826643, -0.007755813375048054, 0.001225266910711714, -0.011469509039302227, -0.018101108539540667, 0.016357944688863455, 0.04234118234535704, -0.005902123424827056, 0.01266951254551927, -0.010004240659006009, -0.003720011428066354, 0.004518961371072987, -0.006217913943742401, 0.005766333338712013, -0.022016910042768408, -0.0056431752458826, 0.022282173054202502, 0.009701082133376294, 0.026122185391684087, -0.002963693240037888, 0.003843169753726402, -0.036227478271684974, 0.003928433030852101, -0.0009347396798757234, 0.017848476124408392, -0.0031736939001919973, -0.017684265333969173, 0.030593777835673817, -0.031983255187578795, 0.02517481430059932, 0.00031894834261377643, 0.0055673856144751715, 0.015814784344403282, 0.009467397475341827, -0.015713732123408403, 0.021877962307577912, 0.020981117326990584, -0.0033536945658229345, -0.00027473767578639396, -0.004076854644591504, -0.00368211661236264, -0.021701119058191793, -0.010484242434021842, 0.004822119896702702, 0.010907401869066786, 0.0022531646888936784, -0.03794538092975855, 0.006461072480325773, 0.005460016698345573, 0.03332220642898634, 0.03463589647779024, 0.018997953520127994, 0.008520026384257062, -0.003233694122068976, -0.0212716433936734, 0.019162164310567213, 0.008128446233934288, -0.0019879007461370423, -0.015360046555958708, -0.0014731623865695377, 0.0065810729240797314, -0.011393718942233528, -0.004578961360119331, 0.0021694802363057073, -0.018909531895434935, 0.0078063394855454925, -0.002095269662266641, -0.016206364494726056, 0.008943184887979464, -0.0030094828769221447, 0.03284220651661559, -0.004673698282963299, -0.01256845939320185, 3.1776412234707804e-05, 0.03771801156987499, 0.016105312273731177, -0.015397942070154328, -0.030012723839663108, -0.013086355751090763, -0.01392004216223375, 0.0335748407067637, 0.002718955646086154, 0.011520035149799667, 0.007717918326513704, -0.009082132623169963, -0.016357944688863455, 0.011482140566926587, 0.029785354479779553, -0.019579007516138704, 0.013591620581355315, -0.014917940295138495, 0.020324272302588632, 0.008576868724227952, -0.029760091424530833, -0.0070042318934634045, 0.010446347851148763, -0.015675836609212783, -0.018960058005932375, -0.008943184887979464, -0.020917958757546245, -0.005772649102524193, -0.00862739483472539, -0.0012639512550996098, -0.017861106720710212, -0.00729475935713003, -0.02258533157983222, 0.01322530348628126, -0.015637942957662243, -0.00282790338675348, 0.020652693883467067, 0.012707407128392348, -0.005270542386996365, -0.014122148466868586, -0.014311622312556524, 0.003176851782098087, 0.09872872026654635, 0.004743172616219819, 0.018795847215493156, 0.009871609153288961, 0.02794113840810746, 0.009821083042791522, -0.024164284640070217, -0.009978977603757289, 0.008955816415603824, 0.01390741063460939, -0.016080049218482457, -0.013983200731678089, 0.008280025496749145, -0.001466846622757358, 0.0184295301204191, 0.008747394812818077, -0.00333158915964967, -0.007080021524870833, -0.007427391328508348, -0.0029289563062402635, 0.0051884369917767565, -0.017621106764524833, 0.011077928888979453, 0.03903169789338873, 0.02048848309302785, 0.004196855088345462, 0.012467406240884433, 0.007231601253346961, 0.0007946077098666124, -0.00935371279540005, -0.023722178379250003, 0.013035829640593324, -0.003060009453080854, -0.011349508129886998, -0.022143225319012007, 0.006675809846923699, -0.014437938520122663, 0.023722178379250003, 0.02254743792828168, -0.0033694839753533844, 0.030290619310044103, 0.02703166096857323, 0.005046331141849534, -0.014703202462879298, 0.0112105603946965, -0.02137269747731336, -0.024846390857075806, 0.02250954241408606, -0.005267384737920911, -0.01912426879637159, 0.03680853413034076, 0.012448459415109163, -0.02538955120153598, -0.026905345692329635, 0.0026668502453897173, 0.0049894888018786445, -0.03312010198699658, -0.019781113820773542, -0.022345331623646842, -0.006214755829005676, -0.022080066749567667, -0.03218536335485872, -0.0063631774427450796, -0.01602952310798502, -0.00010352005110570297, -0.04837909539063787, -0.02917903742852012, 0.008861079492759856, -0.0132884620557256, 0.0011360561065804266, -0.018252686871032986, -0.018303212981530422, -0.01594110148329196, -0.009018974985048164, 0.01937690121150387, 0.00932844974015133, 0.011456877511677867, 0.0008881606307226029, 0.021739014572387413, 0.027587451909335224, -0.010332663171206985, -0.002826324329385117, 0.016888472574376725, 0.0035526425228904115, -0.01840426706517038, 0.011412666699331338, -0.00466106675533894, -0.0029715880612184303, 0.0035558004047965015, -0.0007101337285944599, 0.009675819078127574, -0.009587397453434515, 0.014349517826752143, 0.0112105603946965, 0.023684282865054383, 0.003840011638989677, 0.003928433030852101, 0.01721689415525516, -0.002212111991283874, -0.005741070283463294, 0.02523797100739858, 0.009006343457423804, -0.01716636804475772, -0.002430007472618526, 0.026677976332446077, 0.015675836609212783, 0.020147430915847597, 0.013793725954667612, -0.019667429140831763, -0.00281527185912912, 0.03289273262711302, -0.03238746779684847, 0.027966401463356178, 0.0021868487032045193, 0.006922126498243796, 0.021979014528572788, -0.02718324116271063, 0.0146400448247575, -0.0014194780449200562, -0.010155820853143408, -0.00726949583622004, -0.015461099708276126, 0.04173486529409761, 0.02341901985362029, -0.01460215024188442, -0.0158653123175458, 0.013402145804344838, -0.006258966641352206, -0.016863209519128005, -0.013831621468863232, 0.0008873711602460804, 0.03347378476047865, -0.016863209519128005, -0.021549538864054394, -0.03511589639016099, 0.016117944732678077, 0.013642146691852755, 0.015410573597778688, -0.011362139657511358, -0.011418981997482248, -0.009821083042791522, -0.005889491897202697, 0.00034263263153242737, -0.014677939407630578, -0.007907392172201641, -0.035343265750044546, -0.023482176560419545, -0.018922162491736755, 0.006442124723227962, 0.0320085201054726, -0.03498957925127231, -0.003716853546160264, -0.0072821273638444, -0.0017494790324128061, 0.0016484261129260226, -0.025490603422530855, 0.005403174358374683, 0.008785290327013699, 0.01647162936880523, 0.040724335633568504, 0.01124213967941867, 0.003783169531849423, 0.019579007516138704, 0.0126379332607971, -0.006707389131645869, -0.006208440065193496, -0.007698971035077164, 0.013781094427043252, -0.011532666677424025, 0.02070322185660959, 0.004673698282963299, -0.0055989644335360704, 0.03276641548822434, 0.01850531928616526, -0.028042190629102338, 0.009877925382762411, 0.014753729504699277, -0.008160024587333916, -0.02072848491185831, -0.007143179628653902, 0.01839163460622348, 0.004897909528110131, 0.009536871342937077, 0.014715833990503658, 0.014880045712265417, 0.009606345210532325, 0.021056906492736744, -0.013465304373789178, 0.02451796927619737, -0.009050554269770333, 0.01650952488300085, -0.023747441434498723, -0.007174758913376072, 0.0008581605197841133, 0.007433707092320528, 0.0006797389115215385, -0.01736847434939256, 0.006694757138360239, -0.0012450038472477526, 0.01392004216223375, 0.02441691705520249, 0.019856902986519702, -0.01734321129414384, 0.005857912612480527, -0.00627475581805202, 0.021208486686874143, -0.01849268868986344, -0.03395378839813957, 0.009827398340942432, -0.03352431459626626, -0.020096902942705077, -0.022155857777958907, -0.03397904959074321, -0.022042173098017127, 0.004503171728711902, 0.014235833146810366, -0.02728429338370551, 0.01462741329713314, 0.011368455886984808, -0.0059652815286101255, 0.0009094764500040275, 0.018934794950683655, 0.018050580566398147, 0.007635812931294095, 0.006116860791424983, 0.02134743442206464, 0.0036758006157198244, -0.03428220997901801, 0.0238484936554936, 0.0008076340600407216, 0.009618976738156685, -0.0012686880779587445, 0.035444317971039425, -0.0028863245512620963, -0.004282118132640525, 0.021663223543996173, -0.00801476155399251, -0.005096857718008243, -0.019553744460889987, 0.025351655687340355, -0.0049768572742542845, 0.011166349582349971, -0.0145642547276888, -0.022951648674906275, -0.012101090077132918, 0.005731596404914389, -0.014943203350387214, 0.00932213351067788, -0.024353758485758152, -0.0008723711047768356, -0.021966382069625888, 0.0041779073312476515, -0.02533902509103854, 0.04062328341257363, -0.031856938048690116, 0.012233721582849966, -0.0010894770574273061, -0.01992006155596404, -0.0012386879670202551, -0.014892677239889776, -0.0011928983301359981, 0.01681268340863057, -0.03367589292775857, -0.020008481318012018, 0.006682125610735879, -0.005302121671718536, -0.005570543263550626, 0.009018974985048164, -0.009391607378273128, 0.024720075580832206, -0.026273763723176403, 0.0007831603006455483, -0.01594110148329196, 0.005469490576894478, -0.011791615322029752, -0.0006872389683599903, -0.011141086527101251, -0.019692692196080483, 0.0043515924658970445, -0.009637924495254495, 0.01860637336980522, 0.007698971035077164, 0.0041621181545478374, 0.0013215830073393625, -0.016016890649038117, 0.0016800051648175572, -0.014185306104990386, -0.0012197405591683978, -0.006025281517656469, 0.009517923585839267, 0.00248369169785269, -0.0002530270921628787, -0.001732110565513994, -0.004698961803873289, 0.027461136633091625, -0.008968448874550726, 0.03466115767039388, 0.052143318562373295, -0.0335748407067637, 0.015334783500709988, -0.011172665811823421, 0.007686339507452804, -0.03804643315075343, 0.005658964888243685, -0.0015442151951178317, -0.008576868724227952, 0.001427372749685281, 0.023494809019366448, -0.010351610928304795, 0.00040894861722158636, 0.01120424509654559, 0.01859374091085832, 0.0017415843276475814, -0.022130594722710187, 0.005220015810837656, -0.0019973746246859476, 0.03332220642898634, -0.030416934586287702, -0.03925906725327229, 0.022256909998953786, 0.006884231449709446, -0.004408434340206663, 0.006688441374548059, -0.014715833990503658, 0.014147411522117306, 0.004471592443989732, 0.02245901630358862, 0.005229489689386561, -0.024303232375260712, -0.028699035653504287, -0.04029486183169519, 0.025705342186112593, -0.011917931529595891, -0.0074210750990348975, -0.009404238905897488, -0.015637942957662243, -0.0211326956584829, 0.01457688625531316, 0.006713704895458049, -0.005753701811087654, 0.015006361919831554, 0.027637979882477744, 0.001927900640675381, -0.005677912179680225, -0.011046349604257284, -0.012031615278215129, -0.0026179027265993706, -0.017482159029334338, -0.01925058593526027, -0.01678742035338185, -0.02915377251062632, 0.0132884620557256, 0.024997971051213205, 0.014488465561942642, -0.007042126941997754, 0.01462741329713314, -0.013705305261297094, 0.00184105830618132, -0.0025894815566139258, 0.010938981153788956, 0.014981098864582834, -0.01923795347631337, -0.007578970591323206, 0.02335586128417595, 0.002423691708806346, 0.015713732123408403, -0.015701101527106586, -0.02190322536282663, 0.015044256502704634, -0.01653478793824957, -0.006170545016659147, -0.025692709727165693, -0.02058953717666781, -0.009094765082116863, 0.0335748407067637, -0.009808450583844622, 0.00919581730311174, 0.009694766835225384, 0.003852643399444672, 0.003991591134635169, -0.024997971051213205, -0.014854782657016697, -0.0029557984188573454, 0.0037484325980517985, 0.018694793131853196, -0.0004436855801230402, -0.03304431095860534, 0.0015844784804587722, -0.01397056920405373, 0.02253480546933478, -0.002917903603153631, 0.002616323669231008, -0.0014115832237395138, 0.0037421166014089836, -0.015195835765519491, -0.004831593775251607, -0.03365062800986477, -0.024164284640070217, 0.008343183134870945, -0.006877915685897266, -0.023646387350858764, 0.024972707995964485, 0.0003126325205939378, -0.016345312229916552, -0.016105312273731177, -0.0014557939196707256, 0.013073724223466403, 0.0018694793597514468, 0.004500013613975177, 0.007086337288683013, 0.005526332451204097, -0.0022736912705292158, 0.016080049218482457, -0.028850613984996606, 0.020779011022355746, -0.010938981153788956, -0.01126108743651648, -0.0016405312917454802, -0.001110792818501072, 0.006110545027612803, -0.026147448446932807, -0.0049610676318932, -0.019465322836196928, 0.027107451996964474, -0.015132678127397691, -0.02336849188047777, -0.015650573553964063, -0.009877925382762411, -0.00468633027624893, 0.031907464159187555, -0.03294325873761046, -0.02277480728816524, 0.003795801059473783, 0.020336904761535535, -0.014261096202059086, 0.01453899167244008, 0.22352910726485967, -0.012776880995987597, 0.008090550719738668, 0.01527162586258819, -0.011595825246868365, 0.013440041318540458, 0.018859005784937495, -0.02240849019309118, 0.011867404487775911, 0.02333059822892723, -0.0039600123155742704, -0.0018015844331092429, -0.02394954773913356, 0.0029494826550451655, 0.007376864752349639, 0.0016357944688863454, -0.017545317598778677, -0.003906327624678836, -0.020968484868043685, -0.01854321480036088, -0.013073724223466403, -0.0007089495519835056, -0.023052702758546234, -0.0021694802363057073, 0.013376882749096118, 0.020235850677895573, -0.03051798866992766, -0.01061687487106143, -0.004743172616219819, 0.016357944688863455, -0.014046358369799889, -0.010970559507188584, 0.02336849188047777, -0.02324217660423417, 0.008905290305106386, -0.017419000459889998, -0.005750543696350928, -0.019591638112440524, 0.010174767678918676, 0.011482140566926587, 0.006884231449709446, -0.0036189585085795706, 0.01839163460622348, -0.015221098820768211, -0.003653695442377195, 0.04221486520646836, 0.01654741853455139, -0.017911632831207648, 0.012341090033318293, 0.035696952248816784, -0.03261483715673203, -0.005804228387246362, 0.024745338636080926, 0.026829556526583476, -0.010130556866572146, -0.007534759778976676, 0.019591638112440524, -0.010755822606251929, -0.03764222054148375, 0.002305270089590115, -0.011621088302117085, 0.018101108539540667, -0.014058989897424247, 0.028749561764001726, -0.020046376832207637, 0.0006497388005830489, -0.012233721582849966, 0.014311622312556524, 0.004998962680427549, 0.0017715843221707533, 0.003846327635632492, 0.0009528976754587169, -0.0038652749270690315, -0.013642146691852755, -0.022421120789393, -0.014463202506693923, 0.01058529558633926, 0.046989618038732896, 0.008008445324519059, 0.01926321653156209, -0.009776872230444994, -0.010471610906397482, -0.008778974097540247, -0.009549502870561437, -0.020627430828218347, -0.0387032763125103, 0.002632113311592093, -0.0029005351362548187, 0.009562134398185795, -0.008507394856632702, -0.00468633027624893, -0.015157941182646411, 0.011993720695342049, -0.0049958045656908244, 0.013566357526106595, 0.0049705415104421054, 0.015082151085577712, 0.027082188941715754, 0.0031247463814016506, 0.029406404925758595, -0.024176915236372033, -0.028825350929747886, 0.02324217660423417, 0.00925897587255608, 0.00732633817619093, 0.010806348716749367, -0.016117944732678077, -0.007964234512172529, 0.002469481345690603, -0.001503951909776891, -0.007522128251352317, -0.024922181885467045, -0.0012063195028598568, 0.027334819494202946, 0.004727382973858734, 0.014690570935254938, 0.004853699181424872, -0.015587415915842265, 0.000930792327493111, 0.004806330254341617, 0.0018126371361958753, -0.029608511230393434, 0.011431613525106608, 0.0013239513605612712, -0.0016942157498102796, -0.01197477386956678, -0.019477953432498744, 0.01132424507463828, 0.012745301711265427, -0.03802116823285963, 0.024871655774969605, 0.00156711001355996, 0.00091026592048055, -0.020652693883467067, 0.006138966197598248, 0.020336904761535535, 0.012265300867572135, -0.04269486884412928, -0.0017889527890695655, 0.012997934126397704, 0.003783169531849423, 0.009650556022878854, -0.017621106764524833, -0.00368211661236264, 0.010705295564431947, -0.030012723839663108, 0.010111610040796878, 0.007875813818802011, -0.023936915280186658, -0.005614754075897155, -0.020779011022355746, 0.010414768566426593, 0.003416852436775368, -0.004841067653800512, 0.026551659193557398, -0.016850577060181105, -0.03678326921244696, 0.0038936960970544763, 0.002619481783967733, 0.014071622356371149, -0.025680079130863873, -0.004070538880779324, 0.038930645672393856, -0.00025815867936410423, -0.022863227050213215, -0.023772704489747443, -0.16006785054409614, 0.020779011022355746, 0.01322530348628126, 0.0007527654835726268, -0.01523373034839257, 0.01587794291384762, 0.04178539140459505, -0.02849692934886945, 0.01716636804475772, -0.010793717189125007, 0.030947462471800972, -0.004891593764297951, -0.03395378839813957, -0.031250620997430686, 0.0010476348311333206, -0.012252669339947776, 0.011469509039302227, 0.009145291192614303, 0.01666110321449317, 0.0034136945548692787, 0.023469545964117728, -0.01730531577994822, 0.028421140183123292, -0.022320068568398126, 0.020905326298599345, 0.028244296933737173, 0.012145299958156906, -0.000680528381998061, -0.01848005623091654, 0.0008064498252221084, -0.022939018078604455, -0.035696952248816784, 0.028825350929747886, 0.016395840203059075, 0.01472846644945056, 0.004920014934283396, 0.010162136151294316, -0.020046376832207637, -0.019023216575376714, 0.01849268868986344, 0.017810580610212772, 0.03766748173408739, 0.028016927573853618, -0.026728502442943516, 0.011741088280209772, -0.013212671958656901, 0.009031606512672524, -0.003014219816196597, -0.005671596415868045, -0.020223220081593756, 0.012183195472352526, 1.9736902600518653e-07, 0.012271616165723045, -0.0018663214778453568, 0.013692673733672734, 0.0023905335995464488, 0.0007784234195787545, 0.03228641557585359, -0.019730585847631023, -0.0074021278075983585, -0.009688450605751934, -0.02110743260323418, 0.01054108477399273, -0.0034042209091510087, -0.0002151322328034202, -0.022231646943705066, -0.0454232974374418, 0.01925058593526027, -0.02322954414528727, -0.003770537771394428, -0.0061894927737569565, -0.006751599478331128, 0.008494762397685802, -0.019856902986519702, -0.004601066766292595, 0.012410563900913543, -0.028244296933737173, 0.029709565314033393, 0.0010507927130394105, -0.018947425546985475, -0.00018829004742676467, 0.03468642258828768, -0.017785317554964052, 0.01844216071672092, -0.012896881905402826, 0.0036915902580809093, 0.003306325871570315, -0.02333059822892723, 0.0030584303957124914, 0.0006469756830190497, 0.01848005623091654, -0.029002194179134005, -0.010534769475841822, -0.006827389109738557, -0.006492651299386672, 0.02125901279737158, 0.024631653956139147, 0.013844252996487592, -0.008968448874550726, -0.003786327413755513, 0.01931374264205953, -0.01194950988299552, -0.017671632875022273, 0.022762174829218336, 0.007452654383757067, 0.02244638384464172, 0.03238746779684847, 0.01736847434939256, 0.006148439610485882, 0.009903188438011131, -0.012726354885490159, 0.02580639440710747, 0.016736892380239326, 0.009953714548508569, 0.005580017142099531, 0.009953714548508569, -0.015018993447455914, -0.01912426879637159, 0.010338979400680435, 0.009018974985048164, 0.05093068073456427, -0.010711611793905399, -0.002148953887500805, 0.014981098864582834, -0.0015852680091429537, -0.007345285467627469, -0.08958343093657713, -0.03978959700143064, 0.0002390138893412017, 0.011797930620180662, -0.043629607476267145, 0.022976911730154995, 0.011715825224961054, 0.017204263558953343, -0.0020510588499201114, 0.020804274077604466, 0.006637914798389349, -0.008526341682407972, -0.00317527295756036, -0.0008494762863347072, 0.007635812931294095, -0.010490558663495292, -0.005741070283463294, -0.010149504623669956, -0.024720075580832206, 0.02521270795214986, 0.007736865617950243, 0.0014352675708658234, 0.010856874827246807, -0.005125278887993688, -0.01453899167244008, 4.3766582408381214e-05, -0.023987441390684098, 0.020715852452911406, 0.008898975006955476, -0.016155838384228616, 0.019073742685874154, -0.02038743087203297, 0.012858986391207207, -0.011557929732672745, -0.018896899436488035, -0.01061687487106143, 0.0019579007516138704, -0.00017329000650943458, 0.026172711502181527, -0.00800213002636815, 0.0007401338395329495, 0.018783214756546256, -0.0001223687969758669, -0.023810600003943062, 0.0009228975645202273, -0.0012007931513165406, -0.004089486172215864, 0.02041269392728169, 0.023052702758546234, -0.015157941182646411, -0.017115841934260283, -0.026021131308044128, -0.05178963206360106, 0.017696895930270993, 0.034913791948171236, -0.009404238905897488, 0.02101901097854112, 0.034560105449399, -0.023734808975551823, 0.002297375501240208, -0.010029504645577269, 0.00862107860525194, -0.010452663149299673, 0.0332969452363827, 0.006814757582114197, -0.004481066322538638, -0.025705342186112593, -0.00364422156382829, 0.008103182247363028, -0.01323793501390562, 0.002785271631775313, 0.023583230644059504, -0.035444317971039425, -0.004200012737420916, -0.016307418578366015, -0.009738976716249372, -0.020197957026345036, -0.044715924439897324, 0.0028200085655729376, -0.02442954765150431, -0.021120065062181084, -0.012757934170212329, -0.0011534245734792388, -0.019553744460889987, 0.022231646943705066, 0.0211326956584829, -0.004708435216760924, 0.019465322836196928, -0.010023188416103819, -0.0030884303902356633, 0.008210551629153897, 0.02441691705520249, 0.014842150198069795, -0.018088476080593767, -0.004266328955940711, 0.0035336949986232366, -0.017684265333969173, -0.010376873983553513, 0.014955834878011574, -0.004114749227464583, -0.0064010720256181585, -0.012776880995987597, -0.022168488374260727, 0.03051798866992766, -0.014096885411619868, -0.004496855964899723, 0.03524221352904967, -0.028597981569864327, -0.00048276463064536774, -0.024328495430509432, -0.008753711042291529, -0.011583193719244007, 0.0051947527555889364, 0.006420019782715968, -0.010938981153788956, 0.005816859914870722, -0.01252424858085532, -0.03665695579884845, 0.032640098349335664, -0.013818989941238872, 0.0022768491524353058, 0.010995823493759846, -0.0017700053812177083, 0.02844640323837201, 0.006290545460413105, 0.028092716739599777, -0.008753711042291529, 0.01458951871426006, -0.023671650406107483, 0.011153718054725611, -0.031629568688806564, -0.004462119031102098, -0.004449487503477738, -0.03382747125925089, 0.004607382530104775, 0.015056888030328994, -0.015991627593789397, -0.036000108911801415, 0.0075979178827597455, 0.037162220629113, -0.010901085639593334, -0.00633159815802291, -0.0005336858256270207, -0.03721274673961044, 0.010938981153788956, -0.01594110148329196, -0.006015807639107564, -0.026854819581832196, -0.04173486529409761, -0.007389496279973999, 0.006852652630648547, -0.005658964888243685, 0.014968466405635934, 0.01453899167244008, -0.016888472574376725, -0.022699016259773996, -0.020854800188101905, -0.0073958120437861785, 0.010446347851148763, 0.014425306992498303, -0.002625797547779913, 0.014943203350387214, 0.019503218350392548, -0.01068634873865668, 0.009473712773492737, -0.017911632831207648, 0.0020021113311297647, 0.026425343917313802, -0.009884240680913321, 0.0005885544020951155, 0.013465304373789178, -0.03377694514875345, -0.026400080862065082, -0.007686339507452804, 0.00864002636234975, 0.007812655249357672, 0.021739014572387413, 0.007698971035077164, -0.0013673726442236195, -0.002351059726474372, -0.017431632918836898, 0.02378533508604926, 0.04650961440107198, -0.006903179206807256, 0.0020810590772739187, 0.009366344323024408, 0.016825314004932385, 0.015296888917836909, -0.009132659664989943, -0.01645899690985833, 0.009157922720238663, 0.018214793219482446, -0.03337273253948378, 0.006107386912876078, 0.01460215024188442, 0.016307418578366015, 0.0017668474993116183, 0.007869497589328561, -0.018846373325990595, -0.0291285094553776, 0.014690570935254938, 0.0172926851836464, 0.003720011428066354, -0.013945306148805011, -0.02730955643895423, -0.003271588937772691, -0.006353703564196174, 0.007433707092320528, -0.014905308767514135, -0.008122130004460838, -0.002370007250741547, 0.014235833146810366, 0.04062328341257363, 0.0029968513492977847, 0.028269559988985893, 0.019705322792382303, 0.0004713172214243035, 0.019806376876022262, 0.0021410590663202625, -0.00332843127774358, -0.03365062800986477, 0.02315375497954111, 0.009549502870561437, 0.003150009669481005, 0.02129690644892212, -0.00858318402237886, 0.0063568616789329, 0.012896881905402826, 0.0004097380876981088, -0.027562188854086504, 0.011621088302117085, 0.012802144051236317, -0.010875822584344616, -0.023444282908869008, -0.025465340367282135, 0.004215802379782001, 0.0006643441499178619, -0.008418973231939643, 0.008084235421587758, 0.03054325172517638, -0.01472846644945056, 0.03461063155989644, -0.004102117699840223, -0.0026542187177653574, -0.013692673733672734, 0.03221062454746235, 0.01258740715029966, 0.015397942070154328, 0.022888490105461935, -0.015738995178657122, -0.004045275359869334, 0.014362149354376503, -0.005681069828755679, 0.011785299092556302, -0.01527162586258819, -0.014715833990503658, -0.01725478966945078, -0.026779028553440956, -0.0027900085710497657, 0.009050554269770333, -0.026905345692329635, 0.009694766835225384, 0.028825350929747886, 0.012745301711265427, -0.006707389131645869, -0.0029431668912329855, -0.017886369775958928, 0.011456877511677867, -0.008103182247363028, -0.017760054499715332, -0.011166349582349971, 0.00732633817619093, -0.014046358369799889, -0.028597981569864327, -0.009480029002966187, 0.013844252996487592, 0.017456895974085618, -0.003934748794664281, -0.0086463425918232, 0.006142123846673702, 0.0187074255908001, -0.0225600685245835, 0.007067389997246473, -0.013566357526106595, -0.005040015378037354, 0.022320068568398126, 0.006315808981323095, -0.00048513307117876455, 0.009378975850648768, -0.024997971051213205]\n"
          ]
        }
      ]
    },
    {
      "cell_type": "markdown",
      "source": [
        "Pour mesurer la similarité entre deux vecteurs d’embedding, on utilise souvent le produit scalaire ou la similarité cosinus. Ces métriques permettent d’obtenir un score indiquant la similarité entre les phrases. Plus ce score est élevé, plus les phrases sont considérées comme similaires."
      ],
      "metadata": {
        "id": "9sTZ7YTCT1ld"
      }
    },
    {
      "cell_type": "code",
      "source": [
        "import numpy as np\n",
        "from sklearn.metrics.pairwise import cosine_similarity"
      ],
      "metadata": {
        "id": "4WstrA_9QUUm"
      },
      "execution_count": null,
      "outputs": []
    },
    {
      "cell_type": "code",
      "source": [
        "np.dot(emb1, emb2)"
      ],
      "metadata": {
        "colab": {
          "base_uri": "https://localhost:8080/"
        },
        "id": "-uCtIlwMQU4L",
        "outputId": "41f486df-7c13-4fde-a426-58208292e6ea"
      },
      "execution_count": null,
      "outputs": [
        {
          "output_type": "execute_result",
          "data": {
            "text/plain": [
              "0.9630396460189722"
            ]
          },
          "metadata": {},
          "execution_count": 36
        }
      ]
    },
    {
      "cell_type": "code",
      "source": [
        "similarity_score = cosine_similarity([emb1], [emb2])"
      ],
      "metadata": {
        "id": "NWY-aVguUL9R"
      },
      "execution_count": null,
      "outputs": []
    },
    {
      "cell_type": "code",
      "source": [
        "print(similarity_score)"
      ],
      "metadata": {
        "colab": {
          "base_uri": "https://localhost:8080/"
        },
        "id": "wDfxPadmUTMd",
        "outputId": "e11cd72f-1d33-4ae9-a494-99c7a8da9a13"
      },
      "execution_count": null,
      "outputs": [
        {
          "output_type": "stream",
          "name": "stdout",
          "text": [
            "[[0.96303965]]\n"
          ]
        }
      ]
    },
    {
      "cell_type": "markdown",
      "source": [
        "## 4 - Vectorstore with Chroma"
      ],
      "metadata": {
        "id": "zqqhPtATDx0e"
      }
    },
    {
      "cell_type": "markdown",
      "source": [
        "Used to store these embedding"
      ],
      "metadata": {
        "id": "-NHJtJ8mUwDI"
      }
    },
    {
      "cell_type": "code",
      "source": [
        "pip install tiktoken"
      ],
      "metadata": {
        "colab": {
          "base_uri": "https://localhost:8080/"
        },
        "id": "xzYS6_dhP6hj",
        "outputId": "27656511-3fc5-4ae0-ae53-2a349ef7a30b"
      },
      "execution_count": null,
      "outputs": [
        {
          "output_type": "stream",
          "name": "stdout",
          "text": [
            "Requirement already satisfied: tiktoken in /usr/local/lib/python3.10/dist-packages (0.8.0)\n",
            "Requirement already satisfied: regex>=2022.1.18 in /usr/local/lib/python3.10/dist-packages (from tiktoken) (2024.9.11)\n",
            "Requirement already satisfied: requests>=2.26.0 in /usr/local/lib/python3.10/dist-packages (from tiktoken) (2.32.3)\n",
            "Requirement already satisfied: charset-normalizer<4,>=2 in /usr/local/lib/python3.10/dist-packages (from requests>=2.26.0->tiktoken) (3.4.0)\n",
            "Requirement already satisfied: idna<4,>=2.5 in /usr/local/lib/python3.10/dist-packages (from requests>=2.26.0->tiktoken) (3.10)\n",
            "Requirement already satisfied: urllib3<3,>=1.21.1 in /usr/local/lib/python3.10/dist-packages (from requests>=2.26.0->tiktoken) (2.2.3)\n",
            "Requirement already satisfied: certifi>=2017.4.17 in /usr/local/lib/python3.10/dist-packages (from requests>=2.26.0->tiktoken) (2024.8.30)\n"
          ]
        }
      ]
    },
    {
      "cell_type": "code",
      "source": [
        "from langchain.vectorstores import Chroma # here use Chroma integrated vector Store\n"
      ],
      "metadata": {
        "id": "UZPPhoJTVK6q"
      },
      "execution_count": null,
      "outputs": []
    },
    {
      "cell_type": "code",
      "source": [
        "vectordb = Chroma.from_texts( # in course used from documents.\n",
        "    texts=chunks,\n",
        "    embedding=embeddings,\n",
        ")"
      ],
      "metadata": {
        "id": "OXHPJfg1WIUi"
      },
      "execution_count": null,
      "outputs": []
    },
    {
      "cell_type": "code",
      "source": [
        "print(Chroma.__dict__)"
      ],
      "metadata": {
        "colab": {
          "base_uri": "https://localhost:8080/"
        },
        "id": "NoB1L3rmX3L_",
        "outputId": "d0faf6e5-9c33-451b-f6a4-1404d389669f"
      },
      "execution_count": null,
      "outputs": [
        {
          "output_type": "stream",
          "name": "stdout",
          "text": [
            "{'__module__': 'langchain_community.vectorstores.chroma', '__annotations__': {'_LANGCHAIN_DEFAULT_COLLECTION_NAME': 'str'}, '__doc__': '.. deprecated:: 0.2.9 Use ``:class:`~langchain_chroma.Chroma``` instead.\\n\\n`ChromaDB` vector store.\\n\\nTo use, you should have the ``chromadb`` python package installed.\\n\\nExample:\\n    .. code-block:: python\\n\\n            from langchain_community.vectorstores import Chroma\\n            from langchain_community.embeddings.openai import OpenAIEmbeddings\\n\\n            embeddings = OpenAIEmbeddings()\\n            vectorstore = Chroma(\"langchain_store\", embeddings)', '_LANGCHAIN_DEFAULT_COLLECTION_NAME': 'langchain', '__init__': <function Chroma.__init__ at 0x7cbe1b605990>, 'embeddings': <property object at 0x7cbe1b7fcd10>, '_Chroma__query_collection': <function Chroma.__query_collection at 0x7cbe1b604af0>, 'encode_image': <function Chroma.encode_image at 0x7cbe1b6049d0>, 'add_images': <function Chroma.add_images at 0x7cbe1b604b80>, 'add_texts': <function Chroma.add_texts at 0x7cbe1b604c10>, 'similarity_search': <function Chroma.similarity_search at 0x7cbe1b604ca0>, 'similarity_search_by_vector': <function Chroma.similarity_search_by_vector at 0x7cbe1b604d30>, 'similarity_search_by_vector_with_relevance_scores': <function Chroma.similarity_search_by_vector_with_relevance_scores at 0x7cbe1b604dc0>, 'similarity_search_with_score': <function Chroma.similarity_search_with_score at 0x7cbe1b604e50>, '_select_relevance_score_fn': <function Chroma._select_relevance_score_fn at 0x7cbe1b604ee0>, 'similarity_search_by_image': <function Chroma.similarity_search_by_image at 0x7cbe1b604f70>, 'similarity_search_by_image_with_relevance_score': <function Chroma.similarity_search_by_image_with_relevance_score at 0x7cbe1b605000>, 'max_marginal_relevance_search_by_vector': <function Chroma.max_marginal_relevance_search_by_vector at 0x7cbe1b605090>, 'max_marginal_relevance_search': <function Chroma.max_marginal_relevance_search at 0x7cbe1b605120>, 'delete_collection': <function Chroma.delete_collection at 0x7cbe1b6051b0>, 'get': <function Chroma.get at 0x7cbe1b605240>, 'persist': <function Chroma.persist at 0x7cbe1b605480>, 'update_document': <function Chroma.update_document at 0x7cbe1b6052d0>, 'update_documents': <function Chroma.update_documents at 0x7cbe1b6055a0>, 'from_texts': <classmethod(<function Chroma.from_texts at 0x7cbe1b605510>)>, 'from_documents': <classmethod(<function Chroma.from_documents at 0x7cbe1b605630>)>, 'delete': <function Chroma.delete at 0x7cbe1b6056c0>, '__len__': <function Chroma.__len__ at 0x7cbe1b605750>, '__abstractmethods__': frozenset(), '_abc_impl': <_abc._abc_data object at 0x7cbe1b60c440>}\n"
          ]
        }
      ]
    },
    {
      "cell_type": "code",
      "source": [
        "print(vectordb._collection.count()) #same as splits that we have"
      ],
      "metadata": {
        "colab": {
          "base_uri": "https://localhost:8080/"
        },
        "id": "CeWllygscBkQ",
        "outputId": "9db1ef55-eb85-4f4e-9c8b-a45b6a91d7cf"
      },
      "execution_count": null,
      "outputs": [
        {
          "output_type": "stream",
          "name": "stdout",
          "text": [
            "51\n"
          ]
        }
      ]
    },
    {
      "cell_type": "code",
      "source": [
        "question = \"Groupama est tourné vers le passé ou l'avenir ?\""
      ],
      "metadata": {
        "id": "34LvLD8udnw1"
      },
      "execution_count": null,
      "outputs": []
    },
    {
      "cell_type": "code",
      "source": [
        "docs = vectordb.similarity_search(question,k=3)"
      ],
      "metadata": {
        "id": "y6MD7DW2d3w1"
      },
      "execution_count": null,
      "outputs": []
    },
    {
      "cell_type": "code",
      "source": [
        "len(docs)"
      ],
      "metadata": {
        "colab": {
          "base_uri": "https://localhost:8080/"
        },
        "id": "upgkdxiod5WF",
        "outputId": "b2c701d2-027f-499a-a7be-2324aa061b72"
      },
      "execution_count": null,
      "outputs": [
        {
          "output_type": "execute_result",
          "data": {
            "text/plain": [
              "3"
            ]
          },
          "metadata": {},
          "execution_count": 50
        }
      ]
    },
    {
      "cell_type": "code",
      "source": [
        "docs"
      ],
      "metadata": {
        "colab": {
          "base_uri": "https://localhost:8080/"
        },
        "id": "6xMCb8rZd8VI",
        "outputId": "7a7c6455-0ed8-4d4c-928d-ab01f9d7d1a5"
      },
      "execution_count": null,
      "outputs": [
        {
          "output_type": "execute_result",
          "data": {
            "text/plain": [
              "[Document(metadata={}, page_content='.\\nGroupama, c’est aussi des filiales en France \\net à l’international qui nous aident à être \\nmeilleurs, à capter de la croissance, à diver-\\nsifier les risques, à gagner en efficacité, à \\nproposer des services innovants qui intè-\\ngrent nos offres d’assurance'),\n",
              " Document(metadata={}, page_content='. Avant d’évo-\\nquer les travaux conduits collectivement \\npour remodeler notre stratégie, je voudrais \\nrevenir sur quelques réalisations impor -\\ntantes menées à bien par nos équipes \\nen 2023'),\n",
              " Document(metadata={}, page_content='.indd   5240429_GROUPAMA_RA_Fanzine_FR_VG')]"
            ]
          },
          "metadata": {},
          "execution_count": 51
        }
      ]
    },
    {
      "cell_type": "markdown",
      "source": [
        "## 5 - Retreival"
      ],
      "metadata": {
        "id": "ZcOsYpcygqwT"
      }
    },
    {
      "cell_type": "markdown",
      "source": [
        "1 - MMR algo: Algo query based on similarity and diversity\n",
        "\n",
        "2 - LLM aided Retreival / self query : useful for including metadata to your content. Here use the LLM to convert question to a query.\n",
        "\n",
        "3 -  Compression: Increase the number of results you can put in the context by shrinking the responses to only the relevant information."
      ],
      "metadata": {
        "id": "m0vr_F5tjtus"
      }
    },
    {
      "cell_type": "markdown",
      "source": [
        "### 5.1 - Similarity Search"
      ],
      "metadata": {
        "id": "9eC3OXRIHpFY"
      }
    },
    {
      "cell_type": "code",
      "source": [
        "pip install -U langchain-community"
      ],
      "metadata": {
        "id": "sS4ofYHFH2lG"
      },
      "execution_count": null,
      "outputs": []
    },
    {
      "cell_type": "code",
      "source": [
        "from langchain.vectorstores import Chroma\n",
        "from langchain.embeddings.openai import OpenAIEmbeddings\n",
        "persist_directory = 'docs/chroma/'"
      ],
      "metadata": {
        "id": "HBsKpvVEiyRj"
      },
      "execution_count": null,
      "outputs": []
    },
    {
      "cell_type": "code",
      "source": [
        "vectordb = Chroma(\n",
        "    persist_directory=persist_directory,\n",
        "    embedding_function=embeddings\n",
        ")"
      ],
      "metadata": {
        "id": "D4f9Uks7IOXd"
      },
      "execution_count": null,
      "outputs": []
    },
    {
      "cell_type": "code",
      "source": [
        "print(vectordb._collection.count())"
      ],
      "metadata": {
        "id": "fGoN1Is0Kb-z",
        "colab": {
          "base_uri": "https://localhost:8080/"
        },
        "outputId": "264e1ab7-0e67-4569-c007-306d13dd2ab2"
      },
      "execution_count": null,
      "outputs": [
        {
          "output_type": "stream",
          "name": "stdout",
          "text": [
            "0\n"
          ]
        }
      ]
    },
    {
      "cell_type": "code",
      "source": [
        "texts = [\n",
        "    \"\"\"The Amanita phalloides has a large and imposing epigeous (aboveground) fruiting body (basidiocarp).\"\"\",\n",
        "    \"\"\"A mushroom with a large fruiting body is the Amanita phalloides. Some varieties are all-white.\"\"\",\n",
        "    \"\"\"A. phalloides, a.k.a Death Cap, is one of the most poisonous of all known mushrooms.\"\"\",\n",
        "]"
      ],
      "metadata": {
        "id": "FpOm3zX5PfvP"
      },
      "execution_count": null,
      "outputs": []
    },
    {
      "cell_type": "code",
      "source": [
        "smalldb = Chroma.from_texts(texts, embedding=embeddings)"
      ],
      "metadata": {
        "id": "eZMtSUT1Pymq"
      },
      "execution_count": null,
      "outputs": []
    },
    {
      "cell_type": "code",
      "source": [
        "question = \"Tell me about all-white mushrooms with large fruiting bodies\""
      ],
      "metadata": {
        "id": "cd0tqk0fP49n"
      },
      "execution_count": null,
      "outputs": []
    },
    {
      "cell_type": "code",
      "source": [
        "smalldb.similarity_search(question, k=2)"
      ],
      "metadata": {
        "colab": {
          "base_uri": "https://localhost:8080/"
        },
        "id": "8u88xXn2QVK1",
        "outputId": "c9375571-e5b0-4240-dc7b-6ba76bd6cb4f"
      },
      "execution_count": null,
      "outputs": [
        {
          "output_type": "execute_result",
          "data": {
            "text/plain": [
              "[Document(metadata={}, page_content='A mushroom with a large fruiting body is the Amanita phalloides. Some varieties are all-white.'),\n",
              " Document(metadata={}, page_content='The Amanita phalloides has a large and imposing epigeous (aboveground) fruiting body (basidiocarp).')]"
            ]
          },
          "metadata": {},
          "execution_count": 60
        }
      ]
    },
    {
      "cell_type": "markdown",
      "source": [
        "### 5.2 - Addressing Diversity: Maximum marginal relevance"
      ],
      "metadata": {
        "id": "zo6qDkAtSvcf"
      }
    },
    {
      "cell_type": "code",
      "source": [
        "smalldb.max_marginal_relevance_search(question,k=2,\n",
        "                                      fetch_k=3) # here diversity factor"
      ],
      "metadata": {
        "colab": {
          "base_uri": "https://localhost:8080/"
        },
        "id": "6cRvITVaQZBc",
        "outputId": "67cc5799-e67d-4d04-c64b-1edd1ce275bc"
      },
      "execution_count": null,
      "outputs": [
        {
          "output_type": "execute_result",
          "data": {
            "text/plain": [
              "[Document(metadata={}, page_content='A mushroom with a large fruiting body is the Amanita phalloides. Some varieties are all-white.'),\n",
              " Document(metadata={}, page_content='A. phalloides, a.k.a Death Cap, is one of the most poisonous of all known mushrooms.')]"
            ]
          },
          "metadata": {},
          "execution_count": 61
        }
      ]
    },
    {
      "cell_type": "markdown",
      "source": [
        "\n",
        "`Maximum marginal relevance` strives to achieve both relevance to the query *and diversity* among the results."
      ],
      "metadata": {
        "id": "F0YaqM7GUSN1"
      }
    },
    {
      "cell_type": "code",
      "source": [
        "question = \"what did they say about matlab?\"\n",
        "docs_ss = vectordb.similarity_search(question,k=3)\n",
        "docs_ss"
      ],
      "metadata": {
        "colab": {
          "base_uri": "https://localhost:8080/"
        },
        "id": "YvhEebChTW4o",
        "outputId": "70754710-8301-4313-b061-aa97a50a0cc9"
      },
      "execution_count": null,
      "outputs": [
        {
          "output_type": "execute_result",
          "data": {
            "text/plain": [
              "[]"
            ]
          },
          "metadata": {},
          "execution_count": 62
        }
      ]
    },
    {
      "cell_type": "code",
      "source": [
        "docs_mmr = vectordb.max_marginal_relevance_search(question,k=3)\n",
        "docs_mmr"
      ],
      "metadata": {
        "colab": {
          "base_uri": "https://localhost:8080/"
        },
        "id": "vU_TxX4oVZzX",
        "outputId": "48b75b46-b66e-4223-983c-232f6ae7a2d9"
      },
      "execution_count": null,
      "outputs": [
        {
          "output_type": "execute_result",
          "data": {
            "text/plain": [
              "[]"
            ]
          },
          "metadata": {},
          "execution_count": 63
        }
      ]
    },
    {
      "cell_type": "markdown",
      "source": [
        "### 5.3 - Addressing Specificity: working with metadata"
      ],
      "metadata": {
        "id": "g2KgpqRCWHMR"
      }
    },
    {
      "cell_type": "markdown",
      "source": [
        "Vectorstores support operations on `metadata`. It provides context for each embedded chunk.\n",
        "\n",
        "Example : a question about the third lecture can include results from other lectures as well."
      ],
      "metadata": {
        "id": "beaJj-JWWdpW"
      }
    },
    {
      "cell_type": "markdown",
      "source": [
        "#### Option 1 : manually specifing this"
      ],
      "metadata": {
        "id": "KF5N8EV-YPL5"
      }
    },
    {
      "cell_type": "code",
      "source": [
        "docs = vectordb.similarity_search(question,\n",
        "    k=3 #,\n",
        "    #filter={\"source\":\"docs/cs229_lectures/MachineLearning-Lecture03.pdf\"} )"
      ],
      "metadata": {
        "id": "A587lxtHXeuR"
      },
      "execution_count": null,
      "outputs": []
    },
    {
      "cell_type": "markdown",
      "source": [
        "#### Option 2: using metadata using self-query retreival\n",
        "\n",
        "We often want to infer the metadata from the query itself. To address this, we can use `SelfQueryRetriever`, which uses an LLM to extract:\n",
        "\n",
        "1. The `query` string to use for vector search\n",
        "2. A metadata filter to pass in as well\n",
        "\n",
        "Most vector databases support metadata filters, so this doesn't require any new databases or indexes."
      ],
      "metadata": {
        "id": "ghdLPnJ9ZMHE"
      }
    },
    {
      "cell_type": "code",
      "source": [
        "pip install lark"
      ],
      "metadata": {
        "id": "XhxfBSW3wjDj",
        "colab": {
          "base_uri": "https://localhost:8080/"
        },
        "outputId": "52b8fc45-2455-4e1a-f88f-07d0c39d5cea"
      },
      "execution_count": null,
      "outputs": [
        {
          "output_type": "stream",
          "name": "stdout",
          "text": [
            "Requirement already satisfied: lark in /usr/local/lib/python3.10/dist-packages (1.2.2)\n"
          ]
        }
      ]
    },
    {
      "cell_type": "code",
      "source": [
        "from langchain.llms import OpenAI\n",
        "from langchain.retrievers.self_query.base import SelfQueryRetriever\n",
        "from langchain.chains.query_constructor.base import AttributeInfo"
      ],
      "metadata": {
        "id": "fQuU6ctDWXDK"
      },
      "execution_count": null,
      "outputs": []
    },
    {
      "cell_type": "code",
      "source": [
        "# trame\n",
        "metadata_field_info = [\n",
        "    AttributeInfo(\n",
        "        name=\"source\",\n",
        "        description=\"The lecture the chunk is from, should be one of `docs/Lecture01.pdf`, `docs/Lecture02.pdf`, or `docs/Lecture03.pdf`\",\n",
        "        type=\"string\",\n",
        "    ),\n",
        "    AttributeInfo(\n",
        "        name=\"page\",\n",
        "        description=\"The page from the lecture\",\n",
        "        type=\"integer\",\n",
        "    ),\n",
        "]"
      ],
      "metadata": {
        "id": "JXP4pYPyadA1"
      },
      "execution_count": null,
      "outputs": []
    },
    {
      "cell_type": "code",
      "source": [
        "from langchain.chat_models import ChatOpenAI\n",
        "\n",
        "client = ChatOpenAI(model_name=\"gpt-4o\",\n",
        "    api_key=API_key_OPENAI\n",
        ")\n",
        "#client.models.list()\n"
      ],
      "metadata": {
        "id": "WqHkpHIBmMHf",
        "colab": {
          "base_uri": "https://localhost:8080/"
        },
        "outputId": "48b4a1d3-5a13-4f18-f123-74feb3041e41"
      },
      "execution_count": null,
      "outputs": [
        {
          "output_type": "stream",
          "name": "stderr",
          "text": [
            "<ipython-input-68-0694ded43469>:3: LangChainDeprecationWarning: The class `ChatOpenAI` was deprecated in LangChain 0.0.10 and will be removed in 1.0. An updated version of the class exists in the :class:`~langchain-openai package and should be used instead. To use it run `pip install -U :class:`~langchain-openai` and import as `from :class:`~langchain_openai import ChatOpenAI``.\n",
            "  client = ChatOpenAI(model_name=\"gpt-4o\",\n"
          ]
        }
      ]
    },
    {
      "cell_type": "code",
      "source": [
        "document_content_description = \"Lecture notes\"\n",
        "\n",
        "retriever = SelfQueryRetriever.from_llm(\n",
        "    client,\n",
        "    vectordb,\n",
        "    document_content_description,\n",
        "    metadata_field_info,\n",
        "    verbose=True)"
      ],
      "metadata": {
        "id": "MCXsiY0elAc0"
      },
      "execution_count": null,
      "outputs": []
    },
    {
      "cell_type": "code",
      "source": [
        "docs = retriever.get_relevant_documents(question)"
      ],
      "metadata": {
        "id": "MCD2rTwtu-Ic",
        "colab": {
          "base_uri": "https://localhost:8080/"
        },
        "outputId": "0615ae2a-5a83-4990-c76f-77634db9654a"
      },
      "execution_count": null,
      "outputs": [
        {
          "output_type": "stream",
          "name": "stderr",
          "text": [
            "<ipython-input-70-6ed304eeafec>:1: LangChainDeprecationWarning: The method `BaseRetriever.get_relevant_documents` was deprecated in langchain-core 0.1.46 and will be removed in 1.0. Use :meth:`~invoke` instead.\n",
            "  docs = retriever.get_relevant_documents(question)\n"
          ]
        }
      ]
    },
    {
      "cell_type": "code",
      "source": [
        "for d in docs:\n",
        "    print(d.metadata)"
      ],
      "metadata": {
        "id": "cmF9vtSY0IcY"
      },
      "execution_count": null,
      "outputs": []
    },
    {
      "cell_type": "markdown",
      "source": [
        "#### Option 3:  Compression"
      ],
      "metadata": {
        "id": "Y6-XdUqg0Kek"
      }
    },
    {
      "cell_type": "markdown",
      "source": [
        "Another approach for improving the quality of retrieved docs is compression.\n",
        "\n",
        "Information most relevant to a query may be buried in a document with a lot of irrelevant text.\n",
        "\n",
        "Passing that full document through your application can lead to more expensive LLM calls and poorer responses.\n",
        "\n",
        "Contextual compression is meant to fix this."
      ],
      "metadata": {
        "id": "BBDDAJOJ0awS"
      }
    },
    {
      "cell_type": "code",
      "source": [
        "pip install langchain-community langchain-core"
      ],
      "metadata": {
        "id": "79yyJwaHIYXT"
      },
      "execution_count": null,
      "outputs": []
    },
    {
      "cell_type": "code",
      "source": [
        "from langchain.retrievers import ContextualCompressionRetriever\n",
        "from langchain.retrievers.document_compressors import LLMChainExtractor\n",
        "from langchain.chat_models import ChatOpenAI"
      ],
      "metadata": {
        "id": "o2Aq1iTy0WlT"
      },
      "execution_count": null,
      "outputs": []
    },
    {
      "cell_type": "code",
      "source": [
        "llm = ChatOpenAI(\n",
        "    model_name=\"gpt-4o\",\n",
        "    openai_api_key= API_key_OPENAI )\n"
      ],
      "metadata": {
        "id": "q9HbWnzKLaTn"
      },
      "execution_count": null,
      "outputs": []
    },
    {
      "cell_type": "code",
      "source": [
        "compressor = LLMChainExtractor.from_llm(llm)"
      ],
      "metadata": {
        "id": "RLdQESbjF6Io"
      },
      "execution_count": null,
      "outputs": []
    },
    {
      "cell_type": "code",
      "source": [
        "compression_retriever = ContextualCompressionRetriever(\n",
        "    base_compressor=compressor,\n",
        "    base_retriever=vectordb.as_retriever()\n",
        ")"
      ],
      "metadata": {
        "id": "eR5N7kVGMoq2"
      },
      "execution_count": null,
      "outputs": []
    },
    {
      "cell_type": "code",
      "source": [
        "question = \"what did they say about matlab?\"\n",
        "compressed_docs = compression_retriever.get_relevant_documents(question)\n",
        "print(compressed_docs)\n",
        "#pretty_print_docs(compressed_docs)"
      ],
      "metadata": {
        "id": "jxzQfrpHMuF4",
        "colab": {
          "base_uri": "https://localhost:8080/"
        },
        "outputId": "f3aa8dde-3b59-4de4-bc30-ddd37b59ffa1"
      },
      "execution_count": null,
      "outputs": [
        {
          "output_type": "stream",
          "name": "stdout",
          "text": [
            "[]\n"
          ]
        }
      ]
    },
    {
      "cell_type": "markdown",
      "source": [
        "## 6 - Question Answering"
      ],
      "metadata": {
        "id": "Etqr-jdkRucI"
      }
    },
    {
      "cell_type": "markdown",
      "source": [
        "### 6.1 - Introduction describing the goal"
      ],
      "metadata": {
        "id": "OEO2HfMEWS9r"
      }
    },
    {
      "cell_type": "markdown",
      "source": [
        "This come out after retreiving"
      ],
      "metadata": {
        "id": "KQXjaFWcHNZa"
      }
    },
    {
      "cell_type": "markdown",
      "source": [
        "If there are a lot of ducuments that can't pass trough the same context windows:"
      ],
      "metadata": {
        "id": "afHpmQWDJXS3"
      }
    },
    {
      "cell_type": "code",
      "source": [
        "from google.colab import drive\n",
        "drive.mount('/content/drive')\n",
        "from PIL import Image\n",
        "import matplotlib.pyplot as plt\n",
        "image = Image.open(\"/content/drive/MyDrive/Image_notebooks/3methods.png\")\n",
        "plt.figure(figsize=(6, 5))  # Taille de l'image (largeur, hauteur) en pouces\n",
        "plt.imshow(image)\n",
        "plt.axis(\"off\")  # Masquer les axes\n",
        "plt.show()"
      ],
      "metadata": {
        "colab": {
          "base_uri": "https://localhost:8080/",
          "height": 71
        },
        "id": "DDkP6771JBhD",
        "outputId": "0ba86a42-264d-4ad8-fc3a-670314bd45e0"
      },
      "execution_count": null,
      "outputs": [
        {
          "output_type": "stream",
          "name": "stdout",
          "text": [
            "Drive already mounted at /content/drive; to attempt to forcibly remount, call drive.mount(\"/content/drive\", force_remount=True).\n"
          ]
        },
        {
          "output_type": "display_data",
          "data": {
            "text/plain": [
              "<Figure size 600x500 with 1 Axes>"
            ],
            "image/png": "[encoded data removed]"
          },
          "metadata": {}
        }
      ]
    },
    {
      "cell_type": "markdown",
      "source": [
        "### 6.2 - Setup env"
      ],
      "metadata": {
        "id": "tsd2dhOlWZnZ"
      }
    },
    {
      "cell_type": "code",
      "source": [
        "pip install chromadb tiktoken"
      ],
      "metadata": {
        "id": "wlJKRzRBNHkR"
      },
      "execution_count": null,
      "outputs": []
    },
    {
      "cell_type": "code",
      "source": [
        "pip install -U langchain-community"
      ],
      "metadata": {
        "id": "4r_Lg9l0ll1F"
      },
      "execution_count": null,
      "outputs": []
    },
    {
      "cell_type": "code",
      "source": [
        "from getpass import getpass\n",
        "from langchain.embeddings import OpenAIEmbeddings\n",
        "from langchain.vectorstores import DocArrayInMemorySearch\n",
        "import os\n",
        "from langchain.vectorstores import Chroma"
      ],
      "metadata": {
        "id": "FOZYZI4FKgow"
      },
      "execution_count": null,
      "outputs": []
    },
    {
      "cell_type": "code",
      "source": [
        "# Créer une instance des embeddings OpenAI\n",
        "embeddings = OpenAIEmbeddings(\n",
        "    model='text-embedding-ada-002',\n",
        "    openai_api_key=API_key_OPENAI\n",
        ")\n"
      ],
      "metadata": {
        "id": "RMJGnps2MLrs"
      },
      "execution_count": null,
      "outputs": []
    },
    {
      "cell_type": "code",
      "source": [
        "vectordb # defined in the section"
      ],
      "metadata": {
        "id": "Wdj_Hv80MXRw"
      },
      "execution_count": null,
      "outputs": []
    },
    {
      "cell_type": "code",
      "source": [
        "print(vectordb._collection.count())"
      ],
      "metadata": {
        "colab": {
          "base_uri": "https://localhost:8080/"
        },
        "id": "Jw3w9pu1NVok",
        "outputId": "e2c08f9c-2e7f-4c07-96ef-bf5a20567637"
      },
      "execution_count": null,
      "outputs": [
        {
          "output_type": "stream",
          "name": "stdout",
          "text": [
            "0\n"
          ]
        }
      ]
    },
    {
      "cell_type": "code",
      "source": [
        "question = \"Quelle est l'ambition de Groupama pour l'avenir ?\""
      ],
      "metadata": {
        "id": "mEQePTKlRjrU"
      },
      "execution_count": null,
      "outputs": []
    },
    {
      "cell_type": "code",
      "source": [
        "docs = vectordb.similarity_search(question, k=3 )\n",
        "len(docs)"
      ],
      "metadata": {
        "colab": {
          "base_uri": "https://localhost:8080/"
        },
        "id": "wV-TekmeR5wR",
        "outputId": "20062dd7-488e-4afb-8f32-37e6dcaa72b3"
      },
      "execution_count": null,
      "outputs": [
        {
          "output_type": "execute_result",
          "data": {
            "text/plain": [
              "3"
            ]
          },
          "metadata": {},
          "execution_count": 123
        }
      ]
    },
    {
      "cell_type": "code",
      "source": [
        "docs"
      ],
      "metadata": {
        "colab": {
          "base_uri": "https://localhost:8080/"
        },
        "id": "sfzvOFrkSYp7",
        "outputId": "160333e2-dc1c-4362-f4ca-a1897b01b66c"
      },
      "execution_count": null,
      "outputs": [
        {
          "output_type": "execute_result",
          "data": {
            "text/plain": [
              "[Document(metadata={}, page_content='.\\nGroupama, c’est aussi des filiales en France \\net à l’international qui nous aident à être \\nmeilleurs, à capter de la croissance, à diver-\\nsifier les risques, à gagner en efficacité, à \\nproposer des services innovants qui intè-\\ngrent nos offres d’assurance'),\n",
              " Document(metadata={}, page_content='.\\nGroupama, c’est aussi des filiales en France \\net à l’international qui nous aident à être \\nmeilleurs, à capter de la croissance, à diver-\\nsifier les risques, à gagner en efficacité, à \\nproposer des services innovants qui intè-\\ngrent nos offres d’assurance'),\n",
              " Document(metadata={}, page_content='. Les initia-\\ntives ont été nombreuses, les actions \\nconcrètes aussi !\\nPour réaliser notre ambition, « Bâtir le \\nGroupe mutualiste champion de l’accom-\\npagnement des clients », nous devons aller \\nencore plus loin, ensemble')]"
            ]
          },
          "metadata": {},
          "execution_count": 124
        }
      ]
    },
    {
      "cell_type": "markdown",
      "source": [
        "### 6.3 - RetrievalQA chain"
      ],
      "metadata": {
        "id": "99wHiyziWhRh"
      }
    },
    {
      "cell_type": "code",
      "source": [
        "from langchain.chat_models import ChatOpenAI\n",
        "llm = ChatOpenAI(\n",
        "    model_name=\"gpt-4o\",\n",
        "    openai_api_key= API_key_OPENAI\n",
        ")"
      ],
      "metadata": {
        "id": "dQI5vXkwUBsF"
      },
      "execution_count": null,
      "outputs": []
    },
    {
      "cell_type": "code",
      "source": [
        "from langchain.chains import RetrievalQA\n",
        "qa_chain = RetrievalQA.from_chain_type(\n",
        "    llm,\n",
        "    retriever=vectordb.as_retriever()\n",
        ")"
      ],
      "metadata": {
        "id": "ctwf8YdXbVs_"
      },
      "execution_count": null,
      "outputs": []
    },
    {
      "cell_type": "code",
      "source": [
        "resultat = qa_chain({\"query\" :question})"
      ],
      "metadata": {
        "id": "kb8A2_kebcdx"
      },
      "execution_count": null,
      "outputs": []
    },
    {
      "cell_type": "code",
      "source": [
        "resultat"
      ],
      "metadata": {
        "colab": {
          "base_uri": "https://localhost:8080/"
        },
        "id": "x7Mhc2lZcNyF",
        "outputId": "e75ea2c9-b65e-4bcb-8a85-05661484ec8d"
      },
      "execution_count": null,
      "outputs": [
        {
          "output_type": "execute_result",
          "data": {
            "text/plain": [
              "{'query': \"Quelle est l'ambition de Groupama pour l'avenir ?\",\n",
              " 'result': 'L\\'ambition de Groupama pour l\\'avenir est de \"bâtir le groupe mutualiste champion de l\\'accompagnement des clients\".'}"
            ]
          },
          "metadata": {},
          "execution_count": 127
        }
      ]
    },
    {
      "cell_type": "markdown",
      "source": [
        "Mapreduce a de nombreuses limitations:\n",
        "- Perte de contexte global lors de la réduction\n",
        "- doublons et incohérences\n",
        "- Difficulté à maintenir une cohérence narrative ou logique\n",
        "- Fragmentation excessive des données\n"
      ],
      "metadata": {
        "id": "vKkziviNKA6v"
      }
    },
    {
      "cell_type": "markdown",
      "source": [
        "### 6.3 - With a Prompt"
      ],
      "metadata": {
        "id": "Qt2HMCEFeWKi"
      }
    },
    {
      "cell_type": "code",
      "source": [
        "from langchain.prompts import PromptTemplate\n",
        "\n",
        "# Build prompt\n",
        "template = \"\"\"Use the following pieces of context to answer the question at the end. If you don't know the answer, /n\n",
        "just say that you don't know, don't try to make up an answer. Use three sentences maximum. Keep the answer as concise as possible. /n\n",
        "Always say \"thanks for asking!\" at the end of the answer.\n",
        "{context}\n",
        "Question: {question}\n",
        "Helpful Answer:\"\"\"\n",
        "QA_CHAIN_PROMPT = PromptTemplate.from_template(template)\n"
      ],
      "metadata": {
        "id": "UEcI-58zeaTb"
      },
      "execution_count": null,
      "outputs": []
    },
    {
      "cell_type": "code",
      "source": [
        "# Run chain\n",
        "qa_chain = RetrievalQA.from_chain_type(\n",
        "    llm,\n",
        "    retriever=vectordb.as_retriever(),\n",
        "    return_source_documents=True,\n",
        "    chain_type_kwargs={\"prompt\": QA_CHAIN_PROMPT}\n",
        ")"
      ],
      "metadata": {
        "id": "x-KXA8qgfOsc"
      },
      "execution_count": null,
      "outputs": []
    },
    {
      "cell_type": "code",
      "source": [
        "question = \"Quelle est l'ambition de Groupama pour l'avenir ?\""
      ],
      "metadata": {
        "id": "nURFotHhfgbN"
      },
      "execution_count": null,
      "outputs": []
    },
    {
      "cell_type": "code",
      "source": [
        "result = qa_chain({\"query\": question})"
      ],
      "metadata": {
        "id": "WYyETw8tfiOO"
      },
      "execution_count": null,
      "outputs": []
    },
    {
      "cell_type": "code",
      "source": [
        "result[\"result\"]"
      ],
      "metadata": {
        "colab": {
          "base_uri": "https://localhost:8080/",
          "height": 53
        },
        "id": "Q9srF-sVfkpp",
        "outputId": "383e3247-eb58-482a-f993-a5bf29bf9688"
      },
      "execution_count": null,
      "outputs": [
        {
          "output_type": "execute_result",
          "data": {
            "text/plain": [
              "\"L'ambition de Groupama pour l'avenir est de bâtir un groupe mutualiste champion de l'accompagnement des clients. Merci pour votre question !\""
            ],
            "application/vnd.google.colaboratory.intrinsic+json": {
              "type": "string"
            }
          },
          "metadata": {},
          "execution_count": 132
        }
      ]
    },
    {
      "cell_type": "code",
      "source": [
        "result[\"source_documents\"][0]"
      ],
      "metadata": {
        "colab": {
          "base_uri": "https://localhost:8080/"
        },
        "id": "OsnKn8SDfrZZ",
        "outputId": "20524411-fc78-410c-8fcc-44b0946dce32"
      },
      "execution_count": null,
      "outputs": [
        {
          "output_type": "execute_result",
          "data": {
            "text/plain": [
              "Document(metadata={}, page_content='.\\nGroupama, c’est aussi des filiales en France \\net à l’international qui nous aident à être \\nmeilleurs, à capter de la croissance, à diver-\\nsifier les risques, à gagner en efficacité, à \\nproposer des services innovants qui intè-\\ngrent nos offres d’assurance')"
            ]
          },
          "metadata": {},
          "execution_count": 133
        }
      ]
    },
    {
      "cell_type": "markdown",
      "source": [
        "### 6.4 - RetrievalQA chain types"
      ],
      "metadata": {
        "id": "q82c2JA8105F"
      }
    },
    {
      "cell_type": "markdown",
      "source": [
        "Before stuff method. If many doc will not fit in the context method use : Map reduce, refine or"
      ],
      "metadata": {
        "id": "Krwd1BYR8Cp7"
      }
    },
    {
      "cell_type": "code",
      "source": [
        "qa_chain_mr = RetrievalQA.from_chain_type(\n",
        "    llm,\n",
        "    retriever=vectordb.as_retriever(),\n",
        "    chain_type=\"map_reduce\"\n",
        ")"
      ],
      "metadata": {
        "id": "bPXJAQeO2FNQ"
      },
      "execution_count": null,
      "outputs": []
    },
    {
      "cell_type": "code",
      "source": [
        "result = qa_chain_mr({\"query\": question})"
      ],
      "metadata": {
        "id": "st2EnNYcJ15g"
      },
      "execution_count": null,
      "outputs": []
    },
    {
      "cell_type": "code",
      "source": [
        "result[\"result\"]"
      ],
      "metadata": {
        "colab": {
          "base_uri": "https://localhost:8080/",
          "height": 36
        },
        "id": "bgpqaxcuJ3SR",
        "outputId": "e849578a-51e4-4eb6-8283-cbdc99b083d8"
      },
      "execution_count": null,
      "outputs": [
        {
          "output_type": "execute_result",
          "data": {
            "text/plain": [
              "'L\\'ambition de Groupama pour l\\'avenir est de \"bâtir le Groupe mutualiste champion de l’accompagnement des clients.\"'"
            ],
            "application/vnd.google.colaboratory.intrinsic+json": {
              "type": "string"
            }
          },
          "metadata": {},
          "execution_count": 138
        }
      ]
    },
    {
      "cell_type": "markdown",
      "source": [
        "Mapreduce can handles many documents, bu with cost of limitations :\n",
        "- Perte de contexte global\n",
        "- Difficulté à maintenir une cohérence narrative\n",
        "- Fragmentation excessive des données\n",
        "- si informations dans plusieurs doc pas sur de les avoir a la fin dans la fenetre de context"
      ],
      "metadata": {
        "id": "yWWwnIqRLAuX"
      }
    },
    {
      "cell_type": "markdown",
      "source": [
        "Go to https://www.langchain.com/langsmith the LangChain webUI"
      ],
      "metadata": {
        "id": "hjbGh99MMeh6"
      }
    },
    {
      "cell_type": "markdown",
      "source": [
        "### 6.5 - RetrievalQA limitations"
      ],
      "metadata": {
        "id": "c0UI_qzD2Afi"
      }
    },
    {
      "cell_type": "markdown",
      "source": [
        "\n",
        "Testing Refine chain offers to combine informations sequentially. It s carrying more information than the map_reduce"
      ],
      "metadata": {
        "id": "UrxmHDhVMxMV"
      }
    },
    {
      "cell_type": "code",
      "source": [
        "qa_chain_mr = RetrievalQA.from_chain_type(\n",
        "    llm,\n",
        "    retriever=vectordb.as_retriever(),\n",
        "    chain_type=\"refine\"\n",
        ")"
      ],
      "metadata": {
        "id": "xapNCiHw16m5"
      },
      "execution_count": null,
      "outputs": []
    },
    {
      "cell_type": "code",
      "source": [
        "result = qa_chain_mr({\"query\": question})"
      ],
      "metadata": {
        "id": "chMyjeidNOqZ"
      },
      "execution_count": null,
      "outputs": []
    },
    {
      "cell_type": "code",
      "source": [
        "result[\"result\"]"
      ],
      "metadata": {
        "colab": {
          "base_uri": "https://localhost:8080/",
          "height": 102
        },
        "id": "IReHhXMgNP-E",
        "outputId": "8fe0b310-9617-4e65-c1d3-a48acc06550a"
      },
      "execution_count": null,
      "outputs": [
        {
          "output_type": "execute_result",
          "data": {
            "text/plain": [
              "\"L'ambition de Groupama pour l'avenir est de bâtir le groupe mutualiste champion de l'accompagnement des clients. Pour réaliser cette ambition, Groupama vise à être meilleurs, à capter de la croissance, à diversifier les risques, à gagner en efficacité, et à proposer des services innovants qui intègrent leurs offres d’assurance, en s'appuyant sur leurs filiales en France et à l'international. Les initiatives ont été nombreuses et les actions concrètes aussi, mais pour atteindre cet objectif, il est essentiel que Groupama aille encore plus loin en multipliant les efforts et en travaillant ensemble.\""
            ],
            "application/vnd.google.colaboratory.intrinsic+json": {
              "type": "string"
            }
          },
          "metadata": {},
          "execution_count": 142
        }
      ]
    },
    {
      "cell_type": "markdown",
      "source": [
        "Important : QA fails to preserve conversational history and dont have memory\n"
      ],
      "metadata": {
        "id": "-9KNzo61OcQ6"
      }
    },
    {
      "cell_type": "markdown",
      "source": [
        "## 7  - Chat (with history)"
      ],
      "metadata": {
        "id": "OQm0SQGQQEWz"
      }
    },
    {
      "cell_type": "markdown",
      "source": [
        "### 7.1 - memory"
      ],
      "metadata": {
        "id": "Z3I17wYiUopF"
      }
    },
    {
      "cell_type": "code",
      "source": [
        "from langchain.memory import ConversationBufferMemory\n",
        "memory = ConversationBufferMemory(\n",
        "    memory_key =\"chat_history\",\n",
        "    return_messages = True\n",
        ")"
      ],
      "metadata": {
        "colab": {
          "base_uri": "https://localhost:8080/"
        },
        "id": "rvu0jFg_THNv",
        "outputId": "289caf84-2caf-4b9b-ea83-6c82cf90528e"
      },
      "execution_count": null,
      "outputs": [
        {
          "output_type": "stream",
          "name": "stderr",
          "text": [
            "<ipython-input-144-bfd9a5c69cc2>:2: LangChainDeprecationWarning: Please see the migration guide at: https://python.langchain.com/docs/versions/migrating_memory/\n",
            "  memory = ConversationBufferMemory(\n"
          ]
        }
      ]
    },
    {
      "cell_type": "markdown",
      "source": [
        "### 7.2 - ConversationalRetrievalChain"
      ],
      "metadata": {
        "id": "ZhY1hf0YUqyh"
      }
    },
    {
      "cell_type": "code",
      "source": [
        "from langchain.chains import ConversationalRetrievalChain\n",
        "retriever=vectordb.as_retriever()\n",
        "qa = ConversationalRetrievalChain.from_llm(\n",
        "    llm,\n",
        "    retriever=retriever,\n",
        "    memory=memory\n",
        ")"
      ],
      "metadata": {
        "id": "OG5MCk6AUh1r"
      },
      "execution_count": null,
      "outputs": []
    },
    {
      "cell_type": "markdown",
      "source": [
        "Here bellow we , do not just add a memory, but we add a step that take a history and a new question and combine it into an stand-alone question to pass into a vector store"
      ],
      "metadata": {
        "id": "0YczmPx0WGZl"
      }
    },
    {
      "cell_type": "code",
      "source": [
        "question = \"c est quoi Groupama ?\"\n",
        "result = qa({\"question\": question})\n",
        "result['answer']"
      ],
      "metadata": {
        "colab": {
          "base_uri": "https://localhost:8080/",
          "height": 69
        },
        "id": "c_HbM8MiVCQU",
        "outputId": "29cff384-e96d-4b76-a5d9-3a7aec096c58"
      },
      "execution_count": null,
      "outputs": [
        {
          "output_type": "execute_result",
          "data": {
            "text/plain": [
              "\"Groupama est une entreprise qui possède des filiales en France et à l'international. Ces filiales aident Groupama à améliorer ses performances, à capter de la croissance, à diversifier les risques, à gagner en efficacité, et à proposer des services innovants intégrés à ses offres d'assurance.\""
            ],
            "application/vnd.google.colaboratory.intrinsic+json": {
              "type": "string"
            }
          },
          "metadata": {},
          "execution_count": 149
        }
      ]
    },
    {
      "cell_type": "markdown",
      "source": [
        "### 7.3 - Create a chatbot that works on your documents"
      ],
      "metadata": {
        "id": "k3zSGPXXYd5u"
      }
    },
    {
      "cell_type": "code",
      "source": [
        "from langchain.embeddings.openai import OpenAIEmbeddings\n",
        "from langchain.text_splitter import CharacterTextSplitter, RecursiveCharacterTextSplitter\n",
        "from langchain.vectorstores import DocArrayInMemorySearch\n",
        "from langchain.document_loaders import TextLoader\n",
        "from langchain.chains import RetrievalQA,  ConversationalRetrievalChain\n",
        "from langchain.memory import ConversationBufferMemory\n",
        "from langchain.chat_models import ChatOpenAI\n",
        "from langchain.document_loaders import TextLoader\n",
        "from langchain.document_loaders import PyPDFLoader"
      ],
      "metadata": {
        "id": "m63SNpAjYh2z"
      },
      "execution_count": null,
      "outputs": []
    },
    {
      "cell_type": "code",
      "source": [
        "def load_db(file, chain_type, k):\n",
        "    # load documents\n",
        "    loader = PyPDFLoader(file)\n",
        "    documents = loader.load()\n",
        "    # split documents\n",
        "    text_splitter = RecursiveCharacterTextSplitter(chunk_size=1000, chunk_overlap=150)\n",
        "    docs = text_splitter.split_documents(documents)\n",
        "    # define embedding\n",
        "    embeddings = OpenAIEmbeddings(model='text-embedding-ada-002',openai_api_key=API_key_OPENAI)\n",
        "    # create vector database from data\n",
        "    db = DocArrayInMemorySearch.from_documents(docs, embeddings)\n",
        "    # define retriever\n",
        "    retriever = db.as_retriever(search_type=\"similarity\", search_kwargs={\"k\": k})\n",
        "    # create a chatbot chain. Memory is managed externally for the convinience of the GUI bellow\n",
        "    qa = ConversationalRetrievalChain.from_llm(\n",
        "        llm=ChatOpenAI(model='gpt-4o',openai_api_key=API_key_OPENAI),\n",
        "        chain_type=chain_type,\n",
        "        retriever=retriever,\n",
        "        return_source_documents=True,\n",
        "        return_generated_question=True,\n",
        "    )\n",
        "    return qa\n"
      ],
      "metadata": {
        "id": "Fekv3Uh1Ykfg"
      },
      "execution_count": null,
      "outputs": []
    },
    {
      "cell_type": "code",
      "source": [
        "!ls drive/MyDrive/Data/Groupama23.pdf"
      ],
      "metadata": {
        "colab": {
          "base_uri": "https://localhost:8080/"
        },
        "id": "tuYswvNMdOGN",
        "outputId": "99ab6c5b-c075-47f5-a87c-eaace71c438d"
      },
      "execution_count": null,
      "outputs": [
        {
          "output_type": "stream",
          "name": "stdout",
          "text": [
            "Groupama23.pdf\tOutdoorClothingCatalog_1000.csv\n"
          ]
        }
      ]
    },
    {
      "cell_type": "code",
      "source": [
        "import panel as pn\n",
        "pn.extension()"
      ],
      "metadata": {
        "colab": {
          "base_uri": "https://localhost:8080/",
          "height": 18
        },
        "id": "d-A6h4XoiuBA",
        "outputId": "ea3cfdc3-d756-46db-d258-33f832f27752"
      },
      "execution_count": null,
      "outputs": [
        {
          "output_type": "display_data",
          "data": {
            "application/javascript": [
              "(function(root) {\n",
              "  function now() {\n",
              "    return new Date();\n",
              "  }\n",
              "\n",
              "  var force = true;\n",
              "  var py_version = '3.4.3'.replace('rc', '-rc.').replace('.dev', '-dev.');\n",
              "  var reloading = false;\n",
              "  var Bokeh = root.Bokeh;\n",
              "\n",
              "  if (typeof (root._bokeh_timeout) === \"undefined\" || force) {\n",
              "    root._bokeh_timeout = Date.now() + 5000;\n",
              "    root._bokeh_failed_load = false;\n",
              "  }\n",
              "\n",
              "  function run_callbacks() {\n",
              "    try {\n",
              "      root._bokeh_onload_callbacks.forEach(function(callback) {\n",
              "        if (callback != null)\n",
              "          callback();\n",
              "      });\n",
              "    } finally {\n",
              "      delete root._bokeh_onload_callbacks;\n",
              "    }\n",
              "    console.debug(\"Bokeh: all callbacks have finished\");\n",
              "  }\n",
              "\n",
              "  function load_libs(css_urls, js_urls, js_modules, js_exports, callback) {\n",
              "    if (css_urls == null) css_urls = [];\n",
              "    if (js_urls == null) js_urls = [];\n",
              "    if (js_modules == null) js_modules = [];\n",
              "    if (js_exports == null) js_exports = {};\n",
              "\n",
              "    root._bokeh_onload_callbacks.push(callback);\n",
              "\n",
              "    if (root._bokeh_is_loading > 0) {\n",
              "      console.debug(\"Bokeh: BokehJS is being loaded, scheduling callback at\", now());\n",
              "      return null;\n",
              "    }\n",
              "    if (js_urls.length === 0 && js_modules.length === 0 && Object.keys(js_exports).length === 0) {\n",
              "      run_callbacks();\n",
              "      return null;\n",
              "    }\n",
              "    if (!reloading) {\n",
              "      console.debug(\"Bokeh: BokehJS not loaded, scheduling load and callback at\", now());\n",
              "    }\n",
              "\n",
              "    function on_load() {\n",
              "      root._bokeh_is_loading--;\n",
              "      if (root._bokeh_is_loading === 0) {\n",
              "        console.debug(\"Bokeh: all BokehJS libraries/stylesheets loaded\");\n",
              "        run_callbacks()\n",
              "      }\n",
              "    }\n",
              "    window._bokeh_on_load = on_load\n",
              "\n",
              "    function on_error() {\n",
              "      console.error(\"failed to load \" + url);\n",
              "    }\n",
              "\n",
              "    var skip = [];\n",
              "    if (window.requirejs) {\n",
              "      window.requirejs.config({'packages': {}, 'paths': {}, 'shim': {}});\n",
              "      root._bokeh_is_loading = css_urls.length + 0;\n",
              "    } else {\n",
              "      root._bokeh_is_loading = css_urls.length + js_urls.length + js_modules.length + Object.keys(js_exports).length;\n",
              "    }\n",
              "\n",
              "    var existing_stylesheets = []\n",
              "    var links = document.getElementsByTagName('link')\n",
              "    for (var i = 0; i < links.length; i++) {\n",
              "      var link = links[i]\n",
              "      if (link.href != null) {\n",
              "\texisting_stylesheets.push(link.href)\n",
              "      }\n",
              "    }\n",
              "    for (var i = 0; i < css_urls.length; i++) {\n",
              "      var url = css_urls[i];\n",
              "      if (existing_stylesheets.indexOf(url) !== -1) {\n",
              "\ton_load()\n",
              "\tcontinue;\n",
              "      }\n",
              "      const element = document.createElement(\"link\");\n",
              "      element.onload = on_load;\n",
              "      element.onerror = on_error;\n",
              "      element.rel = \"stylesheet\";\n",
              "      element.type = \"text/css\";\n",
              "      element.href = url;\n",
              "      console.debug(\"Bokeh: injecting link tag for BokehJS stylesheet: \", url);\n",
              "      document.body.appendChild(element);\n",
              "    }    var existing_scripts = []\n",
              "    var scripts = document.getElementsByTagName('script')\n",
              "    for (var i = 0; i < scripts.length; i++) {\n",
              "      var script = scripts[i]\n",
              "      if (script.src != null) {\n",
              "\texisting_scripts.push(script.src)\n",
              "      }\n",
              "    }\n",
              "    for (var i = 0; i < js_urls.length; i++) {\n",
              "      var url = js_urls[i];\n",
              "      if (skip.indexOf(url) !== -1 || existing_scripts.indexOf(url) !== -1) {\n",
              "\tif (!window.requirejs) {\n",
              "\t  on_load();\n",
              "\t}\n",
              "\tcontinue;\n",
              "      }\n",
              "      var element = document.createElement('script');\n",
              "      element.onload = on_load;\n",
              "      element.onerror = on_error;\n",
              "      element.async = false;\n",
              "      element.src = url;\n",
              "      console.debug(\"Bokeh: injecting script tag for BokehJS library: \", url);\n",
              "      document.head.appendChild(element);\n",
              "    }\n",
              "    for (var i = 0; i < js_modules.length; i++) {\n",
              "      var url = js_modules[i];\n",
              "      if (skip.indexOf(url) !== -1 || existing_scripts.indexOf(url) !== -1) {\n",
              "\tif (!window.requirejs) {\n",
              "\t  on_load();\n",
              "\t}\n",
              "\tcontinue;\n",
              "      }\n",
              "      var element = document.createElement('script');\n",
              "      element.onload = on_load;\n",
              "      element.onerror = on_error;\n",
              "      element.async = false;\n",
              "      element.src = url;\n",
              "      element.type = \"module\";\n",
              "      console.debug(\"Bokeh: injecting script tag for BokehJS library: \", url);\n",
              "      document.head.appendChild(element);\n",
              "    }\n",
              "    for (const name in js_exports) {\n",
              "      var url = js_exports[name];\n",
              "      if (skip.indexOf(url) >= 0 || root[name] != null) {\n",
              "\tif (!window.requirejs) {\n",
              "\t  on_load();\n",
              "\t}\n",
              "\tcontinue;\n",
              "      }\n",
              "      var element = document.createElement('script');\n",
              "      element.onerror = on_error;\n",
              "      element.async = false;\n",
              "      element.type = \"module\";\n",
              "      console.debug(\"Bokeh: injecting script tag for BokehJS library: \", url);\n",
              "      element.textContent = `\n",
              "      import ${name} from \"${url}\"\n",
              "      window.${name} = ${name}\n",
              "      window._bokeh_on_load()\n",
              "      `\n",
              "      document.head.appendChild(element);\n",
              "    }\n",
              "    if (!js_urls.length && !js_modules.length) {\n",
              "      on_load()\n",
              "    }\n",
              "  };\n",
              "\n",
              "  function inject_raw_css(css) {\n",
              "    const element = document.createElement(\"style\");\n",
              "    element.appendChild(document.createTextNode(css));\n",
              "    document.body.appendChild(element);\n",
              "  }\n",
              "\n",
              "  var js_urls = [\"https://cdn.bokeh.org/bokeh/release/bokeh-3.4.3.min.js\", \"https://cdn.bokeh.org/bokeh/release/bokeh-gl-3.4.3.min.js\", \"https://cdn.bokeh.org/bokeh/release/bokeh-widgets-3.4.3.min.js\", \"https://cdn.bokeh.org/bokeh/release/bokeh-tables-3.4.3.min.js\", \"https://cdn.holoviz.org/panel/1.4.5/dist/panel.min.js\"];\n",
              "  var js_modules = [];\n",
              "  var js_exports = {};\n",
              "  var css_urls = [];\n",
              "  var inline_js = [    function(Bokeh) {\n",
              "      Bokeh.set_log_level(\"info\");\n",
              "    },\n",
              "function(Bokeh) {} // ensure no trailing comma for IE\n",
              "  ];\n",
              "\n",
              "  function run_inline_js() {\n",
              "    if ((root.Bokeh !== undefined) || (force === true)) {\n",
              "      for (var i = 0; i < inline_js.length; i++) {\n",
              "\ttry {\n",
              "          inline_js[i].call(root, root.Bokeh);\n",
              "\t} catch(e) {\n",
              "\t  if (!reloading) {\n",
              "\t    throw e;\n",
              "\t  }\n",
              "\t}\n",
              "      }\n",
              "      // Cache old bokeh versions\n",
              "      if (Bokeh != undefined && !reloading) {\n",
              "\tvar NewBokeh = root.Bokeh;\n",
              "\tif (Bokeh.versions === undefined) {\n",
              "\t  Bokeh.versions = new Map();\n",
              "\t}\n",
              "\tif (NewBokeh.version !== Bokeh.version) {\n",
              "\t  Bokeh.versions.set(NewBokeh.version, NewBokeh)\n",
              "\t}\n",
              "\troot.Bokeh = Bokeh;\n",
              "      }} else if (Date.now() < root._bokeh_timeout) {\n",
              "      setTimeout(run_inline_js, 100);\n",
              "    } else if (!root._bokeh_failed_load) {\n",
              "      console.log(\"Bokeh: BokehJS failed to load within specified timeout.\");\n",
              "      root._bokeh_failed_load = true;\n",
              "    }\n",
              "    root._bokeh_is_initializing = false\n",
              "  }\n",
              "\n",
              "  function load_or_wait() {\n",
              "    // Implement a backoff loop that tries to ensure we do not load multiple\n",
              "    // versions of Bokeh and its dependencies at the same time.\n",
              "    // In recent versions we use the root._bokeh_is_initializing flag\n",
              "    // to determine whether there is an ongoing attempt to initialize\n",
              "    // bokeh, however for backward compatibility we also try to ensure\n",
              "    // that we do not start loading a newer (Panel>=1.0 and Bokeh>3) version\n",
              "    // before older versions are fully initialized.\n",
              "    if (root._bokeh_is_initializing && Date.now() > root._bokeh_timeout) {\n",
              "      root._bokeh_is_initializing = false;\n",
              "      root._bokeh_onload_callbacks = undefined;\n",
              "      console.log(\"Bokeh: BokehJS was loaded multiple times but one version failed to initialize.\");\n",
              "      load_or_wait();\n",
              "    } else if (root._bokeh_is_initializing || (typeof root._bokeh_is_initializing === \"undefined\" && root._bokeh_onload_callbacks !== undefined)) {\n",
              "      setTimeout(load_or_wait, 100);\n",
              "    } else {\n",
              "      root._bokeh_is_initializing = true\n",
              "      root._bokeh_onload_callbacks = []\n",
              "      var bokeh_loaded = Bokeh != null && (Bokeh.version === py_version || (Bokeh.versions !== undefined && Bokeh.versions.has(py_version)));\n",
              "      if (!reloading && !bokeh_loaded) {\n",
              "\troot.Bokeh = undefined;\n",
              "      }\n",
              "      load_libs(css_urls, js_urls, js_modules, js_exports, function() {\n",
              "\tconsole.debug(\"Bokeh: BokehJS plotting callback run at\", now());\n",
              "\trun_inline_js();\n",
              "      });\n",
              "    }\n",
              "  }\n",
              "  // Give older versions of the autoload script a head-start to ensure\n",
              "  // they initialize before we start loading newer version.\n",
              "  setTimeout(load_or_wait, 100)\n",
              "}(window));"
            ],
            "application/vnd.holoviews_load.v0+json": "(function(root) {\n  function now() {\n    return new Date();\n  }\n\n  var force = true;\n  var py_version = '3.4.3'.replace('rc', '-rc.').replace('.dev', '-dev.');\n  var reloading = false;\n  var Bokeh = root.Bokeh;\n\n  if (typeof (root._bokeh_timeout) === \"undefined\" || force) {\n    root._bokeh_timeout = Date.now() + 5000;\n    root._bokeh_failed_load = false;\n  }\n\n  function run_callbacks() {\n    try {\n      root._bokeh_onload_callbacks.forEach(function(callback) {\n        if (callback != null)\n          callback();\n      });\n    } finally {\n      delete root._bokeh_onload_callbacks;\n    }\n    console.debug(\"Bokeh: all callbacks have finished\");\n  }\n\n  function load_libs(css_urls, js_urls, js_modules, js_exports, callback) {\n    if (css_urls == null) css_urls = [];\n    if (js_urls == null) js_urls = [];\n    if (js_modules == null) js_modules = [];\n    if (js_exports == null) js_exports = {};\n\n    root._bokeh_onload_callbacks.push(callback);\n\n    if (root._bokeh_is_loading > 0) {\n      console.debug(\"Bokeh: BokehJS is being loaded, scheduling callback at\", now());\n      return null;\n    }\n    if (js_urls.length === 0 && js_modules.length === 0 && Object.keys(js_exports).length === 0) {\n      run_callbacks();\n      return null;\n    }\n    if (!reloading) {\n      console.debug(\"Bokeh: BokehJS not loaded, scheduling load and callback at\", now());\n    }\n\n    function on_load() {\n      root._bokeh_is_loading--;\n      if (root._bokeh_is_loading === 0) {\n        console.debug(\"Bokeh: all BokehJS libraries/stylesheets loaded\");\n        run_callbacks()\n      }\n    }\n    window._bokeh_on_load = on_load\n\n    function on_error() {\n      console.error(\"failed to load \" + url);\n    }\n\n    var skip = [];\n    if (window.requirejs) {\n      window.requirejs.config({'packages': {}, 'paths': {}, 'shim': {}});\n      root._bokeh_is_loading = css_urls.length + 0;\n    } else {\n      root._bokeh_is_loading = css_urls.length + js_urls.length + js_modules.length + Object.keys(js_exports).length;\n    }\n\n    var existing_stylesheets = []\n    var links = document.getElementsByTagName('link')\n    for (var i = 0; i < links.length; i++) {\n      var link = links[i]\n      if (link.href != null) {\n\texisting_stylesheets.push(link.href)\n      }\n    }\n    for (var i = 0; i < css_urls.length; i++) {\n      var url = css_urls[i];\n      if (existing_stylesheets.indexOf(url) !== -1) {\n\ton_load()\n\tcontinue;\n      }\n      const element = document.createElement(\"link\");\n      element.onload = on_load;\n      element.onerror = on_error;\n      element.rel = \"stylesheet\";\n      element.type = \"text/css\";\n      element.href = url;\n      console.debug(\"Bokeh: injecting link tag for BokehJS stylesheet: \", url);\n      document.body.appendChild(element);\n    }    var existing_scripts = []\n    var scripts = document.getElementsByTagName('script')\n    for (var i = 0; i < scripts.length; i++) {\n      var script = scripts[i]\n      if (script.src != null) {\n\texisting_scripts.push(script.src)\n      }\n    }\n    for (var i = 0; i < js_urls.length; i++) {\n      var url = js_urls[i];\n      if (skip.indexOf(url) !== -1 || existing_scripts.indexOf(url) !== -1) {\n\tif (!window.requirejs) {\n\t  on_load();\n\t}\n\tcontinue;\n      }\n      var element = document.createElement('script');\n      element.onload = on_load;\n      element.onerror = on_error;\n      element.async = false;\n      element.src = url;\n      console.debug(\"Bokeh: injecting script tag for BokehJS library: \", url);\n      document.head.appendChild(element);\n    }\n    for (var i = 0; i < js_modules.length; i++) {\n      var url = js_modules[i];\n      if (skip.indexOf(url) !== -1 || existing_scripts.indexOf(url) !== -1) {\n\tif (!window.requirejs) {\n\t  on_load();\n\t}\n\tcontinue;\n      }\n      var element = document.createElement('script');\n      element.onload = on_load;\n      element.onerror = on_error;\n      element.async = false;\n      element.src = url;\n      element.type = \"module\";\n      console.debug(\"Bokeh: injecting script tag for BokehJS library: \", url);\n      document.head.appendChild(element);\n    }\n    for (const name in js_exports) {\n      var url = js_exports[name];\n      if (skip.indexOf(url) >= 0 || root[name] != null) {\n\tif (!window.requirejs) {\n\t  on_load();\n\t}\n\tcontinue;\n      }\n      var element = document.createElement('script');\n      element.onerror = on_error;\n      element.async = false;\n      element.type = \"module\";\n      console.debug(\"Bokeh: injecting script tag for BokehJS library: \", url);\n      element.textContent = `\n      import ${name} from \"${url}\"\n      window.${name} = ${name}\n      window._bokeh_on_load()\n      `\n      document.head.appendChild(element);\n    }\n    if (!js_urls.length && !js_modules.length) {\n      on_load()\n    }\n  };\n\n  function inject_raw_css(css) {\n    const element = document.createElement(\"style\");\n    element.appendChild(document.createTextNode(css));\n    document.body.appendChild(element);\n  }\n\n  var js_urls = [\"https://cdn.bokeh.org/bokeh/release/bokeh-3.4.3.min.js\", \"https://cdn.bokeh.org/bokeh/release/bokeh-gl-3.4.3.min.js\", \"https://cdn.bokeh.org/bokeh/release/bokeh-widgets-3.4.3.min.js\", \"https://cdn.bokeh.org/bokeh/release/bokeh-tables-3.4.3.min.js\", \"https://cdn.holoviz.org/panel/1.4.5/dist/panel.min.js\"];\n  var js_modules = [];\n  var js_exports = {};\n  var css_urls = [];\n  var inline_js = [    function(Bokeh) {\n      Bokeh.set_log_level(\"info\");\n    },\nfunction(Bokeh) {} // ensure no trailing comma for IE\n  ];\n\n  function run_inline_js() {\n    if ((root.Bokeh !== undefined) || (force === true)) {\n      for (var i = 0; i < inline_js.length; i++) {\n\ttry {\n          inline_js[i].call(root, root.Bokeh);\n\t} catch(e) {\n\t  if (!reloading) {\n\t    throw e;\n\t  }\n\t}\n      }\n      // Cache old bokeh versions\n      if (Bokeh != undefined && !reloading) {\n\tvar NewBokeh = root.Bokeh;\n\tif (Bokeh.versions === undefined) {\n\t  Bokeh.versions = new Map();\n\t}\n\tif (NewBokeh.version !== Bokeh.version) {\n\t  Bokeh.versions.set(NewBokeh.version, NewBokeh)\n\t}\n\troot.Bokeh = Bokeh;\n      }} else if (Date.now() < root._bokeh_timeout) {\n      setTimeout(run_inline_js, 100);\n    } else if (!root._bokeh_failed_load) {\n      console.log(\"Bokeh: BokehJS failed to load within specified timeout.\");\n      root._bokeh_failed_load = true;\n    }\n    root._bokeh_is_initializing = false\n  }\n\n  function load_or_wait() {\n    // Implement a backoff loop that tries to ensure we do not load multiple\n    // versions of Bokeh and its dependencies at the same time.\n    // In recent versions we use the root._bokeh_is_initializing flag\n    // to determine whether there is an ongoing attempt to initialize\n    // bokeh, however for backward compatibility we also try to ensure\n    // that we do not start loading a newer (Panel>=1.0 and Bokeh>3) version\n    // before older versions are fully initialized.\n    if (root._bokeh_is_initializing && Date.now() > root._bokeh_timeout) {\n      root._bokeh_is_initializing = false;\n      root._bokeh_onload_callbacks = undefined;\n      console.log(\"Bokeh: BokehJS was loaded multiple times but one version failed to initialize.\");\n      load_or_wait();\n    } else if (root._bokeh_is_initializing || (typeof root._bokeh_is_initializing === \"undefined\" && root._bokeh_onload_callbacks !== undefined)) {\n      setTimeout(load_or_wait, 100);\n    } else {\n      root._bokeh_is_initializing = true\n      root._bokeh_onload_callbacks = []\n      var bokeh_loaded = Bokeh != null && (Bokeh.version === py_version || (Bokeh.versions !== undefined && Bokeh.versions.has(py_version)));\n      if (!reloading && !bokeh_loaded) {\n\troot.Bokeh = undefined;\n      }\n      load_libs(css_urls, js_urls, js_modules, js_exports, function() {\n\tconsole.debug(\"Bokeh: BokehJS plotting callback run at\", now());\n\trun_inline_js();\n      });\n    }\n  }\n  // Give older versions of the autoload script a head-start to ensure\n  // they initialize before we start loading newer version.\n  setTimeout(load_or_wait, 100)\n}(window));"
          },
          "metadata": {}
        },
        {
          "output_type": "display_data",
          "data": {
            "application/vnd.holoviews_load.v0+json": "\nif ((window.PyViz === undefined) || (window.PyViz instanceof HTMLElement)) {\n  window.PyViz = {comms: {}, comm_status:{}, kernels:{}, receivers: {}, plot_index: []}\n}\n\n\n    function JupyterCommManager() {\n    }\n\n    JupyterCommManager.prototype.register_target = function(plot_id, comm_id, msg_handler) {\n      if (window.comm_manager || ((window.Jupyter !== undefined) && (Jupyter.notebook.kernel != null))) {\n        var comm_manager = window.comm_manager || Jupyter.notebook.kernel.comm_manager;\n        comm_manager.register_target(comm_id, function(comm) {\n          comm.on_msg(msg_handler);\n        });\n      } else if ((plot_id in window.PyViz.kernels) && (window.PyViz.kernels[plot_id])) {\n        window.PyViz.kernels[plot_id].registerCommTarget(comm_id, function(comm) {\n          comm.onMsg = msg_handler;\n        });\n      } else if (typeof google != 'undefined' && google.colab.kernel != null) {\n        google.colab.kernel.comms.registerTarget(comm_id, (comm) => {\n          var messages = comm.messages[Symbol.asyncIterator]();\n          function processIteratorResult(result) {\n            var message = result.value;\n            console.log(message)\n            var content = {data: message.data, comm_id};\n            var buffers = []\n            for (var buffer of message.buffers || []) {\n              buffers.push(new DataView(buffer))\n            }\n            var metadata = message.metadata || {};\n            var msg = {content, buffers, metadata}\n            msg_handler(msg);\n            return messages.next().then(processIteratorResult);\n          }\n          return messages.next().then(processIteratorResult);\n        })\n      }\n    }\n\n    JupyterCommManager.prototype.get_client_comm = function(plot_id, comm_id, msg_handler) {\n      if (comm_id in window.PyViz.comms) {\n        return window.PyViz.comms[comm_id];\n      } else if (window.comm_manager || ((window.Jupyter !== undefined) && (Jupyter.notebook.kernel != null))) {\n        var comm_manager = window.comm_manager || Jupyter.notebook.kernel.comm_manager;\n        var comm = comm_manager.new_comm(comm_id, {}, {}, {}, comm_id);\n        if (msg_handler) {\n          comm.on_msg(msg_handler);\n        }\n      } else if ((plot_id in window.PyViz.kernels) && (window.PyViz.kernels[plot_id])) {\n        var comm = window.PyViz.kernels[plot_id].connectToComm(comm_id);\n        comm.open();\n        if (msg_handler) {\n          comm.onMsg = msg_handler;\n        }\n      } else if (typeof google != 'undefined' && google.colab.kernel != null) {\n        var comm_promise = google.colab.kernel.comms.open(comm_id)\n        comm_promise.then((comm) => {\n          window.PyViz.comms[comm_id] = comm;\n          if (msg_handler) {\n            var messages = comm.messages[Symbol.asyncIterator]();\n            function processIteratorResult(result) {\n              var message = result.value;\n              var content = {data: message.data};\n              var metadata = message.metadata || {comm_id};\n              var msg = {content, metadata}\n              msg_handler(msg);\n              return messages.next().then(processIteratorResult);\n            }\n            return messages.next().then(processIteratorResult);\n          }\n        }) \n        var sendClosure = (data, metadata, buffers, disposeOnDone) => {\n          return comm_promise.then((comm) => {\n            comm.send(data, metadata, buffers, disposeOnDone);\n          });\n        };\n        var comm = {\n          send: sendClosure\n        };\n      }\n      window.PyViz.comms[comm_id] = comm;\n      return comm;\n    }\n    window.PyViz.comm_manager = new JupyterCommManager();\n    \n\n\nvar JS_MIME_TYPE = 'application/javascript';\nvar HTML_MIME_TYPE = 'text/html';\nvar EXEC_MIME_TYPE = 'application/vnd.holoviews_exec.v0+json';\nvar CLASS_NAME = 'output';\n\n/**\n * Render data to the DOM node\n */\nfunction render(props, node) {\n  var div = document.createElement(\"div\");\n  var script = document.createElement(\"script\");\n  node.appendChild(div);\n  node.appendChild(script);\n}\n\n/**\n * Handle when a new output is added\n */\nfunction handle_add_output(event, handle) {\n  var output_area = handle.output_area;\n  var output = handle.output;\n  if ((output.data == undefined) || (!output.data.hasOwnProperty(EXEC_MIME_TYPE))) {\n    return\n  }\n  var id = output.metadata[EXEC_MIME_TYPE][\"id\"];\n  var toinsert = output_area.element.find(\".\" + CLASS_NAME.split(' ')[0]);\n  if (id !== undefined) {\n    var nchildren = toinsert.length;\n    var html_node = toinsert[nchildren-1].children[0];\n    html_node.innerHTML = output.data[HTML_MIME_TYPE];\n    var scripts = [];\n    var nodelist = html_node.querySelectorAll(\"script\");\n    for (var i in nodelist) {\n      if (nodelist.hasOwnProperty(i)) {\n        scripts.push(nodelist[i])\n      }\n    }\n\n    scripts.forEach( function (oldScript) {\n      var newScript = document.createElement(\"script\");\n      var attrs = [];\n      var nodemap = oldScript.attributes;\n      for (var j in nodemap) {\n        if (nodemap.hasOwnProperty(j)) {\n          attrs.push(nodemap[j])\n        }\n      }\n      attrs.forEach(function(attr) { newScript.setAttribute(attr.name, attr.value) });\n      newScript.appendChild(document.createTextNode(oldScript.innerHTML));\n      oldScript.parentNode.replaceChild(newScript, oldScript);\n    });\n    if (JS_MIME_TYPE in output.data) {\n      toinsert[nchildren-1].children[1].textContent = output.data[JS_MIME_TYPE];\n    }\n    output_area._hv_plot_id = id;\n    if ((window.Bokeh !== undefined) && (id in Bokeh.index)) {\n      window.PyViz.plot_index[id] = Bokeh.index[id];\n    } else {\n      window.PyViz.plot_index[id] = null;\n    }\n  } else if (output.metadata[EXEC_MIME_TYPE][\"server_id\"] !== undefined) {\n    var bk_div = document.createElement(\"div\");\n    bk_div.innerHTML = output.data[HTML_MIME_TYPE];\n    var script_attrs = bk_div.children[0].attributes;\n    for (var i = 0; i < script_attrs.length; i++) {\n      toinsert[toinsert.length - 1].childNodes[1].setAttribute(script_attrs[i].name, script_attrs[i].value);\n    }\n    // store reference to server id on output_area\n    output_area._bokeh_server_id = output.metadata[EXEC_MIME_TYPE][\"server_id\"];\n  }\n}\n\n/**\n * Handle when an output is cleared or removed\n */\nfunction handle_clear_output(event, handle) {\n  var id = handle.cell.output_area._hv_plot_id;\n  var server_id = handle.cell.output_area._bokeh_server_id;\n  if (((id === undefined) || !(id in PyViz.plot_index)) && (server_id !== undefined)) { return; }\n  var comm = window.PyViz.comm_manager.get_client_comm(\"hv-extension-comm\", \"hv-extension-comm\", function () {});\n  if (server_id !== null) {\n    comm.send({event_type: 'server_delete', 'id': server_id});\n    return;\n  } else if (comm !== null) {\n    comm.send({event_type: 'delete', 'id': id});\n  }\n  delete PyViz.plot_index[id];\n  if ((window.Bokeh !== undefined) & (id in window.Bokeh.index)) {\n    var doc = window.Bokeh.index[id].model.document\n    doc.clear();\n    const i = window.Bokeh.documents.indexOf(doc);\n    if (i > -1) {\n      window.Bokeh.documents.splice(i, 1);\n    }\n  }\n}\n\n/**\n * Handle kernel restart event\n */\nfunction handle_kernel_cleanup(event, handle) {\n  delete PyViz.comms[\"hv-extension-comm\"];\n  window.PyViz.plot_index = {}\n}\n\n/**\n * Handle update_display_data messages\n */\nfunction handle_update_output(event, handle) {\n  handle_clear_output(event, {cell: {output_area: handle.output_area}})\n  handle_add_output(event, handle)\n}\n\nfunction register_renderer(events, OutputArea) {\n  function append_mime(data, metadata, element) {\n    // create a DOM node to render to\n    var toinsert = this.create_output_subarea(\n    metadata,\n    CLASS_NAME,\n    EXEC_MIME_TYPE\n    );\n    this.keyboard_manager.register_events(toinsert);\n    // Render to node\n    var props = {data: data, metadata: metadata[EXEC_MIME_TYPE]};\n    render(props, toinsert[0]);\n    element.append(toinsert);\n    return toinsert\n  }\n\n  events.on('output_added.OutputArea', handle_add_output);\n  events.on('output_updated.OutputArea', handle_update_output);\n  events.on('clear_output.CodeCell', handle_clear_output);\n  events.on('delete.Cell', handle_clear_output);\n  events.on('kernel_ready.Kernel', handle_kernel_cleanup);\n\n  OutputArea.prototype.register_mime_type(EXEC_MIME_TYPE, append_mime, {\n    safe: true,\n    index: 0\n  });\n}\n\nif (window.Jupyter !== undefined) {\n  try {\n    var events = require('base/js/events');\n    var OutputArea = require('notebook/js/outputarea').OutputArea;\n    if (OutputArea.prototype.mime_types().indexOf(EXEC_MIME_TYPE) == -1) {\n      register_renderer(events, OutputArea);\n    }\n  } catch(err) {\n  }\n}\n",
            "application/javascript": [
              "\n",
              "if ((window.PyViz === undefined) || (window.PyViz instanceof HTMLElement)) {\n",
              "  window.PyViz = {comms: {}, comm_status:{}, kernels:{}, receivers: {}, plot_index: []}\n",
              "}\n",
              "\n",
              "\n",
              "    function JupyterCommManager() {\n",
              "    }\n",
              "\n",
              "    JupyterCommManager.prototype.register_target = function(plot_id, comm_id, msg_handler) {\n",
              "      if (window.comm_manager || ((window.Jupyter !== undefined) && (Jupyter.notebook.kernel != null))) {\n",
              "        var comm_manager = window.comm_manager || Jupyter.notebook.kernel.comm_manager;\n",
              "        comm_manager.register_target(comm_id, function(comm) {\n",
              "          comm.on_msg(msg_handler);\n",
              "        });\n",
              "      } else if ((plot_id in window.PyViz.kernels) && (window.PyViz.kernels[plot_id])) {\n",
              "        window.PyViz.kernels[plot_id].registerCommTarget(comm_id, function(comm) {\n",
              "          comm.onMsg = msg_handler;\n",
              "        });\n",
              "      } else if (typeof google != 'undefined' && google.colab.kernel != null) {\n",
              "        google.colab.kernel.comms.registerTarget(comm_id, (comm) => {\n",
              "          var messages = comm.messages[Symbol.asyncIterator]();\n",
              "          function processIteratorResult(result) {\n",
              "            var message = result.value;\n",
              "            console.log(message)\n",
              "            var content = {data: message.data, comm_id};\n",
              "            var buffers = []\n",
              "            for (var buffer of message.buffers || []) {\n",
              "              buffers.push(new DataView(buffer))\n",
              "            }\n",
              "            var metadata = message.metadata || {};\n",
              "            var msg = {content, buffers, metadata}\n",
              "            msg_handler(msg);\n",
              "            return messages.next().then(processIteratorResult);\n",
              "          }\n",
              "          return messages.next().then(processIteratorResult);\n",
              "        })\n",
              "      }\n",
              "    }\n",
              "\n",
              "    JupyterCommManager.prototype.get_client_comm = function(plot_id, comm_id, msg_handler) {\n",
              "      if (comm_id in window.PyViz.comms) {\n",
              "        return window.PyViz.comms[comm_id];\n",
              "      } else if (window.comm_manager || ((window.Jupyter !== undefined) && (Jupyter.notebook.kernel != null))) {\n",
              "        var comm_manager = window.comm_manager || Jupyter.notebook.kernel.comm_manager;\n",
              "        var comm = comm_manager.new_comm(comm_id, {}, {}, {}, comm_id);\n",
              "        if (msg_handler) {\n",
              "          comm.on_msg(msg_handler);\n",
              "        }\n",
              "      } else if ((plot_id in window.PyViz.kernels) && (window.PyViz.kernels[plot_id])) {\n",
              "        var comm = window.PyViz.kernels[plot_id].connectToComm(comm_id);\n",
              "        comm.open();\n",
              "        if (msg_handler) {\n",
              "          comm.onMsg = msg_handler;\n",
              "        }\n",
              "      } else if (typeof google != 'undefined' && google.colab.kernel != null) {\n",
              "        var comm_promise = google.colab.kernel.comms.open(comm_id)\n",
              "        comm_promise.then((comm) => {\n",
              "          window.PyViz.comms[comm_id] = comm;\n",
              "          if (msg_handler) {\n",
              "            var messages = comm.messages[Symbol.asyncIterator]();\n",
              "            function processIteratorResult(result) {\n",
              "              var message = result.value;\n",
              "              var content = {data: message.data};\n",
              "              var metadata = message.metadata || {comm_id};\n",
              "              var msg = {content, metadata}\n",
              "              msg_handler(msg);\n",
              "              return messages.next().then(processIteratorResult);\n",
              "            }\n",
              "            return messages.next().then(processIteratorResult);\n",
              "          }\n",
              "        }) \n",
              "        var sendClosure = (data, metadata, buffers, disposeOnDone) => {\n",
              "          return comm_promise.then((comm) => {\n",
              "            comm.send(data, metadata, buffers, disposeOnDone);\n",
              "          });\n",
              "        };\n",
              "        var comm = {\n",
              "          send: sendClosure\n",
              "        };\n",
              "      }\n",
              "      window.PyViz.comms[comm_id] = comm;\n",
              "      return comm;\n",
              "    }\n",
              "    window.PyViz.comm_manager = new JupyterCommManager();\n",
              "    \n",
              "\n",
              "\n",
              "var JS_MIME_TYPE = 'application/javascript';\n",
              "var HTML_MIME_TYPE = 'text/html';\n",
              "var EXEC_MIME_TYPE = 'application/vnd.holoviews_exec.v0+json';\n",
              "var CLASS_NAME = 'output';\n",
              "\n",
              "/**\n",
              " * Render data to the DOM node\n",
              " */\n",
              "function render(props, node) {\n",
              "  var div = document.createElement(\"div\");\n",
              "  var script = document.createElement(\"script\");\n",
              "  node.appendChild(div);\n",
              "  node.appendChild(script);\n",
              "}\n",
              "\n",
              "/**\n",
              " * Handle when a new output is added\n",
              " */\n",
              "function handle_add_output(event, handle) {\n",
              "  var output_area = handle.output_area;\n",
              "  var output = handle.output;\n",
              "  if ((output.data == undefined) || (!output.data.hasOwnProperty(EXEC_MIME_TYPE))) {\n",
              "    return\n",
              "  }\n",
              "  var id = output.metadata[EXEC_MIME_TYPE][\"id\"];\n",
              "  var toinsert = output_area.element.find(\".\" + CLASS_NAME.split(' ')[0]);\n",
              "  if (id !== undefined) {\n",
              "    var nchildren = toinsert.length;\n",
              "    var html_node = toinsert[nchildren-1].children[0];\n",
              "    html_node.innerHTML = output.data[HTML_MIME_TYPE];\n",
              "    var scripts = [];\n",
              "    var nodelist = html_node.querySelectorAll(\"script\");\n",
              "    for (var i in nodelist) {\n",
              "      if (nodelist.hasOwnProperty(i)) {\n",
              "        scripts.push(nodelist[i])\n",
              "      }\n",
              "    }\n",
              "\n",
              "    scripts.forEach( function (oldScript) {\n",
              "      var newScript = document.createElement(\"script\");\n",
              "      var attrs = [];\n",
              "      var nodemap = oldScript.attributes;\n",
              "      for (var j in nodemap) {\n",
              "        if (nodemap.hasOwnProperty(j)) {\n",
              "          attrs.push(nodemap[j])\n",
              "        }\n",
              "      }\n",
              "      attrs.forEach(function(attr) { newScript.setAttribute(attr.name, attr.value) });\n",
              "      newScript.appendChild(document.createTextNode(oldScript.innerHTML));\n",
              "      oldScript.parentNode.replaceChild(newScript, oldScript);\n",
              "    });\n",
              "    if (JS_MIME_TYPE in output.data) {\n",
              "      toinsert[nchildren-1].children[1].textContent = output.data[JS_MIME_TYPE];\n",
              "    }\n",
              "    output_area._hv_plot_id = id;\n",
              "    if ((window.Bokeh !== undefined) && (id in Bokeh.index)) {\n",
              "      window.PyViz.plot_index[id] = Bokeh.index[id];\n",
              "    } else {\n",
              "      window.PyViz.plot_index[id] = null;\n",
              "    }\n",
              "  } else if (output.metadata[EXEC_MIME_TYPE][\"server_id\"] !== undefined) {\n",
              "    var bk_div = document.createElement(\"div\");\n",
              "    bk_div.innerHTML = output.data[HTML_MIME_TYPE];\n",
              "    var script_attrs = bk_div.children[0].attributes;\n",
              "    for (var i = 0; i < script_attrs.length; i++) {\n",
              "      toinsert[toinsert.length - 1].childNodes[1].setAttribute(script_attrs[i].name, script_attrs[i].value);\n",
              "    }\n",
              "    // store reference to server id on output_area\n",
              "    output_area._bokeh_server_id = output.metadata[EXEC_MIME_TYPE][\"server_id\"];\n",
              "  }\n",
              "}\n",
              "\n",
              "/**\n",
              " * Handle when an output is cleared or removed\n",
              " */\n",
              "function handle_clear_output(event, handle) {\n",
              "  var id = handle.cell.output_area._hv_plot_id;\n",
              "  var server_id = handle.cell.output_area._bokeh_server_id;\n",
              "  if (((id === undefined) || !(id in PyViz.plot_index)) && (server_id !== undefined)) { return; }\n",
              "  var comm = window.PyViz.comm_manager.get_client_comm(\"hv-extension-comm\", \"hv-extension-comm\", function () {});\n",
              "  if (server_id !== null) {\n",
              "    comm.send({event_type: 'server_delete', 'id': server_id});\n",
              "    return;\n",
              "  } else if (comm !== null) {\n",
              "    comm.send({event_type: 'delete', 'id': id});\n",
              "  }\n",
              "  delete PyViz.plot_index[id];\n",
              "  if ((window.Bokeh !== undefined) & (id in window.Bokeh.index)) {\n",
              "    var doc = window.Bokeh.index[id].model.document\n",
              "    doc.clear();\n",
              "    const i = window.Bokeh.documents.indexOf(doc);\n",
              "    if (i > -1) {\n",
              "      window.Bokeh.documents.splice(i, 1);\n",
              "    }\n",
              "  }\n",
              "}\n",
              "\n",
              "/**\n",
              " * Handle kernel restart event\n",
              " */\n",
              "function handle_kernel_cleanup(event, handle) {\n",
              "  delete PyViz.comms[\"hv-extension-comm\"];\n",
              "  window.PyViz.plot_index = {}\n",
              "}\n",
              "\n",
              "/**\n",
              " * Handle update_display_data messages\n",
              " */\n",
              "function handle_update_output(event, handle) {\n",
              "  handle_clear_output(event, {cell: {output_area: handle.output_area}})\n",
              "  handle_add_output(event, handle)\n",
              "}\n",
              "\n",
              "function register_renderer(events, OutputArea) {\n",
              "  function append_mime(data, metadata, element) {\n",
              "    // create a DOM node to render to\n",
              "    var toinsert = this.create_output_subarea(\n",
              "    metadata,\n",
              "    CLASS_NAME,\n",
              "    EXEC_MIME_TYPE\n",
              "    );\n",
              "    this.keyboard_manager.register_events(toinsert);\n",
              "    // Render to node\n",
              "    var props = {data: data, metadata: metadata[EXEC_MIME_TYPE]};\n",
              "    render(props, toinsert[0]);\n",
              "    element.append(toinsert);\n",
              "    return toinsert\n",
              "  }\n",
              "\n",
              "  events.on('output_added.OutputArea', handle_add_output);\n",
              "  events.on('output_updated.OutputArea', handle_update_output);\n",
              "  events.on('clear_output.CodeCell', handle_clear_output);\n",
              "  events.on('delete.Cell', handle_clear_output);\n",
              "  events.on('kernel_ready.Kernel', handle_kernel_cleanup);\n",
              "\n",
              "  OutputArea.prototype.register_mime_type(EXEC_MIME_TYPE, append_mime, {\n",
              "    safe: true,\n",
              "    index: 0\n",
              "  });\n",
              "}\n",
              "\n",
              "if (window.Jupyter !== undefined) {\n",
              "  try {\n",
              "    var events = require('base/js/events');\n",
              "    var OutputArea = require('notebook/js/outputarea').OutputArea;\n",
              "    if (OutputArea.prototype.mime_types().indexOf(EXEC_MIME_TYPE) == -1) {\n",
              "      register_renderer(events, OutputArea);\n",
              "    }\n",
              "  } catch(err) {\n",
              "  }\n",
              "}\n"
            ]
          },
          "metadata": {}
        },
        {
          "output_type": "display_data",
          "data": {
            "text/html": [
              "<style>*[data-root-id],\n",
              "*[data-root-id] > * {\n",
              "  box-sizing: border-box;\n",
              "  font-family: var(--jp-ui-font-family);\n",
              "  font-size: var(--jp-ui-font-size1);\n",
              "  color: var(--vscode-editor-foreground, var(--jp-ui-font-color1));\n",
              "}\n",
              "\n",
              "/* Override VSCode background color */\n",
              ".cell-output-ipywidget-background:has(\n",
              "    > .cell-output-ipywidget-background > .lm-Widget > *[data-root-id]\n",
              "  ),\n",
              ".cell-output-ipywidget-background:has(> .lm-Widget > *[data-root-id]) {\n",
              "  background-color: transparent !important;\n",
              "}\n",
              "</style>"
            ]
          },
          "metadata": {}
        },
        {
          "output_type": "display_data",
          "data": {
            "text/html": [
              "<div id='59ae01c6-daca-4277-a348-857c3e56605b'>\n",
              "  <div id=\"e72f7cea-33d6-44d9-b1d5-ac204ae2fe7f\" data-root-id=\"59ae01c6-daca-4277-a348-857c3e56605b\" style=\"display: contents;\"></div>\n",
              "</div>\n",
              "<script type=\"application/javascript\">(function(root) {\n",
              "  var docs_json = {\"3014d7a0-6aaf-4ec0-ad31-d9803fec2b53\":{\"version\":\"3.4.3\",\"title\":\"Bokeh Application\",\"roots\":[{\"type\":\"object\",\"name\":\"panel.models.browser.BrowserInfo\",\"id\":\"59ae01c6-daca-4277-a348-857c3e56605b\"},{\"type\":\"object\",\"name\":\"panel.models.comm_manager.CommManager\",\"id\":\"d2b9f5b4-f7b8-46b9-98e6-52c7a0935a9b\",\"attributes\":{\"plot_id\":\"59ae01c6-daca-4277-a348-857c3e56605b\",\"comm_id\":\"740159a8113f414c9d5bbaa9e4087794\",\"client_comm_id\":\"c331314904bb4a13b86c2aef37fc0661\"}}],\"defs\":[{\"type\":\"model\",\"name\":\"ReactiveHTML1\"},{\"type\":\"model\",\"name\":\"FlexBox1\",\"properties\":[{\"name\":\"align_content\",\"kind\":\"Any\",\"default\":\"flex-start\"},{\"name\":\"align_items\",\"kind\":\"Any\",\"default\":\"flex-start\"},{\"name\":\"flex_direction\",\"kind\":\"Any\",\"default\":\"row\"},{\"name\":\"flex_wrap\",\"kind\":\"Any\",\"default\":\"wrap\"},{\"name\":\"gap\",\"kind\":\"Any\",\"default\":\"\"},{\"name\":\"justify_content\",\"kind\":\"Any\",\"default\":\"flex-start\"}]},{\"type\":\"model\",\"name\":\"FloatPanel1\",\"properties\":[{\"name\":\"config\",\"kind\":\"Any\",\"default\":{\"type\":\"map\"}},{\"name\":\"contained\",\"kind\":\"Any\",\"default\":true},{\"name\":\"position\",\"kind\":\"Any\",\"default\":\"right-top\"},{\"name\":\"offsetx\",\"kind\":\"Any\",\"default\":null},{\"name\":\"offsety\",\"kind\":\"Any\",\"default\":null},{\"name\":\"theme\",\"kind\":\"Any\",\"default\":\"primary\"},{\"name\":\"status\",\"kind\":\"Any\",\"default\":\"normalized\"}]},{\"type\":\"model\",\"name\":\"GridStack1\",\"properties\":[{\"name\":\"mode\",\"kind\":\"Any\",\"default\":\"warn\"},{\"name\":\"ncols\",\"kind\":\"Any\",\"default\":null},{\"name\":\"nrows\",\"kind\":\"Any\",\"default\":null},{\"name\":\"allow_resize\",\"kind\":\"Any\",\"default\":true},{\"name\":\"allow_drag\",\"kind\":\"Any\",\"default\":true},{\"name\":\"state\",\"kind\":\"Any\",\"default\":[]}]},{\"type\":\"model\",\"name\":\"drag1\",\"properties\":[{\"name\":\"slider_width\",\"kind\":\"Any\",\"default\":5},{\"name\":\"slider_color\",\"kind\":\"Any\",\"default\":\"black\"},{\"name\":\"value\",\"kind\":\"Any\",\"default\":50}]},{\"type\":\"model\",\"name\":\"click1\",\"properties\":[{\"name\":\"terminal_output\",\"kind\":\"Any\",\"default\":\"\"},{\"name\":\"debug_name\",\"kind\":\"Any\",\"default\":\"\"},{\"name\":\"clears\",\"kind\":\"Any\",\"default\":0}]},{\"type\":\"model\",\"name\":\"FastWrapper1\",\"properties\":[{\"name\":\"object\",\"kind\":\"Any\",\"default\":null},{\"name\":\"style\",\"kind\":\"Any\",\"default\":null}]},{\"type\":\"model\",\"name\":\"NotificationAreaBase1\",\"properties\":[{\"name\":\"js_events\",\"kind\":\"Any\",\"default\":{\"type\":\"map\"}},{\"name\":\"position\",\"kind\":\"Any\",\"default\":\"bottom-right\"},{\"name\":\"_clear\",\"kind\":\"Any\",\"default\":0}]},{\"type\":\"model\",\"name\":\"NotificationArea1\",\"properties\":[{\"name\":\"js_events\",\"kind\":\"Any\",\"default\":{\"type\":\"map\"}},{\"name\":\"notifications\",\"kind\":\"Any\",\"default\":[]},{\"name\":\"position\",\"kind\":\"Any\",\"default\":\"bottom-right\"},{\"name\":\"_clear\",\"kind\":\"Any\",\"default\":0},{\"name\":\"types\",\"kind\":\"Any\",\"default\":[{\"type\":\"map\",\"entries\":[[\"type\",\"warning\"],[\"background\",\"#ffc107\"],[\"icon\",{\"type\":\"map\",\"entries\":[[\"className\",\"fas fa-exclamation-triangle\"],[\"tagName\",\"i\"],[\"color\",\"white\"]]}]]},{\"type\":\"map\",\"entries\":[[\"type\",\"info\"],[\"background\",\"#007bff\"],[\"icon\",{\"type\":\"map\",\"entries\":[[\"className\",\"fas fa-info-circle\"],[\"tagName\",\"i\"],[\"color\",\"white\"]]}]]}]}]},{\"type\":\"model\",\"name\":\"Notification\",\"properties\":[{\"name\":\"background\",\"kind\":\"Any\",\"default\":null},{\"name\":\"duration\",\"kind\":\"Any\",\"default\":3000},{\"name\":\"icon\",\"kind\":\"Any\",\"default\":null},{\"name\":\"message\",\"kind\":\"Any\",\"default\":\"\"},{\"name\":\"notification_type\",\"kind\":\"Any\",\"default\":null},{\"name\":\"_destroyed\",\"kind\":\"Any\",\"default\":false}]},{\"type\":\"model\",\"name\":\"TemplateActions1\",\"properties\":[{\"name\":\"open_modal\",\"kind\":\"Any\",\"default\":0},{\"name\":\"close_modal\",\"kind\":\"Any\",\"default\":0}]},{\"type\":\"model\",\"name\":\"BootstrapTemplateActions1\",\"properties\":[{\"name\":\"open_modal\",\"kind\":\"Any\",\"default\":0},{\"name\":\"close_modal\",\"kind\":\"Any\",\"default\":0}]},{\"type\":\"model\",\"name\":\"TemplateEditor1\",\"properties\":[{\"name\":\"layout\",\"kind\":\"Any\",\"default\":[]}]},{\"type\":\"model\",\"name\":\"MaterialTemplateActions1\",\"properties\":[{\"name\":\"open_modal\",\"kind\":\"Any\",\"default\":0},{\"name\":\"close_modal\",\"kind\":\"Any\",\"default\":0}]},{\"type\":\"model\",\"name\":\"copy_to_clipboard1\",\"properties\":[{\"name\":\"fill\",\"kind\":\"Any\",\"default\":\"none\"},{\"name\":\"value\",\"kind\":\"Any\",\"default\":null}]}]}};\n",
              "  var render_items = [{\"docid\":\"3014d7a0-6aaf-4ec0-ad31-d9803fec2b53\",\"roots\":{\"59ae01c6-daca-4277-a348-857c3e56605b\":\"e72f7cea-33d6-44d9-b1d5-ac204ae2fe7f\"},\"root_ids\":[\"59ae01c6-daca-4277-a348-857c3e56605b\"]}];\n",
              "  var docs = Object.values(docs_json)\n",
              "  if (!docs) {\n",
              "    return\n",
              "  }\n",
              "  const py_version = docs[0].version.replace('rc', '-rc.').replace('.dev', '-dev.')\n",
              "  async function embed_document(root) {\n",
              "    var Bokeh = get_bokeh(root)\n",
              "    await Bokeh.embed.embed_items_notebook(docs_json, render_items);\n",
              "    for (const render_item of render_items) {\n",
              "      for (const root_id of render_item.root_ids) {\n",
              "\tconst id_el = document.getElementById(root_id)\n",
              "\tif (id_el.children.length && id_el.children[0].hasAttribute('data-root-id')) {\n",
              "\t  const root_el = id_el.children[0]\n",
              "\t  root_el.id = root_el.id + '-rendered'\n",
              "\t  for (const child of root_el.children) {\n",
              "            // Ensure JupyterLab does not capture keyboard shortcuts\n",
              "            // see: https://jupyterlab.readthedocs.io/en/4.1.x/extension/notebook.html#keyboard-interaction-model\n",
              "\t    child.setAttribute('data-lm-suppress-shortcuts', 'true')\n",
              "\t  }\n",
              "\t}\n",
              "      }\n",
              "    }\n",
              "  }\n",
              "  function get_bokeh(root) {\n",
              "    if (root.Bokeh === undefined) {\n",
              "      return null\n",
              "    } else if (root.Bokeh.version !== py_version) {\n",
              "      if (root.Bokeh.versions === undefined || !root.Bokeh.versions.has(py_version)) {\n",
              "\treturn null\n",
              "      }\n",
              "      return root.Bokeh.versions.get(py_version);\n",
              "    } else if (root.Bokeh.version === py_version) {\n",
              "      return root.Bokeh\n",
              "    }\n",
              "    return null\n",
              "  }\n",
              "  function is_loaded(root) {\n",
              "    var Bokeh = get_bokeh(root)\n",
              "    return (Bokeh != null && Bokeh.Panel !== undefined)\n",
              "  }\n",
              "  if (is_loaded(root)) {\n",
              "    embed_document(root);\n",
              "  } else {\n",
              "    var attempts = 0;\n",
              "    var timer = setInterval(function(root) {\n",
              "      if (is_loaded(root)) {\n",
              "        clearInterval(timer);\n",
              "        embed_document(root);\n",
              "      } else if (document.readyState == \"complete\") {\n",
              "        attempts++;\n",
              "        if (attempts > 200) {\n",
              "          clearInterval(timer);\n",
              "\t  var Bokeh = get_bokeh(root)\n",
              "\t  if (Bokeh == null || Bokeh.Panel == null) {\n",
              "            console.warn(\"Panel: ERROR: Unable to run Panel code because Bokeh or Panel library is missing\");\n",
              "\t  } else {\n",
              "\t    console.warn(\"Panel: WARNING: Attempting to render but not all required libraries could be resolved.\")\n",
              "\t    embed_document(root)\n",
              "\t  }\n",
              "        }\n",
              "      }\n",
              "    }, 25, root)\n",
              "  }\n",
              "})(window);</script>"
            ],
            "application/vnd.holoviews_exec.v0+json": ""
          },
          "metadata": {
            "application/vnd.holoviews_exec.v0+json": {
              "id": "59ae01c6-daca-4277-a348-857c3e56605b"
            }
          }
        }
      ]
    },
    {
      "cell_type": "code",
      "source": [
        "import panel as pn\n",
        "import param\n",
        "\n",
        "class cbfs(param.Parameterized):\n",
        "    chat_history = param.List([])\n",
        "    answer = param.String(\"\")\n",
        "    db_query  = param.String(\"\")\n",
        "    db_response = param.List([])\n",
        "\n",
        "    def __init__(self,  **params):\n",
        "        super(cbfs, self).__init__( **params)\n",
        "        self.panels = []\n",
        "        self.loaded_file = \"drive/MyDrive/Data/Groupama23.pdf\"\n",
        "        self.qa = load_db(self.loaded_file,\"stuff\", 4)\n",
        "\n",
        "    def call_load_db(self, count):\n",
        "        if count == 0 or file_input.value is None:  # init or no file specified :\n",
        "            return pn.pane.Markdown(f\"Loaded File: {self.loaded_file}\")\n",
        "        else:\n",
        "            file_input.save(\"temp.pdf\")  # local copy\n",
        "            self.loaded_file = file_input.filename\n",
        "            button_load.button_style=\"outline\"\n",
        "            self.qa = load_db(\"temp.pdf\", \"stuff\", 4)\n",
        "            button_load.button_style=\"solid\"\n",
        "        self.clr_history()\n",
        "        return pn.pane.Markdown(f\"Loaded File: {self.loaded_file}\")\n",
        "\n",
        "    def convchain(self, query):\n",
        "        if not query:\n",
        "            return pn.WidgetBox(pn.Row('User:', pn.pane.Markdown(\"\", width=600)), scroll=True)\n",
        "        result = self.qa({\"question\": query, \"chat_history\": self.chat_history})\n",
        "        self.chat_history.extend([(query, result[\"answer\"])])\n",
        "        self.db_query = result[\"generated_question\"]\n",
        "        self.db_response = result[\"source_documents\"]\n",
        "        self.answer = result['answer']\n",
        "        self.panels.extend([\n",
        "            pn.Row('User:', pn.pane.Markdown(query, width=600)),\n",
        "            pn.Row('ChatBot:', pn.pane.Markdown(self.answer, width=600, style={'background-color': '#F6F6F6'}))\n",
        "        ])\n",
        "        inp.value = ''  #clears loading indicator when cleared\n",
        "        return pn.WidgetBox(*self.panels,scroll=True)\n",
        "\n",
        "    @param.depends('db_query ', )\n",
        "    def get_lquest(self):\n",
        "        if not self.db_query :\n",
        "            return pn.Column(\n",
        "                pn.Row(pn.pane.Markdown(f\"Last question to DB:\", styles={'background-color': '#F6F6F6'})),\n",
        "                pn.Row(pn.pane.Str(\"no DB accesses so far\"))\n",
        "            )\n",
        "        return pn.Column(\n",
        "            pn.Row(pn.pane.Markdown(f\"DB query:\", styles={'background-color': '#F6F6F6'})),\n",
        "            pn.pane.Str(self.db_query )\n",
        "        )\n",
        "\n",
        "    @param.depends('db_response', )\n",
        "    def get_sources(self):\n",
        "        if not self.db_response:\n",
        "            return\n",
        "        rlist=[pn.Row(pn.pane.Markdown(f\"Result of DB lookup:\", styles={'background-color': '#F6F6F6'}))]\n",
        "        for doc in self.db_response:\n",
        "            rlist.append(pn.Row(pn.pane.Str(doc)))\n",
        "        return pn.WidgetBox(*rlist, width=600, scroll=True)\n",
        "\n",
        "    @param.depends('convchain', 'clr_history')\n",
        "    def get_chats(self):\n",
        "        if not self.chat_history:\n",
        "            return pn.WidgetBox(pn.Row(pn.pane.Str(\"No History Yet\")), width=600, scroll=True)\n",
        "        rlist=[pn.Row(pn.pane.Markdown(f\"Current Chat History variable\", styles={'background-color': '#F6F6F6'}))]\n",
        "        for exchange in self.chat_history:\n",
        "            rlist.append(pn.Row(pn.pane.Str(exchange)))\n",
        "        return pn.WidgetBox(*rlist, width=600, scroll=True)\n",
        "\n",
        "    def clr_history(self,count=0):\n",
        "        self.chat_history = []\n",
        "        return\n"
      ],
      "metadata": {
        "id": "tY_ttuA5aGNP"
      },
      "execution_count": null,
      "outputs": []
    },
    {
      "cell_type": "markdown",
      "source": [
        "Create a Chatbot"
      ],
      "metadata": {
        "id": "rfW2uYURcHq3"
      }
    },
    {
      "cell_type": "code",
      "source": [
        "pip install jupyter_bokeh #facilite l'intégration de visualisations interactives Bokeh dans les notebooks Jupyter"
      ],
      "metadata": {
        "id": "NGANJ4mLe5DM"
      },
      "execution_count": null,
      "outputs": []
    },
    {
      "cell_type": "code",
      "source": [
        "pn.pane.Markdown()"
      ],
      "metadata": {
        "colab": {
          "base_uri": "https://localhost:8080/",
          "height": 27
        },
        "id": "5uPgKn3OlS9R",
        "outputId": "687f0acd-d36d-49d3-89c3-a34931fb5525"
      },
      "execution_count": null,
      "outputs": [
        {
          "output_type": "display_data",
          "data": {
            "application/javascript": [
              "(function(root) {\n",
              "  function now() {\n",
              "    return new Date();\n",
              "  }\n",
              "\n",
              "  var force = true;\n",
              "  var py_version = '3.4.3'.replace('rc', '-rc.').replace('.dev', '-dev.');\n",
              "  var reloading = false;\n",
              "  var Bokeh = root.Bokeh;\n",
              "\n",
              "  if (typeof (root._bokeh_timeout) === \"undefined\" || force) {\n",
              "    root._bokeh_timeout = Date.now() + 5000;\n",
              "    root._bokeh_failed_load = false;\n",
              "  }\n",
              "\n",
              "  function run_callbacks() {\n",
              "    try {\n",
              "      root._bokeh_onload_callbacks.forEach(function(callback) {\n",
              "        if (callback != null)\n",
              "          callback();\n",
              "      });\n",
              "    } finally {\n",
              "      delete root._bokeh_onload_callbacks;\n",
              "    }\n",
              "    console.debug(\"Bokeh: all callbacks have finished\");\n",
              "  }\n",
              "\n",
              "  function load_libs(css_urls, js_urls, js_modules, js_exports, callback) {\n",
              "    if (css_urls == null) css_urls = [];\n",
              "    if (js_urls == null) js_urls = [];\n",
              "    if (js_modules == null) js_modules = [];\n",
              "    if (js_exports == null) js_exports = {};\n",
              "\n",
              "    root._bokeh_onload_callbacks.push(callback);\n",
              "\n",
              "    if (root._bokeh_is_loading > 0) {\n",
              "      console.debug(\"Bokeh: BokehJS is being loaded, scheduling callback at\", now());\n",
              "      return null;\n",
              "    }\n",
              "    if (js_urls.length === 0 && js_modules.length === 0 && Object.keys(js_exports).length === 0) {\n",
              "      run_callbacks();\n",
              "      return null;\n",
              "    }\n",
              "    if (!reloading) {\n",
              "      console.debug(\"Bokeh: BokehJS not loaded, scheduling load and callback at\", now());\n",
              "    }\n",
              "\n",
              "    function on_load() {\n",
              "      root._bokeh_is_loading--;\n",
              "      if (root._bokeh_is_loading === 0) {\n",
              "        console.debug(\"Bokeh: all BokehJS libraries/stylesheets loaded\");\n",
              "        run_callbacks()\n",
              "      }\n",
              "    }\n",
              "    window._bokeh_on_load = on_load\n",
              "\n",
              "    function on_error() {\n",
              "      console.error(\"failed to load \" + url);\n",
              "    }\n",
              "\n",
              "    var skip = [];\n",
              "    if (window.requirejs) {\n",
              "      window.requirejs.config({'packages': {}, 'paths': {}, 'shim': {}});\n",
              "      root._bokeh_is_loading = css_urls.length + 0;\n",
              "    } else {\n",
              "      root._bokeh_is_loading = css_urls.length + js_urls.length + js_modules.length + Object.keys(js_exports).length;\n",
              "    }\n",
              "\n",
              "    var existing_stylesheets = []\n",
              "    var links = document.getElementsByTagName('link')\n",
              "    for (var i = 0; i < links.length; i++) {\n",
              "      var link = links[i]\n",
              "      if (link.href != null) {\n",
              "\texisting_stylesheets.push(link.href)\n",
              "      }\n",
              "    }\n",
              "    for (var i = 0; i < css_urls.length; i++) {\n",
              "      var url = css_urls[i];\n",
              "      if (existing_stylesheets.indexOf(url) !== -1) {\n",
              "\ton_load()\n",
              "\tcontinue;\n",
              "      }\n",
              "      const element = document.createElement(\"link\");\n",
              "      element.onload = on_load;\n",
              "      element.onerror = on_error;\n",
              "      element.rel = \"stylesheet\";\n",
              "      element.type = \"text/css\";\n",
              "      element.href = url;\n",
              "      console.debug(\"Bokeh: injecting link tag for BokehJS stylesheet: \", url);\n",
              "      document.body.appendChild(element);\n",
              "    }    var existing_scripts = []\n",
              "    var scripts = document.getElementsByTagName('script')\n",
              "    for (var i = 0; i < scripts.length; i++) {\n",
              "      var script = scripts[i]\n",
              "      if (script.src != null) {\n",
              "\texisting_scripts.push(script.src)\n",
              "      }\n",
              "    }\n",
              "    for (var i = 0; i < js_urls.length; i++) {\n",
              "      var url = js_urls[i];\n",
              "      if (skip.indexOf(url) !== -1 || existing_scripts.indexOf(url) !== -1) {\n",
              "\tif (!window.requirejs) {\n",
              "\t  on_load();\n",
              "\t}\n",
              "\tcontinue;\n",
              "      }\n",
              "      var element = document.createElement('script');\n",
              "      element.onload = on_load;\n",
              "      element.onerror = on_error;\n",
              "      element.async = false;\n",
              "      element.src = url;\n",
              "      console.debug(\"Bokeh: injecting script tag for BokehJS library: \", url);\n",
              "      document.head.appendChild(element);\n",
              "    }\n",
              "    for (var i = 0; i < js_modules.length; i++) {\n",
              "      var url = js_modules[i];\n",
              "      if (skip.indexOf(url) !== -1 || existing_scripts.indexOf(url) !== -1) {\n",
              "\tif (!window.requirejs) {\n",
              "\t  on_load();\n",
              "\t}\n",
              "\tcontinue;\n",
              "      }\n",
              "      var element = document.createElement('script');\n",
              "      element.onload = on_load;\n",
              "      element.onerror = on_error;\n",
              "      element.async = false;\n",
              "      element.src = url;\n",
              "      element.type = \"module\";\n",
              "      console.debug(\"Bokeh: injecting script tag for BokehJS library: \", url);\n",
              "      document.head.appendChild(element);\n",
              "    }\n",
              "    for (const name in js_exports) {\n",
              "      var url = js_exports[name];\n",
              "      if (skip.indexOf(url) >= 0 || root[name] != null) {\n",
              "\tif (!window.requirejs) {\n",
              "\t  on_load();\n",
              "\t}\n",
              "\tcontinue;\n",
              "      }\n",
              "      var element = document.createElement('script');\n",
              "      element.onerror = on_error;\n",
              "      element.async = false;\n",
              "      element.type = \"module\";\n",
              "      console.debug(\"Bokeh: injecting script tag for BokehJS library: \", url);\n",
              "      element.textContent = `\n",
              "      import ${name} from \"${url}\"\n",
              "      window.${name} = ${name}\n",
              "      window._bokeh_on_load()\n",
              "      `\n",
              "      document.head.appendChild(element);\n",
              "    }\n",
              "    if (!js_urls.length && !js_modules.length) {\n",
              "      on_load()\n",
              "    }\n",
              "  };\n",
              "\n",
              "  function inject_raw_css(css) {\n",
              "    const element = document.createElement(\"style\");\n",
              "    element.appendChild(document.createTextNode(css));\n",
              "    document.body.appendChild(element);\n",
              "  }\n",
              "\n",
              "  var js_urls = [\"https://cdn.bokeh.org/bokeh/release/bokeh-3.4.3.min.js\", \"https://cdn.bokeh.org/bokeh/release/bokeh-gl-3.4.3.min.js\", \"https://cdn.bokeh.org/bokeh/release/bokeh-widgets-3.4.3.min.js\", \"https://cdn.bokeh.org/bokeh/release/bokeh-tables-3.4.3.min.js\", \"https://cdn.holoviz.org/panel/1.4.5/dist/panel.min.js\"];\n",
              "  var js_modules = [];\n",
              "  var js_exports = {};\n",
              "  var css_urls = [];\n",
              "  var inline_js = [    function(Bokeh) {\n",
              "      Bokeh.set_log_level(\"info\");\n",
              "    },\n",
              "function(Bokeh) {} // ensure no trailing comma for IE\n",
              "  ];\n",
              "\n",
              "  function run_inline_js() {\n",
              "    if ((root.Bokeh !== undefined) || (force === true)) {\n",
              "      for (var i = 0; i < inline_js.length; i++) {\n",
              "\ttry {\n",
              "          inline_js[i].call(root, root.Bokeh);\n",
              "\t} catch(e) {\n",
              "\t  if (!reloading) {\n",
              "\t    throw e;\n",
              "\t  }\n",
              "\t}\n",
              "      }\n",
              "      // Cache old bokeh versions\n",
              "      if (Bokeh != undefined && !reloading) {\n",
              "\tvar NewBokeh = root.Bokeh;\n",
              "\tif (Bokeh.versions === undefined) {\n",
              "\t  Bokeh.versions = new Map();\n",
              "\t}\n",
              "\tif (NewBokeh.version !== Bokeh.version) {\n",
              "\t  Bokeh.versions.set(NewBokeh.version, NewBokeh)\n",
              "\t}\n",
              "\troot.Bokeh = Bokeh;\n",
              "      }} else if (Date.now() < root._bokeh_timeout) {\n",
              "      setTimeout(run_inline_js, 100);\n",
              "    } else if (!root._bokeh_failed_load) {\n",
              "      console.log(\"Bokeh: BokehJS failed to load within specified timeout.\");\n",
              "      root._bokeh_failed_load = true;\n",
              "    }\n",
              "    root._bokeh_is_initializing = false\n",
              "  }\n",
              "\n",
              "  function load_or_wait() {\n",
              "    // Implement a backoff loop that tries to ensure we do not load multiple\n",
              "    // versions of Bokeh and its dependencies at the same time.\n",
              "    // In recent versions we use the root._bokeh_is_initializing flag\n",
              "    // to determine whether there is an ongoing attempt to initialize\n",
              "    // bokeh, however for backward compatibility we also try to ensure\n",
              "    // that we do not start loading a newer (Panel>=1.0 and Bokeh>3) version\n",
              "    // before older versions are fully initialized.\n",
              "    if (root._bokeh_is_initializing && Date.now() > root._bokeh_timeout) {\n",
              "      root._bokeh_is_initializing = false;\n",
              "      root._bokeh_onload_callbacks = undefined;\n",
              "      console.log(\"Bokeh: BokehJS was loaded multiple times but one version failed to initialize.\");\n",
              "      load_or_wait();\n",
              "    } else if (root._bokeh_is_initializing || (typeof root._bokeh_is_initializing === \"undefined\" && root._bokeh_onload_callbacks !== undefined)) {\n",
              "      setTimeout(load_or_wait, 100);\n",
              "    } else {\n",
              "      root._bokeh_is_initializing = true\n",
              "      root._bokeh_onload_callbacks = []\n",
              "      var bokeh_loaded = Bokeh != null && (Bokeh.version === py_version || (Bokeh.versions !== undefined && Bokeh.versions.has(py_version)));\n",
              "      if (!reloading && !bokeh_loaded) {\n",
              "\troot.Bokeh = undefined;\n",
              "      }\n",
              "      load_libs(css_urls, js_urls, js_modules, js_exports, function() {\n",
              "\tconsole.debug(\"Bokeh: BokehJS plotting callback run at\", now());\n",
              "\trun_inline_js();\n",
              "      });\n",
              "    }\n",
              "  }\n",
              "  // Give older versions of the autoload script a head-start to ensure\n",
              "  // they initialize before we start loading newer version.\n",
              "  setTimeout(load_or_wait, 100)\n",
              "}(window));"
            ],
            "application/vnd.holoviews_load.v0+json": "(function(root) {\n  function now() {\n    return new Date();\n  }\n\n  var force = true;\n  var py_version = '3.4.3'.replace('rc', '-rc.').replace('.dev', '-dev.');\n  var reloading = false;\n  var Bokeh = root.Bokeh;\n\n  if (typeof (root._bokeh_timeout) === \"undefined\" || force) {\n    root._bokeh_timeout = Date.now() + 5000;\n    root._bokeh_failed_load = false;\n  }\n\n  function run_callbacks() {\n    try {\n      root._bokeh_onload_callbacks.forEach(function(callback) {\n        if (callback != null)\n          callback();\n      });\n    } finally {\n      delete root._bokeh_onload_callbacks;\n    }\n    console.debug(\"Bokeh: all callbacks have finished\");\n  }\n\n  function load_libs(css_urls, js_urls, js_modules, js_exports, callback) {\n    if (css_urls == null) css_urls = [];\n    if (js_urls == null) js_urls = [];\n    if (js_modules == null) js_modules = [];\n    if (js_exports == null) js_exports = {};\n\n    root._bokeh_onload_callbacks.push(callback);\n\n    if (root._bokeh_is_loading > 0) {\n      console.debug(\"Bokeh: BokehJS is being loaded, scheduling callback at\", now());\n      return null;\n    }\n    if (js_urls.length === 0 && js_modules.length === 0 && Object.keys(js_exports).length === 0) {\n      run_callbacks();\n      return null;\n    }\n    if (!reloading) {\n      console.debug(\"Bokeh: BokehJS not loaded, scheduling load and callback at\", now());\n    }\n\n    function on_load() {\n      root._bokeh_is_loading--;\n      if (root._bokeh_is_loading === 0) {\n        console.debug(\"Bokeh: all BokehJS libraries/stylesheets loaded\");\n        run_callbacks()\n      }\n    }\n    window._bokeh_on_load = on_load\n\n    function on_error() {\n      console.error(\"failed to load \" + url);\n    }\n\n    var skip = [];\n    if (window.requirejs) {\n      window.requirejs.config({'packages': {}, 'paths': {}, 'shim': {}});\n      root._bokeh_is_loading = css_urls.length + 0;\n    } else {\n      root._bokeh_is_loading = css_urls.length + js_urls.length + js_modules.length + Object.keys(js_exports).length;\n    }\n\n    var existing_stylesheets = []\n    var links = document.getElementsByTagName('link')\n    for (var i = 0; i < links.length; i++) {\n      var link = links[i]\n      if (link.href != null) {\n\texisting_stylesheets.push(link.href)\n      }\n    }\n    for (var i = 0; i < css_urls.length; i++) {\n      var url = css_urls[i];\n      if (existing_stylesheets.indexOf(url) !== -1) {\n\ton_load()\n\tcontinue;\n      }\n      const element = document.createElement(\"link\");\n      element.onload = on_load;\n      element.onerror = on_error;\n      element.rel = \"stylesheet\";\n      element.type = \"text/css\";\n      element.href = url;\n      console.debug(\"Bokeh: injecting link tag for BokehJS stylesheet: \", url);\n      document.body.appendChild(element);\n    }    var existing_scripts = []\n    var scripts = document.getElementsByTagName('script')\n    for (var i = 0; i < scripts.length; i++) {\n      var script = scripts[i]\n      if (script.src != null) {\n\texisting_scripts.push(script.src)\n      }\n    }\n    for (var i = 0; i < js_urls.length; i++) {\n      var url = js_urls[i];\n      if (skip.indexOf(url) !== -1 || existing_scripts.indexOf(url) !== -1) {\n\tif (!window.requirejs) {\n\t  on_load();\n\t}\n\tcontinue;\n      }\n      var element = document.createElement('script');\n      element.onload = on_load;\n      element.onerror = on_error;\n      element.async = false;\n      element.src = url;\n      console.debug(\"Bokeh: injecting script tag for BokehJS library: \", url);\n      document.head.appendChild(element);\n    }\n    for (var i = 0; i < js_modules.length; i++) {\n      var url = js_modules[i];\n      if (skip.indexOf(url) !== -1 || existing_scripts.indexOf(url) !== -1) {\n\tif (!window.requirejs) {\n\t  on_load();\n\t}\n\tcontinue;\n      }\n      var element = document.createElement('script');\n      element.onload = on_load;\n      element.onerror = on_error;\n      element.async = false;\n      element.src = url;\n      element.type = \"module\";\n      console.debug(\"Bokeh: injecting script tag for BokehJS library: \", url);\n      document.head.appendChild(element);\n    }\n    for (const name in js_exports) {\n      var url = js_exports[name];\n      if (skip.indexOf(url) >= 0 || root[name] != null) {\n\tif (!window.requirejs) {\n\t  on_load();\n\t}\n\tcontinue;\n      }\n      var element = document.createElement('script');\n      element.onerror = on_error;\n      element.async = false;\n      element.type = \"module\";\n      console.debug(\"Bokeh: injecting script tag for BokehJS library: \", url);\n      element.textContent = `\n      import ${name} from \"${url}\"\n      window.${name} = ${name}\n      window._bokeh_on_load()\n      `\n      document.head.appendChild(element);\n    }\n    if (!js_urls.length && !js_modules.length) {\n      on_load()\n    }\n  };\n\n  function inject_raw_css(css) {\n    const element = document.createElement(\"style\");\n    element.appendChild(document.createTextNode(css));\n    document.body.appendChild(element);\n  }\n\n  var js_urls = [\"https://cdn.bokeh.org/bokeh/release/bokeh-3.4.3.min.js\", \"https://cdn.bokeh.org/bokeh/release/bokeh-gl-3.4.3.min.js\", \"https://cdn.bokeh.org/bokeh/release/bokeh-widgets-3.4.3.min.js\", \"https://cdn.bokeh.org/bokeh/release/bokeh-tables-3.4.3.min.js\", \"https://cdn.holoviz.org/panel/1.4.5/dist/panel.min.js\"];\n  var js_modules = [];\n  var js_exports = {};\n  var css_urls = [];\n  var inline_js = [    function(Bokeh) {\n      Bokeh.set_log_level(\"info\");\n    },\nfunction(Bokeh) {} // ensure no trailing comma for IE\n  ];\n\n  function run_inline_js() {\n    if ((root.Bokeh !== undefined) || (force === true)) {\n      for (var i = 0; i < inline_js.length; i++) {\n\ttry {\n          inline_js[i].call(root, root.Bokeh);\n\t} catch(e) {\n\t  if (!reloading) {\n\t    throw e;\n\t  }\n\t}\n      }\n      // Cache old bokeh versions\n      if (Bokeh != undefined && !reloading) {\n\tvar NewBokeh = root.Bokeh;\n\tif (Bokeh.versions === undefined) {\n\t  Bokeh.versions = new Map();\n\t}\n\tif (NewBokeh.version !== Bokeh.version) {\n\t  Bokeh.versions.set(NewBokeh.version, NewBokeh)\n\t}\n\troot.Bokeh = Bokeh;\n      }} else if (Date.now() < root._bokeh_timeout) {\n      setTimeout(run_inline_js, 100);\n    } else if (!root._bokeh_failed_load) {\n      console.log(\"Bokeh: BokehJS failed to load within specified timeout.\");\n      root._bokeh_failed_load = true;\n    }\n    root._bokeh_is_initializing = false\n  }\n\n  function load_or_wait() {\n    // Implement a backoff loop that tries to ensure we do not load multiple\n    // versions of Bokeh and its dependencies at the same time.\n    // In recent versions we use the root._bokeh_is_initializing flag\n    // to determine whether there is an ongoing attempt to initialize\n    // bokeh, however for backward compatibility we also try to ensure\n    // that we do not start loading a newer (Panel>=1.0 and Bokeh>3) version\n    // before older versions are fully initialized.\n    if (root._bokeh_is_initializing && Date.now() > root._bokeh_timeout) {\n      root._bokeh_is_initializing = false;\n      root._bokeh_onload_callbacks = undefined;\n      console.log(\"Bokeh: BokehJS was loaded multiple times but one version failed to initialize.\");\n      load_or_wait();\n    } else if (root._bokeh_is_initializing || (typeof root._bokeh_is_initializing === \"undefined\" && root._bokeh_onload_callbacks !== undefined)) {\n      setTimeout(load_or_wait, 100);\n    } else {\n      root._bokeh_is_initializing = true\n      root._bokeh_onload_callbacks = []\n      var bokeh_loaded = Bokeh != null && (Bokeh.version === py_version || (Bokeh.versions !== undefined && Bokeh.versions.has(py_version)));\n      if (!reloading && !bokeh_loaded) {\n\troot.Bokeh = undefined;\n      }\n      load_libs(css_urls, js_urls, js_modules, js_exports, function() {\n\tconsole.debug(\"Bokeh: BokehJS plotting callback run at\", now());\n\trun_inline_js();\n      });\n    }\n  }\n  // Give older versions of the autoload script a head-start to ensure\n  // they initialize before we start loading newer version.\n  setTimeout(load_or_wait, 100)\n}(window));"
          },
          "metadata": {}
        },
        {
          "output_type": "display_data",
          "data": {
            "application/vnd.holoviews_load.v0+json": "\nif ((window.PyViz === undefined) || (window.PyViz instanceof HTMLElement)) {\n  window.PyViz = {comms: {}, comm_status:{}, kernels:{}, receivers: {}, plot_index: []}\n}\n\n\n    function JupyterCommManager() {\n    }\n\n    JupyterCommManager.prototype.register_target = function(plot_id, comm_id, msg_handler) {\n      if (window.comm_manager || ((window.Jupyter !== undefined) && (Jupyter.notebook.kernel != null))) {\n        var comm_manager = window.comm_manager || Jupyter.notebook.kernel.comm_manager;\n        comm_manager.register_target(comm_id, function(comm) {\n          comm.on_msg(msg_handler);\n        });\n      } else if ((plot_id in window.PyViz.kernels) && (window.PyViz.kernels[plot_id])) {\n        window.PyViz.kernels[plot_id].registerCommTarget(comm_id, function(comm) {\n          comm.onMsg = msg_handler;\n        });\n      } else if (typeof google != 'undefined' && google.colab.kernel != null) {\n        google.colab.kernel.comms.registerTarget(comm_id, (comm) => {\n          var messages = comm.messages[Symbol.asyncIterator]();\n          function processIteratorResult(result) {\n            var message = result.value;\n            console.log(message)\n            var content = {data: message.data, comm_id};\n            var buffers = []\n            for (var buffer of message.buffers || []) {\n              buffers.push(new DataView(buffer))\n            }\n            var metadata = message.metadata || {};\n            var msg = {content, buffers, metadata}\n            msg_handler(msg);\n            return messages.next().then(processIteratorResult);\n          }\n          return messages.next().then(processIteratorResult);\n        })\n      }\n    }\n\n    JupyterCommManager.prototype.get_client_comm = function(plot_id, comm_id, msg_handler) {\n      if (comm_id in window.PyViz.comms) {\n        return window.PyViz.comms[comm_id];\n      } else if (window.comm_manager || ((window.Jupyter !== undefined) && (Jupyter.notebook.kernel != null))) {\n        var comm_manager = window.comm_manager || Jupyter.notebook.kernel.comm_manager;\n        var comm = comm_manager.new_comm(comm_id, {}, {}, {}, comm_id);\n        if (msg_handler) {\n          comm.on_msg(msg_handler);\n        }\n      } else if ((plot_id in window.PyViz.kernels) && (window.PyViz.kernels[plot_id])) {\n        var comm = window.PyViz.kernels[plot_id].connectToComm(comm_id);\n        comm.open();\n        if (msg_handler) {\n          comm.onMsg = msg_handler;\n        }\n      } else if (typeof google != 'undefined' && google.colab.kernel != null) {\n        var comm_promise = google.colab.kernel.comms.open(comm_id)\n        comm_promise.then((comm) => {\n          window.PyViz.comms[comm_id] = comm;\n          if (msg_handler) {\n            var messages = comm.messages[Symbol.asyncIterator]();\n            function processIteratorResult(result) {\n              var message = result.value;\n              var content = {data: message.data};\n              var metadata = message.metadata || {comm_id};\n              var msg = {content, metadata}\n              msg_handler(msg);\n              return messages.next().then(processIteratorResult);\n            }\n            return messages.next().then(processIteratorResult);\n          }\n        }) \n        var sendClosure = (data, metadata, buffers, disposeOnDone) => {\n          return comm_promise.then((comm) => {\n            comm.send(data, metadata, buffers, disposeOnDone);\n          });\n        };\n        var comm = {\n          send: sendClosure\n        };\n      }\n      window.PyViz.comms[comm_id] = comm;\n      return comm;\n    }\n    window.PyViz.comm_manager = new JupyterCommManager();\n    \n\n\nvar JS_MIME_TYPE = 'application/javascript';\nvar HTML_MIME_TYPE = 'text/html';\nvar EXEC_MIME_TYPE = 'application/vnd.holoviews_exec.v0+json';\nvar CLASS_NAME = 'output';\n\n/**\n * Render data to the DOM node\n */\nfunction render(props, node) {\n  var div = document.createElement(\"div\");\n  var script = document.createElement(\"script\");\n  node.appendChild(div);\n  node.appendChild(script);\n}\n\n/**\n * Handle when a new output is added\n */\nfunction handle_add_output(event, handle) {\n  var output_area = handle.output_area;\n  var output = handle.output;\n  if ((output.data == undefined) || (!output.data.hasOwnProperty(EXEC_MIME_TYPE))) {\n    return\n  }\n  var id = output.metadata[EXEC_MIME_TYPE][\"id\"];\n  var toinsert = output_area.element.find(\".\" + CLASS_NAME.split(' ')[0]);\n  if (id !== undefined) {\n    var nchildren = toinsert.length;\n    var html_node = toinsert[nchildren-1].children[0];\n    html_node.innerHTML = output.data[HTML_MIME_TYPE];\n    var scripts = [];\n    var nodelist = html_node.querySelectorAll(\"script\");\n    for (var i in nodelist) {\n      if (nodelist.hasOwnProperty(i)) {\n        scripts.push(nodelist[i])\n      }\n    }\n\n    scripts.forEach( function (oldScript) {\n      var newScript = document.createElement(\"script\");\n      var attrs = [];\n      var nodemap = oldScript.attributes;\n      for (var j in nodemap) {\n        if (nodemap.hasOwnProperty(j)) {\n          attrs.push(nodemap[j])\n        }\n      }\n      attrs.forEach(function(attr) { newScript.setAttribute(attr.name, attr.value) });\n      newScript.appendChild(document.createTextNode(oldScript.innerHTML));\n      oldScript.parentNode.replaceChild(newScript, oldScript);\n    });\n    if (JS_MIME_TYPE in output.data) {\n      toinsert[nchildren-1].children[1].textContent = output.data[JS_MIME_TYPE];\n    }\n    output_area._hv_plot_id = id;\n    if ((window.Bokeh !== undefined) && (id in Bokeh.index)) {\n      window.PyViz.plot_index[id] = Bokeh.index[id];\n    } else {\n      window.PyViz.plot_index[id] = null;\n    }\n  } else if (output.metadata[EXEC_MIME_TYPE][\"server_id\"] !== undefined) {\n    var bk_div = document.createElement(\"div\");\n    bk_div.innerHTML = output.data[HTML_MIME_TYPE];\n    var script_attrs = bk_div.children[0].attributes;\n    for (var i = 0; i < script_attrs.length; i++) {\n      toinsert[toinsert.length - 1].childNodes[1].setAttribute(script_attrs[i].name, script_attrs[i].value);\n    }\n    // store reference to server id on output_area\n    output_area._bokeh_server_id = output.metadata[EXEC_MIME_TYPE][\"server_id\"];\n  }\n}\n\n/**\n * Handle when an output is cleared or removed\n */\nfunction handle_clear_output(event, handle) {\n  var id = handle.cell.output_area._hv_plot_id;\n  var server_id = handle.cell.output_area._bokeh_server_id;\n  if (((id === undefined) || !(id in PyViz.plot_index)) && (server_id !== undefined)) { return; }\n  var comm = window.PyViz.comm_manager.get_client_comm(\"hv-extension-comm\", \"hv-extension-comm\", function () {});\n  if (server_id !== null) {\n    comm.send({event_type: 'server_delete', 'id': server_id});\n    return;\n  } else if (comm !== null) {\n    comm.send({event_type: 'delete', 'id': id});\n  }\n  delete PyViz.plot_index[id];\n  if ((window.Bokeh !== undefined) & (id in window.Bokeh.index)) {\n    var doc = window.Bokeh.index[id].model.document\n    doc.clear();\n    const i = window.Bokeh.documents.indexOf(doc);\n    if (i > -1) {\n      window.Bokeh.documents.splice(i, 1);\n    }\n  }\n}\n\n/**\n * Handle kernel restart event\n */\nfunction handle_kernel_cleanup(event, handle) {\n  delete PyViz.comms[\"hv-extension-comm\"];\n  window.PyViz.plot_index = {}\n}\n\n/**\n * Handle update_display_data messages\n */\nfunction handle_update_output(event, handle) {\n  handle_clear_output(event, {cell: {output_area: handle.output_area}})\n  handle_add_output(event, handle)\n}\n\nfunction register_renderer(events, OutputArea) {\n  function append_mime(data, metadata, element) {\n    // create a DOM node to render to\n    var toinsert = this.create_output_subarea(\n    metadata,\n    CLASS_NAME,\n    EXEC_MIME_TYPE\n    );\n    this.keyboard_manager.register_events(toinsert);\n    // Render to node\n    var props = {data: data, metadata: metadata[EXEC_MIME_TYPE]};\n    render(props, toinsert[0]);\n    element.append(toinsert);\n    return toinsert\n  }\n\n  events.on('output_added.OutputArea', handle_add_output);\n  events.on('output_updated.OutputArea', handle_update_output);\n  events.on('clear_output.CodeCell', handle_clear_output);\n  events.on('delete.Cell', handle_clear_output);\n  events.on('kernel_ready.Kernel', handle_kernel_cleanup);\n\n  OutputArea.prototype.register_mime_type(EXEC_MIME_TYPE, append_mime, {\n    safe: true,\n    index: 0\n  });\n}\n\nif (window.Jupyter !== undefined) {\n  try {\n    var events = require('base/js/events');\n    var OutputArea = require('notebook/js/outputarea').OutputArea;\n    if (OutputArea.prototype.mime_types().indexOf(EXEC_MIME_TYPE) == -1) {\n      register_renderer(events, OutputArea);\n    }\n  } catch(err) {\n  }\n}\n",
            "application/javascript": [
              "\n",
              "if ((window.PyViz === undefined) || (window.PyViz instanceof HTMLElement)) {\n",
              "  window.PyViz = {comms: {}, comm_status:{}, kernels:{}, receivers: {}, plot_index: []}\n",
              "}\n",
              "\n",
              "\n",
              "    function JupyterCommManager() {\n",
              "    }\n",
              "\n",
              "    JupyterCommManager.prototype.register_target = function(plot_id, comm_id, msg_handler) {\n",
              "      if (window.comm_manager || ((window.Jupyter !== undefined) && (Jupyter.notebook.kernel != null))) {\n",
              "        var comm_manager = window.comm_manager || Jupyter.notebook.kernel.comm_manager;\n",
              "        comm_manager.register_target(comm_id, function(comm) {\n",
              "          comm.on_msg(msg_handler);\n",
              "        });\n",
              "      } else if ((plot_id in window.PyViz.kernels) && (window.PyViz.kernels[plot_id])) {\n",
              "        window.PyViz.kernels[plot_id].registerCommTarget(comm_id, function(comm) {\n",
              "          comm.onMsg = msg_handler;\n",
              "        });\n",
              "      } else if (typeof google != 'undefined' && google.colab.kernel != null) {\n",
              "        google.colab.kernel.comms.registerTarget(comm_id, (comm) => {\n",
              "          var messages = comm.messages[Symbol.asyncIterator]();\n",
              "          function processIteratorResult(result) {\n",
              "            var message = result.value;\n",
              "            console.log(message)\n",
              "            var content = {data: message.data, comm_id};\n",
              "            var buffers = []\n",
              "            for (var buffer of message.buffers || []) {\n",
              "              buffers.push(new DataView(buffer))\n",
              "            }\n",
              "            var metadata = message.metadata || {};\n",
              "            var msg = {content, buffers, metadata}\n",
              "            msg_handler(msg);\n",
              "            return messages.next().then(processIteratorResult);\n",
              "          }\n",
              "          return messages.next().then(processIteratorResult);\n",
              "        })\n",
              "      }\n",
              "    }\n",
              "\n",
              "    JupyterCommManager.prototype.get_client_comm = function(plot_id, comm_id, msg_handler) {\n",
              "      if (comm_id in window.PyViz.comms) {\n",
              "        return window.PyViz.comms[comm_id];\n",
              "      } else if (window.comm_manager || ((window.Jupyter !== undefined) && (Jupyter.notebook.kernel != null))) {\n",
              "        var comm_manager = window.comm_manager || Jupyter.notebook.kernel.comm_manager;\n",
              "        var comm = comm_manager.new_comm(comm_id, {}, {}, {}, comm_id);\n",
              "        if (msg_handler) {\n",
              "          comm.on_msg(msg_handler);\n",
              "        }\n",
              "      } else if ((plot_id in window.PyViz.kernels) && (window.PyViz.kernels[plot_id])) {\n",
              "        var comm = window.PyViz.kernels[plot_id].connectToComm(comm_id);\n",
              "        comm.open();\n",
              "        if (msg_handler) {\n",
              "          comm.onMsg = msg_handler;\n",
              "        }\n",
              "      } else if (typeof google != 'undefined' && google.colab.kernel != null) {\n",
              "        var comm_promise = google.colab.kernel.comms.open(comm_id)\n",
              "        comm_promise.then((comm) => {\n",
              "          window.PyViz.comms[comm_id] = comm;\n",
              "          if (msg_handler) {\n",
              "            var messages = comm.messages[Symbol.asyncIterator]();\n",
              "            function processIteratorResult(result) {\n",
              "              var message = result.value;\n",
              "              var content = {data: message.data};\n",
              "              var metadata = message.metadata || {comm_id};\n",
              "              var msg = {content, metadata}\n",
              "              msg_handler(msg);\n",
              "              return messages.next().then(processIteratorResult);\n",
              "            }\n",
              "            return messages.next().then(processIteratorResult);\n",
              "          }\n",
              "        }) \n",
              "        var sendClosure = (data, metadata, buffers, disposeOnDone) => {\n",
              "          return comm_promise.then((comm) => {\n",
              "            comm.send(data, metadata, buffers, disposeOnDone);\n",
              "          });\n",
              "        };\n",
              "        var comm = {\n",
              "          send: sendClosure\n",
              "        };\n",
              "      }\n",
              "      window.PyViz.comms[comm_id] = comm;\n",
              "      return comm;\n",
              "    }\n",
              "    window.PyViz.comm_manager = new JupyterCommManager();\n",
              "    \n",
              "\n",
              "\n",
              "var JS_MIME_TYPE = 'application/javascript';\n",
              "var HTML_MIME_TYPE = 'text/html';\n",
              "var EXEC_MIME_TYPE = 'application/vnd.holoviews_exec.v0+json';\n",
              "var CLASS_NAME = 'output';\n",
              "\n",
              "/**\n",
              " * Render data to the DOM node\n",
              " */\n",
              "function render(props, node) {\n",
              "  var div = document.createElement(\"div\");\n",
              "  var script = document.createElement(\"script\");\n",
              "  node.appendChild(div);\n",
              "  node.appendChild(script);\n",
              "}\n",
              "\n",
              "/**\n",
              " * Handle when a new output is added\n",
              " */\n",
              "function handle_add_output(event, handle) {\n",
              "  var output_area = handle.output_area;\n",
              "  var output = handle.output;\n",
              "  if ((output.data == undefined) || (!output.data.hasOwnProperty(EXEC_MIME_TYPE))) {\n",
              "    return\n",
              "  }\n",
              "  var id = output.metadata[EXEC_MIME_TYPE][\"id\"];\n",
              "  var toinsert = output_area.element.find(\".\" + CLASS_NAME.split(' ')[0]);\n",
              "  if (id !== undefined) {\n",
              "    var nchildren = toinsert.length;\n",
              "    var html_node = toinsert[nchildren-1].children[0];\n",
              "    html_node.innerHTML = output.data[HTML_MIME_TYPE];\n",
              "    var scripts = [];\n",
              "    var nodelist = html_node.querySelectorAll(\"script\");\n",
              "    for (var i in nodelist) {\n",
              "      if (nodelist.hasOwnProperty(i)) {\n",
              "        scripts.push(nodelist[i])\n",
              "      }\n",
              "    }\n",
              "\n",
              "    scripts.forEach( function (oldScript) {\n",
              "      var newScript = document.createElement(\"script\");\n",
              "      var attrs = [];\n",
              "      var nodemap = oldScript.attributes;\n",
              "      for (var j in nodemap) {\n",
              "        if (nodemap.hasOwnProperty(j)) {\n",
              "          attrs.push(nodemap[j])\n",
              "        }\n",
              "      }\n",
              "      attrs.forEach(function(attr) { newScript.setAttribute(attr.name, attr.value) });\n",
              "      newScript.appendChild(document.createTextNode(oldScript.innerHTML));\n",
              "      oldScript.parentNode.replaceChild(newScript, oldScript);\n",
              "    });\n",
              "    if (JS_MIME_TYPE in output.data) {\n",
              "      toinsert[nchildren-1].children[1].textContent = output.data[JS_MIME_TYPE];\n",
              "    }\n",
              "    output_area._hv_plot_id = id;\n",
              "    if ((window.Bokeh !== undefined) && (id in Bokeh.index)) {\n",
              "      window.PyViz.plot_index[id] = Bokeh.index[id];\n",
              "    } else {\n",
              "      window.PyViz.plot_index[id] = null;\n",
              "    }\n",
              "  } else if (output.metadata[EXEC_MIME_TYPE][\"server_id\"] !== undefined) {\n",
              "    var bk_div = document.createElement(\"div\");\n",
              "    bk_div.innerHTML = output.data[HTML_MIME_TYPE];\n",
              "    var script_attrs = bk_div.children[0].attributes;\n",
              "    for (var i = 0; i < script_attrs.length; i++) {\n",
              "      toinsert[toinsert.length - 1].childNodes[1].setAttribute(script_attrs[i].name, script_attrs[i].value);\n",
              "    }\n",
              "    // store reference to server id on output_area\n",
              "    output_area._bokeh_server_id = output.metadata[EXEC_MIME_TYPE][\"server_id\"];\n",
              "  }\n",
              "}\n",
              "\n",
              "/**\n",
              " * Handle when an output is cleared or removed\n",
              " */\n",
              "function handle_clear_output(event, handle) {\n",
              "  var id = handle.cell.output_area._hv_plot_id;\n",
              "  var server_id = handle.cell.output_area._bokeh_server_id;\n",
              "  if (((id === undefined) || !(id in PyViz.plot_index)) && (server_id !== undefined)) { return; }\n",
              "  var comm = window.PyViz.comm_manager.get_client_comm(\"hv-extension-comm\", \"hv-extension-comm\", function () {});\n",
              "  if (server_id !== null) {\n",
              "    comm.send({event_type: 'server_delete', 'id': server_id});\n",
              "    return;\n",
              "  } else if (comm !== null) {\n",
              "    comm.send({event_type: 'delete', 'id': id});\n",
              "  }\n",
              "  delete PyViz.plot_index[id];\n",
              "  if ((window.Bokeh !== undefined) & (id in window.Bokeh.index)) {\n",
              "    var doc = window.Bokeh.index[id].model.document\n",
              "    doc.clear();\n",
              "    const i = window.Bokeh.documents.indexOf(doc);\n",
              "    if (i > -1) {\n",
              "      window.Bokeh.documents.splice(i, 1);\n",
              "    }\n",
              "  }\n",
              "}\n",
              "\n",
              "/**\n",
              " * Handle kernel restart event\n",
              " */\n",
              "function handle_kernel_cleanup(event, handle) {\n",
              "  delete PyViz.comms[\"hv-extension-comm\"];\n",
              "  window.PyViz.plot_index = {}\n",
              "}\n",
              "\n",
              "/**\n",
              " * Handle update_display_data messages\n",
              " */\n",
              "function handle_update_output(event, handle) {\n",
              "  handle_clear_output(event, {cell: {output_area: handle.output_area}})\n",
              "  handle_add_output(event, handle)\n",
              "}\n",
              "\n",
              "function register_renderer(events, OutputArea) {\n",
              "  function append_mime(data, metadata, element) {\n",
              "    // create a DOM node to render to\n",
              "    var toinsert = this.create_output_subarea(\n",
              "    metadata,\n",
              "    CLASS_NAME,\n",
              "    EXEC_MIME_TYPE\n",
              "    );\n",
              "    this.keyboard_manager.register_events(toinsert);\n",
              "    // Render to node\n",
              "    var props = {data: data, metadata: metadata[EXEC_MIME_TYPE]};\n",
              "    render(props, toinsert[0]);\n",
              "    element.append(toinsert);\n",
              "    return toinsert\n",
              "  }\n",
              "\n",
              "  events.on('output_added.OutputArea', handle_add_output);\n",
              "  events.on('output_updated.OutputArea', handle_update_output);\n",
              "  events.on('clear_output.CodeCell', handle_clear_output);\n",
              "  events.on('delete.Cell', handle_clear_output);\n",
              "  events.on('kernel_ready.Kernel', handle_kernel_cleanup);\n",
              "\n",
              "  OutputArea.prototype.register_mime_type(EXEC_MIME_TYPE, append_mime, {\n",
              "    safe: true,\n",
              "    index: 0\n",
              "  });\n",
              "}\n",
              "\n",
              "if (window.Jupyter !== undefined) {\n",
              "  try {\n",
              "    var events = require('base/js/events');\n",
              "    var OutputArea = require('notebook/js/outputarea').OutputArea;\n",
              "    if (OutputArea.prototype.mime_types().indexOf(EXEC_MIME_TYPE) == -1) {\n",
              "      register_renderer(events, OutputArea);\n",
              "    }\n",
              "  } catch(err) {\n",
              "  }\n",
              "}\n"
            ]
          },
          "metadata": {}
        },
        {
          "output_type": "display_data",
          "data": {
            "text/html": [
              "<style>*[data-root-id],\n",
              "*[data-root-id] > * {\n",
              "  box-sizing: border-box;\n",
              "  font-family: var(--jp-ui-font-family);\n",
              "  font-size: var(--jp-ui-font-size1);\n",
              "  color: var(--vscode-editor-foreground, var(--jp-ui-font-color1));\n",
              "}\n",
              "\n",
              "/* Override VSCode background color */\n",
              ".cell-output-ipywidget-background:has(\n",
              "    > .cell-output-ipywidget-background > .lm-Widget > *[data-root-id]\n",
              "  ),\n",
              ".cell-output-ipywidget-background:has(> .lm-Widget > *[data-root-id]) {\n",
              "  background-color: transparent !important;\n",
              "}\n",
              "</style>"
            ]
          },
          "metadata": {}
        },
        {
          "output_type": "display_data",
          "data": {},
          "metadata": {}
        },
        {
          "output_type": "execute_result",
          "data": {
            "text/html": [
              "<div id='a456167c-42b0-44bb-9d94-ba785efc161d'>\n",
              "  <div id=\"b566eb70-4387-4f83-a156-c3a6b9a09f25\" data-root-id=\"a456167c-42b0-44bb-9d94-ba785efc161d\" style=\"display: contents;\"></div>\n",
              "</div>\n",
              "<script type=\"application/javascript\">(function(root) {\n",
              "  var docs_json = {\"575f0775-edd2-4843-8329-088596dc9a7e\":{\"version\":\"3.4.3\",\"title\":\"Bokeh Application\",\"roots\":[{\"type\":\"object\",\"name\":\"panel.models.markup.HTML\",\"id\":\"a456167c-42b0-44bb-9d94-ba785efc161d\",\"attributes\":{\"css_classes\":[\"markdown\"],\"stylesheets\":[\"\\n:host(.pn-loading):before, .pn-loading:before {\\n  background-color: #c3c3c3;\\n  mask-size: auto calc(min(50%, 400px));\\n  -webkit-mask-size: auto calc(min(50%, 400px));\\n}\",{\"type\":\"object\",\"name\":\"ImportedStyleSheet\",\"id\":\"ef556048-e20f-4704-aee9-4ada6ea81ed9\",\"attributes\":{\"url\":\"https://cdn.holoviz.org/panel/1.4.5/dist/css/loading.css\"}},{\"type\":\"object\",\"name\":\"ImportedStyleSheet\",\"id\":\"7b616afe-9726-4bb8-a0e4-dfff97012784\",\"attributes\":{\"url\":\"https://cdn.holoviz.org/panel/1.4.5/dist/css/markdown.css\"}},{\"type\":\"object\",\"name\":\"ImportedStyleSheet\",\"id\":\"7398b70e-d3d8-4e79-b91a-16c068955f5e\",\"attributes\":{\"url\":\"https://cdn.holoviz.org/panel/1.4.5/dist/bundled/theme/default.css\"}},{\"type\":\"object\",\"name\":\"ImportedStyleSheet\",\"id\":\"7d5fb7ff-7afa-44be-9890-083015e87e9f\",\"attributes\":{\"url\":\"https://cdn.holoviz.org/panel/1.4.5/dist/bundled/theme/native.css\"}}],\"margin\":[5,10],\"align\":\"start\"}},{\"type\":\"object\",\"name\":\"panel.models.comm_manager.CommManager\",\"id\":\"eff4f832-e1a4-482f-9866-8f9809e02f02\",\"attributes\":{\"plot_id\":\"a456167c-42b0-44bb-9d94-ba785efc161d\",\"comm_id\":\"600e373ce8d34010a6cbe0503bca724f\",\"client_comm_id\":\"6ab8f6af3cc444ba99316f9712ddac78\"}}],\"defs\":[{\"type\":\"model\",\"name\":\"ReactiveHTML1\"},{\"type\":\"model\",\"name\":\"FlexBox1\",\"properties\":[{\"name\":\"align_content\",\"kind\":\"Any\",\"default\":\"flex-start\"},{\"name\":\"align_items\",\"kind\":\"Any\",\"default\":\"flex-start\"},{\"name\":\"flex_direction\",\"kind\":\"Any\",\"default\":\"row\"},{\"name\":\"flex_wrap\",\"kind\":\"Any\",\"default\":\"wrap\"},{\"name\":\"gap\",\"kind\":\"Any\",\"default\":\"\"},{\"name\":\"justify_content\",\"kind\":\"Any\",\"default\":\"flex-start\"}]},{\"type\":\"model\",\"name\":\"FloatPanel1\",\"properties\":[{\"name\":\"config\",\"kind\":\"Any\",\"default\":{\"type\":\"map\"}},{\"name\":\"contained\",\"kind\":\"Any\",\"default\":true},{\"name\":\"position\",\"kind\":\"Any\",\"default\":\"right-top\"},{\"name\":\"offsetx\",\"kind\":\"Any\",\"default\":null},{\"name\":\"offsety\",\"kind\":\"Any\",\"default\":null},{\"name\":\"theme\",\"kind\":\"Any\",\"default\":\"primary\"},{\"name\":\"status\",\"kind\":\"Any\",\"default\":\"normalized\"}]},{\"type\":\"model\",\"name\":\"GridStack1\",\"properties\":[{\"name\":\"mode\",\"kind\":\"Any\",\"default\":\"warn\"},{\"name\":\"ncols\",\"kind\":\"Any\",\"default\":null},{\"name\":\"nrows\",\"kind\":\"Any\",\"default\":null},{\"name\":\"allow_resize\",\"kind\":\"Any\",\"default\":true},{\"name\":\"allow_drag\",\"kind\":\"Any\",\"default\":true},{\"name\":\"state\",\"kind\":\"Any\",\"default\":[]}]},{\"type\":\"model\",\"name\":\"drag1\",\"properties\":[{\"name\":\"slider_width\",\"kind\":\"Any\",\"default\":5},{\"name\":\"slider_color\",\"kind\":\"Any\",\"default\":\"black\"},{\"name\":\"value\",\"kind\":\"Any\",\"default\":50}]},{\"type\":\"model\",\"name\":\"click1\",\"properties\":[{\"name\":\"terminal_output\",\"kind\":\"Any\",\"default\":\"\"},{\"name\":\"debug_name\",\"kind\":\"Any\",\"default\":\"\"},{\"name\":\"clears\",\"kind\":\"Any\",\"default\":0}]},{\"type\":\"model\",\"name\":\"FastWrapper1\",\"properties\":[{\"name\":\"object\",\"kind\":\"Any\",\"default\":null},{\"name\":\"style\",\"kind\":\"Any\",\"default\":null}]},{\"type\":\"model\",\"name\":\"NotificationAreaBase1\",\"properties\":[{\"name\":\"js_events\",\"kind\":\"Any\",\"default\":{\"type\":\"map\"}},{\"name\":\"position\",\"kind\":\"Any\",\"default\":\"bottom-right\"},{\"name\":\"_clear\",\"kind\":\"Any\",\"default\":0}]},{\"type\":\"model\",\"name\":\"NotificationArea1\",\"properties\":[{\"name\":\"js_events\",\"kind\":\"Any\",\"default\":{\"type\":\"map\"}},{\"name\":\"notifications\",\"kind\":\"Any\",\"default\":[]},{\"name\":\"position\",\"kind\":\"Any\",\"default\":\"bottom-right\"},{\"name\":\"_clear\",\"kind\":\"Any\",\"default\":0},{\"name\":\"types\",\"kind\":\"Any\",\"default\":[{\"type\":\"map\",\"entries\":[[\"type\",\"warning\"],[\"background\",\"#ffc107\"],[\"icon\",{\"type\":\"map\",\"entries\":[[\"className\",\"fas fa-exclamation-triangle\"],[\"tagName\",\"i\"],[\"color\",\"white\"]]}]]},{\"type\":\"map\",\"entries\":[[\"type\",\"info\"],[\"background\",\"#007bff\"],[\"icon\",{\"type\":\"map\",\"entries\":[[\"className\",\"fas fa-info-circle\"],[\"tagName\",\"i\"],[\"color\",\"white\"]]}]]}]}]},{\"type\":\"model\",\"name\":\"Notification\",\"properties\":[{\"name\":\"background\",\"kind\":\"Any\",\"default\":null},{\"name\":\"duration\",\"kind\":\"Any\",\"default\":3000},{\"name\":\"icon\",\"kind\":\"Any\",\"default\":null},{\"name\":\"message\",\"kind\":\"Any\",\"default\":\"\"},{\"name\":\"notification_type\",\"kind\":\"Any\",\"default\":null},{\"name\":\"_destroyed\",\"kind\":\"Any\",\"default\":false}]},{\"type\":\"model\",\"name\":\"TemplateActions1\",\"properties\":[{\"name\":\"open_modal\",\"kind\":\"Any\",\"default\":0},{\"name\":\"close_modal\",\"kind\":\"Any\",\"default\":0}]},{\"type\":\"model\",\"name\":\"BootstrapTemplateActions1\",\"properties\":[{\"name\":\"open_modal\",\"kind\":\"Any\",\"default\":0},{\"name\":\"close_modal\",\"kind\":\"Any\",\"default\":0}]},{\"type\":\"model\",\"name\":\"TemplateEditor1\",\"properties\":[{\"name\":\"layout\",\"kind\":\"Any\",\"default\":[]}]},{\"type\":\"model\",\"name\":\"MaterialTemplateActions1\",\"properties\":[{\"name\":\"open_modal\",\"kind\":\"Any\",\"default\":0},{\"name\":\"close_modal\",\"kind\":\"Any\",\"default\":0}]},{\"type\":\"model\",\"name\":\"copy_to_clipboard1\",\"properties\":[{\"name\":\"fill\",\"kind\":\"Any\",\"default\":\"none\"},{\"name\":\"value\",\"kind\":\"Any\",\"default\":null}]}]}};\n",
              "  var render_items = [{\"docid\":\"575f0775-edd2-4843-8329-088596dc9a7e\",\"roots\":{\"a456167c-42b0-44bb-9d94-ba785efc161d\":\"b566eb70-4387-4f83-a156-c3a6b9a09f25\"},\"root_ids\":[\"a456167c-42b0-44bb-9d94-ba785efc161d\"]}];\n",
              "  var docs = Object.values(docs_json)\n",
              "  if (!docs) {\n",
              "    return\n",
              "  }\n",
              "  const py_version = docs[0].version.replace('rc', '-rc.').replace('.dev', '-dev.')\n",
              "  async function embed_document(root) {\n",
              "    var Bokeh = get_bokeh(root)\n",
              "    await Bokeh.embed.embed_items_notebook(docs_json, render_items);\n",
              "    for (const render_item of render_items) {\n",
              "      for (const root_id of render_item.root_ids) {\n",
              "\tconst id_el = document.getElementById(root_id)\n",
              "\tif (id_el.children.length && id_el.children[0].hasAttribute('data-root-id')) {\n",
              "\t  const root_el = id_el.children[0]\n",
              "\t  root_el.id = root_el.id + '-rendered'\n",
              "\t  for (const child of root_el.children) {\n",
              "            // Ensure JupyterLab does not capture keyboard shortcuts\n",
              "            // see: https://jupyterlab.readthedocs.io/en/4.1.x/extension/notebook.html#keyboard-interaction-model\n",
              "\t    child.setAttribute('data-lm-suppress-shortcuts', 'true')\n",
              "\t  }\n",
              "\t}\n",
              "      }\n",
              "    }\n",
              "  }\n",
              "  function get_bokeh(root) {\n",
              "    if (root.Bokeh === undefined) {\n",
              "      return null\n",
              "    } else if (root.Bokeh.version !== py_version) {\n",
              "      if (root.Bokeh.versions === undefined || !root.Bokeh.versions.has(py_version)) {\n",
              "\treturn null\n",
              "      }\n",
              "      return root.Bokeh.versions.get(py_version);\n",
              "    } else if (root.Bokeh.version === py_version) {\n",
              "      return root.Bokeh\n",
              "    }\n",
              "    return null\n",
              "  }\n",
              "  function is_loaded(root) {\n",
              "    var Bokeh = get_bokeh(root)\n",
              "    return (Bokeh != null && Bokeh.Panel !== undefined)\n",
              "  }\n",
              "  if (is_loaded(root)) {\n",
              "    embed_document(root);\n",
              "  } else {\n",
              "    var attempts = 0;\n",
              "    var timer = setInterval(function(root) {\n",
              "      if (is_loaded(root)) {\n",
              "        clearInterval(timer);\n",
              "        embed_document(root);\n",
              "      } else if (document.readyState == \"complete\") {\n",
              "        attempts++;\n",
              "        if (attempts > 200) {\n",
              "          clearInterval(timer);\n",
              "\t  var Bokeh = get_bokeh(root)\n",
              "\t  if (Bokeh == null || Bokeh.Panel == null) {\n",
              "            console.warn(\"Panel: ERROR: Unable to run Panel code because Bokeh or Panel library is missing\");\n",
              "\t  } else {\n",
              "\t    console.warn(\"Panel: WARNING: Attempting to render but not all required libraries could be resolved.\")\n",
              "\t    embed_document(root)\n",
              "\t  }\n",
              "        }\n",
              "      }\n",
              "    }, 25, root)\n",
              "  }\n",
              "})(window);</script>"
            ],
            "application/vnd.holoviews_exec.v0+json": "",
            "text/plain": [
              "Markdown(None)"
            ]
          },
          "metadata": {
            "application/vnd.holoviews_exec.v0+json": {
              "id": "a456167c-42b0-44bb-9d94-ba785efc161d"
            }
          },
          "execution_count": 192
        }
      ]
    },
    {
      "cell_type": "code",
      "source": [
        "cb = cbfs()\n",
        "\n",
        "file_input = pn.widgets.FileInput(accept='.pdf')\n",
        "button_load = pn.widgets.Button(name=\"Load DB\", button_type='primary')\n",
        "button_clearhistory = pn.widgets.Button(name=\"Clear History\", button_type='warning')\n",
        "button_clearhistory.on_click(cb.clr_history)\n",
        "inp = pn.widgets.TextInput( placeholder='Enter text here…')\n",
        "\n",
        "bound_button_load = pn.bind(cb.call_load_db, button_load.param.clicks)\n",
        "conversation = pn.bind(cb.convchain, inp)\n",
        "\n",
        "jpg_pane = pn.pane.Image( './img/convchain.jpg')\n",
        "\n",
        "tab1 = pn.Column(\n",
        "    pn.Row(inp),\n",
        "    pn.layout.Divider(),\n",
        "    pn.panel(conversation,  loading_indicator=True, height=300),\n",
        "    pn.layout.Divider(),\n",
        ")\n",
        "tab2= pn.Column(\n",
        "    pn.panel(cb.get_lquest),\n",
        "    pn.layout.Divider(),\n",
        "    pn.panel(cb.get_sources ),\n",
        ")\n",
        "tab3= pn.Column(\n",
        "    pn.panel(cb.get_chats),\n",
        "    pn.layout.Divider(),\n",
        ")\n",
        "tab4=pn.Column(\n",
        "    pn.Row( file_input, button_load, bound_button_load),\n",
        "    pn.Row( button_clearhistory, pn.pane.Markdown(\"Clears chat history. Can use to start a new topic\" )),\n",
        "    pn.layout.Divider(),\n",
        "    pn.Row(jpg_pane.clone(width=400))\n",
        ")\n",
        "dashboard = pn.Column(\n",
        "    pn.Row(pn.pane.Markdown('# ChatWithYourData_Bot')),\n",
        "    pn.Tabs(('Conversation', tab1), ('Database', tab2), ('Chat History', tab3),('Configure', tab4))\n",
        ")\n",
        "dashboard"
      ],
      "metadata": {
        "colab": {
          "resources": {
            "http://localhost:8080/img/convchain.jpg": {
              "data": "CjwhRE9DVFlQRSBodG1sPgo8aHRtbCBsYW5nPWVuPgogIDxtZXRhIGNoYXJzZXQ9dXRmLTg+CiAgPG1ldGEgbmFtZT12aWV3cG9ydCBjb250ZW50PSJpbml0aWFsLXNjYWxlPTEsIG1pbmltdW0tc2NhbGU9MSwgd2lkdGg9ZGV2aWNlLXdpZHRoIj4KICA8dGl0bGU+RXJyb3IgNDA0IChOb3QgRm91bmQpISExPC90aXRsZT4KICA8c3R5bGU+CiAgICAqe21hcmdpbjowO3BhZGRpbmc6MH1odG1sLGNvZGV7Zm9udDoxNXB4LzIycHggYXJpYWwsc2Fucy1zZXJpZn1odG1se2JhY2tncm91bmQ6I2ZmZjtjb2xvcjojMjIyO3BhZGRpbmc6MTVweH1ib2R5e21hcmdpbjo3JSBhdXRvIDA7bWF4LXdpZHRoOjM5MHB4O21pbi1oZWlnaHQ6MTgwcHg7cGFkZGluZzozMHB4IDAgMTVweH0qID4gYm9keXtiYWNrZ3JvdW5kOnVybCgvL3d3dy5nb29nbGUuY29tL2ltYWdlcy9lcnJvcnMvcm9ib3QucG5nKSAxMDAlIDVweCBuby1yZXBlYXQ7cGFkZGluZy1yaWdodDoyMDVweH1we21hcmdpbjoxMXB4IDAgMjJweDtvdmVyZmxvdzpoaWRkZW59aW5ze2NvbG9yOiM3Nzc7dGV4dC1kZWNvcmF0aW9uOm5vbmV9YSBpbWd7Ym9yZGVyOjB9QG1lZGlhIHNjcmVlbiBhbmQgKG1heC13aWR0aDo3NzJweCl7Ym9keXtiYWNrZ3JvdW5kOm5vbmU7bWFyZ2luLXRvcDowO21heC13aWR0aDpub25lO3BhZGRpbmctcmlnaHQ6MH19I2xvZ297YmFja2dyb3VuZDp1cmwoLy93d3cuZ29vZ2xlLmNvbS9pbWFnZXMvbG9nb3MvZXJyb3JwYWdlL2Vycm9yX2xvZ28tMTUweDU0LnBuZykgbm8tcmVwZWF0O21hcmdpbi1sZWZ0Oi01cHh9QG1lZGlhIG9ubHkgc2NyZWVuIGFuZCAobWluLXJlc29sdXRpb246MTkyZHBpKXsjbG9nb3tiYWNrZ3JvdW5kOnVybCgvL3d3dy5nb29nbGUuY29tL2ltYWdlcy9sb2dvcy9lcnJvcnBhZ2UvZXJyb3JfbG9nby0xNTB4NTQtMngucG5nKSBuby1yZXBlYXQgMCUgMCUvMTAwJSAxMDAlOy1tb3otYm9yZGVyLWltYWdlOnVybCgvL3d3dy5nb29nbGUuY29tL2ltYWdlcy9sb2dvcy9lcnJvcnBhZ2UvZXJyb3JfbG9nby0xNTB4NTQtMngucG5nKSAwfX1AbWVkaWEgb25seSBzY3JlZW4gYW5kICgtd2Via2l0LW1pbi1kZXZpY2UtcGl4ZWwtcmF0aW86Mil7I2xvZ297YmFja2dyb3VuZDp1cmwoLy93d3cuZ29vZ2xlLmNvbS9pbWFnZXMvbG9nb3MvZXJyb3JwYWdlL2Vycm9yX2xvZ28tMTUweDU0LTJ4LnBuZykgbm8tcmVwZWF0Oy13ZWJraXQtYmFja2dyb3VuZC1zaXplOjEwMCUgMTAwJX19I2xvZ297ZGlzcGxheTppbmxpbmUtYmxvY2s7aGVpZ2h0OjU0cHg7d2lkdGg6MTUwcHh9CiAgPC9zdHlsZT4KICA8YSBocmVmPS8vd3d3Lmdvb2dsZS5jb20vPjxzcGFuIGlkPWxvZ28gYXJpYS1sYWJlbD1Hb29nbGU+PC9zcGFuPjwvYT4KICA8cD48Yj40MDQuPC9iPiA8aW5zPlRoYXTigJlzIGFuIGVycm9yLjwvaW5zPgogIDxwPiAgPGlucz5UaGF04oCZcyBhbGwgd2Uga25vdy48L2lucz4K",
              "ok": false,
              "headers": [
                [
                  "content-length",
                  "1449"
                ],
                [
                  "content-type",
                  "text/html; charset=utf-8"
                ]
              ],
              "status": 404,
              "status_text": ""
            }
          },
          "base_uri": "https://localhost:8080/",
          "height": 638
        },
        "id": "UhOoiNI3cBtz",
        "outputId": "2409ea9a-6878-46c5-9c22-22acadb05e1a"
      },
      "execution_count": null,
      "outputs": [
        {
          "output_type": "display_data",
          "data": {
            "application/javascript": [
              "(function(root) {\n",
              "  function now() {\n",
              "    return new Date();\n",
              "  }\n",
              "\n",
              "  var force = true;\n",
              "  var py_version = '3.4.3'.replace('rc', '-rc.').replace('.dev', '-dev.');\n",
              "  var reloading = false;\n",
              "  var Bokeh = root.Bokeh;\n",
              "\n",
              "  if (typeof (root._bokeh_timeout) === \"undefined\" || force) {\n",
              "    root._bokeh_timeout = Date.now() + 5000;\n",
              "    root._bokeh_failed_load = false;\n",
              "  }\n",
              "\n",
              "  function run_callbacks() {\n",
              "    try {\n",
              "      root._bokeh_onload_callbacks.forEach(function(callback) {\n",
              "        if (callback != null)\n",
              "          callback();\n",
              "      });\n",
              "    } finally {\n",
              "      delete root._bokeh_onload_callbacks;\n",
              "    }\n",
              "    console.debug(\"Bokeh: all callbacks have finished\");\n",
              "  }\n",
              "\n",
              "  function load_libs(css_urls, js_urls, js_modules, js_exports, callback) {\n",
              "    if (css_urls == null) css_urls = [];\n",
              "    if (js_urls == null) js_urls = [];\n",
              "    if (js_modules == null) js_modules = [];\n",
              "    if (js_exports == null) js_exports = {};\n",
              "\n",
              "    root._bokeh_onload_callbacks.push(callback);\n",
              "\n",
              "    if (root._bokeh_is_loading > 0) {\n",
              "      console.debug(\"Bokeh: BokehJS is being loaded, scheduling callback at\", now());\n",
              "      return null;\n",
              "    }\n",
              "    if (js_urls.length === 0 && js_modules.length === 0 && Object.keys(js_exports).length === 0) {\n",
              "      run_callbacks();\n",
              "      return null;\n",
              "    }\n",
              "    if (!reloading) {\n",
              "      console.debug(\"Bokeh: BokehJS not loaded, scheduling load and callback at\", now());\n",
              "    }\n",
              "\n",
              "    function on_load() {\n",
              "      root._bokeh_is_loading--;\n",
              "      if (root._bokeh_is_loading === 0) {\n",
              "        console.debug(\"Bokeh: all BokehJS libraries/stylesheets loaded\");\n",
              "        run_callbacks()\n",
              "      }\n",
              "    }\n",
              "    window._bokeh_on_load = on_load\n",
              "\n",
              "    function on_error() {\n",
              "      console.error(\"failed to load \" + url);\n",
              "    }\n",
              "\n",
              "    var skip = [];\n",
              "    if (window.requirejs) {\n",
              "      window.requirejs.config({'packages': {}, 'paths': {}, 'shim': {}});\n",
              "      root._bokeh_is_loading = css_urls.length + 0;\n",
              "    } else {\n",
              "      root._bokeh_is_loading = css_urls.length + js_urls.length + js_modules.length + Object.keys(js_exports).length;\n",
              "    }\n",
              "\n",
              "    var existing_stylesheets = []\n",
              "    var links = document.getElementsByTagName('link')\n",
              "    for (var i = 0; i < links.length; i++) {\n",
              "      var link = links[i]\n",
              "      if (link.href != null) {\n",
              "\texisting_stylesheets.push(link.href)\n",
              "      }\n",
              "    }\n",
              "    for (var i = 0; i < css_urls.length; i++) {\n",
              "      var url = css_urls[i];\n",
              "      if (existing_stylesheets.indexOf(url) !== -1) {\n",
              "\ton_load()\n",
              "\tcontinue;\n",
              "      }\n",
              "      const element = document.createElement(\"link\");\n",
              "      element.onload = on_load;\n",
              "      element.onerror = on_error;\n",
              "      element.rel = \"stylesheet\";\n",
              "      element.type = \"text/css\";\n",
              "      element.href = url;\n",
              "      console.debug(\"Bokeh: injecting link tag for BokehJS stylesheet: \", url);\n",
              "      document.body.appendChild(element);\n",
              "    }    var existing_scripts = []\n",
              "    var scripts = document.getElementsByTagName('script')\n",
              "    for (var i = 0; i < scripts.length; i++) {\n",
              "      var script = scripts[i]\n",
              "      if (script.src != null) {\n",
              "\texisting_scripts.push(script.src)\n",
              "      }\n",
              "    }\n",
              "    for (var i = 0; i < js_urls.length; i++) {\n",
              "      var url = js_urls[i];\n",
              "      if (skip.indexOf(url) !== -1 || existing_scripts.indexOf(url) !== -1) {\n",
              "\tif (!window.requirejs) {\n",
              "\t  on_load();\n",
              "\t}\n",
              "\tcontinue;\n",
              "      }\n",
              "      var element = document.createElement('script');\n",
              "      element.onload = on_load;\n",
              "      element.onerror = on_error;\n",
              "      element.async = false;\n",
              "      element.src = url;\n",
              "      console.debug(\"Bokeh: injecting script tag for BokehJS library: \", url);\n",
              "      document.head.appendChild(element);\n",
              "    }\n",
              "    for (var i = 0; i < js_modules.length; i++) {\n",
              "      var url = js_modules[i];\n",
              "      if (skip.indexOf(url) !== -1 || existing_scripts.indexOf(url) !== -1) {\n",
              "\tif (!window.requirejs) {\n",
              "\t  on_load();\n",
              "\t}\n",
              "\tcontinue;\n",
              "      }\n",
              "      var element = document.createElement('script');\n",
              "      element.onload = on_load;\n",
              "      element.onerror = on_error;\n",
              "      element.async = false;\n",
              "      element.src = url;\n",
              "      element.type = \"module\";\n",
              "      console.debug(\"Bokeh: injecting script tag for BokehJS library: \", url);\n",
              "      document.head.appendChild(element);\n",
              "    }\n",
              "    for (const name in js_exports) {\n",
              "      var url = js_exports[name];\n",
              "      if (skip.indexOf(url) >= 0 || root[name] != null) {\n",
              "\tif (!window.requirejs) {\n",
              "\t  on_load();\n",
              "\t}\n",
              "\tcontinue;\n",
              "      }\n",
              "      var element = document.createElement('script');\n",
              "      element.onerror = on_error;\n",
              "      element.async = false;\n",
              "      element.type = \"module\";\n",
              "      console.debug(\"Bokeh: injecting script tag for BokehJS library: \", url);\n",
              "      element.textContent = `\n",
              "      import ${name} from \"${url}\"\n",
              "      window.${name} = ${name}\n",
              "      window._bokeh_on_load()\n",
              "      `\n",
              "      document.head.appendChild(element);\n",
              "    }\n",
              "    if (!js_urls.length && !js_modules.length) {\n",
              "      on_load()\n",
              "    }\n",
              "  };\n",
              "\n",
              "  function inject_raw_css(css) {\n",
              "    const element = document.createElement(\"style\");\n",
              "    element.appendChild(document.createTextNode(css));\n",
              "    document.body.appendChild(element);\n",
              "  }\n",
              "\n",
              "  var js_urls = [\"https://cdn.bokeh.org/bokeh/release/bokeh-3.4.3.min.js\", \"https://cdn.bokeh.org/bokeh/release/bokeh-gl-3.4.3.min.js\", \"https://cdn.bokeh.org/bokeh/release/bokeh-widgets-3.4.3.min.js\", \"https://cdn.bokeh.org/bokeh/release/bokeh-tables-3.4.3.min.js\", \"https://cdn.holoviz.org/panel/1.4.5/dist/panel.min.js\"];\n",
              "  var js_modules = [];\n",
              "  var js_exports = {};\n",
              "  var css_urls = [];\n",
              "  var inline_js = [    function(Bokeh) {\n",
              "      Bokeh.set_log_level(\"info\");\n",
              "    },\n",
              "function(Bokeh) {} // ensure no trailing comma for IE\n",
              "  ];\n",
              "\n",
              "  function run_inline_js() {\n",
              "    if ((root.Bokeh !== undefined) || (force === true)) {\n",
              "      for (var i = 0; i < inline_js.length; i++) {\n",
              "\ttry {\n",
              "          inline_js[i].call(root, root.Bokeh);\n",
              "\t} catch(e) {\n",
              "\t  if (!reloading) {\n",
              "\t    throw e;\n",
              "\t  }\n",
              "\t}\n",
              "      }\n",
              "      // Cache old bokeh versions\n",
              "      if (Bokeh != undefined && !reloading) {\n",
              "\tvar NewBokeh = root.Bokeh;\n",
              "\tif (Bokeh.versions === undefined) {\n",
              "\t  Bokeh.versions = new Map();\n",
              "\t}\n",
              "\tif (NewBokeh.version !== Bokeh.version) {\n",
              "\t  Bokeh.versions.set(NewBokeh.version, NewBokeh)\n",
              "\t}\n",
              "\troot.Bokeh = Bokeh;\n",
              "      }} else if (Date.now() < root._bokeh_timeout) {\n",
              "      setTimeout(run_inline_js, 100);\n",
              "    } else if (!root._bokeh_failed_load) {\n",
              "      console.log(\"Bokeh: BokehJS failed to load within specified timeout.\");\n",
              "      root._bokeh_failed_load = true;\n",
              "    }\n",
              "    root._bokeh_is_initializing = false\n",
              "  }\n",
              "\n",
              "  function load_or_wait() {\n",
              "    // Implement a backoff loop that tries to ensure we do not load multiple\n",
              "    // versions of Bokeh and its dependencies at the same time.\n",
              "    // In recent versions we use the root._bokeh_is_initializing flag\n",
              "    // to determine whether there is an ongoing attempt to initialize\n",
              "    // bokeh, however for backward compatibility we also try to ensure\n",
              "    // that we do not start loading a newer (Panel>=1.0 and Bokeh>3) version\n",
              "    // before older versions are fully initialized.\n",
              "    if (root._bokeh_is_initializing && Date.now() > root._bokeh_timeout) {\n",
              "      root._bokeh_is_initializing = false;\n",
              "      root._bokeh_onload_callbacks = undefined;\n",
              "      console.log(\"Bokeh: BokehJS was loaded multiple times but one version failed to initialize.\");\n",
              "      load_or_wait();\n",
              "    } else if (root._bokeh_is_initializing || (typeof root._bokeh_is_initializing === \"undefined\" && root._bokeh_onload_callbacks !== undefined)) {\n",
              "      setTimeout(load_or_wait, 100);\n",
              "    } else {\n",
              "      root._bokeh_is_initializing = true\n",
              "      root._bokeh_onload_callbacks = []\n",
              "      var bokeh_loaded = Bokeh != null && (Bokeh.version === py_version || (Bokeh.versions !== undefined && Bokeh.versions.has(py_version)));\n",
              "      if (!reloading && !bokeh_loaded) {\n",
              "\troot.Bokeh = undefined;\n",
              "      }\n",
              "      load_libs(css_urls, js_urls, js_modules, js_exports, function() {\n",
              "\tconsole.debug(\"Bokeh: BokehJS plotting callback run at\", now());\n",
              "\trun_inline_js();\n",
              "      });\n",
              "    }\n",
              "  }\n",
              "  // Give older versions of the autoload script a head-start to ensure\n",
              "  // they initialize before we start loading newer version.\n",
              "  setTimeout(load_or_wait, 100)\n",
              "}(window));"
            ],
            "application/vnd.holoviews_load.v0+json": "(function(root) {\n  function now() {\n    return new Date();\n  }\n\n  var force = true;\n  var py_version = '3.4.3'.replace('rc', '-rc.').replace('.dev', '-dev.');\n  var reloading = false;\n  var Bokeh = root.Bokeh;\n\n  if (typeof (root._bokeh_timeout) === \"undefined\" || force) {\n    root._bokeh_timeout = Date.now() + 5000;\n    root._bokeh_failed_load = false;\n  }\n\n  function run_callbacks() {\n    try {\n      root._bokeh_onload_callbacks.forEach(function(callback) {\n        if (callback != null)\n          callback();\n      });\n    } finally {\n      delete root._bokeh_onload_callbacks;\n    }\n    console.debug(\"Bokeh: all callbacks have finished\");\n  }\n\n  function load_libs(css_urls, js_urls, js_modules, js_exports, callback) {\n    if (css_urls == null) css_urls = [];\n    if (js_urls == null) js_urls = [];\n    if (js_modules == null) js_modules = [];\n    if (js_exports == null) js_exports = {};\n\n    root._bokeh_onload_callbacks.push(callback);\n\n    if (root._bokeh_is_loading > 0) {\n      console.debug(\"Bokeh: BokehJS is being loaded, scheduling callback at\", now());\n      return null;\n    }\n    if (js_urls.length === 0 && js_modules.length === 0 && Object.keys(js_exports).length === 0) {\n      run_callbacks();\n      return null;\n    }\n    if (!reloading) {\n      console.debug(\"Bokeh: BokehJS not loaded, scheduling load and callback at\", now());\n    }\n\n    function on_load() {\n      root._bokeh_is_loading--;\n      if (root._bokeh_is_loading === 0) {\n        console.debug(\"Bokeh: all BokehJS libraries/stylesheets loaded\");\n        run_callbacks()\n      }\n    }\n    window._bokeh_on_load = on_load\n\n    function on_error() {\n      console.error(\"failed to load \" + url);\n    }\n\n    var skip = [];\n    if (window.requirejs) {\n      window.requirejs.config({'packages': {}, 'paths': {}, 'shim': {}});\n      root._bokeh_is_loading = css_urls.length + 0;\n    } else {\n      root._bokeh_is_loading = css_urls.length + js_urls.length + js_modules.length + Object.keys(js_exports).length;\n    }\n\n    var existing_stylesheets = []\n    var links = document.getElementsByTagName('link')\n    for (var i = 0; i < links.length; i++) {\n      var link = links[i]\n      if (link.href != null) {\n\texisting_stylesheets.push(link.href)\n      }\n    }\n    for (var i = 0; i < css_urls.length; i++) {\n      var url = css_urls[i];\n      if (existing_stylesheets.indexOf(url) !== -1) {\n\ton_load()\n\tcontinue;\n      }\n      const element = document.createElement(\"link\");\n      element.onload = on_load;\n      element.onerror = on_error;\n      element.rel = \"stylesheet\";\n      element.type = \"text/css\";\n      element.href = url;\n      console.debug(\"Bokeh: injecting link tag for BokehJS stylesheet: \", url);\n      document.body.appendChild(element);\n    }    var existing_scripts = []\n    var scripts = document.getElementsByTagName('script')\n    for (var i = 0; i < scripts.length; i++) {\n      var script = scripts[i]\n      if (script.src != null) {\n\texisting_scripts.push(script.src)\n      }\n    }\n    for (var i = 0; i < js_urls.length; i++) {\n      var url = js_urls[i];\n      if (skip.indexOf(url) !== -1 || existing_scripts.indexOf(url) !== -1) {\n\tif (!window.requirejs) {\n\t  on_load();\n\t}\n\tcontinue;\n      }\n      var element = document.createElement('script');\n      element.onload = on_load;\n      element.onerror = on_error;\n      element.async = false;\n      element.src = url;\n      console.debug(\"Bokeh: injecting script tag for BokehJS library: \", url);\n      document.head.appendChild(element);\n    }\n    for (var i = 0; i < js_modules.length; i++) {\n      var url = js_modules[i];\n      if (skip.indexOf(url) !== -1 || existing_scripts.indexOf(url) !== -1) {\n\tif (!window.requirejs) {\n\t  on_load();\n\t}\n\tcontinue;\n      }\n      var element = document.createElement('script');\n      element.onload = on_load;\n      element.onerror = on_error;\n      element.async = false;\n      element.src = url;\n      element.type = \"module\";\n      console.debug(\"Bokeh: injecting script tag for BokehJS library: \", url);\n      document.head.appendChild(element);\n    }\n    for (const name in js_exports) {\n      var url = js_exports[name];\n      if (skip.indexOf(url) >= 0 || root[name] != null) {\n\tif (!window.requirejs) {\n\t  on_load();\n\t}\n\tcontinue;\n      }\n      var element = document.createElement('script');\n      element.onerror = on_error;\n      element.async = false;\n      element.type = \"module\";\n      console.debug(\"Bokeh: injecting script tag for BokehJS library: \", url);\n      element.textContent = `\n      import ${name} from \"${url}\"\n      window.${name} = ${name}\n      window._bokeh_on_load()\n      `\n      document.head.appendChild(element);\n    }\n    if (!js_urls.length && !js_modules.length) {\n      on_load()\n    }\n  };\n\n  function inject_raw_css(css) {\n    const element = document.createElement(\"style\");\n    element.appendChild(document.createTextNode(css));\n    document.body.appendChild(element);\n  }\n\n  var js_urls = [\"https://cdn.bokeh.org/bokeh/release/bokeh-3.4.3.min.js\", \"https://cdn.bokeh.org/bokeh/release/bokeh-gl-3.4.3.min.js\", \"https://cdn.bokeh.org/bokeh/release/bokeh-widgets-3.4.3.min.js\", \"https://cdn.bokeh.org/bokeh/release/bokeh-tables-3.4.3.min.js\", \"https://cdn.holoviz.org/panel/1.4.5/dist/panel.min.js\"];\n  var js_modules = [];\n  var js_exports = {};\n  var css_urls = [];\n  var inline_js = [    function(Bokeh) {\n      Bokeh.set_log_level(\"info\");\n    },\nfunction(Bokeh) {} // ensure no trailing comma for IE\n  ];\n\n  function run_inline_js() {\n    if ((root.Bokeh !== undefined) || (force === true)) {\n      for (var i = 0; i < inline_js.length; i++) {\n\ttry {\n          inline_js[i].call(root, root.Bokeh);\n\t} catch(e) {\n\t  if (!reloading) {\n\t    throw e;\n\t  }\n\t}\n      }\n      // Cache old bokeh versions\n      if (Bokeh != undefined && !reloading) {\n\tvar NewBokeh = root.Bokeh;\n\tif (Bokeh.versions === undefined) {\n\t  Bokeh.versions = new Map();\n\t}\n\tif (NewBokeh.version !== Bokeh.version) {\n\t  Bokeh.versions.set(NewBokeh.version, NewBokeh)\n\t}\n\troot.Bokeh = Bokeh;\n      }} else if (Date.now() < root._bokeh_timeout) {\n      setTimeout(run_inline_js, 100);\n    } else if (!root._bokeh_failed_load) {\n      console.log(\"Bokeh: BokehJS failed to load within specified timeout.\");\n      root._bokeh_failed_load = true;\n    }\n    root._bokeh_is_initializing = false\n  }\n\n  function load_or_wait() {\n    // Implement a backoff loop that tries to ensure we do not load multiple\n    // versions of Bokeh and its dependencies at the same time.\n    // In recent versions we use the root._bokeh_is_initializing flag\n    // to determine whether there is an ongoing attempt to initialize\n    // bokeh, however for backward compatibility we also try to ensure\n    // that we do not start loading a newer (Panel>=1.0 and Bokeh>3) version\n    // before older versions are fully initialized.\n    if (root._bokeh_is_initializing && Date.now() > root._bokeh_timeout) {\n      root._bokeh_is_initializing = false;\n      root._bokeh_onload_callbacks = undefined;\n      console.log(\"Bokeh: BokehJS was loaded multiple times but one version failed to initialize.\");\n      load_or_wait();\n    } else if (root._bokeh_is_initializing || (typeof root._bokeh_is_initializing === \"undefined\" && root._bokeh_onload_callbacks !== undefined)) {\n      setTimeout(load_or_wait, 100);\n    } else {\n      root._bokeh_is_initializing = true\n      root._bokeh_onload_callbacks = []\n      var bokeh_loaded = Bokeh != null && (Bokeh.version === py_version || (Bokeh.versions !== undefined && Bokeh.versions.has(py_version)));\n      if (!reloading && !bokeh_loaded) {\n\troot.Bokeh = undefined;\n      }\n      load_libs(css_urls, js_urls, js_modules, js_exports, function() {\n\tconsole.debug(\"Bokeh: BokehJS plotting callback run at\", now());\n\trun_inline_js();\n      });\n    }\n  }\n  // Give older versions of the autoload script a head-start to ensure\n  // they initialize before we start loading newer version.\n  setTimeout(load_or_wait, 100)\n}(window));"
          },
          "metadata": {}
        },
        {
          "output_type": "display_data",
          "data": {
            "application/vnd.holoviews_load.v0+json": "\nif ((window.PyViz === undefined) || (window.PyViz instanceof HTMLElement)) {\n  window.PyViz = {comms: {}, comm_status:{}, kernels:{}, receivers: {}, plot_index: []}\n}\n\n\n    function JupyterCommManager() {\n    }\n\n    JupyterCommManager.prototype.register_target = function(plot_id, comm_id, msg_handler) {\n      if (window.comm_manager || ((window.Jupyter !== undefined) && (Jupyter.notebook.kernel != null))) {\n        var comm_manager = window.comm_manager || Jupyter.notebook.kernel.comm_manager;\n        comm_manager.register_target(comm_id, function(comm) {\n          comm.on_msg(msg_handler);\n        });\n      } else if ((plot_id in window.PyViz.kernels) && (window.PyViz.kernels[plot_id])) {\n        window.PyViz.kernels[plot_id].registerCommTarget(comm_id, function(comm) {\n          comm.onMsg = msg_handler;\n        });\n      } else if (typeof google != 'undefined' && google.colab.kernel != null) {\n        google.colab.kernel.comms.registerTarget(comm_id, (comm) => {\n          var messages = comm.messages[Symbol.asyncIterator]();\n          function processIteratorResult(result) {\n            var message = result.value;\n            console.log(message)\n            var content = {data: message.data, comm_id};\n            var buffers = []\n            for (var buffer of message.buffers || []) {\n              buffers.push(new DataView(buffer))\n            }\n            var metadata = message.metadata || {};\n            var msg = {content, buffers, metadata}\n            msg_handler(msg);\n            return messages.next().then(processIteratorResult);\n          }\n          return messages.next().then(processIteratorResult);\n        })\n      }\n    }\n\n    JupyterCommManager.prototype.get_client_comm = function(plot_id, comm_id, msg_handler) {\n      if (comm_id in window.PyViz.comms) {\n        return window.PyViz.comms[comm_id];\n      } else if (window.comm_manager || ((window.Jupyter !== undefined) && (Jupyter.notebook.kernel != null))) {\n        var comm_manager = window.comm_manager || Jupyter.notebook.kernel.comm_manager;\n        var comm = comm_manager.new_comm(comm_id, {}, {}, {}, comm_id);\n        if (msg_handler) {\n          comm.on_msg(msg_handler);\n        }\n      } else if ((plot_id in window.PyViz.kernels) && (window.PyViz.kernels[plot_id])) {\n        var comm = window.PyViz.kernels[plot_id].connectToComm(comm_id);\n        comm.open();\n        if (msg_handler) {\n          comm.onMsg = msg_handler;\n        }\n      } else if (typeof google != 'undefined' && google.colab.kernel != null) {\n        var comm_promise = google.colab.kernel.comms.open(comm_id)\n        comm_promise.then((comm) => {\n          window.PyViz.comms[comm_id] = comm;\n          if (msg_handler) {\n            var messages = comm.messages[Symbol.asyncIterator]();\n            function processIteratorResult(result) {\n              var message = result.value;\n              var content = {data: message.data};\n              var metadata = message.metadata || {comm_id};\n              var msg = {content, metadata}\n              msg_handler(msg);\n              return messages.next().then(processIteratorResult);\n            }\n            return messages.next().then(processIteratorResult);\n          }\n        }) \n        var sendClosure = (data, metadata, buffers, disposeOnDone) => {\n          return comm_promise.then((comm) => {\n            comm.send(data, metadata, buffers, disposeOnDone);\n          });\n        };\n        var comm = {\n          send: sendClosure\n        };\n      }\n      window.PyViz.comms[comm_id] = comm;\n      return comm;\n    }\n    window.PyViz.comm_manager = new JupyterCommManager();\n    \n\n\nvar JS_MIME_TYPE = 'application/javascript';\nvar HTML_MIME_TYPE = 'text/html';\nvar EXEC_MIME_TYPE = 'application/vnd.holoviews_exec.v0+json';\nvar CLASS_NAME = 'output';\n\n/**\n * Render data to the DOM node\n */\nfunction render(props, node) {\n  var div = document.createElement(\"div\");\n  var script = document.createElement(\"script\");\n  node.appendChild(div);\n  node.appendChild(script);\n}\n\n/**\n * Handle when a new output is added\n */\nfunction handle_add_output(event, handle) {\n  var output_area = handle.output_area;\n  var output = handle.output;\n  if ((output.data == undefined) || (!output.data.hasOwnProperty(EXEC_MIME_TYPE))) {\n    return\n  }\n  var id = output.metadata[EXEC_MIME_TYPE][\"id\"];\n  var toinsert = output_area.element.find(\".\" + CLASS_NAME.split(' ')[0]);\n  if (id !== undefined) {\n    var nchildren = toinsert.length;\n    var html_node = toinsert[nchildren-1].children[0];\n    html_node.innerHTML = output.data[HTML_MIME_TYPE];\n    var scripts = [];\n    var nodelist = html_node.querySelectorAll(\"script\");\n    for (var i in nodelist) {\n      if (nodelist.hasOwnProperty(i)) {\n        scripts.push(nodelist[i])\n      }\n    }\n\n    scripts.forEach( function (oldScript) {\n      var newScript = document.createElement(\"script\");\n      var attrs = [];\n      var nodemap = oldScript.attributes;\n      for (var j in nodemap) {\n        if (nodemap.hasOwnProperty(j)) {\n          attrs.push(nodemap[j])\n        }\n      }\n      attrs.forEach(function(attr) { newScript.setAttribute(attr.name, attr.value) });\n      newScript.appendChild(document.createTextNode(oldScript.innerHTML));\n      oldScript.parentNode.replaceChild(newScript, oldScript);\n    });\n    if (JS_MIME_TYPE in output.data) {\n      toinsert[nchildren-1].children[1].textContent = output.data[JS_MIME_TYPE];\n    }\n    output_area._hv_plot_id = id;\n    if ((window.Bokeh !== undefined) && (id in Bokeh.index)) {\n      window.PyViz.plot_index[id] = Bokeh.index[id];\n    } else {\n      window.PyViz.plot_index[id] = null;\n    }\n  } else if (output.metadata[EXEC_MIME_TYPE][\"server_id\"] !== undefined) {\n    var bk_div = document.createElement(\"div\");\n    bk_div.innerHTML = output.data[HTML_MIME_TYPE];\n    var script_attrs = bk_div.children[0].attributes;\n    for (var i = 0; i < script_attrs.length; i++) {\n      toinsert[toinsert.length - 1].childNodes[1].setAttribute(script_attrs[i].name, script_attrs[i].value);\n    }\n    // store reference to server id on output_area\n    output_area._bokeh_server_id = output.metadata[EXEC_MIME_TYPE][\"server_id\"];\n  }\n}\n\n/**\n * Handle when an output is cleared or removed\n */\nfunction handle_clear_output(event, handle) {\n  var id = handle.cell.output_area._hv_plot_id;\n  var server_id = handle.cell.output_area._bokeh_server_id;\n  if (((id === undefined) || !(id in PyViz.plot_index)) && (server_id !== undefined)) { return; }\n  var comm = window.PyViz.comm_manager.get_client_comm(\"hv-extension-comm\", \"hv-extension-comm\", function () {});\n  if (server_id !== null) {\n    comm.send({event_type: 'server_delete', 'id': server_id});\n    return;\n  } else if (comm !== null) {\n    comm.send({event_type: 'delete', 'id': id});\n  }\n  delete PyViz.plot_index[id];\n  if ((window.Bokeh !== undefined) & (id in window.Bokeh.index)) {\n    var doc = window.Bokeh.index[id].model.document\n    doc.clear();\n    const i = window.Bokeh.documents.indexOf(doc);\n    if (i > -1) {\n      window.Bokeh.documents.splice(i, 1);\n    }\n  }\n}\n\n/**\n * Handle kernel restart event\n */\nfunction handle_kernel_cleanup(event, handle) {\n  delete PyViz.comms[\"hv-extension-comm\"];\n  window.PyViz.plot_index = {}\n}\n\n/**\n * Handle update_display_data messages\n */\nfunction handle_update_output(event, handle) {\n  handle_clear_output(event, {cell: {output_area: handle.output_area}})\n  handle_add_output(event, handle)\n}\n\nfunction register_renderer(events, OutputArea) {\n  function append_mime(data, metadata, element) {\n    // create a DOM node to render to\n    var toinsert = this.create_output_subarea(\n    metadata,\n    CLASS_NAME,\n    EXEC_MIME_TYPE\n    );\n    this.keyboard_manager.register_events(toinsert);\n    // Render to node\n    var props = {data: data, metadata: metadata[EXEC_MIME_TYPE]};\n    render(props, toinsert[0]);\n    element.append(toinsert);\n    return toinsert\n  }\n\n  events.on('output_added.OutputArea', handle_add_output);\n  events.on('output_updated.OutputArea', handle_update_output);\n  events.on('clear_output.CodeCell', handle_clear_output);\n  events.on('delete.Cell', handle_clear_output);\n  events.on('kernel_ready.Kernel', handle_kernel_cleanup);\n\n  OutputArea.prototype.register_mime_type(EXEC_MIME_TYPE, append_mime, {\n    safe: true,\n    index: 0\n  });\n}\n\nif (window.Jupyter !== undefined) {\n  try {\n    var events = require('base/js/events');\n    var OutputArea = require('notebook/js/outputarea').OutputArea;\n    if (OutputArea.prototype.mime_types().indexOf(EXEC_MIME_TYPE) == -1) {\n      register_renderer(events, OutputArea);\n    }\n  } catch(err) {\n  }\n}\n",
            "application/javascript": [
              "\n",
              "if ((window.PyViz === undefined) || (window.PyViz instanceof HTMLElement)) {\n",
              "  window.PyViz = {comms: {}, comm_status:{}, kernels:{}, receivers: {}, plot_index: []}\n",
              "}\n",
              "\n",
              "\n",
              "    function JupyterCommManager() {\n",
              "    }\n",
              "\n",
              "    JupyterCommManager.prototype.register_target = function(plot_id, comm_id, msg_handler) {\n",
              "      if (window.comm_manager || ((window.Jupyter !== undefined) && (Jupyter.notebook.kernel != null))) {\n",
              "        var comm_manager = window.comm_manager || Jupyter.notebook.kernel.comm_manager;\n",
              "        comm_manager.register_target(comm_id, function(comm) {\n",
              "          comm.on_msg(msg_handler);\n",
              "        });\n",
              "      } else if ((plot_id in window.PyViz.kernels) && (window.PyViz.kernels[plot_id])) {\n",
              "        window.PyViz.kernels[plot_id].registerCommTarget(comm_id, function(comm) {\n",
              "          comm.onMsg = msg_handler;\n",
              "        });\n",
              "      } else if (typeof google != 'undefined' && google.colab.kernel != null) {\n",
              "        google.colab.kernel.comms.registerTarget(comm_id, (comm) => {\n",
              "          var messages = comm.messages[Symbol.asyncIterator]();\n",
              "          function processIteratorResult(result) {\n",
              "            var message = result.value;\n",
              "            console.log(message)\n",
              "            var content = {data: message.data, comm_id};\n",
              "            var buffers = []\n",
              "            for (var buffer of message.buffers || []) {\n",
              "              buffers.push(new DataView(buffer))\n",
              "            }\n",
              "            var metadata = message.metadata || {};\n",
              "            var msg = {content, buffers, metadata}\n",
              "            msg_handler(msg);\n",
              "            return messages.next().then(processIteratorResult);\n",
              "          }\n",
              "          return messages.next().then(processIteratorResult);\n",
              "        })\n",
              "      }\n",
              "    }\n",
              "\n",
              "    JupyterCommManager.prototype.get_client_comm = function(plot_id, comm_id, msg_handler) {\n",
              "      if (comm_id in window.PyViz.comms) {\n",
              "        return window.PyViz.comms[comm_id];\n",
              "      } else if (window.comm_manager || ((window.Jupyter !== undefined) && (Jupyter.notebook.kernel != null))) {\n",
              "        var comm_manager = window.comm_manager || Jupyter.notebook.kernel.comm_manager;\n",
              "        var comm = comm_manager.new_comm(comm_id, {}, {}, {}, comm_id);\n",
              "        if (msg_handler) {\n",
              "          comm.on_msg(msg_handler);\n",
              "        }\n",
              "      } else if ((plot_id in window.PyViz.kernels) && (window.PyViz.kernels[plot_id])) {\n",
              "        var comm = window.PyViz.kernels[plot_id].connectToComm(comm_id);\n",
              "        comm.open();\n",
              "        if (msg_handler) {\n",
              "          comm.onMsg = msg_handler;\n",
              "        }\n",
              "      } else if (typeof google != 'undefined' && google.colab.kernel != null) {\n",
              "        var comm_promise = google.colab.kernel.comms.open(comm_id)\n",
              "        comm_promise.then((comm) => {\n",
              "          window.PyViz.comms[comm_id] = comm;\n",
              "          if (msg_handler) {\n",
              "            var messages = comm.messages[Symbol.asyncIterator]();\n",
              "            function processIteratorResult(result) {\n",
              "              var message = result.value;\n",
              "              var content = {data: message.data};\n",
              "              var metadata = message.metadata || {comm_id};\n",
              "              var msg = {content, metadata}\n",
              "              msg_handler(msg);\n",
              "              return messages.next().then(processIteratorResult);\n",
              "            }\n",
              "            return messages.next().then(processIteratorResult);\n",
              "          }\n",
              "        }) \n",
              "        var sendClosure = (data, metadata, buffers, disposeOnDone) => {\n",
              "          return comm_promise.then((comm) => {\n",
              "            comm.send(data, metadata, buffers, disposeOnDone);\n",
              "          });\n",
              "        };\n",
              "        var comm = {\n",
              "          send: sendClosure\n",
              "        };\n",
              "      }\n",
              "      window.PyViz.comms[comm_id] = comm;\n",
              "      return comm;\n",
              "    }\n",
              "    window.PyViz.comm_manager = new JupyterCommManager();\n",
              "    \n",
              "\n",
              "\n",
              "var JS_MIME_TYPE = 'application/javascript';\n",
              "var HTML_MIME_TYPE = 'text/html';\n",
              "var EXEC_MIME_TYPE = 'application/vnd.holoviews_exec.v0+json';\n",
              "var CLASS_NAME = 'output';\n",
              "\n",
              "/**\n",
              " * Render data to the DOM node\n",
              " */\n",
              "function render(props, node) {\n",
              "  var div = document.createElement(\"div\");\n",
              "  var script = document.createElement(\"script\");\n",
              "  node.appendChild(div);\n",
              "  node.appendChild(script);\n",
              "}\n",
              "\n",
              "/**\n",
              " * Handle when a new output is added\n",
              " */\n",
              "function handle_add_output(event, handle) {\n",
              "  var output_area = handle.output_area;\n",
              "  var output = handle.output;\n",
              "  if ((output.data == undefined) || (!output.data.hasOwnProperty(EXEC_MIME_TYPE))) {\n",
              "    return\n",
              "  }\n",
              "  var id = output.metadata[EXEC_MIME_TYPE][\"id\"];\n",
              "  var toinsert = output_area.element.find(\".\" + CLASS_NAME.split(' ')[0]);\n",
              "  if (id !== undefined) {\n",
              "    var nchildren = toinsert.length;\n",
              "    var html_node = toinsert[nchildren-1].children[0];\n",
              "    html_node.innerHTML = output.data[HTML_MIME_TYPE];\n",
              "    var scripts = [];\n",
              "    var nodelist = html_node.querySelectorAll(\"script\");\n",
              "    for (var i in nodelist) {\n",
              "      if (nodelist.hasOwnProperty(i)) {\n",
              "        scripts.push(nodelist[i])\n",
              "      }\n",
              "    }\n",
              "\n",
              "    scripts.forEach( function (oldScript) {\n",
              "      var newScript = document.createElement(\"script\");\n",
              "      var attrs = [];\n",
              "      var nodemap = oldScript.attributes;\n",
              "      for (var j in nodemap) {\n",
              "        if (nodemap.hasOwnProperty(j)) {\n",
              "          attrs.push(nodemap[j])\n",
              "        }\n",
              "      }\n",
              "      attrs.forEach(function(attr) { newScript.setAttribute(attr.name, attr.value) });\n",
              "      newScript.appendChild(document.createTextNode(oldScript.innerHTML));\n",
              "      oldScript.parentNode.replaceChild(newScript, oldScript);\n",
              "    });\n",
              "    if (JS_MIME_TYPE in output.data) {\n",
              "      toinsert[nchildren-1].children[1].textContent = output.data[JS_MIME_TYPE];\n",
              "    }\n",
              "    output_area._hv_plot_id = id;\n",
              "    if ((window.Bokeh !== undefined) && (id in Bokeh.index)) {\n",
              "      window.PyViz.plot_index[id] = Bokeh.index[id];\n",
              "    } else {\n",
              "      window.PyViz.plot_index[id] = null;\n",
              "    }\n",
              "  } else if (output.metadata[EXEC_MIME_TYPE][\"server_id\"] !== undefined) {\n",
              "    var bk_div = document.createElement(\"div\");\n",
              "    bk_div.innerHTML = output.data[HTML_MIME_TYPE];\n",
              "    var script_attrs = bk_div.children[0].attributes;\n",
              "    for (var i = 0; i < script_attrs.length; i++) {\n",
              "      toinsert[toinsert.length - 1].childNodes[1].setAttribute(script_attrs[i].name, script_attrs[i].value);\n",
              "    }\n",
              "    // store reference to server id on output_area\n",
              "    output_area._bokeh_server_id = output.metadata[EXEC_MIME_TYPE][\"server_id\"];\n",
              "  }\n",
              "}\n",
              "\n",
              "/**\n",
              " * Handle when an output is cleared or removed\n",
              " */\n",
              "function handle_clear_output(event, handle) {\n",
              "  var id = handle.cell.output_area._hv_plot_id;\n",
              "  var server_id = handle.cell.output_area._bokeh_server_id;\n",
              "  if (((id === undefined) || !(id in PyViz.plot_index)) && (server_id !== undefined)) { return; }\n",
              "  var comm = window.PyViz.comm_manager.get_client_comm(\"hv-extension-comm\", \"hv-extension-comm\", function () {});\n",
              "  if (server_id !== null) {\n",
              "    comm.send({event_type: 'server_delete', 'id': server_id});\n",
              "    return;\n",
              "  } else if (comm !== null) {\n",
              "    comm.send({event_type: 'delete', 'id': id});\n",
              "  }\n",
              "  delete PyViz.plot_index[id];\n",
              "  if ((window.Bokeh !== undefined) & (id in window.Bokeh.index)) {\n",
              "    var doc = window.Bokeh.index[id].model.document\n",
              "    doc.clear();\n",
              "    const i = window.Bokeh.documents.indexOf(doc);\n",
              "    if (i > -1) {\n",
              "      window.Bokeh.documents.splice(i, 1);\n",
              "    }\n",
              "  }\n",
              "}\n",
              "\n",
              "/**\n",
              " * Handle kernel restart event\n",
              " */\n",
              "function handle_kernel_cleanup(event, handle) {\n",
              "  delete PyViz.comms[\"hv-extension-comm\"];\n",
              "  window.PyViz.plot_index = {}\n",
              "}\n",
              "\n",
              "/**\n",
              " * Handle update_display_data messages\n",
              " */\n",
              "function handle_update_output(event, handle) {\n",
              "  handle_clear_output(event, {cell: {output_area: handle.output_area}})\n",
              "  handle_add_output(event, handle)\n",
              "}\n",
              "\n",
              "function register_renderer(events, OutputArea) {\n",
              "  function append_mime(data, metadata, element) {\n",
              "    // create a DOM node to render to\n",
              "    var toinsert = this.create_output_subarea(\n",
              "    metadata,\n",
              "    CLASS_NAME,\n",
              "    EXEC_MIME_TYPE\n",
              "    );\n",
              "    this.keyboard_manager.register_events(toinsert);\n",
              "    // Render to node\n",
              "    var props = {data: data, metadata: metadata[EXEC_MIME_TYPE]};\n",
              "    render(props, toinsert[0]);\n",
              "    element.append(toinsert);\n",
              "    return toinsert\n",
              "  }\n",
              "\n",
              "  events.on('output_added.OutputArea', handle_add_output);\n",
              "  events.on('output_updated.OutputArea', handle_update_output);\n",
              "  events.on('clear_output.CodeCell', handle_clear_output);\n",
              "  events.on('delete.Cell', handle_clear_output);\n",
              "  events.on('kernel_ready.Kernel', handle_kernel_cleanup);\n",
              "\n",
              "  OutputArea.prototype.register_mime_type(EXEC_MIME_TYPE, append_mime, {\n",
              "    safe: true,\n",
              "    index: 0\n",
              "  });\n",
              "}\n",
              "\n",
              "if (window.Jupyter !== undefined) {\n",
              "  try {\n",
              "    var events = require('base/js/events');\n",
              "    var OutputArea = require('notebook/js/outputarea').OutputArea;\n",
              "    if (OutputArea.prototype.mime_types().indexOf(EXEC_MIME_TYPE) == -1) {\n",
              "      register_renderer(events, OutputArea);\n",
              "    }\n",
              "  } catch(err) {\n",
              "  }\n",
              "}\n"
            ]
          },
          "metadata": {}
        },
        {
          "output_type": "display_data",
          "data": {
            "text/html": [
              "<style>*[data-root-id],\n",
              "*[data-root-id] > * {\n",
              "  box-sizing: border-box;\n",
              "  font-family: var(--jp-ui-font-family);\n",
              "  font-size: var(--jp-ui-font-size1);\n",
              "  color: var(--vscode-editor-foreground, var(--jp-ui-font-color1));\n",
              "}\n",
              "\n",
              "/* Override VSCode background color */\n",
              ".cell-output-ipywidget-background:has(\n",
              "    > .cell-output-ipywidget-background > .lm-Widget > *[data-root-id]\n",
              "  ),\n",
              ".cell-output-ipywidget-background:has(> .lm-Widget > *[data-root-id]) {\n",
              "  background-color: transparent !important;\n",
              "}\n",
              "</style>"
            ]
          },
          "metadata": {}
        },
        {
          "output_type": "display_data",
          "data": {},
          "metadata": {}
        },
        {
          "output_type": "execute_result",
          "data": {
            "text/html": [
              "<div id='10f35b45-afe8-403d-b01d-e0f9637cf6fa'>\n",
              "  <div id=\"f593d28b-827a-4a44-974e-24488249db63\" data-root-id=\"10f35b45-afe8-403d-b01d-e0f9637cf6fa\" style=\"display: contents;\"></div>\n",
              "</div>\n",
              "<script type=\"application/javascript\">(function(root) {\n",
              "  var docs_json = {\"742e1bd7-ec63-49da-939d-4b0f59a767d6\":{\"version\":\"3.4.3\",\"title\":\"Bokeh Application\",\"roots\":[{\"type\":\"object\",\"name\":\"panel.models.layout.Column\",\"id\":\"10f35b45-afe8-403d-b01d-e0f9637cf6fa\",\"attributes\":{\"name\":\"Column02477\",\"stylesheets\":[\"\\n:host(.pn-loading):before, .pn-loading:before {\\n  background-color: #c3c3c3;\\n  mask-size: auto calc(min(50%, 400px));\\n  -webkit-mask-size: auto calc(min(50%, 400px));\\n}\",{\"type\":\"object\",\"name\":\"ImportedStyleSheet\",\"id\":\"29ff1505-4dd6-4c99-b357-3f9977f42e2d\",\"attributes\":{\"url\":\"https://cdn.holoviz.org/panel/1.4.5/dist/css/loading.css\"}},{\"type\":\"object\",\"name\":\"ImportedStyleSheet\",\"id\":\"23384186-c5ce-431b-891d-059af099981c\",\"attributes\":{\"url\":\"https://cdn.holoviz.org/panel/1.4.5/dist/css/listpanel.css\"}},{\"type\":\"object\",\"name\":\"ImportedStyleSheet\",\"id\":\"d0fbd24c-8980-4019-8990-06eaec5c6d4b\",\"attributes\":{\"url\":\"https://cdn.holoviz.org/panel/1.4.5/dist/bundled/theme/default.css\"}},{\"type\":\"object\",\"name\":\"ImportedStyleSheet\",\"id\":\"7ecbc5b3-ee4e-4baa-98da-7bfb4459f377\",\"attributes\":{\"url\":\"https://cdn.holoviz.org/panel/1.4.5/dist/bundled/theme/native.css\"}}],\"margin\":0,\"align\":\"start\",\"children\":[{\"type\":\"object\",\"name\":\"Row\",\"id\":\"e78f4d65-b5ef-4925-8b3f-a1841907c431\",\"attributes\":{\"name\":\"Row02475\",\"stylesheets\":[\"\\n:host(.pn-loading):before, .pn-loading:before {\\n  background-color: #c3c3c3;\\n  mask-size: auto calc(min(50%, 400px));\\n  -webkit-mask-size: auto calc(min(50%, 400px));\\n}\",{\"id\":\"29ff1505-4dd6-4c99-b357-3f9977f42e2d\"},{\"id\":\"23384186-c5ce-431b-891d-059af099981c\"},{\"id\":\"d0fbd24c-8980-4019-8990-06eaec5c6d4b\"},{\"id\":\"7ecbc5b3-ee4e-4baa-98da-7bfb4459f377\"}],\"margin\":0,\"align\":\"start\",\"children\":[{\"type\":\"object\",\"name\":\"panel.models.markup.HTML\",\"id\":\"ffe289cf-d798-4e8f-a1d2-4e1989225485\",\"attributes\":{\"css_classes\":[\"markdown\"],\"stylesheets\":[\"\\n:host(.pn-loading):before, .pn-loading:before {\\n  background-color: #c3c3c3;\\n  mask-size: auto calc(min(50%, 400px));\\n  -webkit-mask-size: auto calc(min(50%, 400px));\\n}\",{\"id\":\"29ff1505-4dd6-4c99-b357-3f9977f42e2d\"},{\"type\":\"object\",\"name\":\"ImportedStyleSheet\",\"id\":\"89a8889f-b66d-4f98-b217-c3dfb13f8601\",\"attributes\":{\"url\":\"https://cdn.holoviz.org/panel/1.4.5/dist/css/markdown.css\"}},{\"id\":\"d0fbd24c-8980-4019-8990-06eaec5c6d4b\"},{\"id\":\"7ecbc5b3-ee4e-4baa-98da-7bfb4459f377\"}],\"margin\":[5,10],\"align\":\"start\",\"text\":\"&lt;h1 id=&quot;chatwithyourdata_bot&quot;&gt;ChatWithYourData_Bot &lt;a class=&quot;header-anchor&quot; href=&quot;#chatwithyourdata_bot&quot;&gt;\\u00b6&lt;/a&gt;&lt;/h1&gt;\\n\"}}]}},{\"type\":\"object\",\"name\":\"panel.models.tabs.Tabs\",\"id\":\"467d7df3-cf68-4da9-b36c-8907651e8191\",\"attributes\":{\"stylesheets\":[\"\\n:host(.pn-loading):before, .pn-loading:before {\\n  background-color: #c3c3c3;\\n  mask-size: auto calc(min(50%, 400px));\\n  -webkit-mask-size: auto calc(min(50%, 400px));\\n}\",{\"id\":\"29ff1505-4dd6-4c99-b357-3f9977f42e2d\"},{\"id\":\"d0fbd24c-8980-4019-8990-06eaec5c6d4b\"},{\"id\":\"7ecbc5b3-ee4e-4baa-98da-7bfb4459f377\"}],\"margin\":0,\"align\":\"start\",\"tabs\":[{\"type\":\"object\",\"name\":\"TabPanel\",\"id\":\"b145c3cb-0911-4826-ae54-bab3471f8f7b\",\"attributes\":{\"name\":\"Column02426\",\"title\":\"Conversation\",\"child\":{\"type\":\"object\",\"name\":\"panel.models.layout.Column\",\"id\":\"5855dfcc-3daf-4f1c-9267-47edaa2bf589\",\"attributes\":{\"name\":\"Column02426\",\"stylesheets\":[\"\\n:host(.pn-loading):before, .pn-loading:before {\\n  background-color: #c3c3c3;\\n  mask-size: auto calc(min(50%, 400px));\\n  -webkit-mask-size: auto calc(min(50%, 400px));\\n}\",{\"id\":\"29ff1505-4dd6-4c99-b357-3f9977f42e2d\"},{\"id\":\"23384186-c5ce-431b-891d-059af099981c\"},{\"id\":\"d0fbd24c-8980-4019-8990-06eaec5c6d4b\"},{\"id\":\"7ecbc5b3-ee4e-4baa-98da-7bfb4459f377\"}],\"margin\":0,\"align\":\"start\",\"children\":[{\"type\":\"object\",\"name\":\"Row\",\"id\":\"3b6cb4ac-7357-487c-b05b-7bb1fdc66aa6\",\"attributes\":{\"name\":\"Row02411\",\"stylesheets\":[\"\\n:host(.pn-loading):before, .pn-loading:before {\\n  background-color: #c3c3c3;\\n  mask-size: auto calc(min(50%, 400px));\\n  -webkit-mask-size: auto calc(min(50%, 400px));\\n}\",{\"id\":\"29ff1505-4dd6-4c99-b357-3f9977f42e2d\"},{\"id\":\"23384186-c5ce-431b-891d-059af099981c\"},{\"id\":\"d0fbd24c-8980-4019-8990-06eaec5c6d4b\"},{\"id\":\"7ecbc5b3-ee4e-4baa-98da-7bfb4459f377\"}],\"margin\":0,\"align\":\"start\",\"children\":[{\"type\":\"object\",\"name\":\"TextInput\",\"id\":\"f40d2769-0fed-4d32-b577-7edb4e75f4cc\",\"attributes\":{\"js_property_callbacks\":{\"type\":\"map\",\"entries\":[[\"change:value\",[{\"type\":\"object\",\"name\":\"CustomJS\",\"id\":\"58432f46-6b59-40c1-b660-e12357bb8c3d\",\"attributes\":{\"tags\":[[137151484237216,[null,\"value\"],[null,\"loading\"]]],\"args\":{\"type\":\"map\",\"entries\":[[\"bidirectional\",false],[\"properties\",{\"type\":\"map\",\"entries\":[[\"value\",\"loading\"]]}],[\"source\",{\"id\":\"f40d2769-0fed-4d32-b577-7edb4e75f4cc\"}],[\"target\",{\"type\":\"object\",\"name\":\"panel.models.layout.Column\",\"id\":\"9fb218d2-c12a-4b56-adf7-f9332b358d78\",\"attributes\":{\"name\":\"Column02417\",\"stylesheets\":[\"\\n:host(.pn-loading):before, .pn-loading:before {\\n  background-color: #c3c3c3;\\n  mask-size: auto calc(min(50%, 400px));\\n  -webkit-mask-size: auto calc(min(50%, 400px));\\n}\",{\"id\":\"29ff1505-4dd6-4c99-b357-3f9977f42e2d\"},{\"id\":\"23384186-c5ce-431b-891d-059af099981c\"},{\"id\":\"d0fbd24c-8980-4019-8990-06eaec5c6d4b\"},{\"id\":\"7ecbc5b3-ee4e-4baa-98da-7bfb4459f377\"}],\"height\":300,\"min_height\":300,\"margin\":0,\"align\":\"start\",\"children\":[{\"type\":\"object\",\"name\":\"panel.models.layout.Column\",\"id\":\"21efd44a-aef0-476c-8277-1f3e1be3b092\",\"attributes\":{\"name\":\"WidgetBox02424\",\"css_classes\":[\"panel-widget-box\",\"scrollable-vertical\"],\"stylesheets\":[\"\\n:host(.pn-loading):before, .pn-loading:before {\\n  background-color: #c3c3c3;\\n  mask-size: auto calc(min(50%, 400px));\\n  -webkit-mask-size: auto calc(min(50%, 400px));\\n}\",{\"id\":\"29ff1505-4dd6-4c99-b357-3f9977f42e2d\"},{\"type\":\"object\",\"name\":\"ImportedStyleSheet\",\"id\":\"91bbe106-9364-4929-b67b-a3c1f501f1cc\",\"attributes\":{\"url\":\"https://cdn.holoviz.org/panel/1.4.5/dist/css/widgetbox.css\"}},{\"id\":\"23384186-c5ce-431b-891d-059af099981c\"},{\"id\":\"d0fbd24c-8980-4019-8990-06eaec5c6d4b\"},{\"id\":\"7ecbc5b3-ee4e-4baa-98da-7bfb4459f377\"}],\"margin\":0,\"align\":\"start\",\"children\":[{\"type\":\"object\",\"name\":\"Row\",\"id\":\"89322219-2b82-436b-8a8a-359d974c6a1b\",\"attributes\":{\"name\":\"Row02423\",\"stylesheets\":[\"\\n:host(.pn-loading):before, .pn-loading:before {\\n  background-color: #c3c3c3;\\n  mask-size: auto calc(min(50%, 400px));\\n  -webkit-mask-size: auto calc(min(50%, 400px));\\n}\",{\"id\":\"29ff1505-4dd6-4c99-b357-3f9977f42e2d\"},{\"id\":\"23384186-c5ce-431b-891d-059af099981c\"},{\"id\":\"d0fbd24c-8980-4019-8990-06eaec5c6d4b\"},{\"id\":\"7ecbc5b3-ee4e-4baa-98da-7bfb4459f377\"}],\"margin\":0,\"align\":\"start\",\"children\":[{\"type\":\"object\",\"name\":\"panel.models.markup.HTML\",\"id\":\"fce5ed3e-6861-41b7-bc81-ccbd78e1980f\",\"attributes\":{\"css_classes\":[\"markdown\"],\"stylesheets\":[\"\\n:host(.pn-loading):before, .pn-loading:before {\\n  background-color: #c3c3c3;\\n  mask-size: auto calc(min(50%, 400px));\\n  -webkit-mask-size: auto calc(min(50%, 400px));\\n}\",{\"id\":\"29ff1505-4dd6-4c99-b357-3f9977f42e2d\"},{\"id\":\"89a8889f-b66d-4f98-b217-c3dfb13f8601\"},{\"id\":\"d0fbd24c-8980-4019-8990-06eaec5c6d4b\"},{\"id\":\"7ecbc5b3-ee4e-4baa-98da-7bfb4459f377\"}],\"margin\":[5,10],\"align\":\"start\",\"text\":\"&lt;p&gt;User:&lt;/p&gt;\\n\"}},{\"type\":\"object\",\"name\":\"panel.models.markup.HTML\",\"id\":\"0d7a52bb-66fe-4af2-8a20-9ad3321b379c\",\"attributes\":{\"css_classes\":[\"markdown\"],\"stylesheets\":[\"\\n:host(.pn-loading):before, .pn-loading:before {\\n  background-color: #c3c3c3;\\n  mask-size: auto calc(min(50%, 400px));\\n  -webkit-mask-size: auto calc(min(50%, 400px));\\n}\",{\"id\":\"29ff1505-4dd6-4c99-b357-3f9977f42e2d\"},{\"id\":\"89a8889f-b66d-4f98-b217-c3dfb13f8601\"},{\"id\":\"d0fbd24c-8980-4019-8990-06eaec5c6d4b\"},{\"id\":\"7ecbc5b3-ee4e-4baa-98da-7bfb4459f377\"}],\"width\":600,\"min_width\":600,\"margin\":[5,10],\"align\":\"start\"}}]}}]}}]}}]]},\"code\":\"\\n    if ('value'.startsWith('event:')) {\\n      var value = true\\n    } else {\\n      var value = source['value'];\\n      value = value;\\n    }\\n    if (typeof value !== 'boolean' || source.labels !== ['Loading']) {\\n      value = true\\n    }\\n    var css_classes = target.css_classes.slice()\\n    var loading_css = ['pn-loading', 'pn-arc']\\n    if (value) {\\n      for (var css of loading_css) {\\n        if (!(css in css_classes)) {\\n          css_classes.push(css)\\n        }\\n      }\\n    } else {\\n     for (var css of loading_css) {\\n        var index = css_classes.indexOf(css)\\n        if (index > -1) {\\n          css_classes.splice(index, 1)\\n        }\\n      }\\n    }\\n    target['css_classes'] = css_classes\\n    \"}}]]]},\"stylesheets\":[\"\\n:host(.pn-loading):before, .pn-loading:before {\\n  background-color: #c3c3c3;\\n  mask-size: auto calc(min(50%, 400px));\\n  -webkit-mask-size: auto calc(min(50%, 400px));\\n}\",{\"id\":\"29ff1505-4dd6-4c99-b357-3f9977f42e2d\"},{\"id\":\"d0fbd24c-8980-4019-8990-06eaec5c6d4b\"},{\"id\":\"7ecbc5b3-ee4e-4baa-98da-7bfb4459f377\"}],\"width\":300,\"min_width\":300,\"margin\":[5,10],\"align\":\"start\",\"placeholder\":\"Enter text here\\u2026\",\"max_length\":5000}}]}},{\"type\":\"object\",\"name\":\"Div\",\"id\":\"3fc8464d-86fd-4c8d-bf0f-d6942f52f1b6\",\"attributes\":{\"name\":\"Divider02412\",\"stylesheets\":[\"\\n:host(.pn-loading):before, .pn-loading:before {\\n  background-color: #c3c3c3;\\n  mask-size: auto calc(min(50%, 400px));\\n  -webkit-mask-size: auto calc(min(50%, 400px));\\n}\",{\"type\":\"object\",\"name\":\"ImportedStyleSheet\",\"id\":\"05578ea1-13af-40c2-9576-5548a3d027e2\",\"attributes\":{\"url\":\"https://cdn.holoviz.org/panel/1.4.5/dist/css/loading.css\"}},{\"type\":\"object\",\"name\":\"ImportedStyleSheet\",\"id\":\"30b5e334-73a3-4b7d-930c-236ee318f61c\",\"attributes\":{\"url\":\"https://cdn.holoviz.org/panel/1.4.5/dist/css/divider.css\"}}],\"margin\":0,\"width_policy\":\"fit\",\"align\":\"start\",\"text\":\"<hr>\"}},{\"id\":\"9fb218d2-c12a-4b56-adf7-f9332b358d78\"},{\"type\":\"object\",\"name\":\"Div\",\"id\":\"47ce0d51-c998-4488-b300-18edd38c7f04\",\"attributes\":{\"name\":\"Divider02425\",\"stylesheets\":[\"\\n:host(.pn-loading):before, .pn-loading:before {\\n  background-color: #c3c3c3;\\n  mask-size: auto calc(min(50%, 400px));\\n  -webkit-mask-size: auto calc(min(50%, 400px));\\n}\",{\"type\":\"object\",\"name\":\"ImportedStyleSheet\",\"id\":\"87025633-2e64-46d7-8df6-45d1feeb2ea1\",\"attributes\":{\"url\":\"https://cdn.holoviz.org/panel/1.4.5/dist/css/loading.css\"}},{\"type\":\"object\",\"name\":\"ImportedStyleSheet\",\"id\":\"be1da413-5ff9-4b0e-9275-3ea9d8f0acbc\",\"attributes\":{\"url\":\"https://cdn.holoviz.org/panel/1.4.5/dist/css/divider.css\"}}],\"margin\":0,\"width_policy\":\"fit\",\"align\":\"start\",\"text\":\"<hr>\"}}]}}}},{\"type\":\"object\",\"name\":\"TabPanel\",\"id\":\"08972ef3-e354-485c-8c64-6bfa2bf277a4\",\"attributes\":{\"name\":\"Column02445\",\"title\":\"Database\",\"child\":{\"type\":\"object\",\"name\":\"panel.models.layout.Column\",\"id\":\"2a58177e-7136-40b5-948f-e79a3f04e290\",\"attributes\":{\"name\":\"Column02445\",\"stylesheets\":[\"\\n:host(.pn-loading):before, .pn-loading:before {\\n  background-color: #c3c3c3;\\n  mask-size: auto calc(min(50%, 400px));\\n  -webkit-mask-size: auto calc(min(50%, 400px));\\n}\",{\"id\":\"29ff1505-4dd6-4c99-b357-3f9977f42e2d\"},{\"id\":\"23384186-c5ce-431b-891d-059af099981c\"},{\"id\":\"d0fbd24c-8980-4019-8990-06eaec5c6d4b\"},{\"id\":\"7ecbc5b3-ee4e-4baa-98da-7bfb4459f377\"}],\"margin\":0,\"align\":\"start\",\"children\":[{\"type\":\"object\",\"name\":\"panel.models.layout.Column\",\"id\":\"06462c84-f29a-472b-9bb5-4c1b19b0623f\",\"attributes\":{\"name\":\"Column02431\",\"stylesheets\":[\"\\n:host(.pn-loading):before, .pn-loading:before {\\n  background-color: #c3c3c3;\\n  mask-size: auto calc(min(50%, 400px));\\n  -webkit-mask-size: auto calc(min(50%, 400px));\\n}\",{\"id\":\"29ff1505-4dd6-4c99-b357-3f9977f42e2d\"},{\"id\":\"23384186-c5ce-431b-891d-059af099981c\"},{\"id\":\"d0fbd24c-8980-4019-8990-06eaec5c6d4b\"},{\"id\":\"7ecbc5b3-ee4e-4baa-98da-7bfb4459f377\"}],\"margin\":0,\"align\":\"start\",\"children\":[{\"type\":\"object\",\"name\":\"panel.models.layout.Column\",\"id\":\"1d185df5-9986-43d9-9fa4-d438f373a615\",\"attributes\":{\"name\":\"Column02438\",\"stylesheets\":[\"\\n:host(.pn-loading):before, .pn-loading:before {\\n  background-color: #c3c3c3;\\n  mask-size: auto calc(min(50%, 400px));\\n  -webkit-mask-size: auto calc(min(50%, 400px));\\n}\",{\"id\":\"29ff1505-4dd6-4c99-b357-3f9977f42e2d\"},{\"id\":\"23384186-c5ce-431b-891d-059af099981c\"},{\"id\":\"d0fbd24c-8980-4019-8990-06eaec5c6d4b\"},{\"id\":\"7ecbc5b3-ee4e-4baa-98da-7bfb4459f377\"}],\"margin\":0,\"align\":\"start\",\"children\":[{\"type\":\"object\",\"name\":\"Row\",\"id\":\"8a098340-8b56-4d6c-87c5-42378d4c028a\",\"attributes\":{\"name\":\"Row02434\",\"stylesheets\":[\"\\n:host(.pn-loading):before, .pn-loading:before {\\n  background-color: #c3c3c3;\\n  mask-size: auto calc(min(50%, 400px));\\n  -webkit-mask-size: auto calc(min(50%, 400px));\\n}\",{\"id\":\"29ff1505-4dd6-4c99-b357-3f9977f42e2d\"},{\"id\":\"23384186-c5ce-431b-891d-059af099981c\"},{\"id\":\"d0fbd24c-8980-4019-8990-06eaec5c6d4b\"},{\"id\":\"7ecbc5b3-ee4e-4baa-98da-7bfb4459f377\"}],\"margin\":0,\"align\":\"start\",\"children\":[{\"type\":\"object\",\"name\":\"panel.models.markup.HTML\",\"id\":\"b9b2fd2f-8027-43ab-9d62-57aef298dae2\",\"attributes\":{\"css_classes\":[\"markdown\"],\"styles\":{\"type\":\"map\",\"entries\":[[\"background-color\",\"#F6F6F6\"]]},\"stylesheets\":[\"\\n:host(.pn-loading):before, .pn-loading:before {\\n  background-color: #c3c3c3;\\n  mask-size: auto calc(min(50%, 400px));\\n  -webkit-mask-size: auto calc(min(50%, 400px));\\n}\",{\"id\":\"29ff1505-4dd6-4c99-b357-3f9977f42e2d\"},{\"id\":\"89a8889f-b66d-4f98-b217-c3dfb13f8601\"},{\"id\":\"d0fbd24c-8980-4019-8990-06eaec5c6d4b\"},{\"id\":\"7ecbc5b3-ee4e-4baa-98da-7bfb4459f377\"}],\"margin\":[5,10],\"align\":\"start\",\"text\":\"&lt;p&gt;Last question to DB:&lt;/p&gt;\\n\"}}]}},{\"type\":\"object\",\"name\":\"Row\",\"id\":\"bb432647-732d-45ff-813f-cbebd893244d\",\"attributes\":{\"name\":\"Row02437\",\"stylesheets\":[\"\\n:host(.pn-loading):before, .pn-loading:before {\\n  background-color: #c3c3c3;\\n  mask-size: auto calc(min(50%, 400px));\\n  -webkit-mask-size: auto calc(min(50%, 400px));\\n}\",{\"id\":\"29ff1505-4dd6-4c99-b357-3f9977f42e2d\"},{\"id\":\"23384186-c5ce-431b-891d-059af099981c\"},{\"id\":\"d0fbd24c-8980-4019-8990-06eaec5c6d4b\"},{\"id\":\"7ecbc5b3-ee4e-4baa-98da-7bfb4459f377\"}],\"margin\":0,\"align\":\"start\",\"children\":[{\"type\":\"object\",\"name\":\"panel.models.markup.HTML\",\"id\":\"cd7ceec5-766d-4eed-8453-684ea3582471\",\"attributes\":{\"stylesheets\":[\"\\n:host(.pn-loading):before, .pn-loading:before {\\n  background-color: #c3c3c3;\\n  mask-size: auto calc(min(50%, 400px));\\n  -webkit-mask-size: auto calc(min(50%, 400px));\\n}\",{\"id\":\"29ff1505-4dd6-4c99-b357-3f9977f42e2d\"},{\"id\":\"d0fbd24c-8980-4019-8990-06eaec5c6d4b\"},{\"id\":\"7ecbc5b3-ee4e-4baa-98da-7bfb4459f377\"}],\"margin\":[5,10],\"align\":\"start\",\"text\":\"&lt;pre&gt;no DB accesses so far&lt;/pre&gt;\"}}]}}]}}]}},{\"type\":\"object\",\"name\":\"Div\",\"id\":\"050dca14-a485-498e-9493-4f074d30c504\",\"attributes\":{\"name\":\"Divider02439\",\"stylesheets\":[\"\\n:host(.pn-loading):before, .pn-loading:before {\\n  background-color: #c3c3c3;\\n  mask-size: auto calc(min(50%, 400px));\\n  -webkit-mask-size: auto calc(min(50%, 400px));\\n}\",{\"type\":\"object\",\"name\":\"ImportedStyleSheet\",\"id\":\"97ccbb56-b0fe-4476-bf80-d85c614b1746\",\"attributes\":{\"url\":\"https://cdn.holoviz.org/panel/1.4.5/dist/css/loading.css\"}},{\"type\":\"object\",\"name\":\"ImportedStyleSheet\",\"id\":\"f75543a1-9c60-4554-b044-e2fc94850e2d\",\"attributes\":{\"url\":\"https://cdn.holoviz.org/panel/1.4.5/dist/css/divider.css\"}}],\"margin\":0,\"width_policy\":\"fit\",\"align\":\"start\",\"text\":\"<hr>\"}},{\"type\":\"object\",\"name\":\"panel.models.layout.Column\",\"id\":\"ad84a7db-0883-4f84-a57b-b1c0fc2640d5\",\"attributes\":{\"name\":\"Column02444\",\"stylesheets\":[\"\\n:host(.pn-loading):before, .pn-loading:before {\\n  background-color: #c3c3c3;\\n  mask-size: auto calc(min(50%, 400px));\\n  -webkit-mask-size: auto calc(min(50%, 400px));\\n}\",{\"id\":\"29ff1505-4dd6-4c99-b357-3f9977f42e2d\"},{\"id\":\"23384186-c5ce-431b-891d-059af099981c\"},{\"id\":\"d0fbd24c-8980-4019-8990-06eaec5c6d4b\"},{\"id\":\"7ecbc5b3-ee4e-4baa-98da-7bfb4459f377\"}],\"margin\":0,\"align\":\"start\",\"children\":[{\"type\":\"object\",\"name\":\"panel.models.markup.HTML\",\"id\":\"c9b724c7-3971-4b70-a396-29e0e4efc3bd\",\"attributes\":{\"stylesheets\":[\"\\n:host(.pn-loading):before, .pn-loading:before {\\n  background-color: #c3c3c3;\\n  mask-size: auto calc(min(50%, 400px));\\n  -webkit-mask-size: auto calc(min(50%, 400px));\\n}\",{\"id\":\"29ff1505-4dd6-4c99-b357-3f9977f42e2d\"},{\"id\":\"d0fbd24c-8980-4019-8990-06eaec5c6d4b\"},{\"id\":\"7ecbc5b3-ee4e-4baa-98da-7bfb4459f377\"}],\"margin\":[5,10],\"align\":\"start\",\"text\":\"&lt;pre&gt; &lt;/pre&gt;\"}}]}}]}}}},{\"type\":\"object\",\"name\":\"TabPanel\",\"id\":\"c0b1b40a-acc8-409c-88d6-35723d43d007\",\"attributes\":{\"name\":\"Column02456\",\"title\":\"Chat History\",\"child\":{\"type\":\"object\",\"name\":\"panel.models.layout.Column\",\"id\":\"cfdbe54f-7e4a-41bc-9ea4-d4429e2f4956\",\"attributes\":{\"name\":\"Column02456\",\"stylesheets\":[\"\\n:host(.pn-loading):before, .pn-loading:before {\\n  background-color: #c3c3c3;\\n  mask-size: auto calc(min(50%, 400px));\\n  -webkit-mask-size: auto calc(min(50%, 400px));\\n}\",{\"id\":\"29ff1505-4dd6-4c99-b357-3f9977f42e2d\"},{\"id\":\"23384186-c5ce-431b-891d-059af099981c\"},{\"id\":\"d0fbd24c-8980-4019-8990-06eaec5c6d4b\"},{\"id\":\"7ecbc5b3-ee4e-4baa-98da-7bfb4459f377\"}],\"margin\":0,\"align\":\"start\",\"children\":[{\"type\":\"object\",\"name\":\"panel.models.layout.Column\",\"id\":\"865cd6b7-4f4c-488b-abf4-66d9e7e330e0\",\"attributes\":{\"name\":\"Column02450\",\"stylesheets\":[\"\\n:host(.pn-loading):before, .pn-loading:before {\\n  background-color: #c3c3c3;\\n  mask-size: auto calc(min(50%, 400px));\\n  -webkit-mask-size: auto calc(min(50%, 400px));\\n}\",{\"id\":\"29ff1505-4dd6-4c99-b357-3f9977f42e2d\"},{\"id\":\"23384186-c5ce-431b-891d-059af099981c\"},{\"id\":\"d0fbd24c-8980-4019-8990-06eaec5c6d4b\"},{\"id\":\"7ecbc5b3-ee4e-4baa-98da-7bfb4459f377\"}],\"margin\":0,\"align\":\"start\",\"children\":[{\"type\":\"object\",\"name\":\"panel.models.layout.Column\",\"id\":\"60822bce-5581-448e-b19b-5e0090020841\",\"attributes\":{\"name\":\"WidgetBox02454\",\"css_classes\":[\"panel-widget-box\",\"scrollable-vertical\"],\"stylesheets\":[\"\\n:host(.pn-loading):before, .pn-loading:before {\\n  background-color: #c3c3c3;\\n  mask-size: auto calc(min(50%, 400px));\\n  -webkit-mask-size: auto calc(min(50%, 400px));\\n}\",{\"id\":\"29ff1505-4dd6-4c99-b357-3f9977f42e2d\"},{\"id\":\"91bbe106-9364-4929-b67b-a3c1f501f1cc\"},{\"id\":\"23384186-c5ce-431b-891d-059af099981c\"},{\"id\":\"d0fbd24c-8980-4019-8990-06eaec5c6d4b\"},{\"id\":\"7ecbc5b3-ee4e-4baa-98da-7bfb4459f377\"}],\"width\":600,\"min_width\":600,\"margin\":0,\"align\":\"start\",\"children\":[{\"type\":\"object\",\"name\":\"Row\",\"id\":\"cb55b8c9-4131-465f-8319-0925b7b9a08d\",\"attributes\":{\"name\":\"Row02453\",\"stylesheets\":[\"\\n:host(.pn-loading):before, .pn-loading:before {\\n  background-color: #c3c3c3;\\n  mask-size: auto calc(min(50%, 400px));\\n  -webkit-mask-size: auto calc(min(50%, 400px));\\n}\",{\"id\":\"29ff1505-4dd6-4c99-b357-3f9977f42e2d\"},{\"id\":\"23384186-c5ce-431b-891d-059af099981c\"},{\"id\":\"d0fbd24c-8980-4019-8990-06eaec5c6d4b\"},{\"id\":\"7ecbc5b3-ee4e-4baa-98da-7bfb4459f377\"}],\"margin\":0,\"align\":\"start\",\"children\":[{\"type\":\"object\",\"name\":\"panel.models.markup.HTML\",\"id\":\"e4a67c30-972e-4b2a-9975-aabc1aeec7b2\",\"attributes\":{\"stylesheets\":[\"\\n:host(.pn-loading):before, .pn-loading:before {\\n  background-color: #c3c3c3;\\n  mask-size: auto calc(min(50%, 400px));\\n  -webkit-mask-size: auto calc(min(50%, 400px));\\n}\",{\"id\":\"29ff1505-4dd6-4c99-b357-3f9977f42e2d\"},{\"id\":\"d0fbd24c-8980-4019-8990-06eaec5c6d4b\"},{\"id\":\"7ecbc5b3-ee4e-4baa-98da-7bfb4459f377\"}],\"margin\":[5,10],\"align\":\"start\",\"text\":\"&lt;pre&gt;No History Yet&lt;/pre&gt;\"}}]}}]}}]}},{\"type\":\"object\",\"name\":\"Div\",\"id\":\"1b5b4c29-b4e0-493f-9428-8ae38ca498e6\",\"attributes\":{\"name\":\"Divider02455\",\"stylesheets\":[\"\\n:host(.pn-loading):before, .pn-loading:before {\\n  background-color: #c3c3c3;\\n  mask-size: auto calc(min(50%, 400px));\\n  -webkit-mask-size: auto calc(min(50%, 400px));\\n}\",{\"type\":\"object\",\"name\":\"ImportedStyleSheet\",\"id\":\"519255a2-d922-42dc-a41e-34374b10affa\",\"attributes\":{\"url\":\"https://cdn.holoviz.org/panel/1.4.5/dist/css/loading.css\"}},{\"type\":\"object\",\"name\":\"ImportedStyleSheet\",\"id\":\"59f3be00-2bd7-4621-9730-de54c57c9ee6\",\"attributes\":{\"url\":\"https://cdn.holoviz.org/panel/1.4.5/dist/css/divider.css\"}}],\"margin\":0,\"width_policy\":\"fit\",\"align\":\"start\",\"text\":\"<hr>\"}}]}}}},{\"type\":\"object\",\"name\":\"TabPanel\",\"id\":\"bb94ae83-9cda-4b1e-919a-8963906c6175\",\"attributes\":{\"name\":\"Column02472\",\"title\":\"Configure\",\"child\":{\"type\":\"object\",\"name\":\"panel.models.layout.Column\",\"id\":\"a2e98b03-ddb6-4880-8f4c-638fac93b992\",\"attributes\":{\"name\":\"Column02472\",\"stylesheets\":[\"\\n:host(.pn-loading):before, .pn-loading:before {\\n  background-color: #c3c3c3;\\n  mask-size: auto calc(min(50%, 400px));\\n  -webkit-mask-size: auto calc(min(50%, 400px));\\n}\",{\"id\":\"29ff1505-4dd6-4c99-b357-3f9977f42e2d\"},{\"id\":\"23384186-c5ce-431b-891d-059af099981c\"},{\"id\":\"d0fbd24c-8980-4019-8990-06eaec5c6d4b\"},{\"id\":\"7ecbc5b3-ee4e-4baa-98da-7bfb4459f377\"}],\"margin\":0,\"align\":\"start\",\"children\":[{\"type\":\"object\",\"name\":\"Row\",\"id\":\"f3da7b63-bb0e-463a-bcea-720551ddb8ca\",\"attributes\":{\"name\":\"Row02464\",\"stylesheets\":[\"\\n:host(.pn-loading):before, .pn-loading:before {\\n  background-color: #c3c3c3;\\n  mask-size: auto calc(min(50%, 400px));\\n  -webkit-mask-size: auto calc(min(50%, 400px));\\n}\",{\"id\":\"29ff1505-4dd6-4c99-b357-3f9977f42e2d\"},{\"id\":\"23384186-c5ce-431b-891d-059af099981c\"},{\"id\":\"d0fbd24c-8980-4019-8990-06eaec5c6d4b\"},{\"id\":\"7ecbc5b3-ee4e-4baa-98da-7bfb4459f377\"}],\"margin\":0,\"align\":\"start\",\"children\":[{\"type\":\"object\",\"name\":\"FileInput\",\"id\":\"3bf7021b-2a4b-48b5-beb1-2ca9e05260f2\",\"attributes\":{\"stylesheets\":[\"\\n:host(.pn-loading):before, .pn-loading:before {\\n  background-color: #c3c3c3;\\n  mask-size: auto calc(min(50%, 400px));\\n  -webkit-mask-size: auto calc(min(50%, 400px));\\n}\",{\"id\":\"29ff1505-4dd6-4c99-b357-3f9977f42e2d\"},{\"id\":\"d0fbd24c-8980-4019-8990-06eaec5c6d4b\"},{\"id\":\"7ecbc5b3-ee4e-4baa-98da-7bfb4459f377\"}],\"margin\":[5,10],\"align\":\"start\",\"accept\":\".pdf\"}},{\"type\":\"object\",\"name\":\"panel.models.widgets.Button\",\"id\":\"4b7bd5f7-d788-4fe2-8e12-261bde0c3a9a\",\"attributes\":{\"button_type\":\"primary\",\"subscribed_events\":{\"type\":\"set\",\"entries\":[\"button_click\"]},\"css_classes\":[\"solid\"],\"stylesheets\":[\"\\n:host(.pn-loading):before, .pn-loading:before {\\n  background-color: #c3c3c3;\\n  mask-size: auto calc(min(50%, 400px));\\n  -webkit-mask-size: auto calc(min(50%, 400px));\\n}\",{\"id\":\"29ff1505-4dd6-4c99-b357-3f9977f42e2d\"},{\"type\":\"object\",\"name\":\"ImportedStyleSheet\",\"id\":\"ce4b02a4-a9e4-4656-8432-33299cc08499\",\"attributes\":{\"url\":\"https://cdn.holoviz.org/panel/1.4.5/dist/css/button.css\"}},{\"id\":\"d0fbd24c-8980-4019-8990-06eaec5c6d4b\"},{\"id\":\"7ecbc5b3-ee4e-4baa-98da-7bfb4459f377\"}],\"margin\":[5,10],\"align\":\"start\",\"label\":\"Load DB\"}},{\"type\":\"object\",\"name\":\"panel.models.layout.Column\",\"id\":\"5aedfe68-8b92-4974-8278-2590e3f52548\",\"attributes\":{\"name\":\"Column02461\",\"stylesheets\":[\"\\n:host(.pn-loading):before, .pn-loading:before {\\n  background-color: #c3c3c3;\\n  mask-size: auto calc(min(50%, 400px));\\n  -webkit-mask-size: auto calc(min(50%, 400px));\\n}\",{\"id\":\"29ff1505-4dd6-4c99-b357-3f9977f42e2d\"},{\"id\":\"23384186-c5ce-431b-891d-059af099981c\"},{\"id\":\"d0fbd24c-8980-4019-8990-06eaec5c6d4b\"},{\"id\":\"7ecbc5b3-ee4e-4baa-98da-7bfb4459f377\"}],\"margin\":0,\"align\":\"start\",\"children\":[{\"type\":\"object\",\"name\":\"panel.models.markup.HTML\",\"id\":\"13d547cf-0299-4e36-a8f7-2b007cc47ac8\",\"attributes\":{\"css_classes\":[\"markdown\"],\"stylesheets\":[\"\\n:host(.pn-loading):before, .pn-loading:before {\\n  background-color: #c3c3c3;\\n  mask-size: auto calc(min(50%, 400px));\\n  -webkit-mask-size: auto calc(min(50%, 400px));\\n}\",{\"id\":\"29ff1505-4dd6-4c99-b357-3f9977f42e2d\"},{\"id\":\"89a8889f-b66d-4f98-b217-c3dfb13f8601\"},{\"id\":\"d0fbd24c-8980-4019-8990-06eaec5c6d4b\"},{\"id\":\"7ecbc5b3-ee4e-4baa-98da-7bfb4459f377\"}],\"margin\":[5,10],\"align\":\"start\",\"text\":\"&lt;p&gt;Loaded File: drive/MyDrive/Data/Groupama23.pdf&lt;/p&gt;\\n\"}}]}}]}},{\"type\":\"object\",\"name\":\"Row\",\"id\":\"0bb267e6-75f3-4145-81fe-e0016ec65261\",\"attributes\":{\"name\":\"Row02467\",\"stylesheets\":[\"\\n:host(.pn-loading):before, .pn-loading:before {\\n  background-color: #c3c3c3;\\n  mask-size: auto calc(min(50%, 400px));\\n  -webkit-mask-size: auto calc(min(50%, 400px));\\n}\",{\"id\":\"29ff1505-4dd6-4c99-b357-3f9977f42e2d\"},{\"id\":\"23384186-c5ce-431b-891d-059af099981c\"},{\"id\":\"d0fbd24c-8980-4019-8990-06eaec5c6d4b\"},{\"id\":\"7ecbc5b3-ee4e-4baa-98da-7bfb4459f377\"}],\"margin\":0,\"align\":\"start\",\"children\":[{\"type\":\"object\",\"name\":\"panel.models.widgets.Button\",\"id\":\"7c790f7a-5086-4af4-9089-7cc7e0e66e1a\",\"attributes\":{\"button_type\":\"warning\",\"subscribed_events\":{\"type\":\"set\",\"entries\":[\"button_click\"]},\"css_classes\":[\"solid\"],\"stylesheets\":[\"\\n:host(.pn-loading):before, .pn-loading:before {\\n  background-color: #c3c3c3;\\n  mask-size: auto calc(min(50%, 400px));\\n  -webkit-mask-size: auto calc(min(50%, 400px));\\n}\",{\"id\":\"29ff1505-4dd6-4c99-b357-3f9977f42e2d\"},{\"id\":\"ce4b02a4-a9e4-4656-8432-33299cc08499\"},{\"id\":\"d0fbd24c-8980-4019-8990-06eaec5c6d4b\"},{\"id\":\"7ecbc5b3-ee4e-4baa-98da-7bfb4459f377\"}],\"margin\":[5,10],\"align\":\"start\",\"label\":\"Clear History\"}},{\"type\":\"object\",\"name\":\"panel.models.markup.HTML\",\"id\":\"059c492c-21b5-4ad7-a022-5245b822b675\",\"attributes\":{\"css_classes\":[\"markdown\"],\"stylesheets\":[\"\\n:host(.pn-loading):before, .pn-loading:before {\\n  background-color: #c3c3c3;\\n  mask-size: auto calc(min(50%, 400px));\\n  -webkit-mask-size: auto calc(min(50%, 400px));\\n}\",{\"id\":\"29ff1505-4dd6-4c99-b357-3f9977f42e2d\"},{\"id\":\"89a8889f-b66d-4f98-b217-c3dfb13f8601\"},{\"id\":\"d0fbd24c-8980-4019-8990-06eaec5c6d4b\"},{\"id\":\"7ecbc5b3-ee4e-4baa-98da-7bfb4459f377\"}],\"margin\":[5,10],\"align\":\"start\",\"text\":\"&lt;p&gt;Clears chat history. Can use to start a new topic&lt;/p&gt;\\n\"}}]}},{\"type\":\"object\",\"name\":\"Div\",\"id\":\"f7de10c2-3fea-4f8c-82d0-ae0905065400\",\"attributes\":{\"name\":\"Divider02468\",\"stylesheets\":[\"\\n:host(.pn-loading):before, .pn-loading:before {\\n  background-color: #c3c3c3;\\n  mask-size: auto calc(min(50%, 400px));\\n  -webkit-mask-size: auto calc(min(50%, 400px));\\n}\",{\"type\":\"object\",\"name\":\"ImportedStyleSheet\",\"id\":\"e572bb4a-ec4d-494a-8bf5-21d6845df08f\",\"attributes\":{\"url\":\"https://cdn.holoviz.org/panel/1.4.5/dist/css/loading.css\"}},{\"type\":\"object\",\"name\":\"ImportedStyleSheet\",\"id\":\"50c4683e-82d4-486a-89e2-9a9ee979d00e\",\"attributes\":{\"url\":\"https://cdn.holoviz.org/panel/1.4.5/dist/css/divider.css\"}}],\"margin\":0,\"width_policy\":\"fit\",\"align\":\"start\",\"text\":\"<hr>\"}},{\"type\":\"object\",\"name\":\"Row\",\"id\":\"09dba4ed-dc3b-41ef-aca7-6ee94f5455d3\",\"attributes\":{\"name\":\"Row02471\",\"stylesheets\":[\"\\n:host(.pn-loading):before, .pn-loading:before {\\n  background-color: #c3c3c3;\\n  mask-size: auto calc(min(50%, 400px));\\n  -webkit-mask-size: auto calc(min(50%, 400px));\\n}\",{\"id\":\"29ff1505-4dd6-4c99-b357-3f9977f42e2d\"},{\"id\":\"23384186-c5ce-431b-891d-059af099981c\"},{\"id\":\"d0fbd24c-8980-4019-8990-06eaec5c6d4b\"},{\"id\":\"7ecbc5b3-ee4e-4baa-98da-7bfb4459f377\"}],\"margin\":0,\"align\":\"start\",\"children\":[{\"type\":\"object\",\"name\":\"panel.models.markup.HTML\",\"id\":\"44e3acfc-e402-4ced-a7c8-40aac034e8f4\",\"attributes\":{\"stylesheets\":[\"\\n:host(.pn-loading):before, .pn-loading:before {\\n  background-color: #c3c3c3;\\n  mask-size: auto calc(min(50%, 400px));\\n  -webkit-mask-size: auto calc(min(50%, 400px));\\n}\",{\"id\":\"29ff1505-4dd6-4c99-b357-3f9977f42e2d\"},{\"id\":\"d0fbd24c-8980-4019-8990-06eaec5c6d4b\"},{\"id\":\"7ecbc5b3-ee4e-4baa-98da-7bfb4459f377\"}],\"width\":400,\"min_width\":400,\"margin\":[5,10],\"align\":\"start\",\"text\":\"&lt;img src=&quot;./img/convchain.jpg&quot;  style=&quot;max-width: 100%; max-height: 100%; object-fit: contain; width: 400px; height: auto;&quot;&gt;&lt;/img&gt;\"}}]}}]}}}}]}}]}},{\"type\":\"object\",\"name\":\"panel.models.comm_manager.CommManager\",\"id\":\"9d7c6c05-3615-43bc-bce5-e3f686defe6a\",\"attributes\":{\"plot_id\":\"10f35b45-afe8-403d-b01d-e0f9637cf6fa\",\"comm_id\":\"b239b41a81db4ae38028c6c6f2e9ec5d\",\"client_comm_id\":\"3bfb9d20fa2c4a1eb87dfd849cfbfd7d\"}}],\"defs\":[{\"type\":\"model\",\"name\":\"ReactiveHTML1\"},{\"type\":\"model\",\"name\":\"FlexBox1\",\"properties\":[{\"name\":\"align_content\",\"kind\":\"Any\",\"default\":\"flex-start\"},{\"name\":\"align_items\",\"kind\":\"Any\",\"default\":\"flex-start\"},{\"name\":\"flex_direction\",\"kind\":\"Any\",\"default\":\"row\"},{\"name\":\"flex_wrap\",\"kind\":\"Any\",\"default\":\"wrap\"},{\"name\":\"gap\",\"kind\":\"Any\",\"default\":\"\"},{\"name\":\"justify_content\",\"kind\":\"Any\",\"default\":\"flex-start\"}]},{\"type\":\"model\",\"name\":\"FloatPanel1\",\"properties\":[{\"name\":\"config\",\"kind\":\"Any\",\"default\":{\"type\":\"map\"}},{\"name\":\"contained\",\"kind\":\"Any\",\"default\":true},{\"name\":\"position\",\"kind\":\"Any\",\"default\":\"right-top\"},{\"name\":\"offsetx\",\"kind\":\"Any\",\"default\":null},{\"name\":\"offsety\",\"kind\":\"Any\",\"default\":null},{\"name\":\"theme\",\"kind\":\"Any\",\"default\":\"primary\"},{\"name\":\"status\",\"kind\":\"Any\",\"default\":\"normalized\"}]},{\"type\":\"model\",\"name\":\"GridStack1\",\"properties\":[{\"name\":\"mode\",\"kind\":\"Any\",\"default\":\"warn\"},{\"name\":\"ncols\",\"kind\":\"Any\",\"default\":null},{\"name\":\"nrows\",\"kind\":\"Any\",\"default\":null},{\"name\":\"allow_resize\",\"kind\":\"Any\",\"default\":true},{\"name\":\"allow_drag\",\"kind\":\"Any\",\"default\":true},{\"name\":\"state\",\"kind\":\"Any\",\"default\":[]}]},{\"type\":\"model\",\"name\":\"drag1\",\"properties\":[{\"name\":\"slider_width\",\"kind\":\"Any\",\"default\":5},{\"name\":\"slider_color\",\"kind\":\"Any\",\"default\":\"black\"},{\"name\":\"value\",\"kind\":\"Any\",\"default\":50}]},{\"type\":\"model\",\"name\":\"click1\",\"properties\":[{\"name\":\"terminal_output\",\"kind\":\"Any\",\"default\":\"\"},{\"name\":\"debug_name\",\"kind\":\"Any\",\"default\":\"\"},{\"name\":\"clears\",\"kind\":\"Any\",\"default\":0}]},{\"type\":\"model\",\"name\":\"FastWrapper1\",\"properties\":[{\"name\":\"object\",\"kind\":\"Any\",\"default\":null},{\"name\":\"style\",\"kind\":\"Any\",\"default\":null}]},{\"type\":\"model\",\"name\":\"NotificationAreaBase1\",\"properties\":[{\"name\":\"js_events\",\"kind\":\"Any\",\"default\":{\"type\":\"map\"}},{\"name\":\"position\",\"kind\":\"Any\",\"default\":\"bottom-right\"},{\"name\":\"_clear\",\"kind\":\"Any\",\"default\":0}]},{\"type\":\"model\",\"name\":\"NotificationArea1\",\"properties\":[{\"name\":\"js_events\",\"kind\":\"Any\",\"default\":{\"type\":\"map\"}},{\"name\":\"notifications\",\"kind\":\"Any\",\"default\":[]},{\"name\":\"position\",\"kind\":\"Any\",\"default\":\"bottom-right\"},{\"name\":\"_clear\",\"kind\":\"Any\",\"default\":0},{\"name\":\"types\",\"kind\":\"Any\",\"default\":[{\"type\":\"map\",\"entries\":[[\"type\",\"warning\"],[\"background\",\"#ffc107\"],[\"icon\",{\"type\":\"map\",\"entries\":[[\"className\",\"fas fa-exclamation-triangle\"],[\"tagName\",\"i\"],[\"color\",\"white\"]]}]]},{\"type\":\"map\",\"entries\":[[\"type\",\"info\"],[\"background\",\"#007bff\"],[\"icon\",{\"type\":\"map\",\"entries\":[[\"className\",\"fas fa-info-circle\"],[\"tagName\",\"i\"],[\"color\",\"white\"]]}]]}]}]},{\"type\":\"model\",\"name\":\"Notification\",\"properties\":[{\"name\":\"background\",\"kind\":\"Any\",\"default\":null},{\"name\":\"duration\",\"kind\":\"Any\",\"default\":3000},{\"name\":\"icon\",\"kind\":\"Any\",\"default\":null},{\"name\":\"message\",\"kind\":\"Any\",\"default\":\"\"},{\"name\":\"notification_type\",\"kind\":\"Any\",\"default\":null},{\"name\":\"_destroyed\",\"kind\":\"Any\",\"default\":false}]},{\"type\":\"model\",\"name\":\"TemplateActions1\",\"properties\":[{\"name\":\"open_modal\",\"kind\":\"Any\",\"default\":0},{\"name\":\"close_modal\",\"kind\":\"Any\",\"default\":0}]},{\"type\":\"model\",\"name\":\"BootstrapTemplateActions1\",\"properties\":[{\"name\":\"open_modal\",\"kind\":\"Any\",\"default\":0},{\"name\":\"close_modal\",\"kind\":\"Any\",\"default\":0}]},{\"type\":\"model\",\"name\":\"TemplateEditor1\",\"properties\":[{\"name\":\"layout\",\"kind\":\"Any\",\"default\":[]}]},{\"type\":\"model\",\"name\":\"MaterialTemplateActions1\",\"properties\":[{\"name\":\"open_modal\",\"kind\":\"Any\",\"default\":0},{\"name\":\"close_modal\",\"kind\":\"Any\",\"default\":0}]},{\"type\":\"model\",\"name\":\"copy_to_clipboard1\",\"properties\":[{\"name\":\"fill\",\"kind\":\"Any\",\"default\":\"none\"},{\"name\":\"value\",\"kind\":\"Any\",\"default\":null}]}]}};\n",
              "  var render_items = [{\"docid\":\"742e1bd7-ec63-49da-939d-4b0f59a767d6\",\"roots\":{\"10f35b45-afe8-403d-b01d-e0f9637cf6fa\":\"f593d28b-827a-4a44-974e-24488249db63\"},\"root_ids\":[\"10f35b45-afe8-403d-b01d-e0f9637cf6fa\"]}];\n",
              "  var docs = Object.values(docs_json)\n",
              "  if (!docs) {\n",
              "    return\n",
              "  }\n",
              "  const py_version = docs[0].version.replace('rc', '-rc.').replace('.dev', '-dev.')\n",
              "  async function embed_document(root) {\n",
              "    var Bokeh = get_bokeh(root)\n",
              "    await Bokeh.embed.embed_items_notebook(docs_json, render_items);\n",
              "    for (const render_item of render_items) {\n",
              "      for (const root_id of render_item.root_ids) {\n",
              "\tconst id_el = document.getElementById(root_id)\n",
              "\tif (id_el.children.length && id_el.children[0].hasAttribute('data-root-id')) {\n",
              "\t  const root_el = id_el.children[0]\n",
              "\t  root_el.id = root_el.id + '-rendered'\n",
              "\t  for (const child of root_el.children) {\n",
              "            // Ensure JupyterLab does not capture keyboard shortcuts\n",
              "            // see: https://jupyterlab.readthedocs.io/en/4.1.x/extension/notebook.html#keyboard-interaction-model\n",
              "\t    child.setAttribute('data-lm-suppress-shortcuts', 'true')\n",
              "\t  }\n",
              "\t}\n",
              "      }\n",
              "    }\n",
              "  }\n",
              "  function get_bokeh(root) {\n",
              "    if (root.Bokeh === undefined) {\n",
              "      return null\n",
              "    } else if (root.Bokeh.version !== py_version) {\n",
              "      if (root.Bokeh.versions === undefined || !root.Bokeh.versions.has(py_version)) {\n",
              "\treturn null\n",
              "      }\n",
              "      return root.Bokeh.versions.get(py_version);\n",
              "    } else if (root.Bokeh.version === py_version) {\n",
              "      return root.Bokeh\n",
              "    }\n",
              "    return null\n",
              "  }\n",
              "  function is_loaded(root) {\n",
              "    var Bokeh = get_bokeh(root)\n",
              "    return (Bokeh != null && Bokeh.Panel !== undefined)\n",
              "  }\n",
              "  if (is_loaded(root)) {\n",
              "    embed_document(root);\n",
              "  } else {\n",
              "    var attempts = 0;\n",
              "    var timer = setInterval(function(root) {\n",
              "      if (is_loaded(root)) {\n",
              "        clearInterval(timer);\n",
              "        embed_document(root);\n",
              "      } else if (document.readyState == \"complete\") {\n",
              "        attempts++;\n",
              "        if (attempts > 200) {\n",
              "          clearInterval(timer);\n",
              "\t  var Bokeh = get_bokeh(root)\n",
              "\t  if (Bokeh == null || Bokeh.Panel == null) {\n",
              "            console.warn(\"Panel: ERROR: Unable to run Panel code because Bokeh or Panel library is missing\");\n",
              "\t  } else {\n",
              "\t    console.warn(\"Panel: WARNING: Attempting to render but not all required libraries could be resolved.\")\n",
              "\t    embed_document(root)\n",
              "\t  }\n",
              "        }\n",
              "      }\n",
              "    }, 25, root)\n",
              "  }\n",
              "})(window);</script>"
            ],
            "application/vnd.holoviews_exec.v0+json": "",
            "text/plain": [
              "Column\n",
              "    [0] Row\n",
              "        [0] Markdown(str)\n",
              "    [1] Tabs\n",
              "        [0] Column\n",
              "            [0] Row\n",
              "                [0] TextInput(placeholder='Enter text here…')\n",
              "            [1] Divider()\n",
              "            [2] ParamFunction(function, _pane=WidgetBox, defer_load=False, height=300, loading_indicator=True)\n",
              "            [3] Divider()\n",
              "        [1] Column\n",
              "            [0] ParamMethod(method, _pane=Column, defer_load=False)\n",
              "            [1] Divider()\n",
              "            [2] ParamMethod(method, _pane=Str, defer_load=False)\n",
              "        [2] Column\n",
              "            [0] ParamMethod(method, _pane=WidgetBox, defer_load=False)\n",
              "            [1] Divider()\n",
              "        [3] Column\n",
              "            [0] Row\n",
              "                [0] FileInput(accept='.pdf')\n",
              "                [1] Button(button_type='primary', name='Load DB')\n",
              "                [2] ParamFunction(function, _pane=Markdown, defer_load=False)\n",
              "            [1] Row\n",
              "                [0] Button(button_type='warning', name='Clear History')\n",
              "                [1] Markdown(str)\n",
              "            [2] Divider()\n",
              "            [3] Row\n",
              "                [0] Image(str, width=400)"
            ]
          },
          "metadata": {
            "application/vnd.holoviews_exec.v0+json": {
              "id": "10f35b45-afe8-403d-b01d-e0f9637cf6fa"
            }
          },
          "execution_count": 193
        }
      ]
    }
  ]
}